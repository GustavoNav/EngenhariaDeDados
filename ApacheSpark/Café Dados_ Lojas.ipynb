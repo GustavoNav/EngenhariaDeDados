{
 "cells": [
  {
   "cell_type": "code",
   "execution_count": 0,
   "metadata": {
    "application/vnd.databricks.v1+cell": {
     "cellMetadata": {
      "byteLimit": 2048000,
      "rowLimit": 10000
     },
     "inputWidgets": {},
     "nuid": "6482be4c-f067-47c9-b0ac-35c938b94601",
     "showTitle": true,
     "title": "Carga de Dados: Dados sobre lojas de Café"
    }
   },
   "outputs": [
    {
     "output_type": "display_data",
     "data": {
      "text/html": [
       "<style scoped>\n",
       "  .table-result-container {\n",
       "    max-height: 300px;\n",
       "    overflow: auto;\n",
       "  }\n",
       "  table, th, td {\n",
       "    border: 1px solid black;\n",
       "    border-collapse: collapse;\n",
       "  }\n",
       "  th, td {\n",
       "    padding: 5px;\n",
       "  }\n",
       "  th {\n",
       "    text-align: left;\n",
       "  }\n",
       "</style><div class='table-result-container'><table class='table-result'><thead style='background-color: white'><tr><th>Title</th><th>Total_score</th><th>Reviews_count</th><th>Street</th><th>City</th><th>Country_code</th><th>Website</th><th>Phone</th><th>Category_name</th></tr></thead><tbody><tr><td>Coco Cafe- Street Star</td><td>4.6</td><td>11</td><td>VVQ5+326, Elfindale Ave</td><td>Colombo</td><td>LK</td><td>https://www.facebook.com/cococafe.lk?mibextid=LQQJ4d</td><td>+94 76 777 2225</td><td>Cafe</td></tr><tr><td>Cafe Celo09</td><td>4.258885</td><td>0</td><td>VVRC+8M5</td><td>Colombo</td><td>LK</td><td>null</td><td>null</td><td>Coffee shop</td></tr><tr><td>Cafe 1959 by Raux Brothers</td><td>4.4</td><td>248</td><td>746 Galle Rd</td><td>Colombo</td><td>LK</td><td>https://cafe-1959-by-raux-brothers.business.site/?utm_source=gmb&utm_medium=referral</td><td>+94 112 590 520</td><td>Coffee shop</td></tr><tr><td>Cafe Lab</td><td>2.8</td><td>8</td><td>null</td><td>Colombo</td><td>LK</td><td>null</td><td>+94 78 810 0800</td><td>Coffee shop</td></tr><tr><td>The Nook Cakery and Cafe</td><td>4.9</td><td>34</td><td>29 Visakha Private Rd</td><td>Colombo</td><td>LK</td><td>null</td><td>null</td><td>Coffee shop</td></tr><tr><td>De Vos Cafe</td><td>4.4</td><td>95</td><td>34 De Vos Ave</td><td>Colombo</td><td>LK</td><td>null</td><td>+94 112 550 033</td><td>Cafe</td></tr><tr><td>Cafe tasty</td><td>3.7</td><td>30</td><td>60 Vajira Rd</td><td>Colombo</td><td>LK</td><td>null</td><td>+94 117 642 752</td><td>Cafe</td></tr><tr><td>BOO Cafe</td><td>4.4</td><td>42</td><td>No. 237 Galle Rd</td><td>Colombo</td><td>LK</td><td>null</td><td>+94 76 187 2879</td><td>Restaurant</td></tr><tr><td>BK Cafe - Havelock City Mall</td><td>4.258885</td><td>0</td><td>Havelock City, Havelock Rd</td><td>Colombo</td><td>LK</td><td>null</td><td>null</td><td>Cafe</td></tr><tr><td>Cafe at Lanka Hospitals</td><td>3.5</td><td>10</td><td>578 Elvitigala Mawatha</td><td>Colombo</td><td>LK</td><td>null</td><td>null</td><td>Cafe</td></tr><tr><td>Coffee Bae - The Cafe</td><td>4.7</td><td>15</td><td>61A, Ramakrishna Road, Marine Dr</td><td>Colombo</td><td>LK</td><td>https://www.thebubbleshot.co/</td><td>+94 77 755 5696</td><td>Coffee shop</td></tr><tr><td>Rabbit Mood Cafe</td><td>4.258885</td><td>0</td><td>00300, Liberty Arcade, Level 1 Shop No 5, 282 R. A. De Mel Mawatha</td><td>Colombo</td><td>LK</td><td>https://www.facebook.com/Rabbitmoodcafe</td><td>+94 76 842 8595</td><td>Coffee shop</td></tr><tr><td>Wood Cafe</td><td>4.258885</td><td>0</td><td>237wardplace colombo,07</td><td>Colombo</td><td>LK</td><td>null</td><td>+94 70 209 6993</td><td>Cafe</td></tr><tr><td>Cafe 111 by tea</td><td>5.0</td><td>1</td><td>12b Perahera Mawatha</td><td>Colombo</td><td>LK</td><td>null</td><td>null</td><td>Coffee shop</td></tr><tr><td>Tokiwa Cafe</td><td>4.258885</td><td>0</td><td>213 Galle Rd</td><td>Colombo</td><td>LK</td><td>null</td><td>null</td><td>Cafe</td></tr><tr><td>CAFE COLOMBO</td><td>4.8</td><td>1010</td><td>null</td><td>Colombo</td><td>LK</td><td>null</td><td>+94 71 111 9911</td><td>Cafe</td></tr><tr><td>Cafe Kai</td><td>4.4</td><td>218</td><td>Sir Chittampalam A Gardiner Mawath</td><td>Colombo</td><td>LK</td><td>https://shop.hiltoncolombo1.com/Food-and-Beverage</td><td>+94 112 492 492</td><td>Cafe</td></tr><tr><td>Techno Cafe</td><td>4.3</td><td>10</td><td>475 Union Pl</td><td>Colombo</td><td>LK</td><td>null</td><td>null</td><td>Cafe</td></tr><tr><td>Cafe by Raffles</td><td>4.1</td><td>21</td><td>No. 42 Nawam Mawatha</td><td>Colombo</td><td>LK</td><td>https://www.rafflescolombo.com/cafe-by-raffles-industrial/</td><td>+94 113 602 601</td><td>Cafe</td></tr><tr><td>Lake View Cafe</td><td>3.3</td><td>4</td><td>WV92+C7H, DHPL, Nawam Mawatha</td><td>Colombo</td><td>LK</td><td>null</td><td>null</td><td>Cafe</td></tr><tr><td>Office Cafe</td><td>5.0</td><td>1</td><td>213 Galle Rd</td><td>Colombo</td><td>LK</td><td>null</td><td>+94 77 999 9177</td><td>Cafe</td></tr><tr><td>Cafe EN -縁-</td><td>5.0</td><td>5</td><td>1st Floor - 282/5, Kollupitiya Road, Marine Drive</td><td>Colombo</td><td>LK</td><td>https://granbellhotel.lk/dining/cafe/</td><td>+94 112 397 397</td><td>Cafe</td></tr><tr><td>The Verandah Cafe</td><td>5.0</td><td>1</td><td>115 Rosmead Pl</td><td>Colombo</td><td>LK</td><td>null</td><td>+94 112 686 883</td><td>Cafe</td></tr><tr><td>Aará Garden Cafe</td><td>5.0</td><td>1</td><td>10 Ananda Coomaraswamy Mawatha</td><td>Colombo</td><td>LK</td><td>null</td><td>+94 77 315 2724</td><td>Coffee shop</td></tr><tr><td>Anthony's Cafe</td><td>4.6</td><td>28</td><td>8, 8 Cameron Pl</td><td>Colombo</td><td>LK</td><td>null</td><td>+94 75 707 5597</td><td>Cafe</td></tr><tr><td>The Stage Cafe Cake Bar Colombo 07</td><td>5.0</td><td>4</td><td>20D Guildford Cres</td><td>Colombo</td><td>LK</td><td>null</td><td>+94 114 383 865</td><td>Coffee shop</td></tr><tr><td>Tito's Cafe</td><td>4.4</td><td>44</td><td>137 Sir James Pieris Mawatha</td><td>Colombo</td><td>LK</td><td>https://www.marriott.com/en-us/hotels/cmbcy-courtyard-colombo/dining/</td><td>null</td><td>Coffee shop</td></tr><tr><td>Chenitha Cafe</td><td>4.258885</td><td>0</td><td>colombo 3</td><td>Colombo</td><td>LK</td><td>null</td><td>+94 78 959 5656</td><td>Cafe</td></tr><tr><td>Sun Rise Cafe</td><td>3.7</td><td>6</td><td>WV33+W6R</td><td>Colombo</td><td>LK</td><td>null</td><td>null</td><td>Cafe</td></tr><tr><td>Cafe Cotta</td><td>4.0</td><td>20</td><td>Dr NM Perera Mawatha Rd</td><td>Colombo</td><td>LK</td><td>https://cafe-cotta.business.site/?utm_source=gmb&utm_medium=referral</td><td>+94 77 548 0568</td><td>Cafe</td></tr><tr><td>Baguette French Bakery & Cafe</td><td>4.5</td><td>270</td><td>31 Queen's Rd</td><td>Colombo</td><td>LK</td><td>http://baguette.lk/</td><td>+94 77 730 2922</td><td>Cafe</td></tr><tr><td>ZOYO Cafe</td><td>4.8</td><td>20</td><td>89 Elvitigala Mawatha</td><td>Colombo</td><td>LK</td><td>null</td><td>+94 76 787 5555</td><td>Cafe</td></tr><tr><td>Cinnamon cafe</td><td>4.8</td><td>5</td><td>WV5F+G97</td><td>Colombo</td><td>LK</td><td>null</td><td>null</td><td>Cafe</td></tr><tr><td>Monkeybean Cafe</td><td>4.2</td><td>329</td><td>16 Sellamuttu Ave</td><td>Colombo</td><td>LK</td><td>https://www.facebook.com/monkeybeanlk/</td><td>+94 76 413 0060</td><td>Coffee shop</td></tr><tr><td>Peppermint Cafe</td><td>4.1</td><td>1641</td><td>76 Wijerama Mawatha</td><td>Colombo</td><td>LK</td><td>http://www.peppermintcafe.lk/</td><td>+94 75 632 0420</td><td>Coffee shop</td></tr><tr><td>Cafe Shaze</td><td>4.1</td><td>487</td><td>56 Horton Pl</td><td>Colombo</td><td>LK</td><td>null</td><td>+94 76 776 6765</td><td>Cafe</td></tr><tr><td>Tasty Cafe</td><td>3.5</td><td>4</td><td>Tasty Caterers, 18/A Evergreen Park Rd</td><td>Colombo</td><td>LK</td><td>null</td><td>+94 117 644 701</td><td>Cafe</td></tr><tr><td>Seed Cafe</td><td>4.6</td><td>850</td><td>60 Horton Pl</td><td>Colombo</td><td>LK</td><td>https://www.instagram.com/seedcafesl/?hl=en</td><td>+94 117 773 470</td><td>Cafe</td></tr><tr><td>THE CAKE BOUTIQUE</td><td>4.8</td><td>40</td><td>31A, 06 Stratford Ave</td><td>Colombo</td><td>LK</td><td>https://instagram.com/cakeboutique_radhi?igshid=YmMyMTA2M2Y=</td><td>+94 70 222 4640</td><td>Cafe</td></tr><tr><td>Peace cafe</td><td>4.258885</td><td>0</td><td>57/6, 5 Polhengoda Rd</td><td>Colombo</td><td>LK</td><td>null</td><td>+94 77 946 5908</td><td>Cafe</td></tr><tr><td>Noble Cafe</td><td>5.0</td><td>3</td><td>23 Ramakrishna Rd</td><td>Colombo</td><td>LK</td><td>null</td><td>null</td><td>Cafe</td></tr><tr><td>Cafe Rafaella</td><td>4.6</td><td>65</td><td>145 Thimbirigasyaya Rd</td><td>Colombo</td><td>LK</td><td>https://www.facebook.com/caferafaella/</td><td>+94 77 033 5366</td><td>Cafe</td></tr><tr><td>A Healing Café - Hotel MaRadha</td><td>4.6</td><td>38</td><td>31, St. Kilda's Lane, Marine Drive</td><td>Colombo</td><td>LK</td><td>https://maradha.lk/healing_cafe/</td><td>+94 112 550 136</td><td>Cafe</td></tr><tr><td>The Wild Monkey</td><td>4.0</td><td>4</td><td>Independence Ave</td><td>Colombo</td><td>LK</td><td>http://www.thewildmonket.lk/</td><td>+94 74 418 8764</td><td>Coffee shop</td></tr><tr><td>The German Bakery</td><td>4.5</td><td>340</td><td>461 Thimbirigasyaya Rd</td><td>Colombo</td><td>LK</td><td>http://www.germanbakery.lk/</td><td>+94 77 288 5461</td><td>Cafe</td></tr><tr><td>Cafe 97</td><td>4.4</td><td>208</td><td>97 Fife Rd</td><td>Colombo</td><td>LK</td><td>http://www.tastycaterers.lk/</td><td>+94 117 642 742</td><td>Cafe</td></tr><tr><td>Cafe nine</td><td>4.258885</td><td>0</td><td>20a Joseph Fraser Rd</td><td>Colombo</td><td>LK</td><td>null</td><td>null</td><td>Cafe</td></tr><tr><td>Ella Bakers Cafe</td><td>5.0</td><td>2</td><td>VVHG+86G</td><td>Colombo</td><td>LK</td><td>null</td><td>+94 71 212 2228</td><td>Cafe</td></tr><tr><td>Walking Path Cafe</td><td>3.0</td><td>2</td><td>WV38+363, Independence Walk</td><td>Colombo</td><td>LK</td><td>null</td><td>+94 112 330 550</td><td>Restaurant</td></tr><tr><td>Cafe 4 U Wellawatta</td><td>3.8</td><td>151</td><td>511 Galle Rd</td><td>Colombo</td><td>LK</td><td>null</td><td>+94 70 633 8633</td><td>Restaurant</td></tr><tr><td>Leenos cafe</td><td>5.0</td><td>2</td><td>06 Lily Ave</td><td>Colombo</td><td>LK</td><td>null</td><td>+94 76 756 4621</td><td>Coffee shop</td></tr><tr><td>Nestle Lanka's Flagship Kiosk Cafe Goodness</td><td>5.0</td><td>2</td><td>30 Prof Stanley Wijesundera Mawatha</td><td>Colombo</td><td>LK</td><td>null</td><td>+94 77 930 8347</td><td>Coffee shop</td></tr><tr><td>Longden Tea House</td><td>4.0</td><td>28</td><td>VVWC+PPM</td><td>Colombo</td><td>LK</td><td>null</td><td>null</td><td>Tea house</td></tr><tr><td>Everyday Bakery & Cafe</td><td>3.7</td><td>76</td><td>VVG8+JF6, Fussel's Ln</td><td>Colombo</td><td>LK</td><td>null</td><td>+94 77 908 1122</td><td>Bakery</td></tr><tr><td>Nishans cafe</td><td>5.0</td><td>2</td><td>6 Sri Bodhirukkarama Rd</td><td>Colombo</td><td>LK</td><td>null</td><td>null</td><td>Cafe</td></tr><tr><td>Cafe Island</td><td>4.1</td><td>15</td><td>473 Thimbirigasyaya Rd</td><td>Colombo</td><td>LK</td><td>null</td><td>+94 70 798 4138</td><td>Cafe</td></tr><tr><td>Rancrisp Cafe</td><td>4.0</td><td>1</td><td>WV29+WFQ</td><td>Colombo</td><td>LK</td><td>null</td><td>null</td><td>Cafe</td></tr><tr><td>Nescafe kiosk(Cafe Goodness)</td><td>3.9</td><td>11</td><td>30 Prof Stanley Wijesundera Mawatha</td><td>Colombo</td><td>LK</td><td>null</td><td>+94 74 131 9515</td><td>Coffee shop</td></tr><tr><td>Cray Cafe</td><td>4.258885</td><td>0</td><td>3 Iswari Rd</td><td>Colombo</td><td>LK</td><td>https://www.facebook.com/CrayFishCeylon</td><td>+94 114 151 543</td><td>Restaurant</td></tr><tr><td>Tea Avenue</td><td>4.3</td><td>3505</td><td>08 Jawatta Rd</td><td>Colombo</td><td>LK</td><td>http://www.tea-avenue.com/</td><td>+94 77 336 7879</td><td>Tea house</td></tr><tr><td>Café La Defense</td><td>4.4</td><td>543</td><td>124 Park Rd</td><td>Colombo</td><td>LK</td><td>null</td><td>+94 112 550 150</td><td>Coffee shop</td></tr><tr><td>Sinthu Cafe</td><td>5.0</td><td>1</td><td>VVG8+F64, Hampden Ln</td><td>Colombo</td><td>LK</td><td>null</td><td>null</td><td>Cafe</td></tr><tr><td>Café Chocolate</td><td>4.4</td><td>13</td><td>8 Stratford Ave</td><td>Colombo</td><td>LK</td><td>null</td><td>+94 71 996 9798</td><td>Cafe</td></tr><tr><td>Chocoholics - Havelock Road</td><td>4.4</td><td>1163</td><td>506 Havelock Rd</td><td>Colombo</td><td>LK</td><td>http://www.chocoholicscafe.com/</td><td>+94 114 332 261</td><td>Cafe</td></tr><tr><td>The Park Cafe</td><td>3.2</td><td>6</td><td>21/8B W.A. Silva Mawatha</td><td>Nugegoda</td><td>LK</td><td>null</td><td>+94 112 815 313</td><td>Cafe</td></tr><tr><td>Cafe Kinross</td><td>4.6</td><td>128</td><td>6 Kinross Ave</td><td>Colombo</td><td>LK</td><td>null</td><td>+94 77 161 8527</td><td>Restaurant</td></tr><tr><td>THE CAULDRON</td><td>4.5</td><td>1186</td><td>06, 68 Stratford Ave</td><td>Colombo</td><td>LK</td><td>http://www.thecauldron.lk/</td><td>+94 70 241 7433</td><td>Cafe</td></tr><tr><td>Flavours Cafe</td><td>4.1</td><td>9</td><td>61 Horton Pl</td><td>Colombo</td><td>LK</td><td>null</td><td>+94 114 848 486</td><td>Ice cream shop</td></tr><tr><td>Ayubowan Gallface - Cafe</td><td>4.2</td><td>31</td><td>WRGV+GGH</td><td>Colombo</td><td>LK</td><td>null</td><td>null</td><td>Cafe</td></tr><tr><td>Dwivedi Cafe</td><td>4.258885</td><td>0</td><td>Colombo Lotus Tower</td><td>Colombo</td><td>LK</td><td>null</td><td>null</td><td>Cafe</td></tr><tr><td>Cocoffee Cafe</td><td>5.0</td><td>1</td><td>80 Nawam Mawatha</td><td>Colombo</td><td>LK</td><td>https://www.instagram.com/cocoffee.colombo</td><td>+94 71 454 1665</td><td>Cafe</td></tr><tr><td>Tivoli Cafe</td><td>3.0</td><td>2</td><td>WV72+374</td><td>Colombo</td><td>LK</td><td>null</td><td>null</td><td>Cafe</td></tr><tr><td>Ritz Cafe</td><td>4.258885</td><td>0</td><td>WVJC+744, Qurashani Moulana Ln</td><td>Colombo</td><td>LK</td><td>null</td><td>+94 76 698 3459</td><td>Cafe</td></tr><tr><td>SSC - Lawn Cafe - Coffee Coner</td><td>5.0</td><td>3</td><td>35 Maitland Pl</td><td>Colombo</td><td>LK</td><td>null</td><td>null</td><td>Coffee shop</td></tr><tr><td>Parakum cafe</td><td>4.258885</td><td>0</td><td>140 EW Perera Mawatha</td><td>Colombo</td><td>LK</td><td>null</td><td>null</td><td>Cafe</td></tr><tr><td>Mac Cafe</td><td>4.0</td><td>7</td><td>327 Sri Vjiragnana Mawatha</td><td>Colombo</td><td>LK</td><td>null</td><td>null</td><td>Cafe</td></tr><tr><td>Wizard Chamber Cafe</td><td>4.0</td><td>21</td><td>1145 A, 1145 Maradana Rd</td><td>Colombo</td><td>LK</td><td>https://www.facebook.com/WizardChamber/</td><td>+94 70 158 0270</td><td>Juice shop</td></tr><tr><td>Amaradasa's cafe</td><td>5.0</td><td>1</td><td>100 Keyzer St</td><td>Colombo</td><td>LK</td><td>null</td><td>null</td><td>Cafe</td></tr><tr><td>Banana Cafe</td><td>4.258885</td><td>0</td><td>9 Kirthi Ln</td><td>Colombo</td><td>LK</td><td>null</td><td>+94 71 888 1111</td><td>Cafe</td></tr><tr><td>Felicita</td><td>4.0</td><td>23</td><td>74 Flower Rd</td><td>Colombo</td><td>LK</td><td>https://luxecolombo.com/</td><td>+94 77 782 1989</td><td>Coffee shop</td></tr><tr><td>Brew 1867 by Dilmah – Flower Road</td><td>4.5</td><td>592</td><td>57/1 Sir Ernest de Silva Mawatha</td><td>Colombo</td><td>LK</td><td>https://www.brew1867.com/</td><td>+94 112 693 010</td><td>Fast food restaurant</td></tr><tr><td>Thurstan Cafeteria</td><td>5.0</td><td>2</td><td>Thurstan College, Thurstan Rd</td><td>Colombo</td><td>LK</td><td>null</td><td>null</td><td>Cafe</td></tr><tr><td>AOBA Cafe & Bar</td><td>4.1</td><td>78</td><td>#L1-19, The Mall at One, Galle Rd</td><td>Colombo</td><td>LK</td><td>null</td><td>+94 77 746 2622</td><td>Cafe</td></tr><tr><td>WAFL Café One Galle Face Mall</td><td>3.8</td><td>101</td><td>Ground floor,One Galle Face Mall</td><td>Colombo</td><td>LK</td><td>null</td><td>+94 71 716 5555</td><td>Cafe</td></tr><tr><td>Tropical Fresh Juice Bar and Cafe</td><td>3.2</td><td>95</td><td>No. 02 Rockwood Pl</td><td>Colombo</td><td>LK</td><td>http://www.tropicalfresh.lk/</td><td>+94 112 688 566</td><td>Cafe</td></tr><tr><td>TORENA CAFE & RESTAURANT</td><td>4.4</td><td>78</td><td>126 York St</td><td>Colombo</td><td>LK</td><td>null</td><td>+94 71 779 2999</td><td>Restaurant</td></tr><tr><td>Cafe Bean Street</td><td>3.5</td><td>2</td><td>WRFV+RM2</td><td>Colombo</td><td>LK</td><td>null</td><td>null</td><td>Coffee shop</td></tr><tr><td>Java Lounge - Fort - Sri Lanka's Largest Coffee House Chain</td><td>4.4</td><td>796</td><td>7 Hospital St</td><td>Colombo</td><td>LK</td><td>http://www.javalounge.lk/</td><td>+94 112 333 051</td><td>Coffee shop</td></tr><tr><td>Dini Cafe</td><td>4.0</td><td>1</td><td>155a Kynsey Rd</td><td>Colombo</td><td>LK</td><td>null</td><td>null</td><td>Coffee shop</td></tr><tr><td>Cafe Bagatalle</td><td>4.3</td><td>174</td><td>No 18 Bagatalle Rd</td><td>Colombo</td><td>LK</td><td>null</td><td>+94 113 818 815</td><td>Cafeteria</td></tr><tr><td>URI Cafe Lounge</td><td>5.0</td><td>1</td><td>19 a, 2 Alfred Pl</td><td>Colombo</td><td>LK</td><td>null</td><td>null</td><td>Coffee shop</td></tr><tr><td>BEST COFFEE SHOP</td><td>4.258885</td><td>0</td><td>WV6C+F9R</td><td>Colombo</td><td>LK</td><td>null</td><td>null</td><td>Coffee shop</td></tr><tr><td>PLUTO CAFE</td><td>5.0</td><td>15</td><td>Dematagoda Pl</td><td>Colombo</td><td>LK</td><td>https://pluto-cafe-cafe.business.site/?utm_source=gmb&utm_medium=referral</td><td>+94 77 888 1435</td><td>Cafe</td></tr><tr><td>Joy’s Cafe</td><td>4.258885</td><td>0</td><td>no.49/1 Ward Pl</td><td>Colombo</td><td>LK</td><td>https://instagram.com/cafejoyyyyy?igshid=MzRlODBiNWFlZA==</td><td>null</td><td>Coffee shop</td></tr><tr><td>Bitcoin Cafe by Wheelys</td><td>1.0</td><td>1</td><td>261, R. A. De Mel Mawatha, Duplication Rd</td><td>Colombo</td><td>LK</td><td>null</td><td>+94 77 994 2980</td><td>Cafe</td></tr><tr><td>The Central Perk</td><td>4.2</td><td>1075</td><td>9/6 A 16th Lane, Marine Drive</td><td>Colombo</td><td>LK</td><td>https://the-central-perk.business.site/?utm_source=gmb&utm_medium=referral</td><td>+94 112 574 554</td><td>Coffee shop</td></tr><tr><td>De Artemis Cafe Gallery & Pub</td><td>4.1</td><td>13</td><td>No.79A Srimath Anagarika Dharmapala Mawatha</td><td>Colombo</td><td>LK</td><td>null</td><td>+94 72 406 0092</td><td>Restaurant</td></tr><tr><td>LOGOS CAFE</td><td>4.5</td><td>2</td><td>120 Srimath Anagarika Dharmapala Mawatha</td><td>Colombo</td><td>LK</td><td>null</td><td>+94 77 302 6453</td><td>Restaurant</td></tr><tr><td>The Embazzy</td><td>4.3</td><td>2240</td><td>76/1 Flower Rd</td><td>Colombo</td><td>LK</td><td>null</td><td>+94 112 576 027</td><td>Restaurant</td></tr><tr><td>Milk & Honey Café</td><td>4.4</td><td>290</td><td>44a Horton Pl</td><td>Colombo</td><td>LK</td><td>http://shopmilkstore.com/</td><td>+94 112 696 256</td><td>Cafe</td></tr><tr><td>Black Cat Cafe + Stay</td><td>4.4</td><td>812</td><td>11 Wijerama Mawatha</td><td>Colombo</td><td>LK</td><td>https://www.facebook.com/blackcatcolombo</td><td>+94 112 675 111</td><td>Cafe</td></tr><tr><td>London House Of Coffee</td><td>4.4</td><td>1190</td><td>2B R.G. Senanayake Mawatha</td><td>Colombo</td><td>LK</td><td>http://www.londonhouseofcoffee.com/</td><td>+94 112 693 072</td><td>Cafe</td></tr><tr><td>Grind</td><td>4.7</td><td>419</td><td>Access Towers 2</td><td>Colombo</td><td>LK</td><td>null</td><td>+94 76 105 1064</td><td>Coffee shop</td></tr><tr><td>Cafe 113</td><td>5.0</td><td>3</td><td>113 Hunupitiya Lake Rd</td><td>Colombo</td><td>LK</td><td>null</td><td>null</td><td>Family restaurant</td></tr><tr><td>Brown Sugar</td><td>4.8</td><td>108</td><td>Col T G Jayawardena</td><td>Colombo</td><td>LK</td><td>http://www.brownsugarcolombo.com/</td><td>+94 76 817 8101</td><td>Cafe</td></tr><tr><td>Rangiri Cafe රන්ගිරි කැෆේ</td><td>3.9</td><td>17</td><td>WVC3+XFP, Dr Colvin R de Silva Mawatha</td><td>Colombo</td><td>LK</td><td>null</td><td>null</td><td>Cafe</td></tr><tr><td>Culture Cafe Colombo</td><td>5.0</td><td>2</td><td>A14 Perahera Mawatha</td><td>Colombo</td><td>LK</td><td>null</td><td>+94 112 440 365</td><td>Cafe</td></tr><tr><td>Sathkara Cafe</td><td>5.0</td><td>5</td><td>18 Boyd Pl</td><td>Colombo</td><td>LK</td><td>null</td><td>+94 112 422 011</td><td>Restaurant</td></tr><tr><td>CHATZ</td><td>4.0</td><td>783</td><td>121a Sir James Pieris Mawatha</td><td>Colombo</td><td>LK</td><td>null</td><td>+94 117 226 888</td><td>Cafe</td></tr><tr><td>Cafe Leafy</td><td>4.258885</td><td>0</td><td>203 Sir James Pieris Mawatha</td><td>Colombo</td><td>LK</td><td>http://www.rococoresidence.com/</td><td>+94 70 558 8899</td><td>Cafe</td></tr><tr><td>Colombo Foods</td><td>4.258885</td><td>0</td><td>VVM4+Q6C, Frankfort Pl</td><td>Colombo</td><td>LK</td><td>null</td><td>null</td><td>Coffee shop</td></tr><tr><td>The Coffee Bean & Tea Leaf</td><td>4.3</td><td>3387</td><td>4 Maitland Cres</td><td>Colombo</td><td>LK</td><td>null</td><td>null</td><td>Cafe</td></tr><tr><td>PJ's Cafe</td><td>4.0</td><td>9</td><td>No. 10 R. A. De Mel Mawatha</td><td>Colombo</td><td>LK</td><td>null</td><td>+94 77 720 8131</td><td>Cafe</td></tr><tr><td>Spice Cafe & Bakers</td><td>3.8</td><td>5</td><td>7 Park Rd</td><td>Colombo</td><td>LK</td><td>null</td><td>+94 77 593 3992</td><td>Sri Lankan restaurant</td></tr><tr><td>Il Caffè</td><td>3.0</td><td>15</td><td>City Center</td><td>Colombo</td><td>LK</td><td>http://www.ceccatocolombo.shop/</td><td>+94 77 722 9472</td><td>Coffee shop</td></tr><tr><td>Arpico Crust Cafe</td><td>4.4</td><td>5</td><td>30 Hyde Park Corner</td><td>Colombo</td><td>LK</td><td>null</td><td>null</td><td>Cafe</td></tr><tr><td>Marine Cafe</td><td>4.0</td><td>2</td><td>39 Marine Drive</td><td>Colombo</td><td>LK</td><td>null</td><td>+94 117 024 217</td><td>Restaurant</td></tr><tr><td>Oneup alldaybreakfast</td><td>4.3</td><td>346</td><td>330, 4 Colombo - Galle Main Rd</td><td>Colombo</td><td>LK</td><td>https://m.facebook.com/pages/category/Breakfast---Brunch-Restaurant/ONE-UP-all-day-breakfast-coffee-1604946919806002/</td><td>+94 112 508 201</td><td>Cafe</td></tr><tr><td>Dot's</td><td>4.9</td><td>12</td><td>43 Layards Rd</td><td>Colombo</td><td>LK</td><td>null</td><td>null</td><td>Cafe</td></tr><tr><td>The Brown Bean</td><td>4.6</td><td>201</td><td>104 Srimath Anagarika Dharmapala Mawatha</td><td>Colombo</td><td>LK</td><td>http://fb.com/thebrownbean</td><td>+94 71 622 1626</td><td>Cafe</td></tr><tr><td>Baked Colombo</td><td>4.0</td><td>165</td><td>37A Elibank Rd</td><td>Colombo</td><td>LK</td><td>http://www.baked.lk/</td><td>+94 77 715 4454</td><td>Brunch restaurant</td></tr><tr><td>Barista Staple Street</td><td>4.5</td><td>350</td><td>33 Staple St</td><td>Colombo</td><td>LK</td><td>http://www.barista.lk/</td><td>+94 112 314 007</td><td>Coffee shop</td></tr><tr><td>Coffee Colombo</td><td>3.8</td><td>462</td><td>29, Milagiriya Avenue(On, Marine Drive</td><td>Colombo</td><td>LK</td><td>null</td><td>+94 76 969 6006</td><td>Coffee shop</td></tr><tr><td>Lauries Cafe</td><td>4.258885</td><td>0</td><td>43B Lauries Rd</td><td>Colombo</td><td>LK</td><td>null</td><td>null</td><td>Cafe</td></tr><tr><td>Coco cafe</td><td>4.0</td><td>4</td><td>532 Galle Rd</td><td>Colombo</td><td>LK</td><td>null</td><td>null</td><td>Ice cream shop</td></tr><tr><td>PHISHBUN</td><td>5.0</td><td>26</td><td>105 Bauddhaloka Mawatha</td><td>Colombo</td><td>LK</td><td>null</td><td>+94 77 776 6936</td><td>Restaurant</td></tr><tr><td>The Brown Bean Coffee Shop At WSO2</td><td>3.4</td><td>7</td><td>105 Bauddhaloka Mawatha</td><td>Colombo</td><td>LK</td><td>null</td><td>null</td><td>Coffee shop</td></tr><tr><td>VOC Cafe</td><td>4.2</td><td>446</td><td>Dutch Burgher Union, Thunmulla, 114 Reid Ave</td><td>Colombo</td><td>LK</td><td>http://thedutchburgherunion.org/voc-cafe/</td><td>+94 112 584 511</td><td>Restaurant</td></tr><tr><td>The Gallery Café</td><td>4.4</td><td>2258</td><td>2 Alfred House Rd</td><td>Colombo</td><td>LK</td><td>null</td><td>+94 112 582 162</td><td>Restaurant</td></tr><tr><td>Mfy Cafe</td><td>4.258885</td><td>0</td><td>WVVG+FR6, Stace Rd</td><td>Colombo</td><td>LK</td><td>null</td><td>null</td><td>Cafe</td></tr><tr><td>Mohamed Zain Cafe</td><td>3.8</td><td>10</td><td>WVR4+32P, Sir Ratnajothi Saravanamuttu Mawatha</td><td>Colombo</td><td>LK</td><td>null</td><td>(206) 602-2593</td><td>Cafe</td></tr><tr><td>Chocoholics - Duplication Road</td><td>4.6</td><td>509</td><td>357A R. A. De Mel Mawatha</td><td>Colombo</td><td>LK</td><td>http://www.chocoholicscafe.com/</td><td>+94 117 483 580</td><td>Cafe</td></tr><tr><td>Healthy Cafe</td><td>3.9</td><td>34</td><td>91, AC2</td><td>Colombo</td><td>LK</td><td>null</td><td>null</td><td>Restaurant</td></tr><tr><td>Gayan's Cafe Teek</td><td>4.258885</td><td>0</td><td>279, 10 Grandpass Rd</td><td>Colombo</td><td>LK</td><td>null</td><td>null</td><td>Cafe</td></tr><tr><td>DSR Cafe</td><td>4.258885</td><td>0</td><td>353, AC11</td><td>Colombo</td><td>LK</td><td>null</td><td>+94 77 402 8308</td><td>Cafe</td></tr><tr><td>Green Star</td><td>4.258885</td><td>0</td><td>XV57+965</td><td>Colombo</td><td>LK</td><td>null</td><td>+94 74 205 7300</td><td>Coffee shop</td></tr><tr><td>Divine Cafe</td><td>4.258885</td><td>0</td><td>107 Dhawalasingharama Mawatha</td><td>Colombo</td><td>LK</td><td>null</td><td>null</td><td>Cafe</td></tr><tr><td>Cafe by Dora</td><td>3.0</td><td>2</td><td>147, 161 A0</td><td>Colombo</td><td>LK</td><td>null</td><td>+94 77 167 7994</td><td>Restaurant</td></tr><tr><td>Harpo's Colombo Fort Cafe</td><td>4.0</td><td>392</td><td>Old Dutch Hospital Complex Echelon Square, Hospital St</td><td>Colombo</td><td>LK</td><td>http://www.colombofortcafe.com/</td><td>+94 112 434 946</td><td>Restaurant</td></tr><tr><td>Chocoholics One Galle Face</td><td>4.5</td><td>23</td><td>WRGW+W28, Centre Road</td><td>Colombo</td><td>LK</td><td>null</td><td>null</td><td>Cafe</td></tr><tr><td>Coffee Stop</td><td>4.5</td><td>799</td><td>77 Galle Rd</td><td>Colombo</td><td>LK</td><td>http://www.cinnamonhotels.com/cinnamongrandcolombo/dining/coffee-stop.html</td><td>+94 112 497 382</td><td>Cafe</td></tr><tr><td>NLDB MILK SHOP</td><td>5.0</td><td>1</td><td>WV6M+W52</td><td>Colombo</td><td>LK</td><td>null</td><td>null</td><td>Cafe</td></tr><tr><td>Bo-sevana</td><td>4.258885</td><td>0</td><td>54 Olcott Mawatha</td><td>Colombo</td><td>LK</td><td>null</td><td>+94 75 452 4745</td><td>Coffee shop</td></tr><tr><td>Java Lounge Barnes Place</td><td>4.4</td><td>1471</td><td>76 Barnes Pl</td><td>Colombo</td><td>LK</td><td>http://www.javalounge.lk/</td><td>+94 112 695 861</td><td>Coffee shop</td></tr><tr><td>Let's Eat</td><td>3.0</td><td>2</td><td>193 Ward Pl</td><td>Colombo</td><td>LK</td><td>null</td><td>+94 77 727 7984</td><td>Coffee shop</td></tr><tr><td>HIFI CAFE (maxza)</td><td>4.258885</td><td>0</td><td>35 Stewart St</td><td>Colombo</td><td>LK</td><td>null</td><td>+94 75 759 6609</td><td>Restaurant</td></tr><tr><td>A-One Cafe</td><td>3.9</td><td>615</td><td>78 Justice Akbar Mawatha</td><td>Colombo</td><td>LK</td><td>https://www.facebook.com/Aonecafepure</td><td>+94 112 307 374</td><td>Restaurant</td></tr><tr><td>Chaiwala Colombo - One Galle Face Mall</td><td>4.8</td><td>47</td><td>L20, 1A, One Galle Face Mall, Centre Road</td><td>Colombo</td><td>LK</td><td>https://chaiwalacolombo.com/</td><td>null</td><td>Cafe</td></tr><tr><td>Goodies</td><td>4.5</td><td>170</td><td>117 Colombo - Batticaloa Hwy</td><td>Colombo</td><td>LK</td><td>http://www.cinnamonhotels.com/cinnamonlakesidecolombo/dining/goodies.html</td><td>+94 112 491 804</td><td>Coffee shop</td></tr><tr><td>t-lounge & bar by Dilmah – One Galle Face</td><td>4.2</td><td>163</td><td>L1-20, One Galle Face, No.1A ගාලු පාර</td><td>Colombo</td><td>LK</td><td>null</td><td>+94 112 432 028</td><td>Cafe</td></tr><tr><td>Araliya cafe</td><td>4.4</td><td>7</td><td>46/42, 02</td><td>Colombo</td><td>LK</td><td>null</td><td>null</td><td>Restaurant</td></tr><tr><td>Cafe Colombo</td><td>4.258885</td><td>0</td><td>66 Galle Rd</td><td>Colombo</td><td>LK</td><td>null</td><td>null</td><td>Bakery</td></tr><tr><td>Bavan cafe</td><td>4.258885</td><td>0</td><td>11 Vauxhall Ln</td><td>Colombo</td><td>LK</td><td>null</td><td>+94 77 663 4443</td><td>Vegetarian restaurant</td></tr><tr><td>Cafe Seventy Seven</td><td>3.4</td><td>39</td><td>WVC3+4HC</td><td>Colombo</td><td>LK</td><td>null</td><td>+94 115 765 765</td><td>Restaurant</td></tr><tr><td>Sri Lanka Telecom Cafeteria</td><td>4.5</td><td>4</td><td>WVC3+JCP</td><td>Colombo</td><td>LK</td><td>null</td><td>null</td><td>Restaurant</td></tr><tr><td>Cannys Bakers and Restaurant</td><td>4.258885</td><td>0</td><td>185 Union Pl</td><td>Colombo</td><td>LK</td><td>null</td><td>+94 112 693 722</td><td>Cafe</td></tr><tr><td>Green Cabin | Chatham Street</td><td>4.1</td><td>358</td><td>NO 88 Chatham St</td><td>Colombo</td><td>LK</td><td>http://www.greencabin.lk/</td><td>+94 77 378 6147</td><td>Cafe</td></tr><tr><td>The Kafé</td><td>4.2</td><td>16</td><td>123 Kumaran Ratnam Rd</td><td>Colombo</td><td>LK</td><td>https://www.hotelnippon.lk/the-kafe/</td><td>+94 112 332 603</td><td>Cafe</td></tr><tr><td>Upali's Canteen</td><td>2.0</td><td>1</td><td>WRQW+783, Bandaranayake Quay</td><td>Colombo</td><td>LK</td><td>null</td><td>+94 77 713 0019</td><td>Coffee shop</td></tr><tr><td>t-lounge by Dilmah – Chatham Street ️</td><td>4.4</td><td>980</td><td>Chatham St</td><td>Colombo</td><td>LK</td><td>http://dilmaht-lounge.com/</td><td>+94 112 447 168</td><td>Cafe</td></tr><tr><td>Hotel De Excellent</td><td>3.6</td><td>14</td><td>WVH7+5RG</td><td>Colombo</td><td>LK</td><td>null</td><td>null</td><td>Cafe</td></tr><tr><td>Cafe On The Range</td><td>5.0</td><td>9</td><td>181/5 Hikkaduwe Sri Sumangala Himi Mawatha</td><td>Colombo</td><td>LK</td><td>https://www.instagram.com/cafe_on_the_range</td><td>+94 77 774 4877</td><td>Cafe</td></tr><tr><td>CAFE 142</td><td>4.258885</td><td>0</td><td>142 Sri Vajiragnana Mawatha</td><td>Colombo</td><td>LK</td><td>null</td><td>+94 72 817 9234</td><td>Fast food restaurant</td></tr><tr><td>Squeezey cafe and juice bar</td><td>5.0</td><td>3</td><td>487 Dematagoda Rd</td><td>Colombo</td><td>LK</td><td>null</td><td>null</td><td>Cafe</td></tr><tr><td>Rizvi Snacks</td><td>3.6</td><td>12</td><td>WVG8+V42, Ven Baddegama Wimalawansa Mawatha</td><td>Colombo</td><td>LK</td><td>null</td><td>+94 77 656 4440</td><td>Cafe</td></tr><tr><td>Kusum Cafe</td><td>5.0</td><td>1</td><td>WVGC+MW4</td><td>Colombo</td><td>LK</td><td>null</td><td>null</td><td>Pastry shop</td></tr><tr><td>City Cakes & Desserts</td><td>4.258885</td><td>0</td><td>463 2nd Division Maradana</td><td>Colombo</td><td>LK</td><td>null</td><td>+94 77 213 3811</td><td>Cafe</td></tr><tr><td>Tayo bear</td><td>4.8</td><td>107</td><td>No 71, 2 R.G. Senanayake Mawatha</td><td>Colombo</td><td>LK</td><td>http://www.tayobear.com/</td><td>+94 77 199 2907</td><td>Dog cafe</td></tr><tr><td>The kava coffee</td><td>5.0</td><td>18</td><td>Hedges Ct</td><td>Colombo</td><td>LK</td><td>null</td><td>+94 76 384 6871</td><td>Coffee shop</td></tr><tr><td>The Coffee Manor</td><td>4.6</td><td>280</td><td>83 R.G. Senanayake Mawatha</td><td>Colombo</td><td>LK</td><td>null</td><td>+94 112 082 190</td><td>Coffee shop</td></tr><tr><td>Phoenix Hub Gaming Cafe</td><td>4.7</td><td>200</td><td>44 Dr Danister De Silva Mawatha</td><td>Colombo</td><td>LK</td><td>https://www.facebook.com/pnxhub/</td><td>+94 114 244 446</td><td>Video game store</td></tr><tr><td>Shivan cafe</td><td>5.0</td><td>2</td><td>WVPJ+678</td><td>Colombo</td><td>LK</td><td>null</td><td>+94 112 686 197</td><td>Cafe</td></tr><tr><td>Hot Bun Cafe</td><td>4.1</td><td>13</td><td>WVVC+V45</td><td>Colombo</td><td>LK</td><td>null</td><td>+94 71 252 6650</td><td>Cafe</td></tr><tr><td>MTown Gaming & Shisha Lounge</td><td>4.4</td><td>10</td><td>67 1/1 Maligawatta Pl</td><td>Colombo</td><td>LK</td><td>https://www.facebook.com/mtownlounge</td><td>+94 72 656 5777</td><td>Lounge</td></tr><tr><td>The Cafe Lounge</td><td>5.0</td><td>1</td><td>WVPC+873</td><td>Colombo</td><td>LK</td><td>null</td><td>+94 75 706 8505</td><td>Game store</td></tr><tr><td>Panchikawatta</td><td>4.258885</td><td>0</td><td>WVM8+78M</td><td>Colombo</td><td>LK</td><td>null</td><td>null</td><td>Coffee shop</td></tr><tr><td>Cravings Café & Restaurant</td><td>5.0</td><td>4</td><td>47, 12 Abdul Hameed St</td><td>Colombo</td><td>LK</td><td>null</td><td>+94 75 559 4801</td><td>Restaurant</td></tr><tr><td>Cafe Anderson</td><td>5.0</td><td>1</td><td>Anderson Flats D Block, Park Rd</td><td>Colombo</td><td>LK</td><td>null</td><td>+94 76 876 1211</td><td>Takeout Restaurant</td></tr><tr><td>Taste Tots</td><td>5.0</td><td>7</td><td>WVJC+FMG, Keera Kotuwa Road</td><td>Colombo</td><td>LK</td><td>https://www.facebook.com/tastetot/</td><td>+94 77 291 6634</td><td>Cafe</td></tr><tr><td>Najla Soup Cafe</td><td>3.7</td><td>7</td><td>WVQ7+65P, Abdul Hameed St</td><td>Colombo</td><td>LK</td><td>null</td><td>+94 71 554 4757</td><td>Soup shop</td></tr><tr><td>Cafe nine</td><td>3.5</td><td>2</td><td>VVVM+R3H, Kirimandala Mawatha</td><td>Colombo</td><td>LK</td><td>null</td><td>+94 112 449 919</td><td>Bakery</td></tr><tr><td>Best Lankan Food & Beverages (Pvt) Ltd</td><td>5.0</td><td>1</td><td>XVFH+JF5, Mattakkuliya Farm Rd</td><td>Colombo</td><td>LK</td><td>null</td><td>+94 77 772 2030</td><td>Cafe</td></tr><tr><td>Zion Fountain Cafe</td><td>4.4</td><td>58</td><td>4 Vijaya Kumarathunga Mawatha</td><td>Colombo</td><td>LK</td><td>null</td><td>+94 77 751 0850</td><td>Cafe</td></tr><tr><td>Nescafe Machine Rent (Mr.kordon's)</td><td>4.258885</td><td>0</td><td>23, 51 Vystwyke Rd</td><td>Colombo</td><td>LK</td><td>null</td><td>+94 77 798 0561</td><td>Coffee shop</td></tr><tr><td>Cafe Korea</td><td>3.7</td><td>15</td><td>Kirimandala Mawatha</td><td>Colombo</td><td>LK</td><td>null</td><td>+94 77 563 0117</td><td>Korean restaurant</td></tr><tr><td>Ameen’s Love</td><td>4.258885</td><td>0</td><td>XVCG+XJ5</td><td>Colombo</td><td>LK</td><td>null</td><td>null</td><td>Cafe</td></tr><tr><td>Any item sale</td><td>2.0</td><td>1</td><td>Randiya Uyana, Henamulla Ln</td><td>Colombo</td><td>LK</td><td>null</td><td>+94 75 640 5776</td><td>Cafe</td></tr><tr><td>Bar wade kade</td><td>5.0</td><td>1</td><td>XVCG+Q7X, St Mary's Rd</td><td>Colombo</td><td>LK</td><td>null</td><td>null</td><td>Cafe</td></tr><tr><td>Sunshine Bakary</td><td>4.1</td><td>28</td><td>39 St Mary's Ln</td><td>Colombo</td><td>LK</td><td>null</td><td>+94 77 600 8883</td><td>Cafe</td></tr><tr><td>New Indusiri Cafe</td><td>4.4</td><td>9</td><td>Baseline Rd</td><td>Colombo</td><td>LK</td><td>null</td><td>+94 112 667 792</td><td>Vegetarian restaurant</td></tr><tr><td>Caffe Vita</td><td>2.7</td><td>13</td><td>VVV4+P27</td><td>Colombo</td><td>LK</td><td>null</td><td>+94 77 743 3870</td><td>Cafe</td></tr><tr><td>The Family Cafe</td><td>4.258885</td><td>0</td><td>77, 20 Gnanawimala Rd</td><td>Colombo</td><td>LK</td><td>null</td><td>+94 77 551 0414</td><td>Restaurant</td></tr><tr><td>Refresh</td><td>3.0</td><td>2</td><td>328 Jumma Masjid Rd</td><td>Colombo</td><td>LK</td><td>null</td><td>null</td><td>Coffee shop</td></tr><tr><td>The Vibe</td><td>3.6</td><td>7</td><td>VVR9+7V8 Hotel Janaki, Fife Rd</td><td>Colombo</td><td>LK</td><td>http://hoteljanakicolombo.com/the-vibe/</td><td>null</td><td>Cafe</td></tr><tr><td>Holybelly cafe</td><td>4.4</td><td>94</td><td>318 Torrington Ave</td><td>Colombo</td><td>LK</td><td>https://m.facebook.com/Holybelly-656716584719603/</td><td>+94 77 712 2234</td><td>Cafe</td></tr><tr><td>The Blue Swan Lounge and Workspaces</td><td>5.0</td><td>3</td><td>12 Greenlands Ave</td><td>Colombo</td><td>LK</td><td>null</td><td>+94 77 311 6579</td><td>Cafe</td></tr><tr><td>Cafe Hideout</td><td>5.0</td><td>4</td><td>24 Fife Rd</td><td>Colombo</td><td>LK</td><td>null</td><td>null</td><td>Coffee store</td></tr><tr><td>Blue Spoon</td><td>4.7</td><td>58</td><td>90A Jawatta Rd</td><td>Colombo</td><td>LK</td><td>http://instagram.com/bluespoonlk</td><td>+94 77 316 4000</td><td>Cafe</td></tr><tr><td>Cafe Noir Blanc</td><td>4.3</td><td>1291</td><td>No. 216, Rev, Thimbirigasyaya Rd</td><td>Colombo</td><td>LK</td><td>http://cafenoir.lk/</td><td>+94 112 555 188</td><td>Restaurant</td></tr><tr><td>Bars Cafe</td><td>4.0</td><td>27</td><td>158 Thimbirigasyaya Rd</td><td>Colombo</td><td>LK</td><td>null</td><td>+94 114 369 393</td><td>Restaurant</td></tr><tr><td>Tasty Caterers</td><td>4.2</td><td>1019</td><td>88 Fife Rd</td><td>Colombo</td><td>LK</td><td>http://tastycaterers.lk/</td><td>+94 117 644 744</td><td>Cafe</td></tr><tr><td>COOL KADE</td><td>5.0</td><td>3</td><td>423 Jumma Masjid Rd</td><td>Colombo</td><td>LK</td><td>null</td><td>+94 72 051 5243</td><td>Cafe</td></tr><tr><td>Krishna Vegetarian Cafe</td><td>3.9</td><td>19</td><td>5 St. Joseph's St</td><td>Colombo</td><td>LK</td><td>null</td><td>null</td><td>Restaurant</td></tr><tr><td>Cafe zone</td><td>5.0</td><td>4</td><td>A3/F24, GEORGE R.D SILVA MW</td><td>Colombo</td><td>LK</td><td>null</td><td>null</td><td>Sri Lankan restaurant</td></tr><tr><td>Manra Cafe</td><td>5.0</td><td>2</td><td>736 Dr Danister De Silva Mawatha</td><td>Urugodawatta</td><td>LK</td><td>https://instagram.com/manra_cafe?igshid=OGQ5ZDc2ODk2ZA==</td><td>+94 71 460 1191</td><td>Restaurant</td></tr><tr><td>Amabal Cafe</td><td>4.1</td><td>7</td><td>WVV8+G8W, Jethawana Rd</td><td>Colombo</td><td>LK</td><td>null</td><td>null</td><td>Restaurant</td></tr><tr><td>Ape Kopi Grandpass</td><td>4.6</td><td>5</td><td>70 Stace Rd</td><td>Colombo</td><td>LK</td><td>null</td><td>+94 77 914 6786</td><td>Coffee shop</td></tr><tr><td>R.N.R. Cool Corner</td><td>4.258885</td><td>0</td><td>WVR8+C27, Sri Sumanatissa Mawatha</td><td>Colombo</td><td>LK</td><td>null</td><td>null</td><td>Cafe</td></tr><tr><td>A.M.N.Rahumani</td><td>4.258885</td><td>0</td><td>68 Gemunu Patu Mawatha</td><td>Colombo</td><td>LK</td><td>null</td><td>null</td><td>Coffee shop</td></tr><tr><td>Bob's Cafe</td><td>4.258885</td><td>0</td><td>446 Old Moor St</td><td>Colombo</td><td>LK</td><td>null</td><td>null</td><td>Restaurant</td></tr><tr><td>Delish Cafe & Restaurant</td><td>3.8</td><td>147</td><td>null</td><td>Colombo</td><td>LK</td><td>null</td><td>+94 112 441 334</td><td>Restaurant</td></tr><tr><td>Kotahena Cream House</td><td>4.258885</td><td>0</td><td>71 Bonjeen Rd</td><td>Colombo</td><td>LK</td><td>null</td><td>+94 112 472 907</td><td>Cafe</td></tr><tr><td>Black Shedow</td><td>4.258885</td><td>0</td><td>15 Jampettah St</td><td>Colombo</td><td>LK</td><td>null</td><td>null</td><td>Cafe</td></tr><tr><td>Barista at Hatch Works</td><td>4.258885</td><td>0</td><td>14 Sir Baron Jayathilake Mawatha</td><td>Colombo</td><td>LK</td><td>null</td><td>null</td><td>Coffee shop</td></tr><tr><td>The Street Cafe n Kitchen Pvt Ltd</td><td>5.0</td><td>1</td><td>Lake House Building, regent Building 20 1/3 Sir chittampalam gardiner A Mawatha, 2 opposit to</td><td>Colombo</td><td>LK</td><td>null</td><td>+94 112 300 109</td><td>Restaurant</td></tr><tr><td>The Barge Cafe and Restaurant</td><td>4.4</td><td>24</td><td>Block D</td><td>Colombo</td><td>LK</td><td>null</td><td>+94 77 003 9090</td><td>Cafe</td></tr><tr><td>PSD Welfare shop and House of Juice</td><td>4.8</td><td>5</td><td>54 Chatham St</td><td>Colombo</td><td>LK</td><td>null</td><td>+94 72 760 3377</td><td>Cafe</td></tr><tr><td>Brew 1867 by Dilmah – World Trade Center</td><td>4.6</td><td>39</td><td>Level 03 West Block World Trade Center</td><td>Colombo</td><td>LK</td><td>https://www.brew1867.com/</td><td>+94 117 021 406</td><td>Fast food restaurant</td></tr><tr><td>Street cafe and kitchen</td><td>5.0</td><td>1</td><td>Regent Flats</td><td>Colombo</td><td>LK</td><td>null</td><td>+94 112 300 109</td><td>Asian restaurant</td></tr><tr><td>Cafe64 by Galadari Hotel</td><td>3.0</td><td>2</td><td>64 Lotus Rd</td><td>Colombo</td><td>LK</td><td>http://www.galadarihotel.lk/dining/cafe-64-pastry-shop?fbclid=IwAR0RE5z8t5l6R9Jg8Id-HfpV0kVqg8ANXLsIEyuG9rBLvDyvD8jkZNeLbjE</td><td>+94 112 544 544</td><td>Cafe</td></tr><tr><td>The Nosh</td><td>4.2</td><td>23</td><td>World Trade Center East Tower, WTC East Tower, 12/1 Bank of Ceylon Mawatha</td><td>Colombo</td><td>LK</td><td>null</td><td>+94 76 170 0700</td><td>Coffee shop</td></tr><tr><td>Fort Cafe</td><td>4.0</td><td>1</td><td>39 Sir Razik Fareed Mawatha</td><td>Colombo</td><td>LK</td><td>null</td><td>+94 76 199 3103</td><td>Restaurant</td></tr><tr><td>Barista World Trade Center</td><td>4.3</td><td>397</td><td>Level 3 World Trade Center, Bank of Ceylon Mawatha</td><td>Colombo</td><td>LK</td><td>http://www.barista.lk/</td><td>+94 112 332 163</td><td>Cafe</td></tr><tr><td>Nil's Kitchen</td><td>4.258885</td><td>0</td><td>18/28 1st Lane, Evergreen Park Rd</td><td>Colombo</td><td>LK</td><td>null</td><td>+94 77 771 1828</td><td>Cafe</td></tr><tr><td>Side Walk Cafe</td><td>4.4</td><td>8</td><td>No 33 Canal Row</td><td>Colombo</td><td>LK</td><td>null</td><td>null</td><td>Restaurant</td></tr><tr><td>New Murugan Cafe</td><td>4.258885</td><td>0</td><td>30 Sri Kathiresan St</td><td>Colombo</td><td>LK</td><td>null</td><td>+94 77 470 0669</td><td>Indian restaurant</td></tr><tr><td>RASANANDA BAKERS (දර පොරනු cafe)</td><td>4.5</td><td>2</td><td>130 2nd Ln</td><td>Sri Jayawardenepura Kotte</td><td>LK</td><td>null</td><td>+94 77 645 4354</td><td>Bakery</td></tr><tr><td>Menytype</td><td>4.258885</td><td>0</td><td>G-1-3-B, Mihindu Mawatha Shopping Complex</td><td>Colombo</td><td>LK</td><td>null</td><td>+94 112 441 684</td><td>Cafe</td></tr><tr><td>S K M Cafe</td><td>4.5</td><td>4</td><td>103 New Moor St</td><td>Colombo</td><td>LK</td><td>null</td><td>null</td><td>Restaurant</td></tr><tr><td>New Saraswati Cafe</td><td>4.1</td><td>840</td><td>230 Sea St</td><td>Colombo</td><td>LK</td><td>null</td><td>+94 112 435 789</td><td>Vegetarian restaurant</td></tr><tr><td>Mobitel Cafeteria</td><td>3.3</td><td>11</td><td>Lesley Ranagala Mawatha</td><td>Colombo</td><td>LK</td><td>null</td><td>+94 71 285 7555</td><td>Cafe</td></tr><tr><td>Fabela Restaurant & Cafe</td><td>4.258885</td><td>0</td><td>231D Wijayakumarathunga Road</td><td>Colombo</td><td>LK</td><td>null</td><td>+94 76 877 4258</td><td>Restaurant</td></tr><tr><td>Tens Inc</td><td>5.0</td><td>2</td><td>33/5 Somadevi Pl</td><td>Colombo</td><td>LK</td><td>null</td><td>+94 77 612 3247</td><td>Cafe</td></tr><tr><td>The Counter Cafe</td><td>4.3</td><td>24</td><td>30/4 Sri Siddhartha Passage</td><td>Colombo</td><td>LK</td><td>null</td><td>+94 77 790 1607</td><td>Restaurant</td></tr><tr><td>KAILASA The Street Food Café</td><td>3.8</td><td>962</td><td>494 R. A. De Mel Mawatha</td><td>Colombo</td><td>LK</td><td>null</td><td>null</td><td>Restaurant</td></tr><tr><td>Kumbuk Cafe</td><td>4.258885</td><td>0</td><td>No. 60/7 Horton Pl</td><td>Colombo</td><td>LK</td><td>null</td><td>null</td><td>Restaurant</td></tr><tr><td>Kaapi</td><td>4.3</td><td>521</td><td>29, Schofield Place, Marine Drive</td><td>Colombo</td><td>LK</td><td>null</td><td>+94 77 153 3443</td><td>Cafe</td></tr><tr><td>Saswathi Cafe | சாஸ்வதி கபே</td><td>4.0</td><td>1</td><td>171 A2</td><td>Colombo</td><td>LK</td><td>null</td><td>+94 76 544 9951</td><td>Vegetarian restaurant</td></tr><tr><td>Amos chai factory</td><td>4.258885</td><td>0</td><td>VVF8+GCC, 55th Ln</td><td>Colombo</td><td>LK</td><td>null</td><td>null</td><td>Coffee shop</td></tr><tr><td>Colombo Chaiwala</td><td>4.3</td><td>336</td><td>12 Lily Ave</td><td>Colombo</td><td>LK</td><td>null</td><td>null</td><td>Tea house</td></tr><tr><td>Galle Caterers</td><td>3.5</td><td>17</td><td>No. 43 Marine Dr</td><td>Colombo</td><td>LK</td><td>null</td><td>+94 114 367 799</td><td>Cafe</td></tr><tr><td>Matras Cafe</td><td>4.258885</td><td>0</td><td>118 A Galle Rd</td><td>Colombo</td><td>LK</td><td>null</td><td>null</td><td>Restaurant</td></tr><tr><td>Top Collection</td><td>4.258885</td><td>0</td><td>Ambanpitiya, 7851/1 ,colombo rd, Galigamuwa town</td><td>Kegalle</td><td>LK</td><td>null</td><td>+94 70 313 3471</td><td>Art cafe</td></tr><tr><td>Everyday Bakery & Cafe</td><td>3.1</td><td>69</td><td>1, 465 1/1 Galle Rd</td><td>Colombo</td><td>LK</td><td>null</td><td>+94 112 363 996</td><td>Bakery</td></tr><tr><td>WAFL Café Wellawatte</td><td>4.1</td><td>375</td><td>47 42nd Ln</td><td>Colombo</td><td>LK</td><td>null</td><td>+94 117 104 104</td><td>Restaurant</td></tr><tr><td>The Cozy Lounge</td><td>4.258885</td><td>0</td><td>16 Flower Rd</td><td>Colombo</td><td>LK</td><td>null</td><td>null</td><td>Cafe</td></tr><tr><td>Bakers Lab LK</td><td>4.6</td><td>69</td><td>03 Muthuwella Mawatha</td><td>Colombo</td><td>LK</td><td>http://www.bakerslablk.com/</td><td>+94 75 757 4797</td><td>Bakery</td></tr><tr><td>The Coffee Craft</td><td>4.4</td><td>172</td><td>55 St Anthony's Mawatha</td><td>Colombo</td><td>LK</td><td>https://coffeecraft.tinkers.biz/</td><td>+94 76 222 8888</td><td>Cafe</td></tr><tr><td>Lucuma Vegan Cafe</td><td>4.6</td><td>31</td><td>Cambridge Terrace</td><td>Colombo</td><td>LK</td><td>https://instagram.com/lucuma_vegan_cafe?utm_medium=copy_link</td><td>+94 77 133 3668</td><td>Coffee shop</td></tr><tr><td>Rolling Pin</td><td>4.2</td><td>14</td><td>Liberty Plaza, Basement</td><td>Colpetty</td><td>LK</td><td>https://m.facebook.com/Rollingpinlk</td><td>+94 71 720 2303</td><td>Cafe</td></tr><tr><td>Klassy Cafe - Havelock City Mall</td><td>3.4</td><td>13</td><td>Havelock City, Havelock Rd</td><td>Colombo</td><td>LK</td><td>null</td><td>+94 114 252 502</td><td>Pastry shop</td></tr><tr><td>Amal gram store</td><td>4.0</td><td>5</td><td>VVM9+4PH, Edward Ave</td><td>Colombo</td><td>LK</td><td>null</td><td>null</td><td>Coffee shop</td></tr><tr><td>Tea Tent</td><td>4.258885</td><td>0</td><td>VVJ9+X3G</td><td>Colombo</td><td>LK</td><td>null</td><td>null</td><td>Coffee shop</td></tr><tr><td>Twins Cafe</td><td>4.7</td><td>38</td><td>14 Independence Ave</td><td>Colombo</td><td>LK</td><td>null</td><td>+94 76 792 2030</td><td>Restaurant</td></tr><tr><td>Nugegoda</td><td>4.258885</td><td>0</td><td>WVG6+RFQ</td><td>Colombo</td><td>LK</td><td>null</td><td>+94 75 878 5854</td><td>Cafe</td></tr><tr><td>The cafe</td><td>5.0</td><td>3</td><td>273/1 Vauxhall St</td><td>Colombo</td><td>LK</td><td>null</td><td>+94 112 341 342</td><td>Restaurant</td></tr><tr><td>Restaurant Area</td><td>1.0</td><td>1</td><td>WRGH+P32</td><td>Port City Colombo</td><td>LK</td><td>null</td><td>null</td><td>Coffee shop</td></tr><tr><td>Neleez Station</td><td>3.0</td><td>1</td><td>Colombo Lotus Tower, AC6</td><td>Colombo</td><td>LK</td><td>null</td><td>+94 77 728 0953</td><td>Coffee shop</td></tr><tr><td>Cannys Bakers</td><td>3.9</td><td>41</td><td>WVFH+83P</td><td>Colombo</td><td>LK</td><td>null</td><td>null</td><td>Cafe</td></tr><tr><td>Cafe Pixel Printing Solutions (Pvt) Limited</td><td>4.1</td><td>140</td><td>180/3 Arnold Ratnayake Mawatha</td><td>Colombo</td><td>LK</td><td>null</td><td>+94 112 680 061</td><td>Print shop</td></tr><tr><td>NEDOLAKANDA grocery & cafe</td><td>4.258885</td><td>0</td><td>kolonna, road</td><td>nedolakanda</td><td>LK</td><td>null</td><td>+94 77 455 2083</td><td>Grocery store</td></tr><tr><td>Barakath Sweets and Cafe</td><td>5.0</td><td>3</td><td>24 Immamul Aroos Mawatha</td><td>Colombo</td><td>LK</td><td>null</td><td>+94 77 812 9250</td><td>Restaurant</td></tr><tr><td>King Metro Cafe (pure vegetarian)</td><td>4.3</td><td>4</td><td>WVG8+22P</td><td>Colombo</td><td>LK</td><td>null</td><td>null</td><td>Restaurant</td></tr><tr><td>Nithiya</td><td>4.258885</td><td>0</td><td>765 Bodhirajarama Mawatha</td><td>Colombo</td><td>LK</td><td>null</td><td>null</td><td>Coffee shop</td></tr><tr><td>Dark Roast Cafe</td><td>4.2</td><td>84</td><td>20A Laurie’s Place, R. A. De Mel Mawatha</td><td>Colombo</td><td>LK</td><td>https://www.instagram.com/darkroastcafelk/</td><td>+94 77 666 7567</td><td>Coffee shop</td></tr><tr><td>Orion Tower Cafeteria</td><td>4.4</td><td>8</td><td>WVRH+5H3</td><td>Colombo</td><td>LK</td><td>null</td><td>null</td><td>Cafe</td></tr><tr><td>NEW BON CAFE</td><td>5.0</td><td>1</td><td>67c Colombo Main Rd</td><td>Kaduwela</td><td>LK</td><td>null</td><td>null</td><td>Cafe</td></tr><tr><td>Cafe Chocolattie</td><td>4.4</td><td>333</td><td>38 Frankfort Pl</td><td>Colombo</td><td>LK</td><td>null</td><td>+94 112 592 222</td><td>Dessert shop</td></tr><tr><td>The Mithai Cafe</td><td>4.6</td><td>49</td><td>18 Lauries Rd</td><td>Colombo</td><td>LK</td><td>https://the-mithai-cafe.business.site/?utm_source=gmb&utm_medium=referral</td><td>+94 75 581 1191</td><td>Cafe</td></tr><tr><td>Cloud Cafe</td><td>4.1</td><td>122</td><td>Hotel & Spa, Colombo Court, 32 Alfred House Ave</td><td>Colombo</td><td>LK</td><td>https://www.colombocourthotel.com/cloudcafe</td><td>+94 114 645 333</td><td>Restaurant</td></tr><tr><td>Java Lounge - Bambalapitiya</td><td>4.4</td><td>1621</td><td>No.27 & 29 Lauries Rd</td><td>Colombo</td><td>LK</td><td>http://www.javalounge.lk/</td><td>+94 112 552 501</td><td>Coffee shop</td></tr><tr><td>Tasha Cafe</td><td>4.3</td><td>29</td><td>Ground Floor, 196 Park Rd</td><td>Colombo</td><td>LK</td><td>null</td><td>+94 75 363 1000</td><td>Cafe</td></tr><tr><td>6th Lane Cafe</td><td>3.6</td><td>28</td><td>3 Alfred Pl</td><td>Colombo</td><td>LK</td><td>null</td><td>null</td><td>Cafe</td></tr><tr><td>My friend cafe</td><td>4.8</td><td>48</td><td>18 Bagatalle Rd</td><td>Colombo</td><td>LK</td><td>null</td><td>+94 113 818 815</td><td>Coffee shop</td></tr><tr><td>Barefoot Garden Cafe</td><td>4.6</td><td>714</td><td>704 Galle Rd</td><td>Colombo</td><td>LK</td><td>https://barefootceylon.com/pages/cafe</td><td>+94 112 589 305</td><td>Cafe</td></tr><tr><td>Café on the 5th</td><td>4.2</td><td>3083</td><td>108 5th Ln</td><td>Colombo</td><td>LK</td><td>null</td><td>+94 114 935 684</td><td>Restaurant</td></tr><tr><td>Cafe Zone</td><td>5.0</td><td>1</td><td>20 De Costa Garden</td><td>Colombo</td><td>LK</td><td>null</td><td>null</td><td>Restaurant</td></tr><tr><td>Al Fresco Garden Cafe</td><td>4.2</td><td>45</td><td>No 208, Rev Muruttettuwe, Ananda Nahimi Mawatha</td><td>Colombo</td><td>LK</td><td>https://instagram.com/al.fresco_sl?igshid=MzRlODBiNWFlZA==</td><td>+94 71 456 5762</td><td>Cafe</td></tr><tr><td>E-Cafe</td><td>4.1</td><td>985</td><td>120/A Sri Sambuddhathva Jayanthi Mawatha</td><td>Colombo</td><td>LK</td><td>null</td><td>+94 112 507 525</td><td>Coffee shop</td></tr><tr><td>Myrus Cafe</td><td>5.0</td><td>3</td><td>517 Cube Lane, 5</td><td>Colombo</td><td>LK</td><td>null</td><td>+94 74 104 3570</td><td>Cafe</td></tr><tr><td>Wheelys Café 80</td><td>4.3</td><td>4</td><td>25 Independence Ave</td><td>Colombo</td><td>LK</td><td>null</td><td>+94 76 324 4515</td><td>Takeout Restaurant</td></tr><tr><td>Cafe Kumbuk</td><td>4.5</td><td>1210</td><td>3/1 Thambiah Avenue, Independence Ave</td><td>Colombo</td><td>LK</td><td>https://www.cafekumbuk.com/</td><td>+94 112 685 310</td><td>Cafe</td></tr><tr><td>Sugarcube Cafe</td><td>4.5</td><td>92</td><td>No.15 R.A., 05 R. A. De Mel Mawatha</td><td>Colombo</td><td>LK</td><td>null</td><td>+94 76 432 7997</td><td>Cafe</td></tr><tr><td>LOLLY'S</td><td>4.1</td><td>147</td><td>323 Galle Rd</td><td>Colombo</td><td>LK</td><td>null</td><td>+94 77 740 3403</td><td>Coffee shop</td></tr><tr><td>Kaffi Colombo</td><td>4.4</td><td>117</td><td>G9, Crescat Boulevard, Crescat Boulevard no.89</td><td>Colombo</td><td>LK</td><td>null</td><td>+94 117 743 062</td><td>Cafe</td></tr><tr><td>The Brown Bean Coffee</td><td>4.2</td><td>103</td><td>52 Sir Marcus Fernando Mawatha</td><td>Colombo</td><td>LK</td><td>http://www.fb.com/thebrownbeancoffee</td><td>+94 71 622 1626</td><td>Coffee shop</td></tr><tr><td>Internet Cafe</td><td>3.4</td><td>8</td><td>70 D. S. Senanayake Mawatha</td><td>Colombo</td><td>LK</td><td>null</td><td>null</td><td>Cafe</td></tr><tr><td>K Cafe</td><td>4.1</td><td>14</td><td>WV92+J39, Nawam Mawatha</td><td>Colombo</td><td>LK</td><td>null</td><td>+94 114 386 438</td><td>Cafe</td></tr><tr><td>T.Co By Adra</td><td>4.6</td><td>14</td><td>51a Srimath Anagarika Dharmapala Mawatha</td><td>Colombo</td><td>LK</td><td>https://www.tcobyadra.lk/</td><td>+94 77 999 9079</td><td>Cafe</td></tr><tr><td>Zoo Cafe</td><td>4.258885</td><td>0</td><td>77 Galle Rd</td><td>Colombo</td><td>LK</td><td>null</td><td>+94 77 992 8340</td><td>Coffee shop</td></tr><tr><td>Blackout Bar & Restaurant</td><td>3.8</td><td>468</td><td>36 Ward Pl</td><td>Colombo</td><td>LK</td><td>https://www.yamu.lk/place/blackout-restaurant-cafe</td><td>+94 76 847 1555</td><td>Bar</td></tr><tr><td>Tea Breeze Cafe at Beira Lake</td><td>3.9</td><td>94</td><td>B, 18 Perahera Mawatha</td><td>Colombo</td><td>LK</td><td>http://www.teabreeze.com/Beiralake.aspx</td><td>+94 112 434 074</td><td>Cafe</td></tr><tr><td>Café Konditorei</td><td>3.6</td><td>5</td><td>647 P De S Kularatne Mawatha</td><td>Colombo</td><td>LK</td><td>null</td><td>+94 77 342 7182</td><td>Coffee shop</td></tr><tr><td>Maheli Cafe</td><td>5.0</td><td>2</td><td>112 Vauxhall St</td><td>Colombo</td><td>LK</td><td>null</td><td>+94 77 721 0103</td><td>Cafe</td></tr><tr><td>Cafe Celo09</td><td>4.258885</td><td>0</td><td>WVC6+VRM</td><td>Colombo</td><td>LK</td><td>null</td><td>null</td><td>Coffee shop</td></tr><tr><td>Hut Cafe</td><td>4.258885</td><td>0</td><td>2 Frances Rd</td><td>Colombo</td><td>LK</td><td>null</td><td>null</td><td>Cafe</td></tr><tr><td>Cafe 717</td><td>3.7</td><td>3</td><td>WVC3+G8F</td><td>Colombo</td><td>LK</td><td>null</td><td>null</td><td>Coffee shop</td></tr><tr><td>LA LUNA Pizzeria & Cafe</td><td>4.7</td><td>383</td><td>124 Lauries Rd</td><td>Colombo</td><td>LK</td><td>https://www.instagram.com/la_luna.pizzeria.coffee</td><td>+94 77 887 4430</td><td>Restaurant</td></tr><tr><td>Brew Island</td><td>4.6</td><td>10</td><td>377a Galle Rd</td><td>Colombo</td><td>LK</td><td>null</td><td>null</td><td>Coffee shop</td></tr><tr><td>Askar Cafe</td><td>5.0</td><td>1</td><td>60 St Joseph's St</td><td>Colombo</td><td>LK</td><td>null</td><td>null</td><td>Coffee shop</td></tr><tr><td>Caroma Elite Speciality Coffee</td><td>4.9</td><td>110</td><td>Floating Market, 340/88</td><td>Colombo</td><td>LK</td><td>null</td><td>+94 76 886 6466</td><td>Coffee shop</td></tr><tr><td>Bun Break</td><td>4.8</td><td>6</td><td>No.19 asian mkt, Olcott Mawatha</td><td>Colombo</td><td>LK</td><td>null</td><td>+94 76 807 9242</td><td>Cafe</td></tr><tr><td>The Barnesbury</td><td>4.3</td><td>2550</td><td>91 Barnes Pl</td><td>Colombo</td><td>LK</td><td>https://thebarnesbury.com/</td><td>+94 112 682 144</td><td>Restaurant</td></tr><tr><td>Urban Cafe</td><td>3.0</td><td>1</td><td>75 Olcott Mawatha</td><td>Colombo</td><td>LK</td><td>null</td><td>null</td><td>Restaurant</td></tr><tr><td>Golden Cafe</td><td>4.2</td><td>340</td><td>01100, 98 Bankshall St</td><td>Colombo</td><td>LK</td><td>null</td><td>+94 112 324 712</td><td>Vegetarian restaurant</td></tr><tr><td>Torta</td><td>4.5</td><td>12</td><td>59 Ward Pl</td><td>Colombo</td><td>LK</td><td>null</td><td>+94 77 707 8787</td><td>Cafe</td></tr><tr><td>Café Japan</td><td>4.6</td><td>267</td><td>25 Borella Cross Rd</td><td>Colombo</td><td>LK</td><td>https://www.facebook.com/Cafe-Japan-in-Colombo-Sri-Lanka-2131389247108370/</td><td>+94 77 726 3565</td><td>Authentic Japanese restaurant</td></tr><tr><td>Life’s Good Kitchen</td><td>4.9</td><td>550</td><td>No 12 Sulaiman Terrace, Jawatta road Colombo 5</td><td>Colombo</td><td>LK</td><td>https://www.instagram.com/lifesgoodkitchen/</td><td>+94 77 674 1266</td><td>Restaurant</td></tr><tr><td>Sea Island Street Food</td><td>5.0</td><td>1</td><td>WVF2+H86, Vellons Passage</td><td>Colombo</td><td>LK</td><td>null</td><td>null</td><td>Cafe</td></tr><tr><td>The Coffee Bean and Tea Leaf - Landmark</td><td>4.2</td><td>673</td><td>WV32+FWP, Galle Rd</td><td>Colombo</td><td>LK</td><td>null</td><td>null</td><td>Coffee shop</td></tr><tr><td>Katee Rotee</td><td>5.0</td><td>4</td><td>29 St Lucia's St</td><td>Colombo</td><td>LK</td><td>null</td><td>null</td><td>Coffee shop</td></tr><tr><td>cafe monica sri lanka</td><td>5.0</td><td>3</td><td>Old Dutch Hospital Complex, 09 Hospital St</td><td>Colombo</td><td>LK</td><td>null</td><td>+94 70 166 6422</td><td>Pizza restaurant</td></tr><tr><td>Rancrisp Cashew</td><td>2.9</td><td>15</td><td>WRGV+WVV, ගාල්ල ප්‍රධාන මාර්ගය</td><td>Colombo</td><td>LK</td><td>http://www.rancrisp.lk/</td><td>null</td><td>Cafe</td></tr><tr><td>Kaffeine by Republk</td><td>4.1</td><td>8</td><td>57 Hospital St</td><td>Colombo</td><td>LK</td><td>null</td><td>+94 112 444 429</td><td>Cafe</td></tr><tr><td>Silva Snack Bar</td><td>4.8</td><td>4</td><td>WVJ8+C3P</td><td>Colombo</td><td>LK</td><td>null</td><td>+94 112 451 341</td><td>Cafe</td></tr><tr><td>41 cafe</td><td>1.8</td><td>16</td><td>Mahawela Pl</td><td>Colombo</td><td>LK</td><td>null</td><td>+94 77 644 0510</td><td>Restaurant</td></tr><tr><td>Badam Doodh</td><td>4.5</td><td>2</td><td>46 36th Ln</td><td>Colombo</td><td>LK</td><td>null</td><td>+94 77 465 0420</td><td>Coffee shop</td></tr><tr><td>Spizzerts</td><td>4.6</td><td>22</td><td>261 R. A. De Mel Mawatha</td><td>Colombo</td><td>LK</td><td>null</td><td>+94 77 015 1732</td><td>Cafe</td></tr><tr><td>Refresh Cafe and Juice bar</td><td>4.0</td><td>1</td><td>514 Havelock Rd</td><td>Colombo</td><td>LK</td><td>null</td><td>null</td><td>Restaurant</td></tr><tr><td>Malar Cafe</td><td>4.0</td><td>260</td><td>No: 45, 07 Dr CWW Kannangara Mawatha</td><td>Colombo</td><td>LK</td><td>https://malar-cafe.business.site/?utm_source=gmb&utm_medium=referral</td><td>+94 115 106 703</td><td>North Eastern Indian restaurant</td></tr><tr><td>QuQu Cafe</td><td>4.4</td><td>50</td><td>Ground floor One</td><td>Mall</td><td>LK</td><td>https://www.ququcafe.lk/</td><td>null</td><td>Cafe</td></tr><tr><td>T.N Cafe</td><td>4.0</td><td>4</td><td>WVC6+CWR</td><td>Colombo</td><td>LK</td><td>null</td><td>null</td><td>Cafe</td></tr><tr><td>E-Cafe Colombo 03</td><td>4.0</td><td>126</td><td>316 Galle Rd</td><td>Colombo</td><td>LK</td><td>https://ecafecoffee.business.site/</td><td>+94 113 428 350</td><td>Coffee shop</td></tr><tr><td>Park Cafe</td><td>2.8</td><td>32</td><td>59D Norris Canal Rd</td><td>Colombo</td><td>LK</td><td>http://www.parkcafe.lk/</td><td>+94 77 345 1885</td><td>Asian restaurant</td></tr><tr><td>Cafe Green</td><td>4.7</td><td>3</td><td>459 T. B. Jayah Mawatha</td><td>Colombo</td><td>LK</td><td>null</td><td>+94 75 822 2822</td><td>Restaurant</td></tr><tr><td>Cakes & Bakes Cafe</td><td>4.3</td><td>1004</td><td>69 Galle Rd</td><td>Colombo</td><td>LK</td><td>null</td><td>+94 76 441 2792</td><td>Cake shop</td></tr><tr><td>Maniumpathy Café</td><td>4.9</td><td>15</td><td>129 Kynsey Rd</td><td>Colombo</td><td>LK</td><td>https://maniumpathy.com/dining/</td><td>+94 77 089 8900</td><td>Fusion restaurant</td></tr><tr><td>Bun Break</td><td>4.8</td><td>20</td><td>174 New Moor St</td><td>Colombo</td><td>LK</td><td>null</td><td>+94 76 807 9242</td><td>Cafe</td></tr><tr><td>ටිරොන්ගේ වඩේ තට්ටුව</td><td>5.0</td><td>1</td><td>VVHF+GQ9, High Level Rd</td><td>Colombo</td><td>LK</td><td>null</td><td>+94 77 055 4549</td><td>Cafe</td></tr><tr><td>The Barca Cafe</td><td>4.0</td><td>52</td><td>318 Torrington Ave</td><td>Colombo</td><td>LK</td><td>null</td><td>+94 114 157 480</td><td>Cafe</td></tr><tr><td>Remarko Bakery</td><td>3.3</td><td>4</td><td>WVXF+H79, St. Joseph's St</td><td>Colombo</td><td>LK</td><td>null</td><td>+94 112 964 247</td><td>Cafe</td></tr><tr><td>The Coffee Bean & Tea Leaf</td><td>4.3</td><td>699</td><td>1st Floor Liberty Plaza</td><td>Colombo</td><td>LK</td><td>null</td><td>+94 77 388 7666</td><td>Coffee shop</td></tr><tr><td>Cafe Mocha by Barista</td><td>4.3</td><td>1649</td><td>28 Stratford Ave</td><td>Colombo</td><td>LK</td><td>http://www.barista.lk/</td><td>+94 112 055 491</td><td>Cafe</td></tr><tr><td>Playtrix Sports Bar and Cafe</td><td>4.3</td><td>1182</td><td>137 Sir James Pieris Mawatha</td><td>Colombo</td><td>LK</td><td>http://www.playtrix.lk/</td><td>+94 76 547 7577</td><td>Sports bar</td></tr><tr><td>Caramel Pumpkin</td><td>4.3</td><td>2253</td><td>WV89+FJG, 38 Ward Pl</td><td>Colombo</td><td>LK</td><td>null</td><td>+94 112 677 966</td><td>Cafe</td></tr><tr><td>Choco Luv</td><td>3.8</td><td>419</td><td>16 Flower Rd</td><td>Colombo</td><td>LK</td><td>http://www.facebook.com/yourchocoluv/</td><td>+94 112 301 140</td><td>Cafe</td></tr><tr><td>Pages & Coffee</td><td>4.5</td><td>233</td><td>8 Stratford Ave</td><td>Colombo</td><td>LK</td><td>https://web.facebook.com/pagesandcoffee.LK</td><td>+94 77 430 8502</td><td>Coffee shop</td></tr><tr><td>Bibo's Cafe</td><td>4.2</td><td>14</td><td>289 High Level Rd</td><td>Colombo</td><td>LK</td><td>null</td><td>+94 77 941 3413</td><td>Cafe</td></tr><tr><td>Cafe 7 To 7</td><td>4.6</td><td>5</td><td>WV27+VF7, Prof Stanley Wijesundera Mawatha</td><td>Colombo</td><td>LK</td><td>null</td><td>null</td><td>Restaurant</td></tr><tr><td>Rakna Lanka Cafe</td><td>3.0</td><td>5</td><td>WV93+RCF, Nawam Mawatha</td><td>Colombo</td><td>LK</td><td>null</td><td>null</td><td>Bakery</td></tr><tr><td>The King Cafe</td><td>4.5</td><td>8</td><td>XV9C+RRM</td><td>Colombo</td><td>LK</td><td>null</td><td>+94 77 841 0410</td><td>Restaurant</td></tr><tr><td>Cafe Longdon</td><td>4.7</td><td>52</td><td>6 Malalasekara Mawatha</td><td>Colombo</td><td>LK</td><td>null</td><td>null</td><td>Cafe</td></tr><tr><td>Busy Bean Cafe</td><td>3.9</td><td>55</td><td>Race Course Ave</td><td>Colombo</td><td>LK</td><td>http://thebusybean.lk/</td><td>+94 76 982 9726</td><td>Cafe</td></tr></tbody></table></div>"
      ]
     },
     "metadata": {
      "application/vnd.databricks.v1+output": {
       "addedWidgets": {},
       "aggData": [],
       "aggError": "",
       "aggOverflow": false,
       "aggSchema": [],
       "aggSeriesLimitReached": false,
       "aggType": "",
       "arguments": {},
       "columnCustomDisplayInfos": {},
       "data": [
        [
         "Coco Cafe- Street Star",
         4.6,
         11,
         "VVQ5+326, Elfindale Ave",
         "Colombo",
         "LK",
         "https://www.facebook.com/cococafe.lk?mibextid=LQQJ4d",
         "+94 76 777 2225",
         "Cafe"
        ],
        [
         "Cafe Celo09",
         4.258885,
         0,
         "VVRC+8M5",
         "Colombo",
         "LK",
         null,
         null,
         "Coffee shop"
        ],
        [
         "Cafe 1959 by Raux Brothers",
         4.4,
         248,
         "746 Galle Rd",
         "Colombo",
         "LK",
         "https://cafe-1959-by-raux-brothers.business.site/?utm_source=gmb&utm_medium=referral",
         "+94 112 590 520",
         "Coffee shop"
        ],
        [
         "Cafe Lab",
         2.8,
         8,
         null,
         "Colombo",
         "LK",
         null,
         "+94 78 810 0800",
         "Coffee shop"
        ],
        [
         "The Nook Cakery and Cafe",
         4.9,
         34,
         "29 Visakha Private Rd",
         "Colombo",
         "LK",
         null,
         null,
         "Coffee shop"
        ],
        [
         "De Vos Cafe",
         4.4,
         95,
         "34 De Vos Ave",
         "Colombo",
         "LK",
         null,
         "+94 112 550 033",
         "Cafe"
        ],
        [
         "Cafe tasty",
         3.7,
         30,
         "60 Vajira Rd",
         "Colombo",
         "LK",
         null,
         "+94 117 642 752",
         "Cafe"
        ],
        [
         "BOO Cafe",
         4.4,
         42,
         "No. 237 Galle Rd",
         "Colombo",
         "LK",
         null,
         "+94 76 187 2879",
         "Restaurant"
        ],
        [
         "BK Cafe - Havelock City Mall",
         4.258885,
         0,
         "Havelock City, Havelock Rd",
         "Colombo",
         "LK",
         null,
         null,
         "Cafe"
        ],
        [
         "Cafe at Lanka Hospitals",
         3.5,
         10,
         "578 Elvitigala Mawatha",
         "Colombo",
         "LK",
         null,
         null,
         "Cafe"
        ],
        [
         "Coffee Bae - The Cafe",
         4.7,
         15,
         "61A, Ramakrishna Road, Marine Dr",
         "Colombo",
         "LK",
         "https://www.thebubbleshot.co/",
         "+94 77 755 5696",
         "Coffee shop"
        ],
        [
         "Rabbit Mood Cafe",
         4.258885,
         0,
         "00300, Liberty Arcade, Level 1 Shop No 5, 282 R. A. De Mel Mawatha",
         "Colombo",
         "LK",
         "https://www.facebook.com/Rabbitmoodcafe",
         "+94 76 842 8595",
         "Coffee shop"
        ],
        [
         "Wood Cafe",
         4.258885,
         0,
         "237wardplace colombo,07",
         "Colombo",
         "LK",
         null,
         "+94 70 209 6993",
         "Cafe"
        ],
        [
         "Cafe 111 by tea",
         5.0,
         1,
         "12b Perahera Mawatha",
         "Colombo",
         "LK",
         null,
         null,
         "Coffee shop"
        ],
        [
         "Tokiwa Cafe",
         4.258885,
         0,
         "213 Galle Rd",
         "Colombo",
         "LK",
         null,
         null,
         "Cafe"
        ],
        [
         "CAFE COLOMBO",
         4.8,
         1010,
         null,
         "Colombo",
         "LK",
         null,
         "+94 71 111 9911",
         "Cafe"
        ],
        [
         "Cafe Kai",
         4.4,
         218,
         "Sir Chittampalam A Gardiner Mawath",
         "Colombo",
         "LK",
         "https://shop.hiltoncolombo1.com/Food-and-Beverage",
         "+94 112 492 492",
         "Cafe"
        ],
        [
         "Techno Cafe",
         4.3,
         10,
         "475 Union Pl",
         "Colombo",
         "LK",
         null,
         null,
         "Cafe"
        ],
        [
         "Cafe by Raffles",
         4.1,
         21,
         "No. 42 Nawam Mawatha",
         "Colombo",
         "LK",
         "https://www.rafflescolombo.com/cafe-by-raffles-industrial/",
         "+94 113 602 601",
         "Cafe"
        ],
        [
         "Lake View Cafe",
         3.3,
         4,
         "WV92+C7H, DHPL, Nawam Mawatha",
         "Colombo",
         "LK",
         null,
         null,
         "Cafe"
        ],
        [
         "Office Cafe",
         5.0,
         1,
         "213 Galle Rd",
         "Colombo",
         "LK",
         null,
         "+94 77 999 9177",
         "Cafe"
        ],
        [
         "Cafe EN -縁-",
         5.0,
         5,
         "1st Floor - 282/5, Kollupitiya Road, Marine Drive",
         "Colombo",
         "LK",
         "https://granbellhotel.lk/dining/cafe/",
         "+94 112 397 397",
         "Cafe"
        ],
        [
         "The Verandah Cafe",
         5.0,
         1,
         "115 Rosmead Pl",
         "Colombo",
         "LK",
         null,
         "+94 112 686 883",
         "Cafe"
        ],
        [
         "Aará Garden Cafe",
         5.0,
         1,
         "10 Ananda Coomaraswamy Mawatha",
         "Colombo",
         "LK",
         null,
         "+94 77 315 2724",
         "Coffee shop"
        ],
        [
         "Anthony's Cafe",
         4.6,
         28,
         "8, 8 Cameron Pl",
         "Colombo",
         "LK",
         null,
         "+94 75 707 5597",
         "Cafe"
        ],
        [
         "The Stage Cafe Cake Bar Colombo 07",
         5.0,
         4,
         "20D Guildford Cres",
         "Colombo",
         "LK",
         null,
         "+94 114 383 865",
         "Coffee shop"
        ],
        [
         "Tito's Cafe",
         4.4,
         44,
         "137 Sir James Pieris Mawatha",
         "Colombo",
         "LK",
         "https://www.marriott.com/en-us/hotels/cmbcy-courtyard-colombo/dining/",
         null,
         "Coffee shop"
        ],
        [
         "Chenitha Cafe",
         4.258885,
         0,
         "colombo 3",
         "Colombo",
         "LK",
         null,
         "+94 78 959 5656",
         "Cafe"
        ],
        [
         "Sun Rise Cafe",
         3.7,
         6,
         "WV33+W6R",
         "Colombo",
         "LK",
         null,
         null,
         "Cafe"
        ],
        [
         "Cafe Cotta",
         4.0,
         20,
         "Dr NM Perera Mawatha Rd",
         "Colombo",
         "LK",
         "https://cafe-cotta.business.site/?utm_source=gmb&utm_medium=referral",
         "+94 77 548 0568",
         "Cafe"
        ],
        [
         "Baguette French Bakery & Cafe",
         4.5,
         270,
         "31 Queen's Rd",
         "Colombo",
         "LK",
         "http://baguette.lk/",
         "+94 77 730 2922",
         "Cafe"
        ],
        [
         "ZOYO Cafe",
         4.8,
         20,
         "89 Elvitigala Mawatha",
         "Colombo",
         "LK",
         null,
         "+94 76 787 5555",
         "Cafe"
        ],
        [
         "Cinnamon cafe",
         4.8,
         5,
         "WV5F+G97",
         "Colombo",
         "LK",
         null,
         null,
         "Cafe"
        ],
        [
         "Monkeybean Cafe",
         4.2,
         329,
         "16 Sellamuttu Ave",
         "Colombo",
         "LK",
         "https://www.facebook.com/monkeybeanlk/",
         "+94 76 413 0060",
         "Coffee shop"
        ],
        [
         "Peppermint Cafe",
         4.1,
         1641,
         "76 Wijerama Mawatha",
         "Colombo",
         "LK",
         "http://www.peppermintcafe.lk/",
         "+94 75 632 0420",
         "Coffee shop"
        ],
        [
         "Cafe Shaze",
         4.1,
         487,
         "56 Horton Pl",
         "Colombo",
         "LK",
         null,
         "+94 76 776 6765",
         "Cafe"
        ],
        [
         "Tasty Cafe",
         3.5,
         4,
         "Tasty Caterers, 18/A Evergreen Park Rd",
         "Colombo",
         "LK",
         null,
         "+94 117 644 701",
         "Cafe"
        ],
        [
         "Seed Cafe",
         4.6,
         850,
         "60 Horton Pl",
         "Colombo",
         "LK",
         "https://www.instagram.com/seedcafesl/?hl=en",
         "+94 117 773 470",
         "Cafe"
        ],
        [
         "THE CAKE BOUTIQUE",
         4.8,
         40,
         "31A, 06 Stratford Ave",
         "Colombo",
         "LK",
         "https://instagram.com/cakeboutique_radhi?igshid=YmMyMTA2M2Y=",
         "+94 70 222 4640",
         "Cafe"
        ],
        [
         "Peace cafe",
         4.258885,
         0,
         "57/6, 5 Polhengoda Rd",
         "Colombo",
         "LK",
         null,
         "+94 77 946 5908",
         "Cafe"
        ],
        [
         "Noble Cafe",
         5.0,
         3,
         "23 Ramakrishna Rd",
         "Colombo",
         "LK",
         null,
         null,
         "Cafe"
        ],
        [
         "Cafe Rafaella",
         4.6,
         65,
         "145 Thimbirigasyaya Rd",
         "Colombo",
         "LK",
         "https://www.facebook.com/caferafaella/",
         "+94 77 033 5366",
         "Cafe"
        ],
        [
         "A Healing Café - Hotel MaRadha",
         4.6,
         38,
         "31, St. Kilda's Lane, Marine Drive",
         "Colombo",
         "LK",
         "https://maradha.lk/healing_cafe/",
         "+94 112 550 136",
         "Cafe"
        ],
        [
         "The Wild Monkey",
         4.0,
         4,
         "Independence Ave",
         "Colombo",
         "LK",
         "http://www.thewildmonket.lk/",
         "+94 74 418 8764",
         "Coffee shop"
        ],
        [
         "The German Bakery",
         4.5,
         340,
         "461 Thimbirigasyaya Rd",
         "Colombo",
         "LK",
         "http://www.germanbakery.lk/",
         "+94 77 288 5461",
         "Cafe"
        ],
        [
         "Cafe 97",
         4.4,
         208,
         "97 Fife Rd",
         "Colombo",
         "LK",
         "http://www.tastycaterers.lk/",
         "+94 117 642 742",
         "Cafe"
        ],
        [
         "Cafe nine",
         4.258885,
         0,
         "20a Joseph Fraser Rd",
         "Colombo",
         "LK",
         null,
         null,
         "Cafe"
        ],
        [
         "Ella Bakers Cafe",
         5.0,
         2,
         "VVHG+86G",
         "Colombo",
         "LK",
         null,
         "+94 71 212 2228",
         "Cafe"
        ],
        [
         "Walking Path Cafe",
         3.0,
         2,
         "WV38+363, Independence Walk",
         "Colombo",
         "LK",
         null,
         "+94 112 330 550",
         "Restaurant"
        ],
        [
         "Cafe 4 U Wellawatta",
         3.8,
         151,
         "511 Galle Rd",
         "Colombo",
         "LK",
         null,
         "+94 70 633 8633",
         "Restaurant"
        ],
        [
         "Leenos cafe",
         5.0,
         2,
         "06 Lily Ave",
         "Colombo",
         "LK",
         null,
         "+94 76 756 4621",
         "Coffee shop"
        ],
        [
         "Nestle Lanka's Flagship Kiosk Cafe Goodness",
         5.0,
         2,
         "30 Prof Stanley Wijesundera Mawatha",
         "Colombo",
         "LK",
         null,
         "+94 77 930 8347",
         "Coffee shop"
        ],
        [
         "Longden Tea House",
         4.0,
         28,
         "VVWC+PPM",
         "Colombo",
         "LK",
         null,
         null,
         "Tea house"
        ],
        [
         "Everyday Bakery & Cafe",
         3.7,
         76,
         "VVG8+JF6, Fussel's Ln",
         "Colombo",
         "LK",
         null,
         "+94 77 908 1122",
         "Bakery"
        ],
        [
         "Nishans cafe",
         5.0,
         2,
         "6 Sri Bodhirukkarama Rd",
         "Colombo",
         "LK",
         null,
         null,
         "Cafe"
        ],
        [
         "Cafe Island",
         4.1,
         15,
         "473 Thimbirigasyaya Rd",
         "Colombo",
         "LK",
         null,
         "+94 70 798 4138",
         "Cafe"
        ],
        [
         "Rancrisp Cafe",
         4.0,
         1,
         "WV29+WFQ",
         "Colombo",
         "LK",
         null,
         null,
         "Cafe"
        ],
        [
         "Nescafe kiosk(Cafe Goodness)",
         3.9,
         11,
         "30 Prof Stanley Wijesundera Mawatha",
         "Colombo",
         "LK",
         null,
         "+94 74 131 9515",
         "Coffee shop"
        ],
        [
         "Cray Cafe",
         4.258885,
         0,
         "3 Iswari Rd",
         "Colombo",
         "LK",
         "https://www.facebook.com/CrayFishCeylon",
         "+94 114 151 543",
         "Restaurant"
        ],
        [
         "Tea Avenue",
         4.3,
         3505,
         "08 Jawatta Rd",
         "Colombo",
         "LK",
         "http://www.tea-avenue.com/",
         "+94 77 336 7879",
         "Tea house"
        ],
        [
         "Café La Defense",
         4.4,
         543,
         "124 Park Rd",
         "Colombo",
         "LK",
         null,
         "+94 112 550 150",
         "Coffee shop"
        ],
        [
         "Sinthu Cafe",
         5.0,
         1,
         "VVG8+F64, Hampden Ln",
         "Colombo",
         "LK",
         null,
         null,
         "Cafe"
        ],
        [
         "Café Chocolate",
         4.4,
         13,
         "8 Stratford Ave",
         "Colombo",
         "LK",
         null,
         "+94 71 996 9798",
         "Cafe"
        ],
        [
         "Chocoholics - Havelock Road",
         4.4,
         1163,
         "506 Havelock Rd",
         "Colombo",
         "LK",
         "http://www.chocoholicscafe.com/",
         "+94 114 332 261",
         "Cafe"
        ],
        [
         "The Park Cafe",
         3.2,
         6,
         "21/8B W.A. Silva Mawatha",
         "Nugegoda",
         "LK",
         null,
         "+94 112 815 313",
         "Cafe"
        ],
        [
         "Cafe Kinross",
         4.6,
         128,
         "6 Kinross Ave",
         "Colombo",
         "LK",
         null,
         "+94 77 161 8527",
         "Restaurant"
        ],
        [
         "THE CAULDRON",
         4.5,
         1186,
         "06, 68 Stratford Ave",
         "Colombo",
         "LK",
         "http://www.thecauldron.lk/",
         "+94 70 241 7433",
         "Cafe"
        ],
        [
         "Flavours Cafe",
         4.1,
         9,
         "61 Horton Pl",
         "Colombo",
         "LK",
         null,
         "+94 114 848 486",
         "Ice cream shop"
        ],
        [
         "Ayubowan Gallface - Cafe",
         4.2,
         31,
         "WRGV+GGH",
         "Colombo",
         "LK",
         null,
         null,
         "Cafe"
        ],
        [
         "Dwivedi Cafe",
         4.258885,
         0,
         "Colombo Lotus Tower",
         "Colombo",
         "LK",
         null,
         null,
         "Cafe"
        ],
        [
         "Cocoffee Cafe",
         5.0,
         1,
         "80 Nawam Mawatha",
         "Colombo",
         "LK",
         "https://www.instagram.com/cocoffee.colombo",
         "+94 71 454 1665",
         "Cafe"
        ],
        [
         "Tivoli Cafe",
         3.0,
         2,
         "WV72+374",
         "Colombo",
         "LK",
         null,
         null,
         "Cafe"
        ],
        [
         "Ritz Cafe",
         4.258885,
         0,
         "WVJC+744, Qurashani Moulana Ln",
         "Colombo",
         "LK",
         null,
         "+94 76 698 3459",
         "Cafe"
        ],
        [
         "SSC - Lawn Cafe - Coffee Coner",
         5.0,
         3,
         "35 Maitland Pl",
         "Colombo",
         "LK",
         null,
         null,
         "Coffee shop"
        ],
        [
         "Parakum cafe",
         4.258885,
         0,
         "140 EW Perera Mawatha",
         "Colombo",
         "LK",
         null,
         null,
         "Cafe"
        ],
        [
         "Mac Cafe",
         4.0,
         7,
         "327 Sri Vjiragnana Mawatha",
         "Colombo",
         "LK",
         null,
         null,
         "Cafe"
        ],
        [
         "Wizard Chamber Cafe",
         4.0,
         21,
         "1145 A, 1145 Maradana Rd",
         "Colombo",
         "LK",
         "https://www.facebook.com/WizardChamber/",
         "+94 70 158 0270",
         "Juice shop"
        ],
        [
         "Amaradasa's cafe",
         5.0,
         1,
         "100 Keyzer St",
         "Colombo",
         "LK",
         null,
         null,
         "Cafe"
        ],
        [
         "Banana Cafe",
         4.258885,
         0,
         "9 Kirthi Ln",
         "Colombo",
         "LK",
         null,
         "+94 71 888 1111",
         "Cafe"
        ],
        [
         "Felicita",
         4.0,
         23,
         "74 Flower Rd",
         "Colombo",
         "LK",
         "https://luxecolombo.com/",
         "+94 77 782 1989",
         "Coffee shop"
        ],
        [
         "Brew 1867 by Dilmah – Flower Road",
         4.5,
         592,
         "57/1 Sir Ernest de Silva Mawatha",
         "Colombo",
         "LK",
         "https://www.brew1867.com/",
         "+94 112 693 010",
         "Fast food restaurant"
        ],
        [
         "Thurstan Cafeteria",
         5.0,
         2,
         "Thurstan College, Thurstan Rd",
         "Colombo",
         "LK",
         null,
         null,
         "Cafe"
        ],
        [
         "AOBA Cafe & Bar",
         4.1,
         78,
         "#L1-19, The Mall at One, Galle Rd",
         "Colombo",
         "LK",
         null,
         "+94 77 746 2622",
         "Cafe"
        ],
        [
         "WAFL Café One Galle Face Mall",
         3.8,
         101,
         "Ground floor,One Galle Face Mall",
         "Colombo",
         "LK",
         null,
         "+94 71 716 5555",
         "Cafe"
        ],
        [
         "Tropical Fresh Juice Bar and Cafe",
         3.2,
         95,
         "No. 02 Rockwood Pl",
         "Colombo",
         "LK",
         "http://www.tropicalfresh.lk/",
         "+94 112 688 566",
         "Cafe"
        ],
        [
         "TORENA CAFE & RESTAURANT",
         4.4,
         78,
         "126 York St",
         "Colombo",
         "LK",
         null,
         "+94 71 779 2999",
         "Restaurant"
        ],
        [
         "Cafe Bean Street",
         3.5,
         2,
         "WRFV+RM2",
         "Colombo",
         "LK",
         null,
         null,
         "Coffee shop"
        ],
        [
         "Java Lounge - Fort - Sri Lanka's Largest Coffee House Chain",
         4.4,
         796,
         "7 Hospital St",
         "Colombo",
         "LK",
         "http://www.javalounge.lk/",
         "+94 112 333 051",
         "Coffee shop"
        ],
        [
         "Dini Cafe",
         4.0,
         1,
         "155a Kynsey Rd",
         "Colombo",
         "LK",
         null,
         null,
         "Coffee shop"
        ],
        [
         "Cafe Bagatalle",
         4.3,
         174,
         "No 18 Bagatalle Rd",
         "Colombo",
         "LK",
         null,
         "+94 113 818 815",
         "Cafeteria"
        ],
        [
         "URI Cafe Lounge",
         5.0,
         1,
         "19 a, 2 Alfred Pl",
         "Colombo",
         "LK",
         null,
         null,
         "Coffee shop"
        ],
        [
         "BEST COFFEE SHOP",
         4.258885,
         0,
         "WV6C+F9R",
         "Colombo",
         "LK",
         null,
         null,
         "Coffee shop"
        ],
        [
         "PLUTO CAFE",
         5.0,
         15,
         "Dematagoda Pl",
         "Colombo",
         "LK",
         "https://pluto-cafe-cafe.business.site/?utm_source=gmb&utm_medium=referral",
         "+94 77 888 1435",
         "Cafe"
        ],
        [
         "Joy’s Cafe",
         4.258885,
         0,
         "no.49/1 Ward Pl",
         "Colombo",
         "LK",
         "https://instagram.com/cafejoyyyyy?igshid=MzRlODBiNWFlZA==",
         null,
         "Coffee shop"
        ],
        [
         "Bitcoin Cafe by Wheelys",
         1.0,
         1,
         "261, R. A. De Mel Mawatha, Duplication Rd",
         "Colombo",
         "LK",
         null,
         "+94 77 994 2980",
         "Cafe"
        ],
        [
         "The Central Perk",
         4.2,
         1075,
         "9/6 A 16th Lane, Marine Drive",
         "Colombo",
         "LK",
         "https://the-central-perk.business.site/?utm_source=gmb&utm_medium=referral",
         "+94 112 574 554",
         "Coffee shop"
        ],
        [
         "De Artemis Cafe Gallery & Pub",
         4.1,
         13,
         "No.79A Srimath Anagarika Dharmapala Mawatha",
         "Colombo",
         "LK",
         null,
         "+94 72 406 0092",
         "Restaurant"
        ],
        [
         "LOGOS CAFE",
         4.5,
         2,
         "120 Srimath Anagarika Dharmapala Mawatha",
         "Colombo",
         "LK",
         null,
         "+94 77 302 6453",
         "Restaurant"
        ],
        [
         "The Embazzy",
         4.3,
         2240,
         "76/1 Flower Rd",
         "Colombo",
         "LK",
         null,
         "+94 112 576 027",
         "Restaurant"
        ],
        [
         "Milk & Honey Café",
         4.4,
         290,
         "44a Horton Pl",
         "Colombo",
         "LK",
         "http://shopmilkstore.com/",
         "+94 112 696 256",
         "Cafe"
        ],
        [
         "Black Cat Cafe + Stay",
         4.4,
         812,
         "11 Wijerama Mawatha",
         "Colombo",
         "LK",
         "https://www.facebook.com/blackcatcolombo",
         "+94 112 675 111",
         "Cafe"
        ],
        [
         "London House Of Coffee",
         4.4,
         1190,
         "2B R.G. Senanayake Mawatha",
         "Colombo",
         "LK",
         "http://www.londonhouseofcoffee.com/",
         "+94 112 693 072",
         "Cafe"
        ],
        [
         "Grind",
         4.7,
         419,
         "Access Towers 2",
         "Colombo",
         "LK",
         null,
         "+94 76 105 1064",
         "Coffee shop"
        ],
        [
         "Cafe 113",
         5.0,
         3,
         "113 Hunupitiya Lake Rd",
         "Colombo",
         "LK",
         null,
         null,
         "Family restaurant"
        ],
        [
         "Brown Sugar",
         4.8,
         108,
         "Col T G Jayawardena",
         "Colombo",
         "LK",
         "http://www.brownsugarcolombo.com/",
         "+94 76 817 8101",
         "Cafe"
        ],
        [
         "Rangiri Cafe රන්ගිරි කැෆේ",
         3.9,
         17,
         "WVC3+XFP, Dr Colvin R de Silva Mawatha",
         "Colombo",
         "LK",
         null,
         null,
         "Cafe"
        ],
        [
         "Culture Cafe Colombo",
         5.0,
         2,
         "A14 Perahera Mawatha",
         "Colombo",
         "LK",
         null,
         "+94 112 440 365",
         "Cafe"
        ],
        [
         "Sathkara Cafe",
         5.0,
         5,
         "18 Boyd Pl",
         "Colombo",
         "LK",
         null,
         "+94 112 422 011",
         "Restaurant"
        ],
        [
         "CHATZ",
         4.0,
         783,
         "121a Sir James Pieris Mawatha",
         "Colombo",
         "LK",
         null,
         "+94 117 226 888",
         "Cafe"
        ],
        [
         "Cafe Leafy",
         4.258885,
         0,
         "203 Sir James Pieris Mawatha",
         "Colombo",
         "LK",
         "http://www.rococoresidence.com/",
         "+94 70 558 8899",
         "Cafe"
        ],
        [
         "Colombo Foods",
         4.258885,
         0,
         "VVM4+Q6C, Frankfort Pl",
         "Colombo",
         "LK",
         null,
         null,
         "Coffee shop"
        ],
        [
         "The Coffee Bean & Tea Leaf",
         4.3,
         3387,
         "4 Maitland Cres",
         "Colombo",
         "LK",
         null,
         null,
         "Cafe"
        ],
        [
         "PJ's Cafe",
         4.0,
         9,
         "No. 10 R. A. De Mel Mawatha",
         "Colombo",
         "LK",
         null,
         "+94 77 720 8131",
         "Cafe"
        ],
        [
         "Spice Cafe & Bakers",
         3.8,
         5,
         "7 Park Rd",
         "Colombo",
         "LK",
         null,
         "+94 77 593 3992",
         "Sri Lankan restaurant"
        ],
        [
         "Il Caffè",
         3.0,
         15,
         "City Center",
         "Colombo",
         "LK",
         "http://www.ceccatocolombo.shop/",
         "+94 77 722 9472",
         "Coffee shop"
        ],
        [
         "Arpico Crust Cafe",
         4.4,
         5,
         "30 Hyde Park Corner",
         "Colombo",
         "LK",
         null,
         null,
         "Cafe"
        ],
        [
         "Marine Cafe",
         4.0,
         2,
         "39 Marine Drive",
         "Colombo",
         "LK",
         null,
         "+94 117 024 217",
         "Restaurant"
        ],
        [
         "Oneup alldaybreakfast",
         4.3,
         346,
         "330, 4 Colombo - Galle Main Rd",
         "Colombo",
         "LK",
         "https://m.facebook.com/pages/category/Breakfast---Brunch-Restaurant/ONE-UP-all-day-breakfast-coffee-1604946919806002/",
         "+94 112 508 201",
         "Cafe"
        ],
        [
         "Dot's",
         4.9,
         12,
         "43 Layards Rd",
         "Colombo",
         "LK",
         null,
         null,
         "Cafe"
        ],
        [
         "The Brown Bean",
         4.6,
         201,
         "104 Srimath Anagarika Dharmapala Mawatha",
         "Colombo",
         "LK",
         "http://fb.com/thebrownbean",
         "+94 71 622 1626",
         "Cafe"
        ],
        [
         "Baked Colombo",
         4.0,
         165,
         "37A Elibank Rd",
         "Colombo",
         "LK",
         "http://www.baked.lk/",
         "+94 77 715 4454",
         "Brunch restaurant"
        ],
        [
         "Barista Staple Street",
         4.5,
         350,
         "33 Staple St",
         "Colombo",
         "LK",
         "http://www.barista.lk/",
         "+94 112 314 007",
         "Coffee shop"
        ],
        [
         "Coffee Colombo",
         3.8,
         462,
         "29, Milagiriya Avenue(On, Marine Drive",
         "Colombo",
         "LK",
         null,
         "+94 76 969 6006",
         "Coffee shop"
        ],
        [
         "Lauries Cafe",
         4.258885,
         0,
         "43B Lauries Rd",
         "Colombo",
         "LK",
         null,
         null,
         "Cafe"
        ],
        [
         "Coco cafe",
         4.0,
         4,
         "532 Galle Rd",
         "Colombo",
         "LK",
         null,
         null,
         "Ice cream shop"
        ],
        [
         "PHISHBUN",
         5.0,
         26,
         "105 Bauddhaloka Mawatha",
         "Colombo",
         "LK",
         null,
         "+94 77 776 6936",
         "Restaurant"
        ],
        [
         "The Brown Bean Coffee Shop At WSO2",
         3.4,
         7,
         "105 Bauddhaloka Mawatha",
         "Colombo",
         "LK",
         null,
         null,
         "Coffee shop"
        ],
        [
         "VOC Cafe",
         4.2,
         446,
         "Dutch Burgher Union, Thunmulla, 114 Reid Ave",
         "Colombo",
         "LK",
         "http://thedutchburgherunion.org/voc-cafe/",
         "+94 112 584 511",
         "Restaurant"
        ],
        [
         "The Gallery Café",
         4.4,
         2258,
         "2 Alfred House Rd",
         "Colombo",
         "LK",
         null,
         "+94 112 582 162",
         "Restaurant"
        ],
        [
         "Mfy Cafe",
         4.258885,
         0,
         "WVVG+FR6, Stace Rd",
         "Colombo",
         "LK",
         null,
         null,
         "Cafe"
        ],
        [
         "Mohamed Zain Cafe",
         3.8,
         10,
         "WVR4+32P, Sir Ratnajothi Saravanamuttu Mawatha",
         "Colombo",
         "LK",
         null,
         "(206) 602-2593",
         "Cafe"
        ],
        [
         "Chocoholics - Duplication Road",
         4.6,
         509,
         "357A R. A. De Mel Mawatha",
         "Colombo",
         "LK",
         "http://www.chocoholicscafe.com/",
         "+94 117 483 580",
         "Cafe"
        ],
        [
         "Healthy Cafe",
         3.9,
         34,
         "91, AC2",
         "Colombo",
         "LK",
         null,
         null,
         "Restaurant"
        ],
        [
         "Gayan's Cafe Teek",
         4.258885,
         0,
         "279, 10 Grandpass Rd",
         "Colombo",
         "LK",
         null,
         null,
         "Cafe"
        ],
        [
         "DSR Cafe",
         4.258885,
         0,
         "353, AC11",
         "Colombo",
         "LK",
         null,
         "+94 77 402 8308",
         "Cafe"
        ],
        [
         "Green Star",
         4.258885,
         0,
         "XV57+965",
         "Colombo",
         "LK",
         null,
         "+94 74 205 7300",
         "Coffee shop"
        ],
        [
         "Divine Cafe",
         4.258885,
         0,
         "107 Dhawalasingharama Mawatha",
         "Colombo",
         "LK",
         null,
         null,
         "Cafe"
        ],
        [
         "Cafe by Dora",
         3.0,
         2,
         "147, 161 A0",
         "Colombo",
         "LK",
         null,
         "+94 77 167 7994",
         "Restaurant"
        ],
        [
         "Harpo's Colombo Fort Cafe",
         4.0,
         392,
         "Old Dutch Hospital Complex Echelon Square, Hospital St",
         "Colombo",
         "LK",
         "http://www.colombofortcafe.com/",
         "+94 112 434 946",
         "Restaurant"
        ],
        [
         "Chocoholics One Galle Face",
         4.5,
         23,
         "WRGW+W28, Centre Road",
         "Colombo",
         "LK",
         null,
         null,
         "Cafe"
        ],
        [
         "Coffee Stop",
         4.5,
         799,
         "77 Galle Rd",
         "Colombo",
         "LK",
         "http://www.cinnamonhotels.com/cinnamongrandcolombo/dining/coffee-stop.html",
         "+94 112 497 382",
         "Cafe"
        ],
        [
         "NLDB MILK SHOP",
         5.0,
         1,
         "WV6M+W52",
         "Colombo",
         "LK",
         null,
         null,
         "Cafe"
        ],
        [
         "Bo-sevana",
         4.258885,
         0,
         "54 Olcott Mawatha",
         "Colombo",
         "LK",
         null,
         "+94 75 452 4745",
         "Coffee shop"
        ],
        [
         "Java Lounge Barnes Place",
         4.4,
         1471,
         "76 Barnes Pl",
         "Colombo",
         "LK",
         "http://www.javalounge.lk/",
         "+94 112 695 861",
         "Coffee shop"
        ],
        [
         "Let's Eat",
         3.0,
         2,
         "193 Ward Pl",
         "Colombo",
         "LK",
         null,
         "+94 77 727 7984",
         "Coffee shop"
        ],
        [
         "HIFI CAFE (maxza)",
         4.258885,
         0,
         "35 Stewart St",
         "Colombo",
         "LK",
         null,
         "+94 75 759 6609",
         "Restaurant"
        ],
        [
         "A-One Cafe",
         3.9,
         615,
         "78 Justice Akbar Mawatha",
         "Colombo",
         "LK",
         "https://www.facebook.com/Aonecafepure",
         "+94 112 307 374",
         "Restaurant"
        ],
        [
         "Chaiwala Colombo - One Galle Face Mall",
         4.8,
         47,
         "L20, 1A, One Galle Face Mall, Centre Road",
         "Colombo",
         "LK",
         "https://chaiwalacolombo.com/",
         null,
         "Cafe"
        ],
        [
         "Goodies",
         4.5,
         170,
         "117 Colombo - Batticaloa Hwy",
         "Colombo",
         "LK",
         "http://www.cinnamonhotels.com/cinnamonlakesidecolombo/dining/goodies.html",
         "+94 112 491 804",
         "Coffee shop"
        ],
        [
         "t-lounge & bar by Dilmah – One Galle Face",
         4.2,
         163,
         "L1-20, One Galle Face, No.1A ගාලු පාර",
         "Colombo",
         "LK",
         null,
         "+94 112 432 028",
         "Cafe"
        ],
        [
         "Araliya cafe",
         4.4,
         7,
         "46/42, 02",
         "Colombo",
         "LK",
         null,
         null,
         "Restaurant"
        ],
        [
         "Cafe Colombo",
         4.258885,
         0,
         "66 Galle Rd",
         "Colombo",
         "LK",
         null,
         null,
         "Bakery"
        ],
        [
         "Bavan cafe",
         4.258885,
         0,
         "11 Vauxhall Ln",
         "Colombo",
         "LK",
         null,
         "+94 77 663 4443",
         "Vegetarian restaurant"
        ],
        [
         "Cafe Seventy Seven",
         3.4,
         39,
         "WVC3+4HC",
         "Colombo",
         "LK",
         null,
         "+94 115 765 765",
         "Restaurant"
        ],
        [
         "Sri Lanka Telecom Cafeteria",
         4.5,
         4,
         "WVC3+JCP",
         "Colombo",
         "LK",
         null,
         null,
         "Restaurant"
        ],
        [
         "Cannys Bakers and Restaurant",
         4.258885,
         0,
         "185 Union Pl",
         "Colombo",
         "LK",
         null,
         "+94 112 693 722",
         "Cafe"
        ],
        [
         "Green Cabin | Chatham Street",
         4.1,
         358,
         "NO 88 Chatham St",
         "Colombo",
         "LK",
         "http://www.greencabin.lk/",
         "+94 77 378 6147",
         "Cafe"
        ],
        [
         "The Kafé",
         4.2,
         16,
         "123 Kumaran Ratnam Rd",
         "Colombo",
         "LK",
         "https://www.hotelnippon.lk/the-kafe/",
         "+94 112 332 603",
         "Cafe"
        ],
        [
         "Upali's Canteen",
         2.0,
         1,
         "WRQW+783, Bandaranayake Quay",
         "Colombo",
         "LK",
         null,
         "+94 77 713 0019",
         "Coffee shop"
        ],
        [
         "t-lounge by Dilmah – Chatham Street ️",
         4.4,
         980,
         "Chatham St",
         "Colombo",
         "LK",
         "http://dilmaht-lounge.com/",
         "+94 112 447 168",
         "Cafe"
        ],
        [
         "Hotel De Excellent",
         3.6,
         14,
         "WVH7+5RG",
         "Colombo",
         "LK",
         null,
         null,
         "Cafe"
        ],
        [
         "Cafe On The Range",
         5.0,
         9,
         "181/5 Hikkaduwe Sri Sumangala Himi Mawatha",
         "Colombo",
         "LK",
         "https://www.instagram.com/cafe_on_the_range",
         "+94 77 774 4877",
         "Cafe"
        ],
        [
         "CAFE 142",
         4.258885,
         0,
         "142 Sri Vajiragnana Mawatha",
         "Colombo",
         "LK",
         null,
         "+94 72 817 9234",
         "Fast food restaurant"
        ],
        [
         "Squeezey cafe and juice bar",
         5.0,
         3,
         "487 Dematagoda Rd",
         "Colombo",
         "LK",
         null,
         null,
         "Cafe"
        ],
        [
         "Rizvi Snacks",
         3.6,
         12,
         "WVG8+V42, Ven Baddegama Wimalawansa Mawatha",
         "Colombo",
         "LK",
         null,
         "+94 77 656 4440",
         "Cafe"
        ],
        [
         "Kusum Cafe",
         5.0,
         1,
         "WVGC+MW4",
         "Colombo",
         "LK",
         null,
         null,
         "Pastry shop"
        ],
        [
         "City Cakes & Desserts",
         4.258885,
         0,
         "463 2nd Division Maradana",
         "Colombo",
         "LK",
         null,
         "+94 77 213 3811",
         "Cafe"
        ],
        [
         "Tayo bear",
         4.8,
         107,
         "No 71, 2 R.G. Senanayake Mawatha",
         "Colombo",
         "LK",
         "http://www.tayobear.com/",
         "+94 77 199 2907",
         "Dog cafe"
        ],
        [
         "The kava coffee",
         5.0,
         18,
         "Hedges Ct",
         "Colombo",
         "LK",
         null,
         "+94 76 384 6871",
         "Coffee shop"
        ],
        [
         "The Coffee Manor",
         4.6,
         280,
         "83 R.G. Senanayake Mawatha",
         "Colombo",
         "LK",
         null,
         "+94 112 082 190",
         "Coffee shop"
        ],
        [
         "Phoenix Hub Gaming Cafe",
         4.7,
         200,
         "44 Dr Danister De Silva Mawatha",
         "Colombo",
         "LK",
         "https://www.facebook.com/pnxhub/",
         "+94 114 244 446",
         "Video game store"
        ],
        [
         "Shivan cafe",
         5.0,
         2,
         "WVPJ+678",
         "Colombo",
         "LK",
         null,
         "+94 112 686 197",
         "Cafe"
        ],
        [
         "Hot Bun Cafe",
         4.1,
         13,
         "WVVC+V45",
         "Colombo",
         "LK",
         null,
         "+94 71 252 6650",
         "Cafe"
        ],
        [
         "MTown Gaming & Shisha Lounge",
         4.4,
         10,
         "67 1/1 Maligawatta Pl",
         "Colombo",
         "LK",
         "https://www.facebook.com/mtownlounge",
         "+94 72 656 5777",
         "Lounge"
        ],
        [
         "The Cafe Lounge",
         5.0,
         1,
         "WVPC+873",
         "Colombo",
         "LK",
         null,
         "+94 75 706 8505",
         "Game store"
        ],
        [
         "Panchikawatta",
         4.258885,
         0,
         "WVM8+78M",
         "Colombo",
         "LK",
         null,
         null,
         "Coffee shop"
        ],
        [
         "Cravings Café & Restaurant",
         5.0,
         4,
         "47, 12 Abdul Hameed St",
         "Colombo",
         "LK",
         null,
         "+94 75 559 4801",
         "Restaurant"
        ],
        [
         "Cafe Anderson",
         5.0,
         1,
         "Anderson Flats D Block, Park Rd",
         "Colombo",
         "LK",
         null,
         "+94 76 876 1211",
         "Takeout Restaurant"
        ],
        [
         "Taste Tots",
         5.0,
         7,
         "WVJC+FMG, Keera Kotuwa Road",
         "Colombo",
         "LK",
         "https://www.facebook.com/tastetot/",
         "+94 77 291 6634",
         "Cafe"
        ],
        [
         "Najla Soup Cafe",
         3.7,
         7,
         "WVQ7+65P, Abdul Hameed St",
         "Colombo",
         "LK",
         null,
         "+94 71 554 4757",
         "Soup shop"
        ],
        [
         "Cafe nine",
         3.5,
         2,
         "VVVM+R3H, Kirimandala Mawatha",
         "Colombo",
         "LK",
         null,
         "+94 112 449 919",
         "Bakery"
        ],
        [
         "Best Lankan Food & Beverages (Pvt) Ltd",
         5.0,
         1,
         "XVFH+JF5, Mattakkuliya Farm Rd",
         "Colombo",
         "LK",
         null,
         "+94 77 772 2030",
         "Cafe"
        ],
        [
         "Zion Fountain Cafe",
         4.4,
         58,
         "4 Vijaya Kumarathunga Mawatha",
         "Colombo",
         "LK",
         null,
         "+94 77 751 0850",
         "Cafe"
        ],
        [
         "Nescafe Machine Rent (Mr.kordon's)",
         4.258885,
         0,
         "23, 51 Vystwyke Rd",
         "Colombo",
         "LK",
         null,
         "+94 77 798 0561",
         "Coffee shop"
        ],
        [
         "Cafe Korea",
         3.7,
         15,
         "Kirimandala Mawatha",
         "Colombo",
         "LK",
         null,
         "+94 77 563 0117",
         "Korean restaurant"
        ],
        [
         "Ameen’s Love",
         4.258885,
         0,
         "XVCG+XJ5",
         "Colombo",
         "LK",
         null,
         null,
         "Cafe"
        ],
        [
         "Any item sale",
         2.0,
         1,
         "Randiya Uyana, Henamulla Ln",
         "Colombo",
         "LK",
         null,
         "+94 75 640 5776",
         "Cafe"
        ],
        [
         "Bar wade kade",
         5.0,
         1,
         "XVCG+Q7X, St Mary's Rd",
         "Colombo",
         "LK",
         null,
         null,
         "Cafe"
        ],
        [
         "Sunshine Bakary",
         4.1,
         28,
         "39 St Mary's Ln",
         "Colombo",
         "LK",
         null,
         "+94 77 600 8883",
         "Cafe"
        ],
        [
         "New Indusiri Cafe",
         4.4,
         9,
         "Baseline Rd",
         "Colombo",
         "LK",
         null,
         "+94 112 667 792",
         "Vegetarian restaurant"
        ],
        [
         "Caffe Vita",
         2.7,
         13,
         "VVV4+P27",
         "Colombo",
         "LK",
         null,
         "+94 77 743 3870",
         "Cafe"
        ],
        [
         "The Family Cafe",
         4.258885,
         0,
         "77, 20 Gnanawimala Rd",
         "Colombo",
         "LK",
         null,
         "+94 77 551 0414",
         "Restaurant"
        ],
        [
         "Refresh",
         3.0,
         2,
         "328 Jumma Masjid Rd",
         "Colombo",
         "LK",
         null,
         null,
         "Coffee shop"
        ],
        [
         "The Vibe",
         3.6,
         7,
         "VVR9+7V8 Hotel Janaki, Fife Rd",
         "Colombo",
         "LK",
         "http://hoteljanakicolombo.com/the-vibe/",
         null,
         "Cafe"
        ],
        [
         "Holybelly cafe",
         4.4,
         94,
         "318 Torrington Ave",
         "Colombo",
         "LK",
         "https://m.facebook.com/Holybelly-656716584719603/",
         "+94 77 712 2234",
         "Cafe"
        ],
        [
         "The Blue Swan Lounge and Workspaces",
         5.0,
         3,
         "12 Greenlands Ave",
         "Colombo",
         "LK",
         null,
         "+94 77 311 6579",
         "Cafe"
        ],
        [
         "Cafe Hideout",
         5.0,
         4,
         "24 Fife Rd",
         "Colombo",
         "LK",
         null,
         null,
         "Coffee store"
        ],
        [
         "Blue Spoon",
         4.7,
         58,
         "90A Jawatta Rd",
         "Colombo",
         "LK",
         "http://instagram.com/bluespoonlk",
         "+94 77 316 4000",
         "Cafe"
        ],
        [
         "Cafe Noir Blanc",
         4.3,
         1291,
         "No. 216, Rev, Thimbirigasyaya Rd",
         "Colombo",
         "LK",
         "http://cafenoir.lk/",
         "+94 112 555 188",
         "Restaurant"
        ],
        [
         "Bars Cafe",
         4.0,
         27,
         "158 Thimbirigasyaya Rd",
         "Colombo",
         "LK",
         null,
         "+94 114 369 393",
         "Restaurant"
        ],
        [
         "Tasty Caterers",
         4.2,
         1019,
         "88 Fife Rd",
         "Colombo",
         "LK",
         "http://tastycaterers.lk/",
         "+94 117 644 744",
         "Cafe"
        ],
        [
         "COOL KADE",
         5.0,
         3,
         "423 Jumma Masjid Rd",
         "Colombo",
         "LK",
         null,
         "+94 72 051 5243",
         "Cafe"
        ],
        [
         "Krishna Vegetarian Cafe",
         3.9,
         19,
         "5 St. Joseph's St",
         "Colombo",
         "LK",
         null,
         null,
         "Restaurant"
        ],
        [
         "Cafe zone",
         5.0,
         4,
         "A3/F24, GEORGE R.D SILVA MW",
         "Colombo",
         "LK",
         null,
         null,
         "Sri Lankan restaurant"
        ],
        [
         "Manra Cafe",
         5.0,
         2,
         "736 Dr Danister De Silva Mawatha",
         "Urugodawatta",
         "LK",
         "https://instagram.com/manra_cafe?igshid=OGQ5ZDc2ODk2ZA==",
         "+94 71 460 1191",
         "Restaurant"
        ],
        [
         "Amabal Cafe",
         4.1,
         7,
         "WVV8+G8W, Jethawana Rd",
         "Colombo",
         "LK",
         null,
         null,
         "Restaurant"
        ],
        [
         "Ape Kopi Grandpass",
         4.6,
         5,
         "70 Stace Rd",
         "Colombo",
         "LK",
         null,
         "+94 77 914 6786",
         "Coffee shop"
        ],
        [
         "R.N.R. Cool Corner",
         4.258885,
         0,
         "WVR8+C27, Sri Sumanatissa Mawatha",
         "Colombo",
         "LK",
         null,
         null,
         "Cafe"
        ],
        [
         "A.M.N.Rahumani",
         4.258885,
         0,
         "68 Gemunu Patu Mawatha",
         "Colombo",
         "LK",
         null,
         null,
         "Coffee shop"
        ],
        [
         "Bob's Cafe",
         4.258885,
         0,
         "446 Old Moor St",
         "Colombo",
         "LK",
         null,
         null,
         "Restaurant"
        ],
        [
         "Delish Cafe & Restaurant",
         3.8,
         147,
         null,
         "Colombo",
         "LK",
         null,
         "+94 112 441 334",
         "Restaurant"
        ],
        [
         "Kotahena Cream House",
         4.258885,
         0,
         "71 Bonjeen Rd",
         "Colombo",
         "LK",
         null,
         "+94 112 472 907",
         "Cafe"
        ],
        [
         "Black Shedow",
         4.258885,
         0,
         "15 Jampettah St",
         "Colombo",
         "LK",
         null,
         null,
         "Cafe"
        ],
        [
         "Barista at Hatch Works",
         4.258885,
         0,
         "14 Sir Baron Jayathilake Mawatha",
         "Colombo",
         "LK",
         null,
         null,
         "Coffee shop"
        ],
        [
         "The Street Cafe n Kitchen Pvt Ltd",
         5.0,
         1,
         "Lake House Building, regent Building 20 1/3 Sir chittampalam gardiner A Mawatha, 2 opposit to",
         "Colombo",
         "LK",
         null,
         "+94 112 300 109",
         "Restaurant"
        ],
        [
         "The Barge Cafe and Restaurant",
         4.4,
         24,
         "Block D",
         "Colombo",
         "LK",
         null,
         "+94 77 003 9090",
         "Cafe"
        ],
        [
         "PSD Welfare shop and House of Juice",
         4.8,
         5,
         "54 Chatham St",
         "Colombo",
         "LK",
         null,
         "+94 72 760 3377",
         "Cafe"
        ],
        [
         "Brew 1867 by Dilmah – World Trade Center",
         4.6,
         39,
         "Level 03 West Block World Trade Center",
         "Colombo",
         "LK",
         "https://www.brew1867.com/",
         "+94 117 021 406",
         "Fast food restaurant"
        ],
        [
         "Street cafe and kitchen",
         5.0,
         1,
         "Regent Flats",
         "Colombo",
         "LK",
         null,
         "+94 112 300 109",
         "Asian restaurant"
        ],
        [
         "Cafe64 by Galadari Hotel",
         3.0,
         2,
         "64 Lotus Rd",
         "Colombo",
         "LK",
         "http://www.galadarihotel.lk/dining/cafe-64-pastry-shop?fbclid=IwAR0RE5z8t5l6R9Jg8Id-HfpV0kVqg8ANXLsIEyuG9rBLvDyvD8jkZNeLbjE",
         "+94 112 544 544",
         "Cafe"
        ],
        [
         "The Nosh",
         4.2,
         23,
         "World Trade Center East Tower, WTC East Tower, 12/1 Bank of Ceylon Mawatha",
         "Colombo",
         "LK",
         null,
         "+94 76 170 0700",
         "Coffee shop"
        ],
        [
         "Fort Cafe",
         4.0,
         1,
         "39 Sir Razik Fareed Mawatha",
         "Colombo",
         "LK",
         null,
         "+94 76 199 3103",
         "Restaurant"
        ],
        [
         "Barista World Trade Center",
         4.3,
         397,
         "Level 3 World Trade Center, Bank of Ceylon Mawatha",
         "Colombo",
         "LK",
         "http://www.barista.lk/",
         "+94 112 332 163",
         "Cafe"
        ],
        [
         "Nil's Kitchen",
         4.258885,
         0,
         "18/28 1st Lane, Evergreen Park Rd",
         "Colombo",
         "LK",
         null,
         "+94 77 771 1828",
         "Cafe"
        ],
        [
         "Side Walk Cafe",
         4.4,
         8,
         "No 33 Canal Row",
         "Colombo",
         "LK",
         null,
         null,
         "Restaurant"
        ],
        [
         "New Murugan Cafe",
         4.258885,
         0,
         "30 Sri Kathiresan St",
         "Colombo",
         "LK",
         null,
         "+94 77 470 0669",
         "Indian restaurant"
        ],
        [
         "RASANANDA BAKERS (දර පොරනු cafe)",
         4.5,
         2,
         "130 2nd Ln",
         "Sri Jayawardenepura Kotte",
         "LK",
         null,
         "+94 77 645 4354",
         "Bakery"
        ],
        [
         "Menytype",
         4.258885,
         0,
         "G-1-3-B, Mihindu Mawatha Shopping Complex",
         "Colombo",
         "LK",
         null,
         "+94 112 441 684",
         "Cafe"
        ],
        [
         "S K M Cafe",
         4.5,
         4,
         "103 New Moor St",
         "Colombo",
         "LK",
         null,
         null,
         "Restaurant"
        ],
        [
         "New Saraswati Cafe",
         4.1,
         840,
         "230 Sea St",
         "Colombo",
         "LK",
         null,
         "+94 112 435 789",
         "Vegetarian restaurant"
        ],
        [
         "Mobitel Cafeteria",
         3.3,
         11,
         "Lesley Ranagala Mawatha",
         "Colombo",
         "LK",
         null,
         "+94 71 285 7555",
         "Cafe"
        ],
        [
         "Fabela Restaurant & Cafe",
         4.258885,
         0,
         "231D Wijayakumarathunga Road",
         "Colombo",
         "LK",
         null,
         "+94 76 877 4258",
         "Restaurant"
        ],
        [
         "Tens Inc",
         5.0,
         2,
         "33/5 Somadevi Pl",
         "Colombo",
         "LK",
         null,
         "+94 77 612 3247",
         "Cafe"
        ],
        [
         "The Counter Cafe",
         4.3,
         24,
         "30/4 Sri Siddhartha Passage",
         "Colombo",
         "LK",
         null,
         "+94 77 790 1607",
         "Restaurant"
        ],
        [
         "KAILASA The Street Food Café",
         3.8,
         962,
         "494 R. A. De Mel Mawatha",
         "Colombo",
         "LK",
         null,
         null,
         "Restaurant"
        ],
        [
         "Kumbuk Cafe",
         4.258885,
         0,
         "No. 60/7 Horton Pl",
         "Colombo",
         "LK",
         null,
         null,
         "Restaurant"
        ],
        [
         "Kaapi",
         4.3,
         521,
         "29, Schofield Place, Marine Drive",
         "Colombo",
         "LK",
         null,
         "+94 77 153 3443",
         "Cafe"
        ],
        [
         "Saswathi Cafe | சாஸ்வதி கபே",
         4.0,
         1,
         "171 A2",
         "Colombo",
         "LK",
         null,
         "+94 76 544 9951",
         "Vegetarian restaurant"
        ],
        [
         "Amos chai factory",
         4.258885,
         0,
         "VVF8+GCC, 55th Ln",
         "Colombo",
         "LK",
         null,
         null,
         "Coffee shop"
        ],
        [
         "Colombo Chaiwala",
         4.3,
         336,
         "12 Lily Ave",
         "Colombo",
         "LK",
         null,
         null,
         "Tea house"
        ],
        [
         "Galle Caterers",
         3.5,
         17,
         "No. 43 Marine Dr",
         "Colombo",
         "LK",
         null,
         "+94 114 367 799",
         "Cafe"
        ],
        [
         "Matras Cafe",
         4.258885,
         0,
         "118 A Galle Rd",
         "Colombo",
         "LK",
         null,
         null,
         "Restaurant"
        ],
        [
         "Top Collection",
         4.258885,
         0,
         "Ambanpitiya, 7851/1 ,colombo rd, Galigamuwa town",
         "Kegalle",
         "LK",
         null,
         "+94 70 313 3471",
         "Art cafe"
        ],
        [
         "Everyday Bakery & Cafe",
         3.1,
         69,
         "1, 465 1/1 Galle Rd",
         "Colombo",
         "LK",
         null,
         "+94 112 363 996",
         "Bakery"
        ],
        [
         "WAFL Café Wellawatte",
         4.1,
         375,
         "47 42nd Ln",
         "Colombo",
         "LK",
         null,
         "+94 117 104 104",
         "Restaurant"
        ],
        [
         "The Cozy Lounge",
         4.258885,
         0,
         "16 Flower Rd",
         "Colombo",
         "LK",
         null,
         null,
         "Cafe"
        ],
        [
         "Bakers Lab LK",
         4.6,
         69,
         "03 Muthuwella Mawatha",
         "Colombo",
         "LK",
         "http://www.bakerslablk.com/",
         "+94 75 757 4797",
         "Bakery"
        ],
        [
         "The Coffee Craft",
         4.4,
         172,
         "55 St Anthony's Mawatha",
         "Colombo",
         "LK",
         "https://coffeecraft.tinkers.biz/",
         "+94 76 222 8888",
         "Cafe"
        ],
        [
         "Lucuma Vegan Cafe",
         4.6,
         31,
         "Cambridge Terrace",
         "Colombo",
         "LK",
         "https://instagram.com/lucuma_vegan_cafe?utm_medium=copy_link",
         "+94 77 133 3668",
         "Coffee shop"
        ],
        [
         "Rolling Pin",
         4.2,
         14,
         "Liberty Plaza, Basement",
         "Colpetty",
         "LK",
         "https://m.facebook.com/Rollingpinlk",
         "+94 71 720 2303",
         "Cafe"
        ],
        [
         "Klassy Cafe - Havelock City Mall",
         3.4,
         13,
         "Havelock City, Havelock Rd",
         "Colombo",
         "LK",
         null,
         "+94 114 252 502",
         "Pastry shop"
        ],
        [
         "Amal gram store",
         4.0,
         5,
         "VVM9+4PH, Edward Ave",
         "Colombo",
         "LK",
         null,
         null,
         "Coffee shop"
        ],
        [
         "Tea Tent",
         4.258885,
         0,
         "VVJ9+X3G",
         "Colombo",
         "LK",
         null,
         null,
         "Coffee shop"
        ],
        [
         "Twins Cafe",
         4.7,
         38,
         "14 Independence Ave",
         "Colombo",
         "LK",
         null,
         "+94 76 792 2030",
         "Restaurant"
        ],
        [
         "Nugegoda",
         4.258885,
         0,
         "WVG6+RFQ",
         "Colombo",
         "LK",
         null,
         "+94 75 878 5854",
         "Cafe"
        ],
        [
         "The cafe",
         5.0,
         3,
         "273/1 Vauxhall St",
         "Colombo",
         "LK",
         null,
         "+94 112 341 342",
         "Restaurant"
        ],
        [
         "Restaurant Area",
         1.0,
         1,
         "WRGH+P32",
         "Port City Colombo",
         "LK",
         null,
         null,
         "Coffee shop"
        ],
        [
         "Neleez Station",
         3.0,
         1,
         "Colombo Lotus Tower, AC6",
         "Colombo",
         "LK",
         null,
         "+94 77 728 0953",
         "Coffee shop"
        ],
        [
         "Cannys Bakers",
         3.9,
         41,
         "WVFH+83P",
         "Colombo",
         "LK",
         null,
         null,
         "Cafe"
        ],
        [
         "Cafe Pixel Printing Solutions (Pvt) Limited",
         4.1,
         140,
         "180/3 Arnold Ratnayake Mawatha",
         "Colombo",
         "LK",
         null,
         "+94 112 680 061",
         "Print shop"
        ],
        [
         "NEDOLAKANDA grocery & cafe",
         4.258885,
         0,
         "kolonna, road",
         "nedolakanda",
         "LK",
         null,
         "+94 77 455 2083",
         "Grocery store"
        ],
        [
         "Barakath Sweets and Cafe",
         5.0,
         3,
         "24 Immamul Aroos Mawatha",
         "Colombo",
         "LK",
         null,
         "+94 77 812 9250",
         "Restaurant"
        ],
        [
         "King Metro Cafe (pure vegetarian)",
         4.3,
         4,
         "WVG8+22P",
         "Colombo",
         "LK",
         null,
         null,
         "Restaurant"
        ],
        [
         "Nithiya",
         4.258885,
         0,
         "765 Bodhirajarama Mawatha",
         "Colombo",
         "LK",
         null,
         null,
         "Coffee shop"
        ],
        [
         "Dark Roast Cafe",
         4.2,
         84,
         "20A Laurie’s Place, R. A. De Mel Mawatha",
         "Colombo",
         "LK",
         "https://www.instagram.com/darkroastcafelk/",
         "+94 77 666 7567",
         "Coffee shop"
        ],
        [
         "Orion Tower Cafeteria",
         4.4,
         8,
         "WVRH+5H3",
         "Colombo",
         "LK",
         null,
         null,
         "Cafe"
        ],
        [
         "NEW BON CAFE",
         5.0,
         1,
         "67c Colombo Main Rd",
         "Kaduwela",
         "LK",
         null,
         null,
         "Cafe"
        ],
        [
         "Cafe Chocolattie",
         4.4,
         333,
         "38 Frankfort Pl",
         "Colombo",
         "LK",
         null,
         "+94 112 592 222",
         "Dessert shop"
        ],
        [
         "The Mithai Cafe",
         4.6,
         49,
         "18 Lauries Rd",
         "Colombo",
         "LK",
         "https://the-mithai-cafe.business.site/?utm_source=gmb&utm_medium=referral",
         "+94 75 581 1191",
         "Cafe"
        ],
        [
         "Cloud Cafe",
         4.1,
         122,
         "Hotel & Spa, Colombo Court, 32 Alfred House Ave",
         "Colombo",
         "LK",
         "https://www.colombocourthotel.com/cloudcafe",
         "+94 114 645 333",
         "Restaurant"
        ],
        [
         "Java Lounge - Bambalapitiya",
         4.4,
         1621,
         "No.27 & 29 Lauries Rd",
         "Colombo",
         "LK",
         "http://www.javalounge.lk/",
         "+94 112 552 501",
         "Coffee shop"
        ],
        [
         "Tasha Cafe",
         4.3,
         29,
         "Ground Floor, 196 Park Rd",
         "Colombo",
         "LK",
         null,
         "+94 75 363 1000",
         "Cafe"
        ],
        [
         "6th Lane Cafe",
         3.6,
         28,
         "3 Alfred Pl",
         "Colombo",
         "LK",
         null,
         null,
         "Cafe"
        ],
        [
         "My friend cafe",
         4.8,
         48,
         "18 Bagatalle Rd",
         "Colombo",
         "LK",
         null,
         "+94 113 818 815",
         "Coffee shop"
        ],
        [
         "Barefoot Garden Cafe",
         4.6,
         714,
         "704 Galle Rd",
         "Colombo",
         "LK",
         "https://barefootceylon.com/pages/cafe",
         "+94 112 589 305",
         "Cafe"
        ],
        [
         "Café on the 5th",
         4.2,
         3083,
         "108 5th Ln",
         "Colombo",
         "LK",
         null,
         "+94 114 935 684",
         "Restaurant"
        ],
        [
         "Cafe Zone",
         5.0,
         1,
         "20 De Costa Garden",
         "Colombo",
         "LK",
         null,
         null,
         "Restaurant"
        ],
        [
         "Al Fresco Garden Cafe",
         4.2,
         45,
         "No 208, Rev Muruttettuwe, Ananda Nahimi Mawatha",
         "Colombo",
         "LK",
         "https://instagram.com/al.fresco_sl?igshid=MzRlODBiNWFlZA==",
         "+94 71 456 5762",
         "Cafe"
        ],
        [
         "E-Cafe",
         4.1,
         985,
         "120/A Sri Sambuddhathva Jayanthi Mawatha",
         "Colombo",
         "LK",
         null,
         "+94 112 507 525",
         "Coffee shop"
        ],
        [
         "Myrus Cafe",
         5.0,
         3,
         "517 Cube Lane, 5",
         "Colombo",
         "LK",
         null,
         "+94 74 104 3570",
         "Cafe"
        ],
        [
         "Wheelys Café 80",
         4.3,
         4,
         "25 Independence Ave",
         "Colombo",
         "LK",
         null,
         "+94 76 324 4515",
         "Takeout Restaurant"
        ],
        [
         "Cafe Kumbuk",
         4.5,
         1210,
         "3/1 Thambiah Avenue, Independence Ave",
         "Colombo",
         "LK",
         "https://www.cafekumbuk.com/",
         "+94 112 685 310",
         "Cafe"
        ],
        [
         "Sugarcube Cafe",
         4.5,
         92,
         "No.15 R.A., 05 R. A. De Mel Mawatha",
         "Colombo",
         "LK",
         null,
         "+94 76 432 7997",
         "Cafe"
        ],
        [
         "LOLLY'S",
         4.1,
         147,
         "323 Galle Rd",
         "Colombo",
         "LK",
         null,
         "+94 77 740 3403",
         "Coffee shop"
        ],
        [
         "Kaffi Colombo",
         4.4,
         117,
         "G9, Crescat Boulevard, Crescat Boulevard no.89",
         "Colombo",
         "LK",
         null,
         "+94 117 743 062",
         "Cafe"
        ],
        [
         "The Brown Bean Coffee",
         4.2,
         103,
         "52 Sir Marcus Fernando Mawatha",
         "Colombo",
         "LK",
         "http://www.fb.com/thebrownbeancoffee",
         "+94 71 622 1626",
         "Coffee shop"
        ],
        [
         "Internet Cafe",
         3.4,
         8,
         "70 D. S. Senanayake Mawatha",
         "Colombo",
         "LK",
         null,
         null,
         "Cafe"
        ],
        [
         "K Cafe",
         4.1,
         14,
         "WV92+J39, Nawam Mawatha",
         "Colombo",
         "LK",
         null,
         "+94 114 386 438",
         "Cafe"
        ],
        [
         "T.Co By Adra",
         4.6,
         14,
         "51a Srimath Anagarika Dharmapala Mawatha",
         "Colombo",
         "LK",
         "https://www.tcobyadra.lk/",
         "+94 77 999 9079",
         "Cafe"
        ],
        [
         "Zoo Cafe",
         4.258885,
         0,
         "77 Galle Rd",
         "Colombo",
         "LK",
         null,
         "+94 77 992 8340",
         "Coffee shop"
        ],
        [
         "Blackout Bar & Restaurant",
         3.8,
         468,
         "36 Ward Pl",
         "Colombo",
         "LK",
         "https://www.yamu.lk/place/blackout-restaurant-cafe",
         "+94 76 847 1555",
         "Bar"
        ],
        [
         "Tea Breeze Cafe at Beira Lake",
         3.9,
         94,
         "B, 18 Perahera Mawatha",
         "Colombo",
         "LK",
         "http://www.teabreeze.com/Beiralake.aspx",
         "+94 112 434 074",
         "Cafe"
        ],
        [
         "Café Konditorei",
         3.6,
         5,
         "647 P De S Kularatne Mawatha",
         "Colombo",
         "LK",
         null,
         "+94 77 342 7182",
         "Coffee shop"
        ],
        [
         "Maheli Cafe",
         5.0,
         2,
         "112 Vauxhall St",
         "Colombo",
         "LK",
         null,
         "+94 77 721 0103",
         "Cafe"
        ],
        [
         "Cafe Celo09",
         4.258885,
         0,
         "WVC6+VRM",
         "Colombo",
         "LK",
         null,
         null,
         "Coffee shop"
        ],
        [
         "Hut Cafe",
         4.258885,
         0,
         "2 Frances Rd",
         "Colombo",
         "LK",
         null,
         null,
         "Cafe"
        ],
        [
         "Cafe 717",
         3.7,
         3,
         "WVC3+G8F",
         "Colombo",
         "LK",
         null,
         null,
         "Coffee shop"
        ],
        [
         "LA LUNA Pizzeria & Cafe",
         4.7,
         383,
         "124 Lauries Rd",
         "Colombo",
         "LK",
         "https://www.instagram.com/la_luna.pizzeria.coffee",
         "+94 77 887 4430",
         "Restaurant"
        ],
        [
         "Brew Island",
         4.6,
         10,
         "377a Galle Rd",
         "Colombo",
         "LK",
         null,
         null,
         "Coffee shop"
        ],
        [
         "Askar Cafe",
         5.0,
         1,
         "60 St Joseph's St",
         "Colombo",
         "LK",
         null,
         null,
         "Coffee shop"
        ],
        [
         "Caroma Elite Speciality Coffee",
         4.9,
         110,
         "Floating Market, 340/88",
         "Colombo",
         "LK",
         null,
         "+94 76 886 6466",
         "Coffee shop"
        ],
        [
         "Bun Break",
         4.8,
         6,
         "No.19 asian mkt, Olcott Mawatha",
         "Colombo",
         "LK",
         null,
         "+94 76 807 9242",
         "Cafe"
        ],
        [
         "The Barnesbury",
         4.3,
         2550,
         "91 Barnes Pl",
         "Colombo",
         "LK",
         "https://thebarnesbury.com/",
         "+94 112 682 144",
         "Restaurant"
        ],
        [
         "Urban Cafe",
         3.0,
         1,
         "75 Olcott Mawatha",
         "Colombo",
         "LK",
         null,
         null,
         "Restaurant"
        ],
        [
         "Golden Cafe",
         4.2,
         340,
         "01100, 98 Bankshall St",
         "Colombo",
         "LK",
         null,
         "+94 112 324 712",
         "Vegetarian restaurant"
        ],
        [
         "Torta",
         4.5,
         12,
         "59 Ward Pl",
         "Colombo",
         "LK",
         null,
         "+94 77 707 8787",
         "Cafe"
        ],
        [
         "Café Japan",
         4.6,
         267,
         "25 Borella Cross Rd",
         "Colombo",
         "LK",
         "https://www.facebook.com/Cafe-Japan-in-Colombo-Sri-Lanka-2131389247108370/",
         "+94 77 726 3565",
         "Authentic Japanese restaurant"
        ],
        [
         "Life’s Good Kitchen",
         4.9,
         550,
         "No 12 Sulaiman Terrace, Jawatta road Colombo 5",
         "Colombo",
         "LK",
         "https://www.instagram.com/lifesgoodkitchen/",
         "+94 77 674 1266",
         "Restaurant"
        ],
        [
         "Sea Island Street Food",
         5.0,
         1,
         "WVF2+H86, Vellons Passage",
         "Colombo",
         "LK",
         null,
         null,
         "Cafe"
        ],
        [
         "The Coffee Bean and Tea Leaf - Landmark",
         4.2,
         673,
         "WV32+FWP, Galle Rd",
         "Colombo",
         "LK",
         null,
         null,
         "Coffee shop"
        ],
        [
         "Katee Rotee",
         5.0,
         4,
         "29 St Lucia's St",
         "Colombo",
         "LK",
         null,
         null,
         "Coffee shop"
        ],
        [
         "cafe monica sri lanka",
         5.0,
         3,
         "Old Dutch Hospital Complex, 09 Hospital St",
         "Colombo",
         "LK",
         null,
         "+94 70 166 6422",
         "Pizza restaurant"
        ],
        [
         "Rancrisp Cashew",
         2.9,
         15,
         "WRGV+WVV, ගාල්ල ප්‍රධාන මාර්ගය",
         "Colombo",
         "LK",
         "http://www.rancrisp.lk/",
         null,
         "Cafe"
        ],
        [
         "Kaffeine by Republk",
         4.1,
         8,
         "57 Hospital St",
         "Colombo",
         "LK",
         null,
         "+94 112 444 429",
         "Cafe"
        ],
        [
         "Silva Snack Bar",
         4.8,
         4,
         "WVJ8+C3P",
         "Colombo",
         "LK",
         null,
         "+94 112 451 341",
         "Cafe"
        ],
        [
         "41 cafe",
         1.8,
         16,
         "Mahawela Pl",
         "Colombo",
         "LK",
         null,
         "+94 77 644 0510",
         "Restaurant"
        ],
        [
         "Badam Doodh",
         4.5,
         2,
         "46 36th Ln",
         "Colombo",
         "LK",
         null,
         "+94 77 465 0420",
         "Coffee shop"
        ],
        [
         "Spizzerts",
         4.6,
         22,
         "261 R. A. De Mel Mawatha",
         "Colombo",
         "LK",
         null,
         "+94 77 015 1732",
         "Cafe"
        ],
        [
         "Refresh Cafe and Juice bar",
         4.0,
         1,
         "514 Havelock Rd",
         "Colombo",
         "LK",
         null,
         null,
         "Restaurant"
        ],
        [
         "Malar Cafe",
         4.0,
         260,
         "No: 45, 07 Dr CWW Kannangara Mawatha",
         "Colombo",
         "LK",
         "https://malar-cafe.business.site/?utm_source=gmb&utm_medium=referral",
         "+94 115 106 703",
         "North Eastern Indian restaurant"
        ],
        [
         "QuQu Cafe",
         4.4,
         50,
         "Ground floor One",
         "Mall",
         "LK",
         "https://www.ququcafe.lk/",
         null,
         "Cafe"
        ],
        [
         "T.N Cafe",
         4.0,
         4,
         "WVC6+CWR",
         "Colombo",
         "LK",
         null,
         null,
         "Cafe"
        ],
        [
         "E-Cafe Colombo 03",
         4.0,
         126,
         "316 Galle Rd",
         "Colombo",
         "LK",
         "https://ecafecoffee.business.site/",
         "+94 113 428 350",
         "Coffee shop"
        ],
        [
         "Park Cafe",
         2.8,
         32,
         "59D Norris Canal Rd",
         "Colombo",
         "LK",
         "http://www.parkcafe.lk/",
         "+94 77 345 1885",
         "Asian restaurant"
        ],
        [
         "Cafe Green",
         4.7,
         3,
         "459 T. B. Jayah Mawatha",
         "Colombo",
         "LK",
         null,
         "+94 75 822 2822",
         "Restaurant"
        ],
        [
         "Cakes & Bakes Cafe",
         4.3,
         1004,
         "69 Galle Rd",
         "Colombo",
         "LK",
         null,
         "+94 76 441 2792",
         "Cake shop"
        ],
        [
         "Maniumpathy Café",
         4.9,
         15,
         "129 Kynsey Rd",
         "Colombo",
         "LK",
         "https://maniumpathy.com/dining/",
         "+94 77 089 8900",
         "Fusion restaurant"
        ],
        [
         "Bun Break",
         4.8,
         20,
         "174 New Moor St",
         "Colombo",
         "LK",
         null,
         "+94 76 807 9242",
         "Cafe"
        ],
        [
         "ටිරොන්ගේ වඩේ තට්ටුව",
         5.0,
         1,
         "VVHF+GQ9, High Level Rd",
         "Colombo",
         "LK",
         null,
         "+94 77 055 4549",
         "Cafe"
        ],
        [
         "The Barca Cafe",
         4.0,
         52,
         "318 Torrington Ave",
         "Colombo",
         "LK",
         null,
         "+94 114 157 480",
         "Cafe"
        ],
        [
         "Remarko Bakery",
         3.3,
         4,
         "WVXF+H79, St. Joseph's St",
         "Colombo",
         "LK",
         null,
         "+94 112 964 247",
         "Cafe"
        ],
        [
         "The Coffee Bean & Tea Leaf",
         4.3,
         699,
         "1st Floor Liberty Plaza",
         "Colombo",
         "LK",
         null,
         "+94 77 388 7666",
         "Coffee shop"
        ],
        [
         "Cafe Mocha by Barista",
         4.3,
         1649,
         "28 Stratford Ave",
         "Colombo",
         "LK",
         "http://www.barista.lk/",
         "+94 112 055 491",
         "Cafe"
        ],
        [
         "Playtrix Sports Bar and Cafe",
         4.3,
         1182,
         "137 Sir James Pieris Mawatha",
         "Colombo",
         "LK",
         "http://www.playtrix.lk/",
         "+94 76 547 7577",
         "Sports bar"
        ],
        [
         "Caramel Pumpkin",
         4.3,
         2253,
         "WV89+FJG, 38 Ward Pl",
         "Colombo",
         "LK",
         null,
         "+94 112 677 966",
         "Cafe"
        ],
        [
         "Choco Luv",
         3.8,
         419,
         "16 Flower Rd",
         "Colombo",
         "LK",
         "http://www.facebook.com/yourchocoluv/",
         "+94 112 301 140",
         "Cafe"
        ],
        [
         "Pages & Coffee",
         4.5,
         233,
         "8 Stratford Ave",
         "Colombo",
         "LK",
         "https://web.facebook.com/pagesandcoffee.LK",
         "+94 77 430 8502",
         "Coffee shop"
        ],
        [
         "Bibo's Cafe",
         4.2,
         14,
         "289 High Level Rd",
         "Colombo",
         "LK",
         null,
         "+94 77 941 3413",
         "Cafe"
        ],
        [
         "Cafe 7 To 7",
         4.6,
         5,
         "WV27+VF7, Prof Stanley Wijesundera Mawatha",
         "Colombo",
         "LK",
         null,
         null,
         "Restaurant"
        ],
        [
         "Rakna Lanka Cafe",
         3.0,
         5,
         "WV93+RCF, Nawam Mawatha",
         "Colombo",
         "LK",
         null,
         null,
         "Bakery"
        ],
        [
         "The King Cafe",
         4.5,
         8,
         "XV9C+RRM",
         "Colombo",
         "LK",
         null,
         "+94 77 841 0410",
         "Restaurant"
        ],
        [
         "Cafe Longdon",
         4.7,
         52,
         "6 Malalasekara Mawatha",
         "Colombo",
         "LK",
         null,
         null,
         "Cafe"
        ],
        [
         "Busy Bean Cafe",
         3.9,
         55,
         "Race Course Ave",
         "Colombo",
         "LK",
         "http://thebusybean.lk/",
         "+94 76 982 9726",
         "Cafe"
        ]
       ],
       "datasetInfos": [],
       "dbfsResultPath": null,
       "isJsonSchema": true,
       "metadata": {},
       "overflow": false,
       "plotOptions": {
        "customPlotOptions": {},
        "displayType": "table",
        "pivotAggregation": null,
        "pivotColumns": null,
        "xColumns": null,
        "yColumns": null
       },
       "removedWidgets": [],
       "schema": [
        {
         "metadata": "{}",
         "name": "Title",
         "type": "\"string\""
        },
        {
         "metadata": "{}",
         "name": "Total_score",
         "type": "\"float\""
        },
        {
         "metadata": "{}",
         "name": "Reviews_count",
         "type": "\"integer\""
        },
        {
         "metadata": "{}",
         "name": "Street",
         "type": "\"string\""
        },
        {
         "metadata": "{}",
         "name": "City",
         "type": "\"string\""
        },
        {
         "metadata": "{}",
         "name": "Country_code",
         "type": "\"string\""
        },
        {
         "metadata": "{}",
         "name": "Website",
         "type": "\"string\""
        },
        {
         "metadata": "{}",
         "name": "Phone",
         "type": "\"string\""
        },
        {
         "metadata": "{}",
         "name": "Category_name",
         "type": "\"string\""
        }
       ],
       "type": "table"
      }
     },
     "output_type": "display_data"
    }
   ],
   "source": [
    "from pyspark.sql.types import StructType, StructField, IntegerType, StringType, FloatType\n",
    "\n",
    "# File location and type\n",
    "file_location = \"/FileStore/tables/colombo_cafes.csv\"\n",
    "file_type = \"csv\"\n",
    "\n",
    "# Schema\n",
    "schema = StructType([\n",
    "  StructField(\"Title\", StringType()),\n",
    "  StructField(\"Total_score\", FloatType()),\n",
    "  StructField(\"Reviews_count\", IntegerType()),\n",
    "  StructField(\"Street\", StringType()),\n",
    "  StructField(\"City\", StringType()),\n",
    "  StructField(\"Country_code\", StringType()),\n",
    "  StructField(\"Website\", StringType()),\n",
    "  StructField(\"Phone\", StringType()),\n",
    "  StructField(\"Category_name\", StringType())\n",
    "])\n",
    "\n",
    "# CSV options\n",
    "infer_schema = \"false\"\n",
    "first_row_is_header = \"True\"\n",
    "delimiter = \",\"\n",
    "\n",
    "# The applied options are for CSV files. For other file types, these will be ignored.\n",
    "CoffeeData = spark.read.format(file_type) \\\n",
    "  .option(\"inferSchema\", infer_schema) \\\n",
    "  .option(\"header\", first_row_is_header) \\\n",
    "  .option(\"sep\", delimiter) \\\n",
    "  .schema(schema) \\\n",
    "  .load(file_location)\n",
    "\n",
    "display(CoffeeData)\n",
    "\n"
   ]
  },
  {
   "cell_type": "code",
   "execution_count": 0,
   "metadata": {
    "application/vnd.databricks.v1+cell": {
     "cellMetadata": {
      "byteLimit": 2048000,
      "rowLimit": 10000
     },
     "inputWidgets": {},
     "nuid": "a7650345-04fa-4402-a917-26c25e4813d1",
     "showTitle": true,
     "title": "Carga de Dados: Códigos de Países"
    }
   },
   "outputs": [
    {
     "output_type": "display_data",
     "data": {
      "text/html": [
       "<style scoped>\n",
       "  .table-result-container {\n",
       "    max-height: 300px;\n",
       "    overflow: auto;\n",
       "  }\n",
       "  table, th, td {\n",
       "    border: 1px solid black;\n",
       "    border-collapse: collapse;\n",
       "  }\n",
       "  th, td {\n",
       "    padding: 5px;\n",
       "  }\n",
       "  th {\n",
       "    text-align: left;\n",
       "  }\n",
       "</style><div class='table-result-container'><table class='table-result'><thead style='background-color: white'><tr><th>Name</th><th>Code</th></tr></thead><tbody><tr><td>Afghanistan</td><td>AF</td></tr><tr><td>Albania</td><td>AL</td></tr><tr><td>Algeria</td><td>DZ</td></tr><tr><td>American Samoa</td><td>AS</td></tr><tr><td>Andorra</td><td>AD</td></tr><tr><td>Angola</td><td>AO</td></tr><tr><td>Anguilla</td><td>AI</td></tr><tr><td>Antarctica</td><td>AQ</td></tr><tr><td>Antigua and Barbuda</td><td>AG</td></tr><tr><td>Argentina</td><td>AR</td></tr><tr><td>Armenia</td><td>AM</td></tr><tr><td>Aruba</td><td>AW</td></tr><tr><td>Australia</td><td>AU</td></tr><tr><td>Austria</td><td>AT</td></tr><tr><td>Azerbaijan</td><td>AZ</td></tr><tr><td>Bahamas</td><td>BS</td></tr><tr><td>Bahrain</td><td>BH</td></tr><tr><td>Bangladesh</td><td>BD</td></tr><tr><td>Barbados</td><td>BB</td></tr><tr><td>Belarus</td><td>BY</td></tr><tr><td>Belgium</td><td>BE</td></tr><tr><td>Belize</td><td>BZ</td></tr><tr><td>Benin</td><td>BJ</td></tr><tr><td>Bermuda</td><td>BM</td></tr><tr><td>Bhutan</td><td>BT</td></tr><tr><td>Bolivia, Plurinational State of</td><td>BO</td></tr><tr><td>Bonaire, Sint Eustatius and Saba</td><td>BQ</td></tr><tr><td>Bosnia and Herzegovina</td><td>BA</td></tr><tr><td>Botswana</td><td>BW</td></tr><tr><td>Bouvet Island</td><td>BV</td></tr><tr><td>Brazil</td><td>BR</td></tr><tr><td>British Indian Ocean Territory</td><td>IO</td></tr><tr><td>Brunei Darussalam</td><td>BN</td></tr><tr><td>Bulgaria</td><td>BG</td></tr><tr><td>Burkina Faso</td><td>BF</td></tr><tr><td>Burundi</td><td>BI</td></tr><tr><td>Cambodia</td><td>KH</td></tr><tr><td>Cameroon</td><td>CM</td></tr><tr><td>Canada</td><td>CA</td></tr><tr><td>Cape Verde</td><td>CV</td></tr><tr><td>Cayman Islands</td><td>KY</td></tr><tr><td>Central African Republic</td><td>CF</td></tr><tr><td>Chad</td><td>TD</td></tr><tr><td>Chile</td><td>CL</td></tr><tr><td>China</td><td>CN</td></tr><tr><td>Christmas Island</td><td>CX</td></tr><tr><td>Cocos (Keeling) Islands</td><td>CC</td></tr><tr><td>Colombia</td><td>CO</td></tr><tr><td>Comoros</td><td>KM</td></tr><tr><td>Congo</td><td>CG</td></tr><tr><td>Congo, the Democratic Republic of the</td><td>CD</td></tr><tr><td>Cook Islands</td><td>CK</td></tr><tr><td>Costa Rica</td><td>CR</td></tr><tr><td>Croatia</td><td>HR</td></tr><tr><td>Cuba</td><td>CU</td></tr><tr><td>Curaçao</td><td>CW</td></tr><tr><td>Cyprus</td><td>CY</td></tr><tr><td>Czech Republic</td><td>CZ</td></tr><tr><td>Côte d'Ivoire</td><td>CI</td></tr><tr><td>Denmark</td><td>DK</td></tr><tr><td>Djibouti</td><td>DJ</td></tr><tr><td>Dominica</td><td>DM</td></tr><tr><td>Dominican Republic</td><td>DO</td></tr><tr><td>Ecuador</td><td>EC</td></tr><tr><td>Egypt</td><td>EG</td></tr><tr><td>El Salvador</td><td>SV</td></tr><tr><td>Equatorial Guinea</td><td>GQ</td></tr><tr><td>Eritrea</td><td>ER</td></tr><tr><td>Estonia</td><td>EE</td></tr><tr><td>Ethiopia</td><td>ET</td></tr><tr><td>Falkland Islands (Malvinas)</td><td>FK</td></tr><tr><td>Faroe Islands</td><td>FO</td></tr><tr><td>Fiji</td><td>FJ</td></tr><tr><td>Finland</td><td>FI</td></tr><tr><td>France</td><td>FR</td></tr><tr><td>French Guiana</td><td>GF</td></tr><tr><td>French Polynesia</td><td>PF</td></tr><tr><td>French Southern Territories</td><td>TF</td></tr><tr><td>Gabon</td><td>GA</td></tr><tr><td>Gambia</td><td>GM</td></tr><tr><td>Georgia</td><td>GE</td></tr><tr><td>Germany</td><td>DE</td></tr><tr><td>Ghana</td><td>GH</td></tr><tr><td>Gibraltar</td><td>GI</td></tr><tr><td>Greece</td><td>GR</td></tr><tr><td>Greenland</td><td>GL</td></tr><tr><td>Grenada</td><td>GD</td></tr><tr><td>Guadeloupe</td><td>GP</td></tr><tr><td>Guam</td><td>GU</td></tr><tr><td>Guatemala</td><td>GT</td></tr><tr><td>Guernsey</td><td>GG</td></tr><tr><td>Guinea</td><td>GN</td></tr><tr><td>Guinea-Bissau</td><td>GW</td></tr><tr><td>Guyana</td><td>GY</td></tr><tr><td>Haiti</td><td>HT</td></tr><tr><td>Heard Island and McDonald Islands</td><td>HM</td></tr><tr><td>Holy See (Vatican City State)</td><td>VA</td></tr><tr><td>Honduras</td><td>HN</td></tr><tr><td>Hong Kong</td><td>HK</td></tr><tr><td>Hungary</td><td>HU</td></tr><tr><td>Iceland</td><td>IS</td></tr><tr><td>India</td><td>IN</td></tr><tr><td>Indonesia</td><td>ID</td></tr><tr><td>Iran, Islamic Republic of</td><td>IR</td></tr><tr><td>Iraq</td><td>IQ</td></tr><tr><td>Ireland</td><td>IE</td></tr><tr><td>Isle of Man</td><td>IM</td></tr><tr><td>Israel</td><td>IL</td></tr><tr><td>Italy</td><td>IT</td></tr><tr><td>Jamaica</td><td>JM</td></tr><tr><td>Japan</td><td>JP</td></tr><tr><td>Jersey</td><td>JE</td></tr><tr><td>Jordan</td><td>JO</td></tr><tr><td>Kazakhstan</td><td>KZ</td></tr><tr><td>Kenya</td><td>KE</td></tr><tr><td>Kiribati</td><td>KI</td></tr><tr><td>Korea, Democratic People's Republic of</td><td>KP</td></tr><tr><td>Korea, Republic of</td><td>KR</td></tr><tr><td>Kuwait</td><td>KW</td></tr><tr><td>Kyrgyzstan</td><td>KG</td></tr><tr><td>Lao People's Democratic Republic</td><td>LA</td></tr><tr><td>Latvia</td><td>LV</td></tr><tr><td>Lebanon</td><td>LB</td></tr><tr><td>Lesotho</td><td>LS</td></tr><tr><td>Liberia</td><td>LR</td></tr><tr><td>Libya</td><td>LY</td></tr><tr><td>Liechtenstein</td><td>LI</td></tr><tr><td>Lithuania</td><td>LT</td></tr><tr><td>Luxembourg</td><td>LU</td></tr><tr><td>Macao</td><td>MO</td></tr><tr><td>Macedonia, the Former Yugoslav Republic of</td><td>MK</td></tr><tr><td>Madagascar</td><td>MG</td></tr><tr><td>Malawi</td><td>MW</td></tr><tr><td>Malaysia</td><td>MY</td></tr><tr><td>Maldives</td><td>MV</td></tr><tr><td>Mali</td><td>ML</td></tr><tr><td>Malta</td><td>MT</td></tr><tr><td>Marshall Islands</td><td>MH</td></tr><tr><td>Martinique</td><td>MQ</td></tr><tr><td>Mauritania</td><td>MR</td></tr><tr><td>Mauritius</td><td>MU</td></tr><tr><td>Mayotte</td><td>YT</td></tr><tr><td>Mexico</td><td>MX</td></tr><tr><td>Micronesia, Federated States of</td><td>FM</td></tr><tr><td>Moldova, Republic of</td><td>MD</td></tr><tr><td>Monaco</td><td>MC</td></tr><tr><td>Mongolia</td><td>MN</td></tr><tr><td>Montenegro</td><td>ME</td></tr><tr><td>Montserrat</td><td>MS</td></tr><tr><td>Morocco</td><td>MA</td></tr><tr><td>Mozambique</td><td>MZ</td></tr><tr><td>Myanmar</td><td>MM</td></tr><tr><td>Namibia</td><td>NA</td></tr><tr><td>Nauru</td><td>NR</td></tr><tr><td>Nepal</td><td>NP</td></tr><tr><td>Netherlands</td><td>NL</td></tr><tr><td>New Caledonia</td><td>NC</td></tr><tr><td>New Zealand</td><td>NZ</td></tr><tr><td>Nicaragua</td><td>NI</td></tr><tr><td>Niger</td><td>NE</td></tr><tr><td>Nigeria</td><td>NG</td></tr><tr><td>Niue</td><td>NU</td></tr><tr><td>Norfolk Island</td><td>NF</td></tr><tr><td>Northern Mariana Islands</td><td>MP</td></tr><tr><td>Norway</td><td>NO</td></tr><tr><td>Oman</td><td>OM</td></tr><tr><td>Pakistan</td><td>PK</td></tr><tr><td>Palau</td><td>PW</td></tr><tr><td>Palestine, State of</td><td>PS</td></tr><tr><td>Panama</td><td>PA</td></tr><tr><td>Papua New Guinea</td><td>PG</td></tr><tr><td>Paraguay</td><td>PY</td></tr><tr><td>Peru</td><td>PE</td></tr><tr><td>Philippines</td><td>PH</td></tr><tr><td>Pitcairn</td><td>PN</td></tr><tr><td>Poland</td><td>PL</td></tr><tr><td>Portugal</td><td>PT</td></tr><tr><td>Puerto Rico</td><td>PR</td></tr><tr><td>Qatar</td><td>QA</td></tr><tr><td>Romania</td><td>RO</td></tr><tr><td>Russian Federation</td><td>RU</td></tr><tr><td>Rwanda</td><td>RW</td></tr><tr><td>Réunion</td><td>RE</td></tr><tr><td>Saint Barthélemy</td><td>BL</td></tr><tr><td>Saint Helena, Ascension and Tristan da Cunha</td><td>SH</td></tr><tr><td>Saint Kitts and Nevis</td><td>KN</td></tr><tr><td>Saint Lucia</td><td>LC</td></tr><tr><td>Saint Martin (French part)</td><td>MF</td></tr><tr><td>Saint Pierre and Miquelon</td><td>PM</td></tr><tr><td>Saint Vincent and the Grenadines</td><td>VC</td></tr><tr><td>Samoa</td><td>WS</td></tr><tr><td>San Marino</td><td>SM</td></tr><tr><td>Sao Tome and Principe</td><td>ST</td></tr><tr><td>Saudi Arabia</td><td>SA</td></tr><tr><td>Senegal</td><td>SN</td></tr><tr><td>Serbia</td><td>RS</td></tr><tr><td>Seychelles</td><td>SC</td></tr><tr><td>Sierra Leone</td><td>SL</td></tr><tr><td>Singapore</td><td>SG</td></tr><tr><td>Sint Maarten (Dutch part)</td><td>SX</td></tr><tr><td>Slovakia</td><td>SK</td></tr><tr><td>Slovenia</td><td>SI</td></tr><tr><td>Solomon Islands</td><td>SB</td></tr><tr><td>Somalia</td><td>SO</td></tr><tr><td>South Africa</td><td>ZA</td></tr><tr><td>South Georgia and the South Sandwich Islands</td><td>GS</td></tr><tr><td>South Sudan</td><td>SS</td></tr><tr><td>Spain</td><td>ES</td></tr><tr><td>Sri Lanka</td><td>LK</td></tr><tr><td>Sudan</td><td>SD</td></tr><tr><td>Suriname</td><td>SR</td></tr><tr><td>Svalbard and Jan Mayen</td><td>SJ</td></tr><tr><td>Swaziland</td><td>SZ</td></tr><tr><td>Sweden</td><td>SE</td></tr><tr><td>Switzerland</td><td>CH</td></tr><tr><td>Syrian Arab Republic</td><td>SY</td></tr><tr><td>Taiwan, Province of China</td><td>TW</td></tr><tr><td>Tajikistan</td><td>TJ</td></tr><tr><td>Tanzania, United Republic of</td><td>TZ</td></tr><tr><td>Thailand</td><td>TH</td></tr><tr><td>Timor-Leste</td><td>TL</td></tr><tr><td>Togo</td><td>TG</td></tr><tr><td>Tokelau</td><td>TK</td></tr><tr><td>Tonga</td><td>TO</td></tr><tr><td>Trinidad and Tobago</td><td>TT</td></tr><tr><td>Tunisia</td><td>TN</td></tr><tr><td>Turkey</td><td>TR</td></tr><tr><td>Turkmenistan</td><td>TM</td></tr><tr><td>Turks and Caicos Islands</td><td>TC</td></tr><tr><td>Tuvalu</td><td>TV</td></tr><tr><td>Uganda</td><td>UG</td></tr><tr><td>Ukraine</td><td>UA</td></tr><tr><td>United Arab Emirates</td><td>AE</td></tr><tr><td>United Kingdom</td><td>GB</td></tr><tr><td>United States</td><td>US</td></tr><tr><td>United States Minor Outlying Islands</td><td>UM</td></tr><tr><td>Uruguay</td><td>UY</td></tr><tr><td>Uzbekistan</td><td>UZ</td></tr><tr><td>Vanuatu</td><td>VU</td></tr><tr><td>Venezuela, Bolivarian Republic of</td><td>VE</td></tr><tr><td>Viet Nam</td><td>VN</td></tr><tr><td>Virgin Islands, British</td><td>VG</td></tr><tr><td>Virgin Islands, U.S.</td><td>VI</td></tr><tr><td>Wallis and Futuna</td><td>WF</td></tr><tr><td>Western Sahara</td><td>EH</td></tr><tr><td>Yemen</td><td>YE</td></tr><tr><td>Zambia</td><td>ZM</td></tr><tr><td>Zimbabwe</td><td>ZW</td></tr><tr><td>Åland Islands</td><td>AX</td></tr></tbody></table></div>"
      ]
     },
     "metadata": {
      "application/vnd.databricks.v1+output": {
       "addedWidgets": {},
       "aggData": [],
       "aggError": "",
       "aggOverflow": false,
       "aggSchema": [],
       "aggSeriesLimitReached": false,
       "aggType": "",
       "arguments": {},
       "columnCustomDisplayInfos": {},
       "data": [
        [
         "Afghanistan",
         "AF"
        ],
        [
         "Albania",
         "AL"
        ],
        [
         "Algeria",
         "DZ"
        ],
        [
         "American Samoa",
         "AS"
        ],
        [
         "Andorra",
         "AD"
        ],
        [
         "Angola",
         "AO"
        ],
        [
         "Anguilla",
         "AI"
        ],
        [
         "Antarctica",
         "AQ"
        ],
        [
         "Antigua and Barbuda",
         "AG"
        ],
        [
         "Argentina",
         "AR"
        ],
        [
         "Armenia",
         "AM"
        ],
        [
         "Aruba",
         "AW"
        ],
        [
         "Australia",
         "AU"
        ],
        [
         "Austria",
         "AT"
        ],
        [
         "Azerbaijan",
         "AZ"
        ],
        [
         "Bahamas",
         "BS"
        ],
        [
         "Bahrain",
         "BH"
        ],
        [
         "Bangladesh",
         "BD"
        ],
        [
         "Barbados",
         "BB"
        ],
        [
         "Belarus",
         "BY"
        ],
        [
         "Belgium",
         "BE"
        ],
        [
         "Belize",
         "BZ"
        ],
        [
         "Benin",
         "BJ"
        ],
        [
         "Bermuda",
         "BM"
        ],
        [
         "Bhutan",
         "BT"
        ],
        [
         "Bolivia, Plurinational State of",
         "BO"
        ],
        [
         "Bonaire, Sint Eustatius and Saba",
         "BQ"
        ],
        [
         "Bosnia and Herzegovina",
         "BA"
        ],
        [
         "Botswana",
         "BW"
        ],
        [
         "Bouvet Island",
         "BV"
        ],
        [
         "Brazil",
         "BR"
        ],
        [
         "British Indian Ocean Territory",
         "IO"
        ],
        [
         "Brunei Darussalam",
         "BN"
        ],
        [
         "Bulgaria",
         "BG"
        ],
        [
         "Burkina Faso",
         "BF"
        ],
        [
         "Burundi",
         "BI"
        ],
        [
         "Cambodia",
         "KH"
        ],
        [
         "Cameroon",
         "CM"
        ],
        [
         "Canada",
         "CA"
        ],
        [
         "Cape Verde",
         "CV"
        ],
        [
         "Cayman Islands",
         "KY"
        ],
        [
         "Central African Republic",
         "CF"
        ],
        [
         "Chad",
         "TD"
        ],
        [
         "Chile",
         "CL"
        ],
        [
         "China",
         "CN"
        ],
        [
         "Christmas Island",
         "CX"
        ],
        [
         "Cocos (Keeling) Islands",
         "CC"
        ],
        [
         "Colombia",
         "CO"
        ],
        [
         "Comoros",
         "KM"
        ],
        [
         "Congo",
         "CG"
        ],
        [
         "Congo, the Democratic Republic of the",
         "CD"
        ],
        [
         "Cook Islands",
         "CK"
        ],
        [
         "Costa Rica",
         "CR"
        ],
        [
         "Croatia",
         "HR"
        ],
        [
         "Cuba",
         "CU"
        ],
        [
         "Curaçao",
         "CW"
        ],
        [
         "Cyprus",
         "CY"
        ],
        [
         "Czech Republic",
         "CZ"
        ],
        [
         "Côte d'Ivoire",
         "CI"
        ],
        [
         "Denmark",
         "DK"
        ],
        [
         "Djibouti",
         "DJ"
        ],
        [
         "Dominica",
         "DM"
        ],
        [
         "Dominican Republic",
         "DO"
        ],
        [
         "Ecuador",
         "EC"
        ],
        [
         "Egypt",
         "EG"
        ],
        [
         "El Salvador",
         "SV"
        ],
        [
         "Equatorial Guinea",
         "GQ"
        ],
        [
         "Eritrea",
         "ER"
        ],
        [
         "Estonia",
         "EE"
        ],
        [
         "Ethiopia",
         "ET"
        ],
        [
         "Falkland Islands (Malvinas)",
         "FK"
        ],
        [
         "Faroe Islands",
         "FO"
        ],
        [
         "Fiji",
         "FJ"
        ],
        [
         "Finland",
         "FI"
        ],
        [
         "France",
         "FR"
        ],
        [
         "French Guiana",
         "GF"
        ],
        [
         "French Polynesia",
         "PF"
        ],
        [
         "French Southern Territories",
         "TF"
        ],
        [
         "Gabon",
         "GA"
        ],
        [
         "Gambia",
         "GM"
        ],
        [
         "Georgia",
         "GE"
        ],
        [
         "Germany",
         "DE"
        ],
        [
         "Ghana",
         "GH"
        ],
        [
         "Gibraltar",
         "GI"
        ],
        [
         "Greece",
         "GR"
        ],
        [
         "Greenland",
         "GL"
        ],
        [
         "Grenada",
         "GD"
        ],
        [
         "Guadeloupe",
         "GP"
        ],
        [
         "Guam",
         "GU"
        ],
        [
         "Guatemala",
         "GT"
        ],
        [
         "Guernsey",
         "GG"
        ],
        [
         "Guinea",
         "GN"
        ],
        [
         "Guinea-Bissau",
         "GW"
        ],
        [
         "Guyana",
         "GY"
        ],
        [
         "Haiti",
         "HT"
        ],
        [
         "Heard Island and McDonald Islands",
         "HM"
        ],
        [
         "Holy See (Vatican City State)",
         "VA"
        ],
        [
         "Honduras",
         "HN"
        ],
        [
         "Hong Kong",
         "HK"
        ],
        [
         "Hungary",
         "HU"
        ],
        [
         "Iceland",
         "IS"
        ],
        [
         "India",
         "IN"
        ],
        [
         "Indonesia",
         "ID"
        ],
        [
         "Iran, Islamic Republic of",
         "IR"
        ],
        [
         "Iraq",
         "IQ"
        ],
        [
         "Ireland",
         "IE"
        ],
        [
         "Isle of Man",
         "IM"
        ],
        [
         "Israel",
         "IL"
        ],
        [
         "Italy",
         "IT"
        ],
        [
         "Jamaica",
         "JM"
        ],
        [
         "Japan",
         "JP"
        ],
        [
         "Jersey",
         "JE"
        ],
        [
         "Jordan",
         "JO"
        ],
        [
         "Kazakhstan",
         "KZ"
        ],
        [
         "Kenya",
         "KE"
        ],
        [
         "Kiribati",
         "KI"
        ],
        [
         "Korea, Democratic People's Republic of",
         "KP"
        ],
        [
         "Korea, Republic of",
         "KR"
        ],
        [
         "Kuwait",
         "KW"
        ],
        [
         "Kyrgyzstan",
         "KG"
        ],
        [
         "Lao People's Democratic Republic",
         "LA"
        ],
        [
         "Latvia",
         "LV"
        ],
        [
         "Lebanon",
         "LB"
        ],
        [
         "Lesotho",
         "LS"
        ],
        [
         "Liberia",
         "LR"
        ],
        [
         "Libya",
         "LY"
        ],
        [
         "Liechtenstein",
         "LI"
        ],
        [
         "Lithuania",
         "LT"
        ],
        [
         "Luxembourg",
         "LU"
        ],
        [
         "Macao",
         "MO"
        ],
        [
         "Macedonia, the Former Yugoslav Republic of",
         "MK"
        ],
        [
         "Madagascar",
         "MG"
        ],
        [
         "Malawi",
         "MW"
        ],
        [
         "Malaysia",
         "MY"
        ],
        [
         "Maldives",
         "MV"
        ],
        [
         "Mali",
         "ML"
        ],
        [
         "Malta",
         "MT"
        ],
        [
         "Marshall Islands",
         "MH"
        ],
        [
         "Martinique",
         "MQ"
        ],
        [
         "Mauritania",
         "MR"
        ],
        [
         "Mauritius",
         "MU"
        ],
        [
         "Mayotte",
         "YT"
        ],
        [
         "Mexico",
         "MX"
        ],
        [
         "Micronesia, Federated States of",
         "FM"
        ],
        [
         "Moldova, Republic of",
         "MD"
        ],
        [
         "Monaco",
         "MC"
        ],
        [
         "Mongolia",
         "MN"
        ],
        [
         "Montenegro",
         "ME"
        ],
        [
         "Montserrat",
         "MS"
        ],
        [
         "Morocco",
         "MA"
        ],
        [
         "Mozambique",
         "MZ"
        ],
        [
         "Myanmar",
         "MM"
        ],
        [
         "Namibia",
         "NA"
        ],
        [
         "Nauru",
         "NR"
        ],
        [
         "Nepal",
         "NP"
        ],
        [
         "Netherlands",
         "NL"
        ],
        [
         "New Caledonia",
         "NC"
        ],
        [
         "New Zealand",
         "NZ"
        ],
        [
         "Nicaragua",
         "NI"
        ],
        [
         "Niger",
         "NE"
        ],
        [
         "Nigeria",
         "NG"
        ],
        [
         "Niue",
         "NU"
        ],
        [
         "Norfolk Island",
         "NF"
        ],
        [
         "Northern Mariana Islands",
         "MP"
        ],
        [
         "Norway",
         "NO"
        ],
        [
         "Oman",
         "OM"
        ],
        [
         "Pakistan",
         "PK"
        ],
        [
         "Palau",
         "PW"
        ],
        [
         "Palestine, State of",
         "PS"
        ],
        [
         "Panama",
         "PA"
        ],
        [
         "Papua New Guinea",
         "PG"
        ],
        [
         "Paraguay",
         "PY"
        ],
        [
         "Peru",
         "PE"
        ],
        [
         "Philippines",
         "PH"
        ],
        [
         "Pitcairn",
         "PN"
        ],
        [
         "Poland",
         "PL"
        ],
        [
         "Portugal",
         "PT"
        ],
        [
         "Puerto Rico",
         "PR"
        ],
        [
         "Qatar",
         "QA"
        ],
        [
         "Romania",
         "RO"
        ],
        [
         "Russian Federation",
         "RU"
        ],
        [
         "Rwanda",
         "RW"
        ],
        [
         "Réunion",
         "RE"
        ],
        [
         "Saint Barthélemy",
         "BL"
        ],
        [
         "Saint Helena, Ascension and Tristan da Cunha",
         "SH"
        ],
        [
         "Saint Kitts and Nevis",
         "KN"
        ],
        [
         "Saint Lucia",
         "LC"
        ],
        [
         "Saint Martin (French part)",
         "MF"
        ],
        [
         "Saint Pierre and Miquelon",
         "PM"
        ],
        [
         "Saint Vincent and the Grenadines",
         "VC"
        ],
        [
         "Samoa",
         "WS"
        ],
        [
         "San Marino",
         "SM"
        ],
        [
         "Sao Tome and Principe",
         "ST"
        ],
        [
         "Saudi Arabia",
         "SA"
        ],
        [
         "Senegal",
         "SN"
        ],
        [
         "Serbia",
         "RS"
        ],
        [
         "Seychelles",
         "SC"
        ],
        [
         "Sierra Leone",
         "SL"
        ],
        [
         "Singapore",
         "SG"
        ],
        [
         "Sint Maarten (Dutch part)",
         "SX"
        ],
        [
         "Slovakia",
         "SK"
        ],
        [
         "Slovenia",
         "SI"
        ],
        [
         "Solomon Islands",
         "SB"
        ],
        [
         "Somalia",
         "SO"
        ],
        [
         "South Africa",
         "ZA"
        ],
        [
         "South Georgia and the South Sandwich Islands",
         "GS"
        ],
        [
         "South Sudan",
         "SS"
        ],
        [
         "Spain",
         "ES"
        ],
        [
         "Sri Lanka",
         "LK"
        ],
        [
         "Sudan",
         "SD"
        ],
        [
         "Suriname",
         "SR"
        ],
        [
         "Svalbard and Jan Mayen",
         "SJ"
        ],
        [
         "Swaziland",
         "SZ"
        ],
        [
         "Sweden",
         "SE"
        ],
        [
         "Switzerland",
         "CH"
        ],
        [
         "Syrian Arab Republic",
         "SY"
        ],
        [
         "Taiwan, Province of China",
         "TW"
        ],
        [
         "Tajikistan",
         "TJ"
        ],
        [
         "Tanzania, United Republic of",
         "TZ"
        ],
        [
         "Thailand",
         "TH"
        ],
        [
         "Timor-Leste",
         "TL"
        ],
        [
         "Togo",
         "TG"
        ],
        [
         "Tokelau",
         "TK"
        ],
        [
         "Tonga",
         "TO"
        ],
        [
         "Trinidad and Tobago",
         "TT"
        ],
        [
         "Tunisia",
         "TN"
        ],
        [
         "Turkey",
         "TR"
        ],
        [
         "Turkmenistan",
         "TM"
        ],
        [
         "Turks and Caicos Islands",
         "TC"
        ],
        [
         "Tuvalu",
         "TV"
        ],
        [
         "Uganda",
         "UG"
        ],
        [
         "Ukraine",
         "UA"
        ],
        [
         "United Arab Emirates",
         "AE"
        ],
        [
         "United Kingdom",
         "GB"
        ],
        [
         "United States",
         "US"
        ],
        [
         "United States Minor Outlying Islands",
         "UM"
        ],
        [
         "Uruguay",
         "UY"
        ],
        [
         "Uzbekistan",
         "UZ"
        ],
        [
         "Vanuatu",
         "VU"
        ],
        [
         "Venezuela, Bolivarian Republic of",
         "VE"
        ],
        [
         "Viet Nam",
         "VN"
        ],
        [
         "Virgin Islands, British",
         "VG"
        ],
        [
         "Virgin Islands, U.S.",
         "VI"
        ],
        [
         "Wallis and Futuna",
         "WF"
        ],
        [
         "Western Sahara",
         "EH"
        ],
        [
         "Yemen",
         "YE"
        ],
        [
         "Zambia",
         "ZM"
        ],
        [
         "Zimbabwe",
         "ZW"
        ],
        [
         "Åland Islands",
         "AX"
        ]
       ],
       "datasetInfos": [],
       "dbfsResultPath": null,
       "isJsonSchema": true,
       "metadata": {},
       "overflow": false,
       "plotOptions": {
        "customPlotOptions": {},
        "displayType": "table",
        "pivotAggregation": null,
        "pivotColumns": null,
        "xColumns": null,
        "yColumns": null
       },
       "removedWidgets": [],
       "schema": [
        {
         "metadata": "{}",
         "name": "Name",
         "type": "\"string\""
        },
        {
         "metadata": "{}",
         "name": "Code",
         "type": "\"string\""
        }
       ],
       "type": "table"
      }
     },
     "output_type": "display_data"
    }
   ],
   "source": [
    "CountryCodes = spark.read.format('CSV') \\\n",
    "    .option('inferSchema', 'True') \\\n",
    "    .option('header', 'True') \\\n",
    "    .option('sep', ',') \\\n",
    "    .load('/FileStore/tables/countryCodes.csv')\n",
    "\n",
    "display(CountryCodes)"
   ]
  },
  {
   "cell_type": "markdown",
   "metadata": {
    "application/vnd.databricks.v1+cell": {
     "cellMetadata": {
      "byteLimit": 2048000,
      "rowLimit": 10000
     },
     "inputWidgets": {},
     "nuid": "57f234df-68c5-4879-8e13-cd3c4965ed74",
     "showTitle": false,
     "title": ""
    }
   },
   "source": [
    "### Análise Exploratória"
   ]
  },
  {
   "cell_type": "code",
   "execution_count": 0,
   "metadata": {
    "application/vnd.databricks.v1+cell": {
     "cellMetadata": {
      "byteLimit": 2048000,
      "rowLimit": 10000
     },
     "inputWidgets": {},
     "nuid": "83262f1d-804e-4783-a053-f3946aa586fc",
     "showTitle": false,
     "title": ""
    }
   },
   "outputs": [
    {
     "output_type": "stream",
     "name": "stdout",
     "output_type": "stream",
     "text": [
      "+-------+-------------------+\n|summary|              Title|\n+-------+-------------------+\n|  count|                343|\n|   mean|               null|\n| stddev|               null|\n|    min|            41 cafe|\n|    max|ටිරොන්ගේ වඩේ තට්ටුව|\n+-------+-------------------+\n\n+-------+------------------+\n|summary|       Total_score|\n+-------+------------------+\n|  count|               343|\n|   mean| 4.258885004082504|\n| stddev|0.6005719633166074|\n|    min|               1.0|\n|    max|               5.0|\n+-------+------------------+\n\n+-------+------------------+\n|summary|     Reviews_count|\n+-------+------------------+\n|  count|               343|\n|   mean|191.28862973760934|\n| stddev|482.36961522161863|\n|    min|                 0|\n|    max|              3505|\n+-------+------------------+\n\n+-------+--------------------+\n|summary|              Street|\n+-------+--------------------+\n|  count|                 340|\n|   mean|                null|\n| stddev|                null|\n|    min|#L1-19, The Mall ...|\n|    max|     no.49/1 Ward Pl|\n+-------+--------------------+\n\n+-------+-----------+\n|summary|       City|\n+-------+-----------+\n|  count|        343|\n|   mean|       null|\n| stddev|       null|\n|    min|    Colombo|\n|    max|nedolakanda|\n+-------+-----------+\n\n+-------+------------+\n|summary|Country_code|\n+-------+------------+\n|  count|         343|\n|   mean|        null|\n| stddev|        null|\n|    min|          LK|\n|    max|          LK|\n+-------+------------+\n\n+-------+--------------------+\n|summary|             Website|\n+-------+--------------------+\n|  count|                  97|\n|   mean|                null|\n| stddev|                null|\n|    min| http://baguette.lk/|\n|    max|https://www.yamu....|\n+-------+--------------------+\n\n+-------+---------------+\n|summary|          Phone|\n+-------+---------------+\n|  count|            242|\n|   mean|           null|\n| stddev|           null|\n|    min| (206) 602-2593|\n|    max|+94 78 959 5656|\n+-------+---------------+\n\n+-------+----------------+\n|summary|   Category_name|\n+-------+----------------+\n|  count|             343|\n|   mean|            null|\n| stddev|            null|\n|    min|        Art cafe|\n|    max|Video game store|\n+-------+----------------+\n\n"
     ]
    }
   ],
   "source": [
    "# Busca por possiveis problemas nos dados.\n",
    "for column in CoffeeData.columns:\n",
    "    CoffeeData.describe(column).show()"
   ]
  },
  {
   "cell_type": "code",
   "execution_count": 0,
   "metadata": {
    "application/vnd.databricks.v1+cell": {
     "cellMetadata": {
      "byteLimit": 2048000,
      "rowLimit": 10000
     },
     "inputWidgets": {},
     "nuid": "67049739-a02a-40f0-8fc9-249204efc511",
     "showTitle": false,
     "title": ""
    }
   },
   "outputs": [
    {
     "output_type": "stream",
     "name": "stdout",
     "output_type": "stream",
     "text": [
      "Title 0\nTotal_score 0\nReviews_count 0\nStreet 3\nCity 0\nCountry_code 0\nWebsite 246\nPhone 101\nCategory_name 0\n"
     ]
    }
   ],
   "source": [
    "# Visualização de valores nulos\n",
    "for coluna in CoffeeData.columns:\n",
    "    print(coluna, CoffeeData.filter(CoffeeData[coluna].isNull()).count())"
   ]
  },
  {
   "cell_type": "code",
   "execution_count": 0,
   "metadata": {
    "application/vnd.databricks.v1+cell": {
     "cellMetadata": {
      "byteLimit": 2048000,
      "rowLimit": 10000
     },
     "inputWidgets": {},
     "nuid": "0c968192-3db4-4ca3-89fa-756cb4bb7ec3",
     "showTitle": false,
     "title": ""
    }
   },
   "outputs": [
    {
     "output_type": "stream",
     "name": "stdout",
     "output_type": "stream",
     "text": [
      "116 281 334 340\n"
     ]
    }
   ],
   "source": [
    "from pyspark.sql.functions import col, desc\n",
    "\n",
    "totalLinhas01 = CoffeeData.filter(col('Total_score') >= 4.5 ).orderBy(desc('Total_score')).count()\n",
    "totalLinhas02 = CoffeeData.filter(col('Total_score') >= 4 ).orderBy(desc('Total_score')).count()\n",
    "totalLinhas03 = CoffeeData.filter(col('Total_score') >= 3 ).orderBy(desc('Total_score')).count()\n",
    "totalLinhas04 = CoffeeData.filter(col('Total_score') >= 2 ).orderBy(desc('Total_score')).count()\n",
    "\n",
    "print(totalLinhas01, totalLinhas02, totalLinhas03, totalLinhas04)"
   ]
  },
  {
   "cell_type": "code",
   "execution_count": 0,
   "metadata": {
    "application/vnd.databricks.v1+cell": {
     "cellMetadata": {
      "byteLimit": 2048000,
      "rowLimit": 10000
     },
     "inputWidgets": {},
     "nuid": "a81a375d-a0c3-4ced-a08b-15ed6749bcc6",
     "showTitle": false,
     "title": ""
    }
   },
   "outputs": [
    {
     "output_type": "display_data",
     "data": {
      "text/html": [
       "<style scoped>\n",
       "  .table-result-container {\n",
       "    max-height: 300px;\n",
       "    overflow: auto;\n",
       "  }\n",
       "  table, th, td {\n",
       "    border: 1px solid black;\n",
       "    border-collapse: collapse;\n",
       "  }\n",
       "  th, td {\n",
       "    padding: 5px;\n",
       "  }\n",
       "  th {\n",
       "    text-align: left;\n",
       "  }\n",
       "</style><div class='table-result-container'><table class='table-result'><thead style='background-color: white'><tr><th>Title</th><th>Total_score</th><th>Reviews_count</th><th>Street</th><th>City</th><th>Country_code</th><th>Website</th><th>Phone</th><th>Category_name</th><th>Country</th></tr></thead><tbody><tr><td>Coco Cafe- Street Star</td><td>4.6</td><td>11</td><td>VVQ5+326, Elfindale Ave</td><td>Colombo</td><td>LK</td><td>https://www.facebook.com/cococafe.lk?mibextid=LQQJ4d</td><td>+94 76 777 2225</td><td>Cafe</td><td>Sri Lanka</td></tr><tr><td>Cafe Celo09</td><td>4.258885</td><td>0</td><td>VVRC+8M5</td><td>Colombo</td><td>LK</td><td>null</td><td>null</td><td>Coffee shop</td><td>Sri Lanka</td></tr><tr><td>Cafe 1959 by Raux Brothers</td><td>4.4</td><td>248</td><td>746 Galle Rd</td><td>Colombo</td><td>LK</td><td>https://cafe-1959-by-raux-brothers.business.site/?utm_source=gmb&utm_medium=referral</td><td>+94 112 590 520</td><td>Coffee shop</td><td>Sri Lanka</td></tr><tr><td>Cafe Lab</td><td>2.8</td><td>8</td><td>null</td><td>Colombo</td><td>LK</td><td>null</td><td>+94 78 810 0800</td><td>Coffee shop</td><td>Sri Lanka</td></tr><tr><td>The Nook Cakery and Cafe</td><td>4.9</td><td>34</td><td>29 Visakha Private Rd</td><td>Colombo</td><td>LK</td><td>null</td><td>null</td><td>Coffee shop</td><td>Sri Lanka</td></tr><tr><td>De Vos Cafe</td><td>4.4</td><td>95</td><td>34 De Vos Ave</td><td>Colombo</td><td>LK</td><td>null</td><td>+94 112 550 033</td><td>Cafe</td><td>Sri Lanka</td></tr><tr><td>Cafe tasty</td><td>3.7</td><td>30</td><td>60 Vajira Rd</td><td>Colombo</td><td>LK</td><td>null</td><td>+94 117 642 752</td><td>Cafe</td><td>Sri Lanka</td></tr><tr><td>BOO Cafe</td><td>4.4</td><td>42</td><td>No. 237 Galle Rd</td><td>Colombo</td><td>LK</td><td>null</td><td>+94 76 187 2879</td><td>Restaurant</td><td>Sri Lanka</td></tr><tr><td>BK Cafe - Havelock City Mall</td><td>4.258885</td><td>0</td><td>Havelock City, Havelock Rd</td><td>Colombo</td><td>LK</td><td>null</td><td>null</td><td>Cafe</td><td>Sri Lanka</td></tr><tr><td>Cafe at Lanka Hospitals</td><td>3.5</td><td>10</td><td>578 Elvitigala Mawatha</td><td>Colombo</td><td>LK</td><td>null</td><td>null</td><td>Cafe</td><td>Sri Lanka</td></tr><tr><td>Coffee Bae - The Cafe</td><td>4.7</td><td>15</td><td>61A, Ramakrishna Road, Marine Dr</td><td>Colombo</td><td>LK</td><td>https://www.thebubbleshot.co/</td><td>+94 77 755 5696</td><td>Coffee shop</td><td>Sri Lanka</td></tr><tr><td>Rabbit Mood Cafe</td><td>4.258885</td><td>0</td><td>00300, Liberty Arcade, Level 1 Shop No 5, 282 R. A. De Mel Mawatha</td><td>Colombo</td><td>LK</td><td>https://www.facebook.com/Rabbitmoodcafe</td><td>+94 76 842 8595</td><td>Coffee shop</td><td>Sri Lanka</td></tr><tr><td>Wood Cafe</td><td>4.258885</td><td>0</td><td>237wardplace colombo,07</td><td>Colombo</td><td>LK</td><td>null</td><td>+94 70 209 6993</td><td>Cafe</td><td>Sri Lanka</td></tr><tr><td>Cafe 111 by tea</td><td>5.0</td><td>1</td><td>12b Perahera Mawatha</td><td>Colombo</td><td>LK</td><td>null</td><td>null</td><td>Coffee shop</td><td>Sri Lanka</td></tr><tr><td>Tokiwa Cafe</td><td>4.258885</td><td>0</td><td>213 Galle Rd</td><td>Colombo</td><td>LK</td><td>null</td><td>null</td><td>Cafe</td><td>Sri Lanka</td></tr><tr><td>CAFE COLOMBO</td><td>4.8</td><td>1010</td><td>null</td><td>Colombo</td><td>LK</td><td>null</td><td>+94 71 111 9911</td><td>Cafe</td><td>Sri Lanka</td></tr><tr><td>Cafe Kai</td><td>4.4</td><td>218</td><td>Sir Chittampalam A Gardiner Mawath</td><td>Colombo</td><td>LK</td><td>https://shop.hiltoncolombo1.com/Food-and-Beverage</td><td>+94 112 492 492</td><td>Cafe</td><td>Sri Lanka</td></tr><tr><td>Techno Cafe</td><td>4.3</td><td>10</td><td>475 Union Pl</td><td>Colombo</td><td>LK</td><td>null</td><td>null</td><td>Cafe</td><td>Sri Lanka</td></tr><tr><td>Cafe by Raffles</td><td>4.1</td><td>21</td><td>No. 42 Nawam Mawatha</td><td>Colombo</td><td>LK</td><td>https://www.rafflescolombo.com/cafe-by-raffles-industrial/</td><td>+94 113 602 601</td><td>Cafe</td><td>Sri Lanka</td></tr><tr><td>Lake View Cafe</td><td>3.3</td><td>4</td><td>WV92+C7H, DHPL, Nawam Mawatha</td><td>Colombo</td><td>LK</td><td>null</td><td>null</td><td>Cafe</td><td>Sri Lanka</td></tr><tr><td>Office Cafe</td><td>5.0</td><td>1</td><td>213 Galle Rd</td><td>Colombo</td><td>LK</td><td>null</td><td>+94 77 999 9177</td><td>Cafe</td><td>Sri Lanka</td></tr><tr><td>Cafe EN -縁-</td><td>5.0</td><td>5</td><td>1st Floor - 282/5, Kollupitiya Road, Marine Drive</td><td>Colombo</td><td>LK</td><td>https://granbellhotel.lk/dining/cafe/</td><td>+94 112 397 397</td><td>Cafe</td><td>Sri Lanka</td></tr><tr><td>The Verandah Cafe</td><td>5.0</td><td>1</td><td>115 Rosmead Pl</td><td>Colombo</td><td>LK</td><td>null</td><td>+94 112 686 883</td><td>Cafe</td><td>Sri Lanka</td></tr><tr><td>Aará Garden Cafe</td><td>5.0</td><td>1</td><td>10 Ananda Coomaraswamy Mawatha</td><td>Colombo</td><td>LK</td><td>null</td><td>+94 77 315 2724</td><td>Coffee shop</td><td>Sri Lanka</td></tr><tr><td>Anthony's Cafe</td><td>4.6</td><td>28</td><td>8, 8 Cameron Pl</td><td>Colombo</td><td>LK</td><td>null</td><td>+94 75 707 5597</td><td>Cafe</td><td>Sri Lanka</td></tr><tr><td>The Stage Cafe Cake Bar Colombo 07</td><td>5.0</td><td>4</td><td>20D Guildford Cres</td><td>Colombo</td><td>LK</td><td>null</td><td>+94 114 383 865</td><td>Coffee shop</td><td>Sri Lanka</td></tr><tr><td>Tito's Cafe</td><td>4.4</td><td>44</td><td>137 Sir James Pieris Mawatha</td><td>Colombo</td><td>LK</td><td>https://www.marriott.com/en-us/hotels/cmbcy-courtyard-colombo/dining/</td><td>null</td><td>Coffee shop</td><td>Sri Lanka</td></tr><tr><td>Chenitha Cafe</td><td>4.258885</td><td>0</td><td>colombo 3</td><td>Colombo</td><td>LK</td><td>null</td><td>+94 78 959 5656</td><td>Cafe</td><td>Sri Lanka</td></tr><tr><td>Sun Rise Cafe</td><td>3.7</td><td>6</td><td>WV33+W6R</td><td>Colombo</td><td>LK</td><td>null</td><td>null</td><td>Cafe</td><td>Sri Lanka</td></tr><tr><td>Cafe Cotta</td><td>4.0</td><td>20</td><td>Dr NM Perera Mawatha Rd</td><td>Colombo</td><td>LK</td><td>https://cafe-cotta.business.site/?utm_source=gmb&utm_medium=referral</td><td>+94 77 548 0568</td><td>Cafe</td><td>Sri Lanka</td></tr><tr><td>Baguette French Bakery & Cafe</td><td>4.5</td><td>270</td><td>31 Queen's Rd</td><td>Colombo</td><td>LK</td><td>http://baguette.lk/</td><td>+94 77 730 2922</td><td>Cafe</td><td>Sri Lanka</td></tr><tr><td>ZOYO Cafe</td><td>4.8</td><td>20</td><td>89 Elvitigala Mawatha</td><td>Colombo</td><td>LK</td><td>null</td><td>+94 76 787 5555</td><td>Cafe</td><td>Sri Lanka</td></tr><tr><td>Cinnamon cafe</td><td>4.8</td><td>5</td><td>WV5F+G97</td><td>Colombo</td><td>LK</td><td>null</td><td>null</td><td>Cafe</td><td>Sri Lanka</td></tr><tr><td>Monkeybean Cafe</td><td>4.2</td><td>329</td><td>16 Sellamuttu Ave</td><td>Colombo</td><td>LK</td><td>https://www.facebook.com/monkeybeanlk/</td><td>+94 76 413 0060</td><td>Coffee shop</td><td>Sri Lanka</td></tr><tr><td>Peppermint Cafe</td><td>4.1</td><td>1641</td><td>76 Wijerama Mawatha</td><td>Colombo</td><td>LK</td><td>http://www.peppermintcafe.lk/</td><td>+94 75 632 0420</td><td>Coffee shop</td><td>Sri Lanka</td></tr><tr><td>Cafe Shaze</td><td>4.1</td><td>487</td><td>56 Horton Pl</td><td>Colombo</td><td>LK</td><td>null</td><td>+94 76 776 6765</td><td>Cafe</td><td>Sri Lanka</td></tr><tr><td>Tasty Cafe</td><td>3.5</td><td>4</td><td>Tasty Caterers, 18/A Evergreen Park Rd</td><td>Colombo</td><td>LK</td><td>null</td><td>+94 117 644 701</td><td>Cafe</td><td>Sri Lanka</td></tr><tr><td>Seed Cafe</td><td>4.6</td><td>850</td><td>60 Horton Pl</td><td>Colombo</td><td>LK</td><td>https://www.instagram.com/seedcafesl/?hl=en</td><td>+94 117 773 470</td><td>Cafe</td><td>Sri Lanka</td></tr><tr><td>THE CAKE BOUTIQUE</td><td>4.8</td><td>40</td><td>31A, 06 Stratford Ave</td><td>Colombo</td><td>LK</td><td>https://instagram.com/cakeboutique_radhi?igshid=YmMyMTA2M2Y=</td><td>+94 70 222 4640</td><td>Cafe</td><td>Sri Lanka</td></tr><tr><td>Peace cafe</td><td>4.258885</td><td>0</td><td>57/6, 5 Polhengoda Rd</td><td>Colombo</td><td>LK</td><td>null</td><td>+94 77 946 5908</td><td>Cafe</td><td>Sri Lanka</td></tr><tr><td>Noble Cafe</td><td>5.0</td><td>3</td><td>23 Ramakrishna Rd</td><td>Colombo</td><td>LK</td><td>null</td><td>null</td><td>Cafe</td><td>Sri Lanka</td></tr><tr><td>Cafe Rafaella</td><td>4.6</td><td>65</td><td>145 Thimbirigasyaya Rd</td><td>Colombo</td><td>LK</td><td>https://www.facebook.com/caferafaella/</td><td>+94 77 033 5366</td><td>Cafe</td><td>Sri Lanka</td></tr><tr><td>A Healing Café - Hotel MaRadha</td><td>4.6</td><td>38</td><td>31, St. Kilda's Lane, Marine Drive</td><td>Colombo</td><td>LK</td><td>https://maradha.lk/healing_cafe/</td><td>+94 112 550 136</td><td>Cafe</td><td>Sri Lanka</td></tr><tr><td>The Wild Monkey</td><td>4.0</td><td>4</td><td>Independence Ave</td><td>Colombo</td><td>LK</td><td>http://www.thewildmonket.lk/</td><td>+94 74 418 8764</td><td>Coffee shop</td><td>Sri Lanka</td></tr><tr><td>The German Bakery</td><td>4.5</td><td>340</td><td>461 Thimbirigasyaya Rd</td><td>Colombo</td><td>LK</td><td>http://www.germanbakery.lk/</td><td>+94 77 288 5461</td><td>Cafe</td><td>Sri Lanka</td></tr><tr><td>Cafe 97</td><td>4.4</td><td>208</td><td>97 Fife Rd</td><td>Colombo</td><td>LK</td><td>http://www.tastycaterers.lk/</td><td>+94 117 642 742</td><td>Cafe</td><td>Sri Lanka</td></tr><tr><td>Cafe nine</td><td>4.258885</td><td>0</td><td>20a Joseph Fraser Rd</td><td>Colombo</td><td>LK</td><td>null</td><td>null</td><td>Cafe</td><td>Sri Lanka</td></tr><tr><td>Ella Bakers Cafe</td><td>5.0</td><td>2</td><td>VVHG+86G</td><td>Colombo</td><td>LK</td><td>null</td><td>+94 71 212 2228</td><td>Cafe</td><td>Sri Lanka</td></tr><tr><td>Walking Path Cafe</td><td>3.0</td><td>2</td><td>WV38+363, Independence Walk</td><td>Colombo</td><td>LK</td><td>null</td><td>+94 112 330 550</td><td>Restaurant</td><td>Sri Lanka</td></tr><tr><td>Cafe 4 U Wellawatta</td><td>3.8</td><td>151</td><td>511 Galle Rd</td><td>Colombo</td><td>LK</td><td>null</td><td>+94 70 633 8633</td><td>Restaurant</td><td>Sri Lanka</td></tr><tr><td>Leenos cafe</td><td>5.0</td><td>2</td><td>06 Lily Ave</td><td>Colombo</td><td>LK</td><td>null</td><td>+94 76 756 4621</td><td>Coffee shop</td><td>Sri Lanka</td></tr><tr><td>Nestle Lanka's Flagship Kiosk Cafe Goodness</td><td>5.0</td><td>2</td><td>30 Prof Stanley Wijesundera Mawatha</td><td>Colombo</td><td>LK</td><td>null</td><td>+94 77 930 8347</td><td>Coffee shop</td><td>Sri Lanka</td></tr><tr><td>Longden Tea House</td><td>4.0</td><td>28</td><td>VVWC+PPM</td><td>Colombo</td><td>LK</td><td>null</td><td>null</td><td>Tea house</td><td>Sri Lanka</td></tr><tr><td>Everyday Bakery & Cafe</td><td>3.7</td><td>76</td><td>VVG8+JF6, Fussel's Ln</td><td>Colombo</td><td>LK</td><td>null</td><td>+94 77 908 1122</td><td>Bakery</td><td>Sri Lanka</td></tr><tr><td>Nishans cafe</td><td>5.0</td><td>2</td><td>6 Sri Bodhirukkarama Rd</td><td>Colombo</td><td>LK</td><td>null</td><td>null</td><td>Cafe</td><td>Sri Lanka</td></tr><tr><td>Cafe Island</td><td>4.1</td><td>15</td><td>473 Thimbirigasyaya Rd</td><td>Colombo</td><td>LK</td><td>null</td><td>+94 70 798 4138</td><td>Cafe</td><td>Sri Lanka</td></tr><tr><td>Rancrisp Cafe</td><td>4.0</td><td>1</td><td>WV29+WFQ</td><td>Colombo</td><td>LK</td><td>null</td><td>null</td><td>Cafe</td><td>Sri Lanka</td></tr><tr><td>Nescafe kiosk(Cafe Goodness)</td><td>3.9</td><td>11</td><td>30 Prof Stanley Wijesundera Mawatha</td><td>Colombo</td><td>LK</td><td>null</td><td>+94 74 131 9515</td><td>Coffee shop</td><td>Sri Lanka</td></tr><tr><td>Cray Cafe</td><td>4.258885</td><td>0</td><td>3 Iswari Rd</td><td>Colombo</td><td>LK</td><td>https://www.facebook.com/CrayFishCeylon</td><td>+94 114 151 543</td><td>Restaurant</td><td>Sri Lanka</td></tr><tr><td>Tea Avenue</td><td>4.3</td><td>3505</td><td>08 Jawatta Rd</td><td>Colombo</td><td>LK</td><td>http://www.tea-avenue.com/</td><td>+94 77 336 7879</td><td>Tea house</td><td>Sri Lanka</td></tr><tr><td>Café La Defense</td><td>4.4</td><td>543</td><td>124 Park Rd</td><td>Colombo</td><td>LK</td><td>null</td><td>+94 112 550 150</td><td>Coffee shop</td><td>Sri Lanka</td></tr><tr><td>Sinthu Cafe</td><td>5.0</td><td>1</td><td>VVG8+F64, Hampden Ln</td><td>Colombo</td><td>LK</td><td>null</td><td>null</td><td>Cafe</td><td>Sri Lanka</td></tr><tr><td>Café Chocolate</td><td>4.4</td><td>13</td><td>8 Stratford Ave</td><td>Colombo</td><td>LK</td><td>null</td><td>+94 71 996 9798</td><td>Cafe</td><td>Sri Lanka</td></tr><tr><td>Chocoholics - Havelock Road</td><td>4.4</td><td>1163</td><td>506 Havelock Rd</td><td>Colombo</td><td>LK</td><td>http://www.chocoholicscafe.com/</td><td>+94 114 332 261</td><td>Cafe</td><td>Sri Lanka</td></tr><tr><td>The Park Cafe</td><td>3.2</td><td>6</td><td>21/8B W.A. Silva Mawatha</td><td>Nugegoda</td><td>LK</td><td>null</td><td>+94 112 815 313</td><td>Cafe</td><td>Sri Lanka</td></tr><tr><td>Cafe Kinross</td><td>4.6</td><td>128</td><td>6 Kinross Ave</td><td>Colombo</td><td>LK</td><td>null</td><td>+94 77 161 8527</td><td>Restaurant</td><td>Sri Lanka</td></tr><tr><td>THE CAULDRON</td><td>4.5</td><td>1186</td><td>06, 68 Stratford Ave</td><td>Colombo</td><td>LK</td><td>http://www.thecauldron.lk/</td><td>+94 70 241 7433</td><td>Cafe</td><td>Sri Lanka</td></tr><tr><td>Flavours Cafe</td><td>4.1</td><td>9</td><td>61 Horton Pl</td><td>Colombo</td><td>LK</td><td>null</td><td>+94 114 848 486</td><td>Ice cream shop</td><td>Sri Lanka</td></tr><tr><td>Ayubowan Gallface - Cafe</td><td>4.2</td><td>31</td><td>WRGV+GGH</td><td>Colombo</td><td>LK</td><td>null</td><td>null</td><td>Cafe</td><td>Sri Lanka</td></tr><tr><td>Dwivedi Cafe</td><td>4.258885</td><td>0</td><td>Colombo Lotus Tower</td><td>Colombo</td><td>LK</td><td>null</td><td>null</td><td>Cafe</td><td>Sri Lanka</td></tr><tr><td>Cocoffee Cafe</td><td>5.0</td><td>1</td><td>80 Nawam Mawatha</td><td>Colombo</td><td>LK</td><td>https://www.instagram.com/cocoffee.colombo</td><td>+94 71 454 1665</td><td>Cafe</td><td>Sri Lanka</td></tr><tr><td>Tivoli Cafe</td><td>3.0</td><td>2</td><td>WV72+374</td><td>Colombo</td><td>LK</td><td>null</td><td>null</td><td>Cafe</td><td>Sri Lanka</td></tr><tr><td>Ritz Cafe</td><td>4.258885</td><td>0</td><td>WVJC+744, Qurashani Moulana Ln</td><td>Colombo</td><td>LK</td><td>null</td><td>+94 76 698 3459</td><td>Cafe</td><td>Sri Lanka</td></tr><tr><td>SSC - Lawn Cafe - Coffee Coner</td><td>5.0</td><td>3</td><td>35 Maitland Pl</td><td>Colombo</td><td>LK</td><td>null</td><td>null</td><td>Coffee shop</td><td>Sri Lanka</td></tr><tr><td>Parakum cafe</td><td>4.258885</td><td>0</td><td>140 EW Perera Mawatha</td><td>Colombo</td><td>LK</td><td>null</td><td>null</td><td>Cafe</td><td>Sri Lanka</td></tr><tr><td>Mac Cafe</td><td>4.0</td><td>7</td><td>327 Sri Vjiragnana Mawatha</td><td>Colombo</td><td>LK</td><td>null</td><td>null</td><td>Cafe</td><td>Sri Lanka</td></tr><tr><td>Wizard Chamber Cafe</td><td>4.0</td><td>21</td><td>1145 A, 1145 Maradana Rd</td><td>Colombo</td><td>LK</td><td>https://www.facebook.com/WizardChamber/</td><td>+94 70 158 0270</td><td>Juice shop</td><td>Sri Lanka</td></tr><tr><td>Amaradasa's cafe</td><td>5.0</td><td>1</td><td>100 Keyzer St</td><td>Colombo</td><td>LK</td><td>null</td><td>null</td><td>Cafe</td><td>Sri Lanka</td></tr><tr><td>Banana Cafe</td><td>4.258885</td><td>0</td><td>9 Kirthi Ln</td><td>Colombo</td><td>LK</td><td>null</td><td>+94 71 888 1111</td><td>Cafe</td><td>Sri Lanka</td></tr><tr><td>Felicita</td><td>4.0</td><td>23</td><td>74 Flower Rd</td><td>Colombo</td><td>LK</td><td>https://luxecolombo.com/</td><td>+94 77 782 1989</td><td>Coffee shop</td><td>Sri Lanka</td></tr><tr><td>Brew 1867 by Dilmah – Flower Road</td><td>4.5</td><td>592</td><td>57/1 Sir Ernest de Silva Mawatha</td><td>Colombo</td><td>LK</td><td>https://www.brew1867.com/</td><td>+94 112 693 010</td><td>Fast food restaurant</td><td>Sri Lanka</td></tr><tr><td>Thurstan Cafeteria</td><td>5.0</td><td>2</td><td>Thurstan College, Thurstan Rd</td><td>Colombo</td><td>LK</td><td>null</td><td>null</td><td>Cafe</td><td>Sri Lanka</td></tr><tr><td>AOBA Cafe & Bar</td><td>4.1</td><td>78</td><td>#L1-19, The Mall at One, Galle Rd</td><td>Colombo</td><td>LK</td><td>null</td><td>+94 77 746 2622</td><td>Cafe</td><td>Sri Lanka</td></tr><tr><td>WAFL Café One Galle Face Mall</td><td>3.8</td><td>101</td><td>Ground floor,One Galle Face Mall</td><td>Colombo</td><td>LK</td><td>null</td><td>+94 71 716 5555</td><td>Cafe</td><td>Sri Lanka</td></tr><tr><td>Tropical Fresh Juice Bar and Cafe</td><td>3.2</td><td>95</td><td>No. 02 Rockwood Pl</td><td>Colombo</td><td>LK</td><td>http://www.tropicalfresh.lk/</td><td>+94 112 688 566</td><td>Cafe</td><td>Sri Lanka</td></tr><tr><td>TORENA CAFE & RESTAURANT</td><td>4.4</td><td>78</td><td>126 York St</td><td>Colombo</td><td>LK</td><td>null</td><td>+94 71 779 2999</td><td>Restaurant</td><td>Sri Lanka</td></tr><tr><td>Cafe Bean Street</td><td>3.5</td><td>2</td><td>WRFV+RM2</td><td>Colombo</td><td>LK</td><td>null</td><td>null</td><td>Coffee shop</td><td>Sri Lanka</td></tr><tr><td>Java Lounge - Fort - Sri Lanka's Largest Coffee House Chain</td><td>4.4</td><td>796</td><td>7 Hospital St</td><td>Colombo</td><td>LK</td><td>http://www.javalounge.lk/</td><td>+94 112 333 051</td><td>Coffee shop</td><td>Sri Lanka</td></tr><tr><td>Dini Cafe</td><td>4.0</td><td>1</td><td>155a Kynsey Rd</td><td>Colombo</td><td>LK</td><td>null</td><td>null</td><td>Coffee shop</td><td>Sri Lanka</td></tr><tr><td>Cafe Bagatalle</td><td>4.3</td><td>174</td><td>No 18 Bagatalle Rd</td><td>Colombo</td><td>LK</td><td>null</td><td>+94 113 818 815</td><td>Cafeteria</td><td>Sri Lanka</td></tr><tr><td>URI Cafe Lounge</td><td>5.0</td><td>1</td><td>19 a, 2 Alfred Pl</td><td>Colombo</td><td>LK</td><td>null</td><td>null</td><td>Coffee shop</td><td>Sri Lanka</td></tr><tr><td>BEST COFFEE SHOP</td><td>4.258885</td><td>0</td><td>WV6C+F9R</td><td>Colombo</td><td>LK</td><td>null</td><td>null</td><td>Coffee shop</td><td>Sri Lanka</td></tr><tr><td>PLUTO CAFE</td><td>5.0</td><td>15</td><td>Dematagoda Pl</td><td>Colombo</td><td>LK</td><td>https://pluto-cafe-cafe.business.site/?utm_source=gmb&utm_medium=referral</td><td>+94 77 888 1435</td><td>Cafe</td><td>Sri Lanka</td></tr><tr><td>Joy’s Cafe</td><td>4.258885</td><td>0</td><td>no.49/1 Ward Pl</td><td>Colombo</td><td>LK</td><td>https://instagram.com/cafejoyyyyy?igshid=MzRlODBiNWFlZA==</td><td>null</td><td>Coffee shop</td><td>Sri Lanka</td></tr><tr><td>Bitcoin Cafe by Wheelys</td><td>1.0</td><td>1</td><td>261, R. A. De Mel Mawatha, Duplication Rd</td><td>Colombo</td><td>LK</td><td>null</td><td>+94 77 994 2980</td><td>Cafe</td><td>Sri Lanka</td></tr><tr><td>The Central Perk</td><td>4.2</td><td>1075</td><td>9/6 A 16th Lane, Marine Drive</td><td>Colombo</td><td>LK</td><td>https://the-central-perk.business.site/?utm_source=gmb&utm_medium=referral</td><td>+94 112 574 554</td><td>Coffee shop</td><td>Sri Lanka</td></tr><tr><td>De Artemis Cafe Gallery & Pub</td><td>4.1</td><td>13</td><td>No.79A Srimath Anagarika Dharmapala Mawatha</td><td>Colombo</td><td>LK</td><td>null</td><td>+94 72 406 0092</td><td>Restaurant</td><td>Sri Lanka</td></tr><tr><td>LOGOS CAFE</td><td>4.5</td><td>2</td><td>120 Srimath Anagarika Dharmapala Mawatha</td><td>Colombo</td><td>LK</td><td>null</td><td>+94 77 302 6453</td><td>Restaurant</td><td>Sri Lanka</td></tr><tr><td>The Embazzy</td><td>4.3</td><td>2240</td><td>76/1 Flower Rd</td><td>Colombo</td><td>LK</td><td>null</td><td>+94 112 576 027</td><td>Restaurant</td><td>Sri Lanka</td></tr><tr><td>Milk & Honey Café</td><td>4.4</td><td>290</td><td>44a Horton Pl</td><td>Colombo</td><td>LK</td><td>http://shopmilkstore.com/</td><td>+94 112 696 256</td><td>Cafe</td><td>Sri Lanka</td></tr><tr><td>Black Cat Cafe + Stay</td><td>4.4</td><td>812</td><td>11 Wijerama Mawatha</td><td>Colombo</td><td>LK</td><td>https://www.facebook.com/blackcatcolombo</td><td>+94 112 675 111</td><td>Cafe</td><td>Sri Lanka</td></tr><tr><td>London House Of Coffee</td><td>4.4</td><td>1190</td><td>2B R.G. Senanayake Mawatha</td><td>Colombo</td><td>LK</td><td>http://www.londonhouseofcoffee.com/</td><td>+94 112 693 072</td><td>Cafe</td><td>Sri Lanka</td></tr><tr><td>Grind</td><td>4.7</td><td>419</td><td>Access Towers 2</td><td>Colombo</td><td>LK</td><td>null</td><td>+94 76 105 1064</td><td>Coffee shop</td><td>Sri Lanka</td></tr><tr><td>Cafe 113</td><td>5.0</td><td>3</td><td>113 Hunupitiya Lake Rd</td><td>Colombo</td><td>LK</td><td>null</td><td>null</td><td>Family restaurant</td><td>Sri Lanka</td></tr><tr><td>Brown Sugar</td><td>4.8</td><td>108</td><td>Col T G Jayawardena</td><td>Colombo</td><td>LK</td><td>http://www.brownsugarcolombo.com/</td><td>+94 76 817 8101</td><td>Cafe</td><td>Sri Lanka</td></tr><tr><td>Rangiri Cafe රන්ගිරි කැෆේ</td><td>3.9</td><td>17</td><td>WVC3+XFP, Dr Colvin R de Silva Mawatha</td><td>Colombo</td><td>LK</td><td>null</td><td>null</td><td>Cafe</td><td>Sri Lanka</td></tr><tr><td>Culture Cafe Colombo</td><td>5.0</td><td>2</td><td>A14 Perahera Mawatha</td><td>Colombo</td><td>LK</td><td>null</td><td>+94 112 440 365</td><td>Cafe</td><td>Sri Lanka</td></tr><tr><td>Sathkara Cafe</td><td>5.0</td><td>5</td><td>18 Boyd Pl</td><td>Colombo</td><td>LK</td><td>null</td><td>+94 112 422 011</td><td>Restaurant</td><td>Sri Lanka</td></tr><tr><td>CHATZ</td><td>4.0</td><td>783</td><td>121a Sir James Pieris Mawatha</td><td>Colombo</td><td>LK</td><td>null</td><td>+94 117 226 888</td><td>Cafe</td><td>Sri Lanka</td></tr><tr><td>Cafe Leafy</td><td>4.258885</td><td>0</td><td>203 Sir James Pieris Mawatha</td><td>Colombo</td><td>LK</td><td>http://www.rococoresidence.com/</td><td>+94 70 558 8899</td><td>Cafe</td><td>Sri Lanka</td></tr><tr><td>Colombo Foods</td><td>4.258885</td><td>0</td><td>VVM4+Q6C, Frankfort Pl</td><td>Colombo</td><td>LK</td><td>null</td><td>null</td><td>Coffee shop</td><td>Sri Lanka</td></tr><tr><td>The Coffee Bean & Tea Leaf</td><td>4.3</td><td>3387</td><td>4 Maitland Cres</td><td>Colombo</td><td>LK</td><td>null</td><td>null</td><td>Cafe</td><td>Sri Lanka</td></tr><tr><td>PJ's Cafe</td><td>4.0</td><td>9</td><td>No. 10 R. A. De Mel Mawatha</td><td>Colombo</td><td>LK</td><td>null</td><td>+94 77 720 8131</td><td>Cafe</td><td>Sri Lanka</td></tr><tr><td>Spice Cafe & Bakers</td><td>3.8</td><td>5</td><td>7 Park Rd</td><td>Colombo</td><td>LK</td><td>null</td><td>+94 77 593 3992</td><td>Sri Lankan restaurant</td><td>Sri Lanka</td></tr><tr><td>Il Caffè</td><td>3.0</td><td>15</td><td>City Center</td><td>Colombo</td><td>LK</td><td>http://www.ceccatocolombo.shop/</td><td>+94 77 722 9472</td><td>Coffee shop</td><td>Sri Lanka</td></tr><tr><td>Arpico Crust Cafe</td><td>4.4</td><td>5</td><td>30 Hyde Park Corner</td><td>Colombo</td><td>LK</td><td>null</td><td>null</td><td>Cafe</td><td>Sri Lanka</td></tr><tr><td>Marine Cafe</td><td>4.0</td><td>2</td><td>39 Marine Drive</td><td>Colombo</td><td>LK</td><td>null</td><td>+94 117 024 217</td><td>Restaurant</td><td>Sri Lanka</td></tr><tr><td>Oneup alldaybreakfast</td><td>4.3</td><td>346</td><td>330, 4 Colombo - Galle Main Rd</td><td>Colombo</td><td>LK</td><td>https://m.facebook.com/pages/category/Breakfast---Brunch-Restaurant/ONE-UP-all-day-breakfast-coffee-1604946919806002/</td><td>+94 112 508 201</td><td>Cafe</td><td>Sri Lanka</td></tr><tr><td>Dot's</td><td>4.9</td><td>12</td><td>43 Layards Rd</td><td>Colombo</td><td>LK</td><td>null</td><td>null</td><td>Cafe</td><td>Sri Lanka</td></tr><tr><td>The Brown Bean</td><td>4.6</td><td>201</td><td>104 Srimath Anagarika Dharmapala Mawatha</td><td>Colombo</td><td>LK</td><td>http://fb.com/thebrownbean</td><td>+94 71 622 1626</td><td>Cafe</td><td>Sri Lanka</td></tr><tr><td>Baked Colombo</td><td>4.0</td><td>165</td><td>37A Elibank Rd</td><td>Colombo</td><td>LK</td><td>http://www.baked.lk/</td><td>+94 77 715 4454</td><td>Brunch restaurant</td><td>Sri Lanka</td></tr><tr><td>Barista Staple Street</td><td>4.5</td><td>350</td><td>33 Staple St</td><td>Colombo</td><td>LK</td><td>http://www.barista.lk/</td><td>+94 112 314 007</td><td>Coffee shop</td><td>Sri Lanka</td></tr><tr><td>Coffee Colombo</td><td>3.8</td><td>462</td><td>29, Milagiriya Avenue(On, Marine Drive</td><td>Colombo</td><td>LK</td><td>null</td><td>+94 76 969 6006</td><td>Coffee shop</td><td>Sri Lanka</td></tr><tr><td>Lauries Cafe</td><td>4.258885</td><td>0</td><td>43B Lauries Rd</td><td>Colombo</td><td>LK</td><td>null</td><td>null</td><td>Cafe</td><td>Sri Lanka</td></tr><tr><td>Coco cafe</td><td>4.0</td><td>4</td><td>532 Galle Rd</td><td>Colombo</td><td>LK</td><td>null</td><td>null</td><td>Ice cream shop</td><td>Sri Lanka</td></tr><tr><td>PHISHBUN</td><td>5.0</td><td>26</td><td>105 Bauddhaloka Mawatha</td><td>Colombo</td><td>LK</td><td>null</td><td>+94 77 776 6936</td><td>Restaurant</td><td>Sri Lanka</td></tr><tr><td>The Brown Bean Coffee Shop At WSO2</td><td>3.4</td><td>7</td><td>105 Bauddhaloka Mawatha</td><td>Colombo</td><td>LK</td><td>null</td><td>null</td><td>Coffee shop</td><td>Sri Lanka</td></tr><tr><td>VOC Cafe</td><td>4.2</td><td>446</td><td>Dutch Burgher Union, Thunmulla, 114 Reid Ave</td><td>Colombo</td><td>LK</td><td>http://thedutchburgherunion.org/voc-cafe/</td><td>+94 112 584 511</td><td>Restaurant</td><td>Sri Lanka</td></tr><tr><td>The Gallery Café</td><td>4.4</td><td>2258</td><td>2 Alfred House Rd</td><td>Colombo</td><td>LK</td><td>null</td><td>+94 112 582 162</td><td>Restaurant</td><td>Sri Lanka</td></tr><tr><td>Mfy Cafe</td><td>4.258885</td><td>0</td><td>WVVG+FR6, Stace Rd</td><td>Colombo</td><td>LK</td><td>null</td><td>null</td><td>Cafe</td><td>Sri Lanka</td></tr><tr><td>Mohamed Zain Cafe</td><td>3.8</td><td>10</td><td>WVR4+32P, Sir Ratnajothi Saravanamuttu Mawatha</td><td>Colombo</td><td>LK</td><td>null</td><td>(206) 602-2593</td><td>Cafe</td><td>Sri Lanka</td></tr><tr><td>Chocoholics - Duplication Road</td><td>4.6</td><td>509</td><td>357A R. A. De Mel Mawatha</td><td>Colombo</td><td>LK</td><td>http://www.chocoholicscafe.com/</td><td>+94 117 483 580</td><td>Cafe</td><td>Sri Lanka</td></tr><tr><td>Healthy Cafe</td><td>3.9</td><td>34</td><td>91, AC2</td><td>Colombo</td><td>LK</td><td>null</td><td>null</td><td>Restaurant</td><td>Sri Lanka</td></tr><tr><td>Gayan's Cafe Teek</td><td>4.258885</td><td>0</td><td>279, 10 Grandpass Rd</td><td>Colombo</td><td>LK</td><td>null</td><td>null</td><td>Cafe</td><td>Sri Lanka</td></tr><tr><td>DSR Cafe</td><td>4.258885</td><td>0</td><td>353, AC11</td><td>Colombo</td><td>LK</td><td>null</td><td>+94 77 402 8308</td><td>Cafe</td><td>Sri Lanka</td></tr><tr><td>Green Star</td><td>4.258885</td><td>0</td><td>XV57+965</td><td>Colombo</td><td>LK</td><td>null</td><td>+94 74 205 7300</td><td>Coffee shop</td><td>Sri Lanka</td></tr><tr><td>Divine Cafe</td><td>4.258885</td><td>0</td><td>107 Dhawalasingharama Mawatha</td><td>Colombo</td><td>LK</td><td>null</td><td>null</td><td>Cafe</td><td>Sri Lanka</td></tr><tr><td>Cafe by Dora</td><td>3.0</td><td>2</td><td>147, 161 A0</td><td>Colombo</td><td>LK</td><td>null</td><td>+94 77 167 7994</td><td>Restaurant</td><td>Sri Lanka</td></tr><tr><td>Harpo's Colombo Fort Cafe</td><td>4.0</td><td>392</td><td>Old Dutch Hospital Complex Echelon Square, Hospital St</td><td>Colombo</td><td>LK</td><td>http://www.colombofortcafe.com/</td><td>+94 112 434 946</td><td>Restaurant</td><td>Sri Lanka</td></tr><tr><td>Chocoholics One Galle Face</td><td>4.5</td><td>23</td><td>WRGW+W28, Centre Road</td><td>Colombo</td><td>LK</td><td>null</td><td>null</td><td>Cafe</td><td>Sri Lanka</td></tr><tr><td>Coffee Stop</td><td>4.5</td><td>799</td><td>77 Galle Rd</td><td>Colombo</td><td>LK</td><td>http://www.cinnamonhotels.com/cinnamongrandcolombo/dining/coffee-stop.html</td><td>+94 112 497 382</td><td>Cafe</td><td>Sri Lanka</td></tr><tr><td>NLDB MILK SHOP</td><td>5.0</td><td>1</td><td>WV6M+W52</td><td>Colombo</td><td>LK</td><td>null</td><td>null</td><td>Cafe</td><td>Sri Lanka</td></tr><tr><td>Bo-sevana</td><td>4.258885</td><td>0</td><td>54 Olcott Mawatha</td><td>Colombo</td><td>LK</td><td>null</td><td>+94 75 452 4745</td><td>Coffee shop</td><td>Sri Lanka</td></tr><tr><td>Java Lounge Barnes Place</td><td>4.4</td><td>1471</td><td>76 Barnes Pl</td><td>Colombo</td><td>LK</td><td>http://www.javalounge.lk/</td><td>+94 112 695 861</td><td>Coffee shop</td><td>Sri Lanka</td></tr><tr><td>Let's Eat</td><td>3.0</td><td>2</td><td>193 Ward Pl</td><td>Colombo</td><td>LK</td><td>null</td><td>+94 77 727 7984</td><td>Coffee shop</td><td>Sri Lanka</td></tr><tr><td>HIFI CAFE (maxza)</td><td>4.258885</td><td>0</td><td>35 Stewart St</td><td>Colombo</td><td>LK</td><td>null</td><td>+94 75 759 6609</td><td>Restaurant</td><td>Sri Lanka</td></tr><tr><td>A-One Cafe</td><td>3.9</td><td>615</td><td>78 Justice Akbar Mawatha</td><td>Colombo</td><td>LK</td><td>https://www.facebook.com/Aonecafepure</td><td>+94 112 307 374</td><td>Restaurant</td><td>Sri Lanka</td></tr><tr><td>Chaiwala Colombo - One Galle Face Mall</td><td>4.8</td><td>47</td><td>L20, 1A, One Galle Face Mall, Centre Road</td><td>Colombo</td><td>LK</td><td>https://chaiwalacolombo.com/</td><td>null</td><td>Cafe</td><td>Sri Lanka</td></tr><tr><td>Goodies</td><td>4.5</td><td>170</td><td>117 Colombo - Batticaloa Hwy</td><td>Colombo</td><td>LK</td><td>http://www.cinnamonhotels.com/cinnamonlakesidecolombo/dining/goodies.html</td><td>+94 112 491 804</td><td>Coffee shop</td><td>Sri Lanka</td></tr><tr><td>t-lounge & bar by Dilmah – One Galle Face</td><td>4.2</td><td>163</td><td>L1-20, One Galle Face, No.1A ගාලු පාර</td><td>Colombo</td><td>LK</td><td>null</td><td>+94 112 432 028</td><td>Cafe</td><td>Sri Lanka</td></tr><tr><td>Araliya cafe</td><td>4.4</td><td>7</td><td>46/42, 02</td><td>Colombo</td><td>LK</td><td>null</td><td>null</td><td>Restaurant</td><td>Sri Lanka</td></tr><tr><td>Cafe Colombo</td><td>4.258885</td><td>0</td><td>66 Galle Rd</td><td>Colombo</td><td>LK</td><td>null</td><td>null</td><td>Bakery</td><td>Sri Lanka</td></tr><tr><td>Bavan cafe</td><td>4.258885</td><td>0</td><td>11 Vauxhall Ln</td><td>Colombo</td><td>LK</td><td>null</td><td>+94 77 663 4443</td><td>Vegetarian restaurant</td><td>Sri Lanka</td></tr><tr><td>Cafe Seventy Seven</td><td>3.4</td><td>39</td><td>WVC3+4HC</td><td>Colombo</td><td>LK</td><td>null</td><td>+94 115 765 765</td><td>Restaurant</td><td>Sri Lanka</td></tr><tr><td>Sri Lanka Telecom Cafeteria</td><td>4.5</td><td>4</td><td>WVC3+JCP</td><td>Colombo</td><td>LK</td><td>null</td><td>null</td><td>Restaurant</td><td>Sri Lanka</td></tr><tr><td>Cannys Bakers and Restaurant</td><td>4.258885</td><td>0</td><td>185 Union Pl</td><td>Colombo</td><td>LK</td><td>null</td><td>+94 112 693 722</td><td>Cafe</td><td>Sri Lanka</td></tr><tr><td>Green Cabin | Chatham Street</td><td>4.1</td><td>358</td><td>NO 88 Chatham St</td><td>Colombo</td><td>LK</td><td>http://www.greencabin.lk/</td><td>+94 77 378 6147</td><td>Cafe</td><td>Sri Lanka</td></tr><tr><td>The Kafé</td><td>4.2</td><td>16</td><td>123 Kumaran Ratnam Rd</td><td>Colombo</td><td>LK</td><td>https://www.hotelnippon.lk/the-kafe/</td><td>+94 112 332 603</td><td>Cafe</td><td>Sri Lanka</td></tr><tr><td>Upali's Canteen</td><td>2.0</td><td>1</td><td>WRQW+783, Bandaranayake Quay</td><td>Colombo</td><td>LK</td><td>null</td><td>+94 77 713 0019</td><td>Coffee shop</td><td>Sri Lanka</td></tr><tr><td>t-lounge by Dilmah – Chatham Street ️</td><td>4.4</td><td>980</td><td>Chatham St</td><td>Colombo</td><td>LK</td><td>http://dilmaht-lounge.com/</td><td>+94 112 447 168</td><td>Cafe</td><td>Sri Lanka</td></tr><tr><td>Hotel De Excellent</td><td>3.6</td><td>14</td><td>WVH7+5RG</td><td>Colombo</td><td>LK</td><td>null</td><td>null</td><td>Cafe</td><td>Sri Lanka</td></tr><tr><td>Cafe On The Range</td><td>5.0</td><td>9</td><td>181/5 Hikkaduwe Sri Sumangala Himi Mawatha</td><td>Colombo</td><td>LK</td><td>https://www.instagram.com/cafe_on_the_range</td><td>+94 77 774 4877</td><td>Cafe</td><td>Sri Lanka</td></tr><tr><td>CAFE 142</td><td>4.258885</td><td>0</td><td>142 Sri Vajiragnana Mawatha</td><td>Colombo</td><td>LK</td><td>null</td><td>+94 72 817 9234</td><td>Fast food restaurant</td><td>Sri Lanka</td></tr><tr><td>Squeezey cafe and juice bar</td><td>5.0</td><td>3</td><td>487 Dematagoda Rd</td><td>Colombo</td><td>LK</td><td>null</td><td>null</td><td>Cafe</td><td>Sri Lanka</td></tr><tr><td>Rizvi Snacks</td><td>3.6</td><td>12</td><td>WVG8+V42, Ven Baddegama Wimalawansa Mawatha</td><td>Colombo</td><td>LK</td><td>null</td><td>+94 77 656 4440</td><td>Cafe</td><td>Sri Lanka</td></tr><tr><td>Kusum Cafe</td><td>5.0</td><td>1</td><td>WVGC+MW4</td><td>Colombo</td><td>LK</td><td>null</td><td>null</td><td>Pastry shop</td><td>Sri Lanka</td></tr><tr><td>City Cakes & Desserts</td><td>4.258885</td><td>0</td><td>463 2nd Division Maradana</td><td>Colombo</td><td>LK</td><td>null</td><td>+94 77 213 3811</td><td>Cafe</td><td>Sri Lanka</td></tr><tr><td>Tayo bear</td><td>4.8</td><td>107</td><td>No 71, 2 R.G. Senanayake Mawatha</td><td>Colombo</td><td>LK</td><td>http://www.tayobear.com/</td><td>+94 77 199 2907</td><td>Dog cafe</td><td>Sri Lanka</td></tr><tr><td>The kava coffee</td><td>5.0</td><td>18</td><td>Hedges Ct</td><td>Colombo</td><td>LK</td><td>null</td><td>+94 76 384 6871</td><td>Coffee shop</td><td>Sri Lanka</td></tr><tr><td>The Coffee Manor</td><td>4.6</td><td>280</td><td>83 R.G. Senanayake Mawatha</td><td>Colombo</td><td>LK</td><td>null</td><td>+94 112 082 190</td><td>Coffee shop</td><td>Sri Lanka</td></tr><tr><td>Phoenix Hub Gaming Cafe</td><td>4.7</td><td>200</td><td>44 Dr Danister De Silva Mawatha</td><td>Colombo</td><td>LK</td><td>https://www.facebook.com/pnxhub/</td><td>+94 114 244 446</td><td>Video game store</td><td>Sri Lanka</td></tr><tr><td>Shivan cafe</td><td>5.0</td><td>2</td><td>WVPJ+678</td><td>Colombo</td><td>LK</td><td>null</td><td>+94 112 686 197</td><td>Cafe</td><td>Sri Lanka</td></tr><tr><td>Hot Bun Cafe</td><td>4.1</td><td>13</td><td>WVVC+V45</td><td>Colombo</td><td>LK</td><td>null</td><td>+94 71 252 6650</td><td>Cafe</td><td>Sri Lanka</td></tr><tr><td>MTown Gaming & Shisha Lounge</td><td>4.4</td><td>10</td><td>67 1/1 Maligawatta Pl</td><td>Colombo</td><td>LK</td><td>https://www.facebook.com/mtownlounge</td><td>+94 72 656 5777</td><td>Lounge</td><td>Sri Lanka</td></tr><tr><td>The Cafe Lounge</td><td>5.0</td><td>1</td><td>WVPC+873</td><td>Colombo</td><td>LK</td><td>null</td><td>+94 75 706 8505</td><td>Game store</td><td>Sri Lanka</td></tr><tr><td>Panchikawatta</td><td>4.258885</td><td>0</td><td>WVM8+78M</td><td>Colombo</td><td>LK</td><td>null</td><td>null</td><td>Coffee shop</td><td>Sri Lanka</td></tr><tr><td>Cravings Café & Restaurant</td><td>5.0</td><td>4</td><td>47, 12 Abdul Hameed St</td><td>Colombo</td><td>LK</td><td>null</td><td>+94 75 559 4801</td><td>Restaurant</td><td>Sri Lanka</td></tr><tr><td>Cafe Anderson</td><td>5.0</td><td>1</td><td>Anderson Flats D Block, Park Rd</td><td>Colombo</td><td>LK</td><td>null</td><td>+94 76 876 1211</td><td>Takeout Restaurant</td><td>Sri Lanka</td></tr><tr><td>Taste Tots</td><td>5.0</td><td>7</td><td>WVJC+FMG, Keera Kotuwa Road</td><td>Colombo</td><td>LK</td><td>https://www.facebook.com/tastetot/</td><td>+94 77 291 6634</td><td>Cafe</td><td>Sri Lanka</td></tr><tr><td>Najla Soup Cafe</td><td>3.7</td><td>7</td><td>WVQ7+65P, Abdul Hameed St</td><td>Colombo</td><td>LK</td><td>null</td><td>+94 71 554 4757</td><td>Soup shop</td><td>Sri Lanka</td></tr><tr><td>Cafe nine</td><td>3.5</td><td>2</td><td>VVVM+R3H, Kirimandala Mawatha</td><td>Colombo</td><td>LK</td><td>null</td><td>+94 112 449 919</td><td>Bakery</td><td>Sri Lanka</td></tr><tr><td>Best Lankan Food & Beverages (Pvt) Ltd</td><td>5.0</td><td>1</td><td>XVFH+JF5, Mattakkuliya Farm Rd</td><td>Colombo</td><td>LK</td><td>null</td><td>+94 77 772 2030</td><td>Cafe</td><td>Sri Lanka</td></tr><tr><td>Zion Fountain Cafe</td><td>4.4</td><td>58</td><td>4 Vijaya Kumarathunga Mawatha</td><td>Colombo</td><td>LK</td><td>null</td><td>+94 77 751 0850</td><td>Cafe</td><td>Sri Lanka</td></tr><tr><td>Nescafe Machine Rent (Mr.kordon's)</td><td>4.258885</td><td>0</td><td>23, 51 Vystwyke Rd</td><td>Colombo</td><td>LK</td><td>null</td><td>+94 77 798 0561</td><td>Coffee shop</td><td>Sri Lanka</td></tr><tr><td>Cafe Korea</td><td>3.7</td><td>15</td><td>Kirimandala Mawatha</td><td>Colombo</td><td>LK</td><td>null</td><td>+94 77 563 0117</td><td>Korean restaurant</td><td>Sri Lanka</td></tr><tr><td>Ameen’s Love</td><td>4.258885</td><td>0</td><td>XVCG+XJ5</td><td>Colombo</td><td>LK</td><td>null</td><td>null</td><td>Cafe</td><td>Sri Lanka</td></tr><tr><td>Any item sale</td><td>2.0</td><td>1</td><td>Randiya Uyana, Henamulla Ln</td><td>Colombo</td><td>LK</td><td>null</td><td>+94 75 640 5776</td><td>Cafe</td><td>Sri Lanka</td></tr><tr><td>Bar wade kade</td><td>5.0</td><td>1</td><td>XVCG+Q7X, St Mary's Rd</td><td>Colombo</td><td>LK</td><td>null</td><td>null</td><td>Cafe</td><td>Sri Lanka</td></tr><tr><td>Sunshine Bakary</td><td>4.1</td><td>28</td><td>39 St Mary's Ln</td><td>Colombo</td><td>LK</td><td>null</td><td>+94 77 600 8883</td><td>Cafe</td><td>Sri Lanka</td></tr><tr><td>New Indusiri Cafe</td><td>4.4</td><td>9</td><td>Baseline Rd</td><td>Colombo</td><td>LK</td><td>null</td><td>+94 112 667 792</td><td>Vegetarian restaurant</td><td>Sri Lanka</td></tr><tr><td>Caffe Vita</td><td>2.7</td><td>13</td><td>VVV4+P27</td><td>Colombo</td><td>LK</td><td>null</td><td>+94 77 743 3870</td><td>Cafe</td><td>Sri Lanka</td></tr><tr><td>The Family Cafe</td><td>4.258885</td><td>0</td><td>77, 20 Gnanawimala Rd</td><td>Colombo</td><td>LK</td><td>null</td><td>+94 77 551 0414</td><td>Restaurant</td><td>Sri Lanka</td></tr><tr><td>Refresh</td><td>3.0</td><td>2</td><td>328 Jumma Masjid Rd</td><td>Colombo</td><td>LK</td><td>null</td><td>null</td><td>Coffee shop</td><td>Sri Lanka</td></tr><tr><td>The Vibe</td><td>3.6</td><td>7</td><td>VVR9+7V8 Hotel Janaki, Fife Rd</td><td>Colombo</td><td>LK</td><td>http://hoteljanakicolombo.com/the-vibe/</td><td>null</td><td>Cafe</td><td>Sri Lanka</td></tr><tr><td>Holybelly cafe</td><td>4.4</td><td>94</td><td>318 Torrington Ave</td><td>Colombo</td><td>LK</td><td>https://m.facebook.com/Holybelly-656716584719603/</td><td>+94 77 712 2234</td><td>Cafe</td><td>Sri Lanka</td></tr><tr><td>The Blue Swan Lounge and Workspaces</td><td>5.0</td><td>3</td><td>12 Greenlands Ave</td><td>Colombo</td><td>LK</td><td>null</td><td>+94 77 311 6579</td><td>Cafe</td><td>Sri Lanka</td></tr><tr><td>Cafe Hideout</td><td>5.0</td><td>4</td><td>24 Fife Rd</td><td>Colombo</td><td>LK</td><td>null</td><td>null</td><td>Coffee store</td><td>Sri Lanka</td></tr><tr><td>Blue Spoon</td><td>4.7</td><td>58</td><td>90A Jawatta Rd</td><td>Colombo</td><td>LK</td><td>http://instagram.com/bluespoonlk</td><td>+94 77 316 4000</td><td>Cafe</td><td>Sri Lanka</td></tr><tr><td>Cafe Noir Blanc</td><td>4.3</td><td>1291</td><td>No. 216, Rev, Thimbirigasyaya Rd</td><td>Colombo</td><td>LK</td><td>http://cafenoir.lk/</td><td>+94 112 555 188</td><td>Restaurant</td><td>Sri Lanka</td></tr><tr><td>Bars Cafe</td><td>4.0</td><td>27</td><td>158 Thimbirigasyaya Rd</td><td>Colombo</td><td>LK</td><td>null</td><td>+94 114 369 393</td><td>Restaurant</td><td>Sri Lanka</td></tr><tr><td>Tasty Caterers</td><td>4.2</td><td>1019</td><td>88 Fife Rd</td><td>Colombo</td><td>LK</td><td>http://tastycaterers.lk/</td><td>+94 117 644 744</td><td>Cafe</td><td>Sri Lanka</td></tr><tr><td>COOL KADE</td><td>5.0</td><td>3</td><td>423 Jumma Masjid Rd</td><td>Colombo</td><td>LK</td><td>null</td><td>+94 72 051 5243</td><td>Cafe</td><td>Sri Lanka</td></tr><tr><td>Krishna Vegetarian Cafe</td><td>3.9</td><td>19</td><td>5 St. Joseph's St</td><td>Colombo</td><td>LK</td><td>null</td><td>null</td><td>Restaurant</td><td>Sri Lanka</td></tr><tr><td>Cafe zone</td><td>5.0</td><td>4</td><td>A3/F24, GEORGE R.D SILVA MW</td><td>Colombo</td><td>LK</td><td>null</td><td>null</td><td>Sri Lankan restaurant</td><td>Sri Lanka</td></tr><tr><td>Manra Cafe</td><td>5.0</td><td>2</td><td>736 Dr Danister De Silva Mawatha</td><td>Urugodawatta</td><td>LK</td><td>https://instagram.com/manra_cafe?igshid=OGQ5ZDc2ODk2ZA==</td><td>+94 71 460 1191</td><td>Restaurant</td><td>Sri Lanka</td></tr><tr><td>Amabal Cafe</td><td>4.1</td><td>7</td><td>WVV8+G8W, Jethawana Rd</td><td>Colombo</td><td>LK</td><td>null</td><td>null</td><td>Restaurant</td><td>Sri Lanka</td></tr><tr><td>Ape Kopi Grandpass</td><td>4.6</td><td>5</td><td>70 Stace Rd</td><td>Colombo</td><td>LK</td><td>null</td><td>+94 77 914 6786</td><td>Coffee shop</td><td>Sri Lanka</td></tr><tr><td>R.N.R. Cool Corner</td><td>4.258885</td><td>0</td><td>WVR8+C27, Sri Sumanatissa Mawatha</td><td>Colombo</td><td>LK</td><td>null</td><td>null</td><td>Cafe</td><td>Sri Lanka</td></tr><tr><td>A.M.N.Rahumani</td><td>4.258885</td><td>0</td><td>68 Gemunu Patu Mawatha</td><td>Colombo</td><td>LK</td><td>null</td><td>null</td><td>Coffee shop</td><td>Sri Lanka</td></tr><tr><td>Bob's Cafe</td><td>4.258885</td><td>0</td><td>446 Old Moor St</td><td>Colombo</td><td>LK</td><td>null</td><td>null</td><td>Restaurant</td><td>Sri Lanka</td></tr><tr><td>Delish Cafe & Restaurant</td><td>3.8</td><td>147</td><td>null</td><td>Colombo</td><td>LK</td><td>null</td><td>+94 112 441 334</td><td>Restaurant</td><td>Sri Lanka</td></tr><tr><td>Kotahena Cream House</td><td>4.258885</td><td>0</td><td>71 Bonjeen Rd</td><td>Colombo</td><td>LK</td><td>null</td><td>+94 112 472 907</td><td>Cafe</td><td>Sri Lanka</td></tr><tr><td>Black Shedow</td><td>4.258885</td><td>0</td><td>15 Jampettah St</td><td>Colombo</td><td>LK</td><td>null</td><td>null</td><td>Cafe</td><td>Sri Lanka</td></tr><tr><td>Barista at Hatch Works</td><td>4.258885</td><td>0</td><td>14 Sir Baron Jayathilake Mawatha</td><td>Colombo</td><td>LK</td><td>null</td><td>null</td><td>Coffee shop</td><td>Sri Lanka</td></tr><tr><td>The Street Cafe n Kitchen Pvt Ltd</td><td>5.0</td><td>1</td><td>Lake House Building, regent Building 20 1/3 Sir chittampalam gardiner A Mawatha, 2 opposit to</td><td>Colombo</td><td>LK</td><td>null</td><td>+94 112 300 109</td><td>Restaurant</td><td>Sri Lanka</td></tr><tr><td>The Barge Cafe and Restaurant</td><td>4.4</td><td>24</td><td>Block D</td><td>Colombo</td><td>LK</td><td>null</td><td>+94 77 003 9090</td><td>Cafe</td><td>Sri Lanka</td></tr><tr><td>PSD Welfare shop and House of Juice</td><td>4.8</td><td>5</td><td>54 Chatham St</td><td>Colombo</td><td>LK</td><td>null</td><td>+94 72 760 3377</td><td>Cafe</td><td>Sri Lanka</td></tr><tr><td>Brew 1867 by Dilmah – World Trade Center</td><td>4.6</td><td>39</td><td>Level 03 West Block World Trade Center</td><td>Colombo</td><td>LK</td><td>https://www.brew1867.com/</td><td>+94 117 021 406</td><td>Fast food restaurant</td><td>Sri Lanka</td></tr><tr><td>Street cafe and kitchen</td><td>5.0</td><td>1</td><td>Regent Flats</td><td>Colombo</td><td>LK</td><td>null</td><td>+94 112 300 109</td><td>Asian restaurant</td><td>Sri Lanka</td></tr><tr><td>Cafe64 by Galadari Hotel</td><td>3.0</td><td>2</td><td>64 Lotus Rd</td><td>Colombo</td><td>LK</td><td>http://www.galadarihotel.lk/dining/cafe-64-pastry-shop?fbclid=IwAR0RE5z8t5l6R9Jg8Id-HfpV0kVqg8ANXLsIEyuG9rBLvDyvD8jkZNeLbjE</td><td>+94 112 544 544</td><td>Cafe</td><td>Sri Lanka</td></tr><tr><td>The Nosh</td><td>4.2</td><td>23</td><td>World Trade Center East Tower, WTC East Tower, 12/1 Bank of Ceylon Mawatha</td><td>Colombo</td><td>LK</td><td>null</td><td>+94 76 170 0700</td><td>Coffee shop</td><td>Sri Lanka</td></tr><tr><td>Fort Cafe</td><td>4.0</td><td>1</td><td>39 Sir Razik Fareed Mawatha</td><td>Colombo</td><td>LK</td><td>null</td><td>+94 76 199 3103</td><td>Restaurant</td><td>Sri Lanka</td></tr><tr><td>Barista World Trade Center</td><td>4.3</td><td>397</td><td>Level 3 World Trade Center, Bank of Ceylon Mawatha</td><td>Colombo</td><td>LK</td><td>http://www.barista.lk/</td><td>+94 112 332 163</td><td>Cafe</td><td>Sri Lanka</td></tr><tr><td>Nil's Kitchen</td><td>4.258885</td><td>0</td><td>18/28 1st Lane, Evergreen Park Rd</td><td>Colombo</td><td>LK</td><td>null</td><td>+94 77 771 1828</td><td>Cafe</td><td>Sri Lanka</td></tr><tr><td>Side Walk Cafe</td><td>4.4</td><td>8</td><td>No 33 Canal Row</td><td>Colombo</td><td>LK</td><td>null</td><td>null</td><td>Restaurant</td><td>Sri Lanka</td></tr><tr><td>New Murugan Cafe</td><td>4.258885</td><td>0</td><td>30 Sri Kathiresan St</td><td>Colombo</td><td>LK</td><td>null</td><td>+94 77 470 0669</td><td>Indian restaurant</td><td>Sri Lanka</td></tr><tr><td>RASANANDA BAKERS (දර පොරනු cafe)</td><td>4.5</td><td>2</td><td>130 2nd Ln</td><td>Sri Jayawardenepura Kotte</td><td>LK</td><td>null</td><td>+94 77 645 4354</td><td>Bakery</td><td>Sri Lanka</td></tr><tr><td>Menytype</td><td>4.258885</td><td>0</td><td>G-1-3-B, Mihindu Mawatha Shopping Complex</td><td>Colombo</td><td>LK</td><td>null</td><td>+94 112 441 684</td><td>Cafe</td><td>Sri Lanka</td></tr><tr><td>S K M Cafe</td><td>4.5</td><td>4</td><td>103 New Moor St</td><td>Colombo</td><td>LK</td><td>null</td><td>null</td><td>Restaurant</td><td>Sri Lanka</td></tr><tr><td>New Saraswati Cafe</td><td>4.1</td><td>840</td><td>230 Sea St</td><td>Colombo</td><td>LK</td><td>null</td><td>+94 112 435 789</td><td>Vegetarian restaurant</td><td>Sri Lanka</td></tr><tr><td>Mobitel Cafeteria</td><td>3.3</td><td>11</td><td>Lesley Ranagala Mawatha</td><td>Colombo</td><td>LK</td><td>null</td><td>+94 71 285 7555</td><td>Cafe</td><td>Sri Lanka</td></tr><tr><td>Fabela Restaurant & Cafe</td><td>4.258885</td><td>0</td><td>231D Wijayakumarathunga Road</td><td>Colombo</td><td>LK</td><td>null</td><td>+94 76 877 4258</td><td>Restaurant</td><td>Sri Lanka</td></tr><tr><td>Tens Inc</td><td>5.0</td><td>2</td><td>33/5 Somadevi Pl</td><td>Colombo</td><td>LK</td><td>null</td><td>+94 77 612 3247</td><td>Cafe</td><td>Sri Lanka</td></tr><tr><td>The Counter Cafe</td><td>4.3</td><td>24</td><td>30/4 Sri Siddhartha Passage</td><td>Colombo</td><td>LK</td><td>null</td><td>+94 77 790 1607</td><td>Restaurant</td><td>Sri Lanka</td></tr><tr><td>KAILASA The Street Food Café</td><td>3.8</td><td>962</td><td>494 R. A. De Mel Mawatha</td><td>Colombo</td><td>LK</td><td>null</td><td>null</td><td>Restaurant</td><td>Sri Lanka</td></tr><tr><td>Kumbuk Cafe</td><td>4.258885</td><td>0</td><td>No. 60/7 Horton Pl</td><td>Colombo</td><td>LK</td><td>null</td><td>null</td><td>Restaurant</td><td>Sri Lanka</td></tr><tr><td>Kaapi</td><td>4.3</td><td>521</td><td>29, Schofield Place, Marine Drive</td><td>Colombo</td><td>LK</td><td>null</td><td>+94 77 153 3443</td><td>Cafe</td><td>Sri Lanka</td></tr><tr><td>Saswathi Cafe | சாஸ்வதி கபே</td><td>4.0</td><td>1</td><td>171 A2</td><td>Colombo</td><td>LK</td><td>null</td><td>+94 76 544 9951</td><td>Vegetarian restaurant</td><td>Sri Lanka</td></tr><tr><td>Amos chai factory</td><td>4.258885</td><td>0</td><td>VVF8+GCC, 55th Ln</td><td>Colombo</td><td>LK</td><td>null</td><td>null</td><td>Coffee shop</td><td>Sri Lanka</td></tr><tr><td>Colombo Chaiwala</td><td>4.3</td><td>336</td><td>12 Lily Ave</td><td>Colombo</td><td>LK</td><td>null</td><td>null</td><td>Tea house</td><td>Sri Lanka</td></tr><tr><td>Galle Caterers</td><td>3.5</td><td>17</td><td>No. 43 Marine Dr</td><td>Colombo</td><td>LK</td><td>null</td><td>+94 114 367 799</td><td>Cafe</td><td>Sri Lanka</td></tr><tr><td>Matras Cafe</td><td>4.258885</td><td>0</td><td>118 A Galle Rd</td><td>Colombo</td><td>LK</td><td>null</td><td>null</td><td>Restaurant</td><td>Sri Lanka</td></tr><tr><td>Top Collection</td><td>4.258885</td><td>0</td><td>Ambanpitiya, 7851/1 ,colombo rd, Galigamuwa town</td><td>Kegalle</td><td>LK</td><td>null</td><td>+94 70 313 3471</td><td>Art cafe</td><td>Sri Lanka</td></tr><tr><td>Everyday Bakery & Cafe</td><td>3.1</td><td>69</td><td>1, 465 1/1 Galle Rd</td><td>Colombo</td><td>LK</td><td>null</td><td>+94 112 363 996</td><td>Bakery</td><td>Sri Lanka</td></tr><tr><td>WAFL Café Wellawatte</td><td>4.1</td><td>375</td><td>47 42nd Ln</td><td>Colombo</td><td>LK</td><td>null</td><td>+94 117 104 104</td><td>Restaurant</td><td>Sri Lanka</td></tr><tr><td>The Cozy Lounge</td><td>4.258885</td><td>0</td><td>16 Flower Rd</td><td>Colombo</td><td>LK</td><td>null</td><td>null</td><td>Cafe</td><td>Sri Lanka</td></tr><tr><td>Bakers Lab LK</td><td>4.6</td><td>69</td><td>03 Muthuwella Mawatha</td><td>Colombo</td><td>LK</td><td>http://www.bakerslablk.com/</td><td>+94 75 757 4797</td><td>Bakery</td><td>Sri Lanka</td></tr><tr><td>The Coffee Craft</td><td>4.4</td><td>172</td><td>55 St Anthony's Mawatha</td><td>Colombo</td><td>LK</td><td>https://coffeecraft.tinkers.biz/</td><td>+94 76 222 8888</td><td>Cafe</td><td>Sri Lanka</td></tr><tr><td>Lucuma Vegan Cafe</td><td>4.6</td><td>31</td><td>Cambridge Terrace</td><td>Colombo</td><td>LK</td><td>https://instagram.com/lucuma_vegan_cafe?utm_medium=copy_link</td><td>+94 77 133 3668</td><td>Coffee shop</td><td>Sri Lanka</td></tr><tr><td>Rolling Pin</td><td>4.2</td><td>14</td><td>Liberty Plaza, Basement</td><td>Colpetty</td><td>LK</td><td>https://m.facebook.com/Rollingpinlk</td><td>+94 71 720 2303</td><td>Cafe</td><td>Sri Lanka</td></tr><tr><td>Klassy Cafe - Havelock City Mall</td><td>3.4</td><td>13</td><td>Havelock City, Havelock Rd</td><td>Colombo</td><td>LK</td><td>null</td><td>+94 114 252 502</td><td>Pastry shop</td><td>Sri Lanka</td></tr><tr><td>Amal gram store</td><td>4.0</td><td>5</td><td>VVM9+4PH, Edward Ave</td><td>Colombo</td><td>LK</td><td>null</td><td>null</td><td>Coffee shop</td><td>Sri Lanka</td></tr><tr><td>Tea Tent</td><td>4.258885</td><td>0</td><td>VVJ9+X3G</td><td>Colombo</td><td>LK</td><td>null</td><td>null</td><td>Coffee shop</td><td>Sri Lanka</td></tr><tr><td>Twins Cafe</td><td>4.7</td><td>38</td><td>14 Independence Ave</td><td>Colombo</td><td>LK</td><td>null</td><td>+94 76 792 2030</td><td>Restaurant</td><td>Sri Lanka</td></tr><tr><td>Nugegoda</td><td>4.258885</td><td>0</td><td>WVG6+RFQ</td><td>Colombo</td><td>LK</td><td>null</td><td>+94 75 878 5854</td><td>Cafe</td><td>Sri Lanka</td></tr><tr><td>The cafe</td><td>5.0</td><td>3</td><td>273/1 Vauxhall St</td><td>Colombo</td><td>LK</td><td>null</td><td>+94 112 341 342</td><td>Restaurant</td><td>Sri Lanka</td></tr><tr><td>Restaurant Area</td><td>1.0</td><td>1</td><td>WRGH+P32</td><td>Port City Colombo</td><td>LK</td><td>null</td><td>null</td><td>Coffee shop</td><td>Sri Lanka</td></tr><tr><td>Neleez Station</td><td>3.0</td><td>1</td><td>Colombo Lotus Tower, AC6</td><td>Colombo</td><td>LK</td><td>null</td><td>+94 77 728 0953</td><td>Coffee shop</td><td>Sri Lanka</td></tr><tr><td>Cannys Bakers</td><td>3.9</td><td>41</td><td>WVFH+83P</td><td>Colombo</td><td>LK</td><td>null</td><td>null</td><td>Cafe</td><td>Sri Lanka</td></tr><tr><td>Cafe Pixel Printing Solutions (Pvt) Limited</td><td>4.1</td><td>140</td><td>180/3 Arnold Ratnayake Mawatha</td><td>Colombo</td><td>LK</td><td>null</td><td>+94 112 680 061</td><td>Print shop</td><td>Sri Lanka</td></tr><tr><td>NEDOLAKANDA grocery & cafe</td><td>4.258885</td><td>0</td><td>kolonna, road</td><td>nedolakanda</td><td>LK</td><td>null</td><td>+94 77 455 2083</td><td>Grocery store</td><td>Sri Lanka</td></tr><tr><td>Barakath Sweets and Cafe</td><td>5.0</td><td>3</td><td>24 Immamul Aroos Mawatha</td><td>Colombo</td><td>LK</td><td>null</td><td>+94 77 812 9250</td><td>Restaurant</td><td>Sri Lanka</td></tr><tr><td>King Metro Cafe (pure vegetarian)</td><td>4.3</td><td>4</td><td>WVG8+22P</td><td>Colombo</td><td>LK</td><td>null</td><td>null</td><td>Restaurant</td><td>Sri Lanka</td></tr><tr><td>Nithiya</td><td>4.258885</td><td>0</td><td>765 Bodhirajarama Mawatha</td><td>Colombo</td><td>LK</td><td>null</td><td>null</td><td>Coffee shop</td><td>Sri Lanka</td></tr><tr><td>Dark Roast Cafe</td><td>4.2</td><td>84</td><td>20A Laurie’s Place, R. A. De Mel Mawatha</td><td>Colombo</td><td>LK</td><td>https://www.instagram.com/darkroastcafelk/</td><td>+94 77 666 7567</td><td>Coffee shop</td><td>Sri Lanka</td></tr><tr><td>Orion Tower Cafeteria</td><td>4.4</td><td>8</td><td>WVRH+5H3</td><td>Colombo</td><td>LK</td><td>null</td><td>null</td><td>Cafe</td><td>Sri Lanka</td></tr><tr><td>NEW BON CAFE</td><td>5.0</td><td>1</td><td>67c Colombo Main Rd</td><td>Kaduwela</td><td>LK</td><td>null</td><td>null</td><td>Cafe</td><td>Sri Lanka</td></tr><tr><td>Cafe Chocolattie</td><td>4.4</td><td>333</td><td>38 Frankfort Pl</td><td>Colombo</td><td>LK</td><td>null</td><td>+94 112 592 222</td><td>Dessert shop</td><td>Sri Lanka</td></tr><tr><td>The Mithai Cafe</td><td>4.6</td><td>49</td><td>18 Lauries Rd</td><td>Colombo</td><td>LK</td><td>https://the-mithai-cafe.business.site/?utm_source=gmb&utm_medium=referral</td><td>+94 75 581 1191</td><td>Cafe</td><td>Sri Lanka</td></tr><tr><td>Cloud Cafe</td><td>4.1</td><td>122</td><td>Hotel & Spa, Colombo Court, 32 Alfred House Ave</td><td>Colombo</td><td>LK</td><td>https://www.colombocourthotel.com/cloudcafe</td><td>+94 114 645 333</td><td>Restaurant</td><td>Sri Lanka</td></tr><tr><td>Java Lounge - Bambalapitiya</td><td>4.4</td><td>1621</td><td>No.27 & 29 Lauries Rd</td><td>Colombo</td><td>LK</td><td>http://www.javalounge.lk/</td><td>+94 112 552 501</td><td>Coffee shop</td><td>Sri Lanka</td></tr><tr><td>Tasha Cafe</td><td>4.3</td><td>29</td><td>Ground Floor, 196 Park Rd</td><td>Colombo</td><td>LK</td><td>null</td><td>+94 75 363 1000</td><td>Cafe</td><td>Sri Lanka</td></tr><tr><td>6th Lane Cafe</td><td>3.6</td><td>28</td><td>3 Alfred Pl</td><td>Colombo</td><td>LK</td><td>null</td><td>null</td><td>Cafe</td><td>Sri Lanka</td></tr><tr><td>My friend cafe</td><td>4.8</td><td>48</td><td>18 Bagatalle Rd</td><td>Colombo</td><td>LK</td><td>null</td><td>+94 113 818 815</td><td>Coffee shop</td><td>Sri Lanka</td></tr><tr><td>Barefoot Garden Cafe</td><td>4.6</td><td>714</td><td>704 Galle Rd</td><td>Colombo</td><td>LK</td><td>https://barefootceylon.com/pages/cafe</td><td>+94 112 589 305</td><td>Cafe</td><td>Sri Lanka</td></tr><tr><td>Café on the 5th</td><td>4.2</td><td>3083</td><td>108 5th Ln</td><td>Colombo</td><td>LK</td><td>null</td><td>+94 114 935 684</td><td>Restaurant</td><td>Sri Lanka</td></tr><tr><td>Cafe Zone</td><td>5.0</td><td>1</td><td>20 De Costa Garden</td><td>Colombo</td><td>LK</td><td>null</td><td>null</td><td>Restaurant</td><td>Sri Lanka</td></tr><tr><td>Al Fresco Garden Cafe</td><td>4.2</td><td>45</td><td>No 208, Rev Muruttettuwe, Ananda Nahimi Mawatha</td><td>Colombo</td><td>LK</td><td>https://instagram.com/al.fresco_sl?igshid=MzRlODBiNWFlZA==</td><td>+94 71 456 5762</td><td>Cafe</td><td>Sri Lanka</td></tr><tr><td>E-Cafe</td><td>4.1</td><td>985</td><td>120/A Sri Sambuddhathva Jayanthi Mawatha</td><td>Colombo</td><td>LK</td><td>null</td><td>+94 112 507 525</td><td>Coffee shop</td><td>Sri Lanka</td></tr><tr><td>Myrus Cafe</td><td>5.0</td><td>3</td><td>517 Cube Lane, 5</td><td>Colombo</td><td>LK</td><td>null</td><td>+94 74 104 3570</td><td>Cafe</td><td>Sri Lanka</td></tr><tr><td>Wheelys Café 80</td><td>4.3</td><td>4</td><td>25 Independence Ave</td><td>Colombo</td><td>LK</td><td>null</td><td>+94 76 324 4515</td><td>Takeout Restaurant</td><td>Sri Lanka</td></tr><tr><td>Cafe Kumbuk</td><td>4.5</td><td>1210</td><td>3/1 Thambiah Avenue, Independence Ave</td><td>Colombo</td><td>LK</td><td>https://www.cafekumbuk.com/</td><td>+94 112 685 310</td><td>Cafe</td><td>Sri Lanka</td></tr><tr><td>Sugarcube Cafe</td><td>4.5</td><td>92</td><td>No.15 R.A., 05 R. A. De Mel Mawatha</td><td>Colombo</td><td>LK</td><td>null</td><td>+94 76 432 7997</td><td>Cafe</td><td>Sri Lanka</td></tr><tr><td>LOLLY'S</td><td>4.1</td><td>147</td><td>323 Galle Rd</td><td>Colombo</td><td>LK</td><td>null</td><td>+94 77 740 3403</td><td>Coffee shop</td><td>Sri Lanka</td></tr><tr><td>Kaffi Colombo</td><td>4.4</td><td>117</td><td>G9, Crescat Boulevard, Crescat Boulevard no.89</td><td>Colombo</td><td>LK</td><td>null</td><td>+94 117 743 062</td><td>Cafe</td><td>Sri Lanka</td></tr><tr><td>The Brown Bean Coffee</td><td>4.2</td><td>103</td><td>52 Sir Marcus Fernando Mawatha</td><td>Colombo</td><td>LK</td><td>http://www.fb.com/thebrownbeancoffee</td><td>+94 71 622 1626</td><td>Coffee shop</td><td>Sri Lanka</td></tr><tr><td>Internet Cafe</td><td>3.4</td><td>8</td><td>70 D. S. Senanayake Mawatha</td><td>Colombo</td><td>LK</td><td>null</td><td>null</td><td>Cafe</td><td>Sri Lanka</td></tr><tr><td>K Cafe</td><td>4.1</td><td>14</td><td>WV92+J39, Nawam Mawatha</td><td>Colombo</td><td>LK</td><td>null</td><td>+94 114 386 438</td><td>Cafe</td><td>Sri Lanka</td></tr><tr><td>T.Co By Adra</td><td>4.6</td><td>14</td><td>51a Srimath Anagarika Dharmapala Mawatha</td><td>Colombo</td><td>LK</td><td>https://www.tcobyadra.lk/</td><td>+94 77 999 9079</td><td>Cafe</td><td>Sri Lanka</td></tr><tr><td>Zoo Cafe</td><td>4.258885</td><td>0</td><td>77 Galle Rd</td><td>Colombo</td><td>LK</td><td>null</td><td>+94 77 992 8340</td><td>Coffee shop</td><td>Sri Lanka</td></tr><tr><td>Blackout Bar & Restaurant</td><td>3.8</td><td>468</td><td>36 Ward Pl</td><td>Colombo</td><td>LK</td><td>https://www.yamu.lk/place/blackout-restaurant-cafe</td><td>+94 76 847 1555</td><td>Bar</td><td>Sri Lanka</td></tr><tr><td>Tea Breeze Cafe at Beira Lake</td><td>3.9</td><td>94</td><td>B, 18 Perahera Mawatha</td><td>Colombo</td><td>LK</td><td>http://www.teabreeze.com/Beiralake.aspx</td><td>+94 112 434 074</td><td>Cafe</td><td>Sri Lanka</td></tr><tr><td>Café Konditorei</td><td>3.6</td><td>5</td><td>647 P De S Kularatne Mawatha</td><td>Colombo</td><td>LK</td><td>null</td><td>+94 77 342 7182</td><td>Coffee shop</td><td>Sri Lanka</td></tr><tr><td>Maheli Cafe</td><td>5.0</td><td>2</td><td>112 Vauxhall St</td><td>Colombo</td><td>LK</td><td>null</td><td>+94 77 721 0103</td><td>Cafe</td><td>Sri Lanka</td></tr><tr><td>Cafe Celo09</td><td>4.258885</td><td>0</td><td>WVC6+VRM</td><td>Colombo</td><td>LK</td><td>null</td><td>null</td><td>Coffee shop</td><td>Sri Lanka</td></tr><tr><td>Hut Cafe</td><td>4.258885</td><td>0</td><td>2 Frances Rd</td><td>Colombo</td><td>LK</td><td>null</td><td>null</td><td>Cafe</td><td>Sri Lanka</td></tr><tr><td>Cafe 717</td><td>3.7</td><td>3</td><td>WVC3+G8F</td><td>Colombo</td><td>LK</td><td>null</td><td>null</td><td>Coffee shop</td><td>Sri Lanka</td></tr><tr><td>LA LUNA Pizzeria & Cafe</td><td>4.7</td><td>383</td><td>124 Lauries Rd</td><td>Colombo</td><td>LK</td><td>https://www.instagram.com/la_luna.pizzeria.coffee</td><td>+94 77 887 4430</td><td>Restaurant</td><td>Sri Lanka</td></tr><tr><td>Brew Island</td><td>4.6</td><td>10</td><td>377a Galle Rd</td><td>Colombo</td><td>LK</td><td>null</td><td>null</td><td>Coffee shop</td><td>Sri Lanka</td></tr><tr><td>Askar Cafe</td><td>5.0</td><td>1</td><td>60 St Joseph's St</td><td>Colombo</td><td>LK</td><td>null</td><td>null</td><td>Coffee shop</td><td>Sri Lanka</td></tr><tr><td>Caroma Elite Speciality Coffee</td><td>4.9</td><td>110</td><td>Floating Market, 340/88</td><td>Colombo</td><td>LK</td><td>null</td><td>+94 76 886 6466</td><td>Coffee shop</td><td>Sri Lanka</td></tr><tr><td>Bun Break</td><td>4.8</td><td>6</td><td>No.19 asian mkt, Olcott Mawatha</td><td>Colombo</td><td>LK</td><td>null</td><td>+94 76 807 9242</td><td>Cafe</td><td>Sri Lanka</td></tr><tr><td>The Barnesbury</td><td>4.3</td><td>2550</td><td>91 Barnes Pl</td><td>Colombo</td><td>LK</td><td>https://thebarnesbury.com/</td><td>+94 112 682 144</td><td>Restaurant</td><td>Sri Lanka</td></tr><tr><td>Urban Cafe</td><td>3.0</td><td>1</td><td>75 Olcott Mawatha</td><td>Colombo</td><td>LK</td><td>null</td><td>null</td><td>Restaurant</td><td>Sri Lanka</td></tr><tr><td>Golden Cafe</td><td>4.2</td><td>340</td><td>01100, 98 Bankshall St</td><td>Colombo</td><td>LK</td><td>null</td><td>+94 112 324 712</td><td>Vegetarian restaurant</td><td>Sri Lanka</td></tr><tr><td>Torta</td><td>4.5</td><td>12</td><td>59 Ward Pl</td><td>Colombo</td><td>LK</td><td>null</td><td>+94 77 707 8787</td><td>Cafe</td><td>Sri Lanka</td></tr><tr><td>Café Japan</td><td>4.6</td><td>267</td><td>25 Borella Cross Rd</td><td>Colombo</td><td>LK</td><td>https://www.facebook.com/Cafe-Japan-in-Colombo-Sri-Lanka-2131389247108370/</td><td>+94 77 726 3565</td><td>Authentic Japanese restaurant</td><td>Sri Lanka</td></tr><tr><td>Life’s Good Kitchen</td><td>4.9</td><td>550</td><td>No 12 Sulaiman Terrace, Jawatta road Colombo 5</td><td>Colombo</td><td>LK</td><td>https://www.instagram.com/lifesgoodkitchen/</td><td>+94 77 674 1266</td><td>Restaurant</td><td>Sri Lanka</td></tr><tr><td>Sea Island Street Food</td><td>5.0</td><td>1</td><td>WVF2+H86, Vellons Passage</td><td>Colombo</td><td>LK</td><td>null</td><td>null</td><td>Cafe</td><td>Sri Lanka</td></tr><tr><td>The Coffee Bean and Tea Leaf - Landmark</td><td>4.2</td><td>673</td><td>WV32+FWP, Galle Rd</td><td>Colombo</td><td>LK</td><td>null</td><td>null</td><td>Coffee shop</td><td>Sri Lanka</td></tr><tr><td>Katee Rotee</td><td>5.0</td><td>4</td><td>29 St Lucia's St</td><td>Colombo</td><td>LK</td><td>null</td><td>null</td><td>Coffee shop</td><td>Sri Lanka</td></tr><tr><td>cafe monica sri lanka</td><td>5.0</td><td>3</td><td>Old Dutch Hospital Complex, 09 Hospital St</td><td>Colombo</td><td>LK</td><td>null</td><td>+94 70 166 6422</td><td>Pizza restaurant</td><td>Sri Lanka</td></tr><tr><td>Rancrisp Cashew</td><td>2.9</td><td>15</td><td>WRGV+WVV, ගාල්ල ප්‍රධාන මාර්ගය</td><td>Colombo</td><td>LK</td><td>http://www.rancrisp.lk/</td><td>null</td><td>Cafe</td><td>Sri Lanka</td></tr><tr><td>Kaffeine by Republk</td><td>4.1</td><td>8</td><td>57 Hospital St</td><td>Colombo</td><td>LK</td><td>null</td><td>+94 112 444 429</td><td>Cafe</td><td>Sri Lanka</td></tr><tr><td>Silva Snack Bar</td><td>4.8</td><td>4</td><td>WVJ8+C3P</td><td>Colombo</td><td>LK</td><td>null</td><td>+94 112 451 341</td><td>Cafe</td><td>Sri Lanka</td></tr><tr><td>41 cafe</td><td>1.8</td><td>16</td><td>Mahawela Pl</td><td>Colombo</td><td>LK</td><td>null</td><td>+94 77 644 0510</td><td>Restaurant</td><td>Sri Lanka</td></tr><tr><td>Badam Doodh</td><td>4.5</td><td>2</td><td>46 36th Ln</td><td>Colombo</td><td>LK</td><td>null</td><td>+94 77 465 0420</td><td>Coffee shop</td><td>Sri Lanka</td></tr><tr><td>Spizzerts</td><td>4.6</td><td>22</td><td>261 R. A. De Mel Mawatha</td><td>Colombo</td><td>LK</td><td>null</td><td>+94 77 015 1732</td><td>Cafe</td><td>Sri Lanka</td></tr><tr><td>Refresh Cafe and Juice bar</td><td>4.0</td><td>1</td><td>514 Havelock Rd</td><td>Colombo</td><td>LK</td><td>null</td><td>null</td><td>Restaurant</td><td>Sri Lanka</td></tr><tr><td>Malar Cafe</td><td>4.0</td><td>260</td><td>No: 45, 07 Dr CWW Kannangara Mawatha</td><td>Colombo</td><td>LK</td><td>https://malar-cafe.business.site/?utm_source=gmb&utm_medium=referral</td><td>+94 115 106 703</td><td>North Eastern Indian restaurant</td><td>Sri Lanka</td></tr><tr><td>QuQu Cafe</td><td>4.4</td><td>50</td><td>Ground floor One</td><td>Mall</td><td>LK</td><td>https://www.ququcafe.lk/</td><td>null</td><td>Cafe</td><td>Sri Lanka</td></tr><tr><td>T.N Cafe</td><td>4.0</td><td>4</td><td>WVC6+CWR</td><td>Colombo</td><td>LK</td><td>null</td><td>null</td><td>Cafe</td><td>Sri Lanka</td></tr><tr><td>E-Cafe Colombo 03</td><td>4.0</td><td>126</td><td>316 Galle Rd</td><td>Colombo</td><td>LK</td><td>https://ecafecoffee.business.site/</td><td>+94 113 428 350</td><td>Coffee shop</td><td>Sri Lanka</td></tr><tr><td>Park Cafe</td><td>2.8</td><td>32</td><td>59D Norris Canal Rd</td><td>Colombo</td><td>LK</td><td>http://www.parkcafe.lk/</td><td>+94 77 345 1885</td><td>Asian restaurant</td><td>Sri Lanka</td></tr><tr><td>Cafe Green</td><td>4.7</td><td>3</td><td>459 T. B. Jayah Mawatha</td><td>Colombo</td><td>LK</td><td>null</td><td>+94 75 822 2822</td><td>Restaurant</td><td>Sri Lanka</td></tr><tr><td>Cakes & Bakes Cafe</td><td>4.3</td><td>1004</td><td>69 Galle Rd</td><td>Colombo</td><td>LK</td><td>null</td><td>+94 76 441 2792</td><td>Cake shop</td><td>Sri Lanka</td></tr><tr><td>Maniumpathy Café</td><td>4.9</td><td>15</td><td>129 Kynsey Rd</td><td>Colombo</td><td>LK</td><td>https://maniumpathy.com/dining/</td><td>+94 77 089 8900</td><td>Fusion restaurant</td><td>Sri Lanka</td></tr><tr><td>Bun Break</td><td>4.8</td><td>20</td><td>174 New Moor St</td><td>Colombo</td><td>LK</td><td>null</td><td>+94 76 807 9242</td><td>Cafe</td><td>Sri Lanka</td></tr><tr><td>ටිරොන්ගේ වඩේ තට්ටුව</td><td>5.0</td><td>1</td><td>VVHF+GQ9, High Level Rd</td><td>Colombo</td><td>LK</td><td>null</td><td>+94 77 055 4549</td><td>Cafe</td><td>Sri Lanka</td></tr><tr><td>The Barca Cafe</td><td>4.0</td><td>52</td><td>318 Torrington Ave</td><td>Colombo</td><td>LK</td><td>null</td><td>+94 114 157 480</td><td>Cafe</td><td>Sri Lanka</td></tr><tr><td>Remarko Bakery</td><td>3.3</td><td>4</td><td>WVXF+H79, St. Joseph's St</td><td>Colombo</td><td>LK</td><td>null</td><td>+94 112 964 247</td><td>Cafe</td><td>Sri Lanka</td></tr><tr><td>The Coffee Bean & Tea Leaf</td><td>4.3</td><td>699</td><td>1st Floor Liberty Plaza</td><td>Colombo</td><td>LK</td><td>null</td><td>+94 77 388 7666</td><td>Coffee shop</td><td>Sri Lanka</td></tr><tr><td>Cafe Mocha by Barista</td><td>4.3</td><td>1649</td><td>28 Stratford Ave</td><td>Colombo</td><td>LK</td><td>http://www.barista.lk/</td><td>+94 112 055 491</td><td>Cafe</td><td>Sri Lanka</td></tr><tr><td>Playtrix Sports Bar and Cafe</td><td>4.3</td><td>1182</td><td>137 Sir James Pieris Mawatha</td><td>Colombo</td><td>LK</td><td>http://www.playtrix.lk/</td><td>+94 76 547 7577</td><td>Sports bar</td><td>Sri Lanka</td></tr><tr><td>Caramel Pumpkin</td><td>4.3</td><td>2253</td><td>WV89+FJG, 38 Ward Pl</td><td>Colombo</td><td>LK</td><td>null</td><td>+94 112 677 966</td><td>Cafe</td><td>Sri Lanka</td></tr><tr><td>Choco Luv</td><td>3.8</td><td>419</td><td>16 Flower Rd</td><td>Colombo</td><td>LK</td><td>http://www.facebook.com/yourchocoluv/</td><td>+94 112 301 140</td><td>Cafe</td><td>Sri Lanka</td></tr><tr><td>Pages & Coffee</td><td>4.5</td><td>233</td><td>8 Stratford Ave</td><td>Colombo</td><td>LK</td><td>https://web.facebook.com/pagesandcoffee.LK</td><td>+94 77 430 8502</td><td>Coffee shop</td><td>Sri Lanka</td></tr><tr><td>Bibo's Cafe</td><td>4.2</td><td>14</td><td>289 High Level Rd</td><td>Colombo</td><td>LK</td><td>null</td><td>+94 77 941 3413</td><td>Cafe</td><td>Sri Lanka</td></tr><tr><td>Cafe 7 To 7</td><td>4.6</td><td>5</td><td>WV27+VF7, Prof Stanley Wijesundera Mawatha</td><td>Colombo</td><td>LK</td><td>null</td><td>null</td><td>Restaurant</td><td>Sri Lanka</td></tr><tr><td>Rakna Lanka Cafe</td><td>3.0</td><td>5</td><td>WV93+RCF, Nawam Mawatha</td><td>Colombo</td><td>LK</td><td>null</td><td>null</td><td>Bakery</td><td>Sri Lanka</td></tr><tr><td>The King Cafe</td><td>4.5</td><td>8</td><td>XV9C+RRM</td><td>Colombo</td><td>LK</td><td>null</td><td>+94 77 841 0410</td><td>Restaurant</td><td>Sri Lanka</td></tr><tr><td>Cafe Longdon</td><td>4.7</td><td>52</td><td>6 Malalasekara Mawatha</td><td>Colombo</td><td>LK</td><td>null</td><td>null</td><td>Cafe</td><td>Sri Lanka</td></tr><tr><td>Busy Bean Cafe</td><td>3.9</td><td>55</td><td>Race Course Ave</td><td>Colombo</td><td>LK</td><td>http://thebusybean.lk/</td><td>+94 76 982 9726</td><td>Cafe</td><td>Sri Lanka</td></tr></tbody></table></div>"
      ]
     },
     "metadata": {
      "application/vnd.databricks.v1+output": {
       "addedWidgets": {},
       "aggData": [],
       "aggError": "",
       "aggOverflow": false,
       "aggSchema": [],
       "aggSeriesLimitReached": false,
       "aggType": "",
       "arguments": {},
       "columnCustomDisplayInfos": {},
       "data": [
        [
         "Coco Cafe- Street Star",
         4.6,
         11,
         "VVQ5+326, Elfindale Ave",
         "Colombo",
         "LK",
         "https://www.facebook.com/cococafe.lk?mibextid=LQQJ4d",
         "+94 76 777 2225",
         "Cafe",
         "Sri Lanka"
        ],
        [
         "Cafe Celo09",
         4.258885,
         0,
         "VVRC+8M5",
         "Colombo",
         "LK",
         null,
         null,
         "Coffee shop",
         "Sri Lanka"
        ],
        [
         "Cafe 1959 by Raux Brothers",
         4.4,
         248,
         "746 Galle Rd",
         "Colombo",
         "LK",
         "https://cafe-1959-by-raux-brothers.business.site/?utm_source=gmb&utm_medium=referral",
         "+94 112 590 520",
         "Coffee shop",
         "Sri Lanka"
        ],
        [
         "Cafe Lab",
         2.8,
         8,
         null,
         "Colombo",
         "LK",
         null,
         "+94 78 810 0800",
         "Coffee shop",
         "Sri Lanka"
        ],
        [
         "The Nook Cakery and Cafe",
         4.9,
         34,
         "29 Visakha Private Rd",
         "Colombo",
         "LK",
         null,
         null,
         "Coffee shop",
         "Sri Lanka"
        ],
        [
         "De Vos Cafe",
         4.4,
         95,
         "34 De Vos Ave",
         "Colombo",
         "LK",
         null,
         "+94 112 550 033",
         "Cafe",
         "Sri Lanka"
        ],
        [
         "Cafe tasty",
         3.7,
         30,
         "60 Vajira Rd",
         "Colombo",
         "LK",
         null,
         "+94 117 642 752",
         "Cafe",
         "Sri Lanka"
        ],
        [
         "BOO Cafe",
         4.4,
         42,
         "No. 237 Galle Rd",
         "Colombo",
         "LK",
         null,
         "+94 76 187 2879",
         "Restaurant",
         "Sri Lanka"
        ],
        [
         "BK Cafe - Havelock City Mall",
         4.258885,
         0,
         "Havelock City, Havelock Rd",
         "Colombo",
         "LK",
         null,
         null,
         "Cafe",
         "Sri Lanka"
        ],
        [
         "Cafe at Lanka Hospitals",
         3.5,
         10,
         "578 Elvitigala Mawatha",
         "Colombo",
         "LK",
         null,
         null,
         "Cafe",
         "Sri Lanka"
        ],
        [
         "Coffee Bae - The Cafe",
         4.7,
         15,
         "61A, Ramakrishna Road, Marine Dr",
         "Colombo",
         "LK",
         "https://www.thebubbleshot.co/",
         "+94 77 755 5696",
         "Coffee shop",
         "Sri Lanka"
        ],
        [
         "Rabbit Mood Cafe",
         4.258885,
         0,
         "00300, Liberty Arcade, Level 1 Shop No 5, 282 R. A. De Mel Mawatha",
         "Colombo",
         "LK",
         "https://www.facebook.com/Rabbitmoodcafe",
         "+94 76 842 8595",
         "Coffee shop",
         "Sri Lanka"
        ],
        [
         "Wood Cafe",
         4.258885,
         0,
         "237wardplace colombo,07",
         "Colombo",
         "LK",
         null,
         "+94 70 209 6993",
         "Cafe",
         "Sri Lanka"
        ],
        [
         "Cafe 111 by tea",
         5.0,
         1,
         "12b Perahera Mawatha",
         "Colombo",
         "LK",
         null,
         null,
         "Coffee shop",
         "Sri Lanka"
        ],
        [
         "Tokiwa Cafe",
         4.258885,
         0,
         "213 Galle Rd",
         "Colombo",
         "LK",
         null,
         null,
         "Cafe",
         "Sri Lanka"
        ],
        [
         "CAFE COLOMBO",
         4.8,
         1010,
         null,
         "Colombo",
         "LK",
         null,
         "+94 71 111 9911",
         "Cafe",
         "Sri Lanka"
        ],
        [
         "Cafe Kai",
         4.4,
         218,
         "Sir Chittampalam A Gardiner Mawath",
         "Colombo",
         "LK",
         "https://shop.hiltoncolombo1.com/Food-and-Beverage",
         "+94 112 492 492",
         "Cafe",
         "Sri Lanka"
        ],
        [
         "Techno Cafe",
         4.3,
         10,
         "475 Union Pl",
         "Colombo",
         "LK",
         null,
         null,
         "Cafe",
         "Sri Lanka"
        ],
        [
         "Cafe by Raffles",
         4.1,
         21,
         "No. 42 Nawam Mawatha",
         "Colombo",
         "LK",
         "https://www.rafflescolombo.com/cafe-by-raffles-industrial/",
         "+94 113 602 601",
         "Cafe",
         "Sri Lanka"
        ],
        [
         "Lake View Cafe",
         3.3,
         4,
         "WV92+C7H, DHPL, Nawam Mawatha",
         "Colombo",
         "LK",
         null,
         null,
         "Cafe",
         "Sri Lanka"
        ],
        [
         "Office Cafe",
         5.0,
         1,
         "213 Galle Rd",
         "Colombo",
         "LK",
         null,
         "+94 77 999 9177",
         "Cafe",
         "Sri Lanka"
        ],
        [
         "Cafe EN -縁-",
         5.0,
         5,
         "1st Floor - 282/5, Kollupitiya Road, Marine Drive",
         "Colombo",
         "LK",
         "https://granbellhotel.lk/dining/cafe/",
         "+94 112 397 397",
         "Cafe",
         "Sri Lanka"
        ],
        [
         "The Verandah Cafe",
         5.0,
         1,
         "115 Rosmead Pl",
         "Colombo",
         "LK",
         null,
         "+94 112 686 883",
         "Cafe",
         "Sri Lanka"
        ],
        [
         "Aará Garden Cafe",
         5.0,
         1,
         "10 Ananda Coomaraswamy Mawatha",
         "Colombo",
         "LK",
         null,
         "+94 77 315 2724",
         "Coffee shop",
         "Sri Lanka"
        ],
        [
         "Anthony's Cafe",
         4.6,
         28,
         "8, 8 Cameron Pl",
         "Colombo",
         "LK",
         null,
         "+94 75 707 5597",
         "Cafe",
         "Sri Lanka"
        ],
        [
         "The Stage Cafe Cake Bar Colombo 07",
         5.0,
         4,
         "20D Guildford Cres",
         "Colombo",
         "LK",
         null,
         "+94 114 383 865",
         "Coffee shop",
         "Sri Lanka"
        ],
        [
         "Tito's Cafe",
         4.4,
         44,
         "137 Sir James Pieris Mawatha",
         "Colombo",
         "LK",
         "https://www.marriott.com/en-us/hotels/cmbcy-courtyard-colombo/dining/",
         null,
         "Coffee shop",
         "Sri Lanka"
        ],
        [
         "Chenitha Cafe",
         4.258885,
         0,
         "colombo 3",
         "Colombo",
         "LK",
         null,
         "+94 78 959 5656",
         "Cafe",
         "Sri Lanka"
        ],
        [
         "Sun Rise Cafe",
         3.7,
         6,
         "WV33+W6R",
         "Colombo",
         "LK",
         null,
         null,
         "Cafe",
         "Sri Lanka"
        ],
        [
         "Cafe Cotta",
         4.0,
         20,
         "Dr NM Perera Mawatha Rd",
         "Colombo",
         "LK",
         "https://cafe-cotta.business.site/?utm_source=gmb&utm_medium=referral",
         "+94 77 548 0568",
         "Cafe",
         "Sri Lanka"
        ],
        [
         "Baguette French Bakery & Cafe",
         4.5,
         270,
         "31 Queen's Rd",
         "Colombo",
         "LK",
         "http://baguette.lk/",
         "+94 77 730 2922",
         "Cafe",
         "Sri Lanka"
        ],
        [
         "ZOYO Cafe",
         4.8,
         20,
         "89 Elvitigala Mawatha",
         "Colombo",
         "LK",
         null,
         "+94 76 787 5555",
         "Cafe",
         "Sri Lanka"
        ],
        [
         "Cinnamon cafe",
         4.8,
         5,
         "WV5F+G97",
         "Colombo",
         "LK",
         null,
         null,
         "Cafe",
         "Sri Lanka"
        ],
        [
         "Monkeybean Cafe",
         4.2,
         329,
         "16 Sellamuttu Ave",
         "Colombo",
         "LK",
         "https://www.facebook.com/monkeybeanlk/",
         "+94 76 413 0060",
         "Coffee shop",
         "Sri Lanka"
        ],
        [
         "Peppermint Cafe",
         4.1,
         1641,
         "76 Wijerama Mawatha",
         "Colombo",
         "LK",
         "http://www.peppermintcafe.lk/",
         "+94 75 632 0420",
         "Coffee shop",
         "Sri Lanka"
        ],
        [
         "Cafe Shaze",
         4.1,
         487,
         "56 Horton Pl",
         "Colombo",
         "LK",
         null,
         "+94 76 776 6765",
         "Cafe",
         "Sri Lanka"
        ],
        [
         "Tasty Cafe",
         3.5,
         4,
         "Tasty Caterers, 18/A Evergreen Park Rd",
         "Colombo",
         "LK",
         null,
         "+94 117 644 701",
         "Cafe",
         "Sri Lanka"
        ],
        [
         "Seed Cafe",
         4.6,
         850,
         "60 Horton Pl",
         "Colombo",
         "LK",
         "https://www.instagram.com/seedcafesl/?hl=en",
         "+94 117 773 470",
         "Cafe",
         "Sri Lanka"
        ],
        [
         "THE CAKE BOUTIQUE",
         4.8,
         40,
         "31A, 06 Stratford Ave",
         "Colombo",
         "LK",
         "https://instagram.com/cakeboutique_radhi?igshid=YmMyMTA2M2Y=",
         "+94 70 222 4640",
         "Cafe",
         "Sri Lanka"
        ],
        [
         "Peace cafe",
         4.258885,
         0,
         "57/6, 5 Polhengoda Rd",
         "Colombo",
         "LK",
         null,
         "+94 77 946 5908",
         "Cafe",
         "Sri Lanka"
        ],
        [
         "Noble Cafe",
         5.0,
         3,
         "23 Ramakrishna Rd",
         "Colombo",
         "LK",
         null,
         null,
         "Cafe",
         "Sri Lanka"
        ],
        [
         "Cafe Rafaella",
         4.6,
         65,
         "145 Thimbirigasyaya Rd",
         "Colombo",
         "LK",
         "https://www.facebook.com/caferafaella/",
         "+94 77 033 5366",
         "Cafe",
         "Sri Lanka"
        ],
        [
         "A Healing Café - Hotel MaRadha",
         4.6,
         38,
         "31, St. Kilda's Lane, Marine Drive",
         "Colombo",
         "LK",
         "https://maradha.lk/healing_cafe/",
         "+94 112 550 136",
         "Cafe",
         "Sri Lanka"
        ],
        [
         "The Wild Monkey",
         4.0,
         4,
         "Independence Ave",
         "Colombo",
         "LK",
         "http://www.thewildmonket.lk/",
         "+94 74 418 8764",
         "Coffee shop",
         "Sri Lanka"
        ],
        [
         "The German Bakery",
         4.5,
         340,
         "461 Thimbirigasyaya Rd",
         "Colombo",
         "LK",
         "http://www.germanbakery.lk/",
         "+94 77 288 5461",
         "Cafe",
         "Sri Lanka"
        ],
        [
         "Cafe 97",
         4.4,
         208,
         "97 Fife Rd",
         "Colombo",
         "LK",
         "http://www.tastycaterers.lk/",
         "+94 117 642 742",
         "Cafe",
         "Sri Lanka"
        ],
        [
         "Cafe nine",
         4.258885,
         0,
         "20a Joseph Fraser Rd",
         "Colombo",
         "LK",
         null,
         null,
         "Cafe",
         "Sri Lanka"
        ],
        [
         "Ella Bakers Cafe",
         5.0,
         2,
         "VVHG+86G",
         "Colombo",
         "LK",
         null,
         "+94 71 212 2228",
         "Cafe",
         "Sri Lanka"
        ],
        [
         "Walking Path Cafe",
         3.0,
         2,
         "WV38+363, Independence Walk",
         "Colombo",
         "LK",
         null,
         "+94 112 330 550",
         "Restaurant",
         "Sri Lanka"
        ],
        [
         "Cafe 4 U Wellawatta",
         3.8,
         151,
         "511 Galle Rd",
         "Colombo",
         "LK",
         null,
         "+94 70 633 8633",
         "Restaurant",
         "Sri Lanka"
        ],
        [
         "Leenos cafe",
         5.0,
         2,
         "06 Lily Ave",
         "Colombo",
         "LK",
         null,
         "+94 76 756 4621",
         "Coffee shop",
         "Sri Lanka"
        ],
        [
         "Nestle Lanka's Flagship Kiosk Cafe Goodness",
         5.0,
         2,
         "30 Prof Stanley Wijesundera Mawatha",
         "Colombo",
         "LK",
         null,
         "+94 77 930 8347",
         "Coffee shop",
         "Sri Lanka"
        ],
        [
         "Longden Tea House",
         4.0,
         28,
         "VVWC+PPM",
         "Colombo",
         "LK",
         null,
         null,
         "Tea house",
         "Sri Lanka"
        ],
        [
         "Everyday Bakery & Cafe",
         3.7,
         76,
         "VVG8+JF6, Fussel's Ln",
         "Colombo",
         "LK",
         null,
         "+94 77 908 1122",
         "Bakery",
         "Sri Lanka"
        ],
        [
         "Nishans cafe",
         5.0,
         2,
         "6 Sri Bodhirukkarama Rd",
         "Colombo",
         "LK",
         null,
         null,
         "Cafe",
         "Sri Lanka"
        ],
        [
         "Cafe Island",
         4.1,
         15,
         "473 Thimbirigasyaya Rd",
         "Colombo",
         "LK",
         null,
         "+94 70 798 4138",
         "Cafe",
         "Sri Lanka"
        ],
        [
         "Rancrisp Cafe",
         4.0,
         1,
         "WV29+WFQ",
         "Colombo",
         "LK",
         null,
         null,
         "Cafe",
         "Sri Lanka"
        ],
        [
         "Nescafe kiosk(Cafe Goodness)",
         3.9,
         11,
         "30 Prof Stanley Wijesundera Mawatha",
         "Colombo",
         "LK",
         null,
         "+94 74 131 9515",
         "Coffee shop",
         "Sri Lanka"
        ],
        [
         "Cray Cafe",
         4.258885,
         0,
         "3 Iswari Rd",
         "Colombo",
         "LK",
         "https://www.facebook.com/CrayFishCeylon",
         "+94 114 151 543",
         "Restaurant",
         "Sri Lanka"
        ],
        [
         "Tea Avenue",
         4.3,
         3505,
         "08 Jawatta Rd",
         "Colombo",
         "LK",
         "http://www.tea-avenue.com/",
         "+94 77 336 7879",
         "Tea house",
         "Sri Lanka"
        ],
        [
         "Café La Defense",
         4.4,
         543,
         "124 Park Rd",
         "Colombo",
         "LK",
         null,
         "+94 112 550 150",
         "Coffee shop",
         "Sri Lanka"
        ],
        [
         "Sinthu Cafe",
         5.0,
         1,
         "VVG8+F64, Hampden Ln",
         "Colombo",
         "LK",
         null,
         null,
         "Cafe",
         "Sri Lanka"
        ],
        [
         "Café Chocolate",
         4.4,
         13,
         "8 Stratford Ave",
         "Colombo",
         "LK",
         null,
         "+94 71 996 9798",
         "Cafe",
         "Sri Lanka"
        ],
        [
         "Chocoholics - Havelock Road",
         4.4,
         1163,
         "506 Havelock Rd",
         "Colombo",
         "LK",
         "http://www.chocoholicscafe.com/",
         "+94 114 332 261",
         "Cafe",
         "Sri Lanka"
        ],
        [
         "The Park Cafe",
         3.2,
         6,
         "21/8B W.A. Silva Mawatha",
         "Nugegoda",
         "LK",
         null,
         "+94 112 815 313",
         "Cafe",
         "Sri Lanka"
        ],
        [
         "Cafe Kinross",
         4.6,
         128,
         "6 Kinross Ave",
         "Colombo",
         "LK",
         null,
         "+94 77 161 8527",
         "Restaurant",
         "Sri Lanka"
        ],
        [
         "THE CAULDRON",
         4.5,
         1186,
         "06, 68 Stratford Ave",
         "Colombo",
         "LK",
         "http://www.thecauldron.lk/",
         "+94 70 241 7433",
         "Cafe",
         "Sri Lanka"
        ],
        [
         "Flavours Cafe",
         4.1,
         9,
         "61 Horton Pl",
         "Colombo",
         "LK",
         null,
         "+94 114 848 486",
         "Ice cream shop",
         "Sri Lanka"
        ],
        [
         "Ayubowan Gallface - Cafe",
         4.2,
         31,
         "WRGV+GGH",
         "Colombo",
         "LK",
         null,
         null,
         "Cafe",
         "Sri Lanka"
        ],
        [
         "Dwivedi Cafe",
         4.258885,
         0,
         "Colombo Lotus Tower",
         "Colombo",
         "LK",
         null,
         null,
         "Cafe",
         "Sri Lanka"
        ],
        [
         "Cocoffee Cafe",
         5.0,
         1,
         "80 Nawam Mawatha",
         "Colombo",
         "LK",
         "https://www.instagram.com/cocoffee.colombo",
         "+94 71 454 1665",
         "Cafe",
         "Sri Lanka"
        ],
        [
         "Tivoli Cafe",
         3.0,
         2,
         "WV72+374",
         "Colombo",
         "LK",
         null,
         null,
         "Cafe",
         "Sri Lanka"
        ],
        [
         "Ritz Cafe",
         4.258885,
         0,
         "WVJC+744, Qurashani Moulana Ln",
         "Colombo",
         "LK",
         null,
         "+94 76 698 3459",
         "Cafe",
         "Sri Lanka"
        ],
        [
         "SSC - Lawn Cafe - Coffee Coner",
         5.0,
         3,
         "35 Maitland Pl",
         "Colombo",
         "LK",
         null,
         null,
         "Coffee shop",
         "Sri Lanka"
        ],
        [
         "Parakum cafe",
         4.258885,
         0,
         "140 EW Perera Mawatha",
         "Colombo",
         "LK",
         null,
         null,
         "Cafe",
         "Sri Lanka"
        ],
        [
         "Mac Cafe",
         4.0,
         7,
         "327 Sri Vjiragnana Mawatha",
         "Colombo",
         "LK",
         null,
         null,
         "Cafe",
         "Sri Lanka"
        ],
        [
         "Wizard Chamber Cafe",
         4.0,
         21,
         "1145 A, 1145 Maradana Rd",
         "Colombo",
         "LK",
         "https://www.facebook.com/WizardChamber/",
         "+94 70 158 0270",
         "Juice shop",
         "Sri Lanka"
        ],
        [
         "Amaradasa's cafe",
         5.0,
         1,
         "100 Keyzer St",
         "Colombo",
         "LK",
         null,
         null,
         "Cafe",
         "Sri Lanka"
        ],
        [
         "Banana Cafe",
         4.258885,
         0,
         "9 Kirthi Ln",
         "Colombo",
         "LK",
         null,
         "+94 71 888 1111",
         "Cafe",
         "Sri Lanka"
        ],
        [
         "Felicita",
         4.0,
         23,
         "74 Flower Rd",
         "Colombo",
         "LK",
         "https://luxecolombo.com/",
         "+94 77 782 1989",
         "Coffee shop",
         "Sri Lanka"
        ],
        [
         "Brew 1867 by Dilmah – Flower Road",
         4.5,
         592,
         "57/1 Sir Ernest de Silva Mawatha",
         "Colombo",
         "LK",
         "https://www.brew1867.com/",
         "+94 112 693 010",
         "Fast food restaurant",
         "Sri Lanka"
        ],
        [
         "Thurstan Cafeteria",
         5.0,
         2,
         "Thurstan College, Thurstan Rd",
         "Colombo",
         "LK",
         null,
         null,
         "Cafe",
         "Sri Lanka"
        ],
        [
         "AOBA Cafe & Bar",
         4.1,
         78,
         "#L1-19, The Mall at One, Galle Rd",
         "Colombo",
         "LK",
         null,
         "+94 77 746 2622",
         "Cafe",
         "Sri Lanka"
        ],
        [
         "WAFL Café One Galle Face Mall",
         3.8,
         101,
         "Ground floor,One Galle Face Mall",
         "Colombo",
         "LK",
         null,
         "+94 71 716 5555",
         "Cafe",
         "Sri Lanka"
        ],
        [
         "Tropical Fresh Juice Bar and Cafe",
         3.2,
         95,
         "No. 02 Rockwood Pl",
         "Colombo",
         "LK",
         "http://www.tropicalfresh.lk/",
         "+94 112 688 566",
         "Cafe",
         "Sri Lanka"
        ],
        [
         "TORENA CAFE & RESTAURANT",
         4.4,
         78,
         "126 York St",
         "Colombo",
         "LK",
         null,
         "+94 71 779 2999",
         "Restaurant",
         "Sri Lanka"
        ],
        [
         "Cafe Bean Street",
         3.5,
         2,
         "WRFV+RM2",
         "Colombo",
         "LK",
         null,
         null,
         "Coffee shop",
         "Sri Lanka"
        ],
        [
         "Java Lounge - Fort - Sri Lanka's Largest Coffee House Chain",
         4.4,
         796,
         "7 Hospital St",
         "Colombo",
         "LK",
         "http://www.javalounge.lk/",
         "+94 112 333 051",
         "Coffee shop",
         "Sri Lanka"
        ],
        [
         "Dini Cafe",
         4.0,
         1,
         "155a Kynsey Rd",
         "Colombo",
         "LK",
         null,
         null,
         "Coffee shop",
         "Sri Lanka"
        ],
        [
         "Cafe Bagatalle",
         4.3,
         174,
         "No 18 Bagatalle Rd",
         "Colombo",
         "LK",
         null,
         "+94 113 818 815",
         "Cafeteria",
         "Sri Lanka"
        ],
        [
         "URI Cafe Lounge",
         5.0,
         1,
         "19 a, 2 Alfred Pl",
         "Colombo",
         "LK",
         null,
         null,
         "Coffee shop",
         "Sri Lanka"
        ],
        [
         "BEST COFFEE SHOP",
         4.258885,
         0,
         "WV6C+F9R",
         "Colombo",
         "LK",
         null,
         null,
         "Coffee shop",
         "Sri Lanka"
        ],
        [
         "PLUTO CAFE",
         5.0,
         15,
         "Dematagoda Pl",
         "Colombo",
         "LK",
         "https://pluto-cafe-cafe.business.site/?utm_source=gmb&utm_medium=referral",
         "+94 77 888 1435",
         "Cafe",
         "Sri Lanka"
        ],
        [
         "Joy’s Cafe",
         4.258885,
         0,
         "no.49/1 Ward Pl",
         "Colombo",
         "LK",
         "https://instagram.com/cafejoyyyyy?igshid=MzRlODBiNWFlZA==",
         null,
         "Coffee shop",
         "Sri Lanka"
        ],
        [
         "Bitcoin Cafe by Wheelys",
         1.0,
         1,
         "261, R. A. De Mel Mawatha, Duplication Rd",
         "Colombo",
         "LK",
         null,
         "+94 77 994 2980",
         "Cafe",
         "Sri Lanka"
        ],
        [
         "The Central Perk",
         4.2,
         1075,
         "9/6 A 16th Lane, Marine Drive",
         "Colombo",
         "LK",
         "https://the-central-perk.business.site/?utm_source=gmb&utm_medium=referral",
         "+94 112 574 554",
         "Coffee shop",
         "Sri Lanka"
        ],
        [
         "De Artemis Cafe Gallery & Pub",
         4.1,
         13,
         "No.79A Srimath Anagarika Dharmapala Mawatha",
         "Colombo",
         "LK",
         null,
         "+94 72 406 0092",
         "Restaurant",
         "Sri Lanka"
        ],
        [
         "LOGOS CAFE",
         4.5,
         2,
         "120 Srimath Anagarika Dharmapala Mawatha",
         "Colombo",
         "LK",
         null,
         "+94 77 302 6453",
         "Restaurant",
         "Sri Lanka"
        ],
        [
         "The Embazzy",
         4.3,
         2240,
         "76/1 Flower Rd",
         "Colombo",
         "LK",
         null,
         "+94 112 576 027",
         "Restaurant",
         "Sri Lanka"
        ],
        [
         "Milk & Honey Café",
         4.4,
         290,
         "44a Horton Pl",
         "Colombo",
         "LK",
         "http://shopmilkstore.com/",
         "+94 112 696 256",
         "Cafe",
         "Sri Lanka"
        ],
        [
         "Black Cat Cafe + Stay",
         4.4,
         812,
         "11 Wijerama Mawatha",
         "Colombo",
         "LK",
         "https://www.facebook.com/blackcatcolombo",
         "+94 112 675 111",
         "Cafe",
         "Sri Lanka"
        ],
        [
         "London House Of Coffee",
         4.4,
         1190,
         "2B R.G. Senanayake Mawatha",
         "Colombo",
         "LK",
         "http://www.londonhouseofcoffee.com/",
         "+94 112 693 072",
         "Cafe",
         "Sri Lanka"
        ],
        [
         "Grind",
         4.7,
         419,
         "Access Towers 2",
         "Colombo",
         "LK",
         null,
         "+94 76 105 1064",
         "Coffee shop",
         "Sri Lanka"
        ],
        [
         "Cafe 113",
         5.0,
         3,
         "113 Hunupitiya Lake Rd",
         "Colombo",
         "LK",
         null,
         null,
         "Family restaurant",
         "Sri Lanka"
        ],
        [
         "Brown Sugar",
         4.8,
         108,
         "Col T G Jayawardena",
         "Colombo",
         "LK",
         "http://www.brownsugarcolombo.com/",
         "+94 76 817 8101",
         "Cafe",
         "Sri Lanka"
        ],
        [
         "Rangiri Cafe රන්ගිරි කැෆේ",
         3.9,
         17,
         "WVC3+XFP, Dr Colvin R de Silva Mawatha",
         "Colombo",
         "LK",
         null,
         null,
         "Cafe",
         "Sri Lanka"
        ],
        [
         "Culture Cafe Colombo",
         5.0,
         2,
         "A14 Perahera Mawatha",
         "Colombo",
         "LK",
         null,
         "+94 112 440 365",
         "Cafe",
         "Sri Lanka"
        ],
        [
         "Sathkara Cafe",
         5.0,
         5,
         "18 Boyd Pl",
         "Colombo",
         "LK",
         null,
         "+94 112 422 011",
         "Restaurant",
         "Sri Lanka"
        ],
        [
         "CHATZ",
         4.0,
         783,
         "121a Sir James Pieris Mawatha",
         "Colombo",
         "LK",
         null,
         "+94 117 226 888",
         "Cafe",
         "Sri Lanka"
        ],
        [
         "Cafe Leafy",
         4.258885,
         0,
         "203 Sir James Pieris Mawatha",
         "Colombo",
         "LK",
         "http://www.rococoresidence.com/",
         "+94 70 558 8899",
         "Cafe",
         "Sri Lanka"
        ],
        [
         "Colombo Foods",
         4.258885,
         0,
         "VVM4+Q6C, Frankfort Pl",
         "Colombo",
         "LK",
         null,
         null,
         "Coffee shop",
         "Sri Lanka"
        ],
        [
         "The Coffee Bean & Tea Leaf",
         4.3,
         3387,
         "4 Maitland Cres",
         "Colombo",
         "LK",
         null,
         null,
         "Cafe",
         "Sri Lanka"
        ],
        [
         "PJ's Cafe",
         4.0,
         9,
         "No. 10 R. A. De Mel Mawatha",
         "Colombo",
         "LK",
         null,
         "+94 77 720 8131",
         "Cafe",
         "Sri Lanka"
        ],
        [
         "Spice Cafe & Bakers",
         3.8,
         5,
         "7 Park Rd",
         "Colombo",
         "LK",
         null,
         "+94 77 593 3992",
         "Sri Lankan restaurant",
         "Sri Lanka"
        ],
        [
         "Il Caffè",
         3.0,
         15,
         "City Center",
         "Colombo",
         "LK",
         "http://www.ceccatocolombo.shop/",
         "+94 77 722 9472",
         "Coffee shop",
         "Sri Lanka"
        ],
        [
         "Arpico Crust Cafe",
         4.4,
         5,
         "30 Hyde Park Corner",
         "Colombo",
         "LK",
         null,
         null,
         "Cafe",
         "Sri Lanka"
        ],
        [
         "Marine Cafe",
         4.0,
         2,
         "39 Marine Drive",
         "Colombo",
         "LK",
         null,
         "+94 117 024 217",
         "Restaurant",
         "Sri Lanka"
        ],
        [
         "Oneup alldaybreakfast",
         4.3,
         346,
         "330, 4 Colombo - Galle Main Rd",
         "Colombo",
         "LK",
         "https://m.facebook.com/pages/category/Breakfast---Brunch-Restaurant/ONE-UP-all-day-breakfast-coffee-1604946919806002/",
         "+94 112 508 201",
         "Cafe",
         "Sri Lanka"
        ],
        [
         "Dot's",
         4.9,
         12,
         "43 Layards Rd",
         "Colombo",
         "LK",
         null,
         null,
         "Cafe",
         "Sri Lanka"
        ],
        [
         "The Brown Bean",
         4.6,
         201,
         "104 Srimath Anagarika Dharmapala Mawatha",
         "Colombo",
         "LK",
         "http://fb.com/thebrownbean",
         "+94 71 622 1626",
         "Cafe",
         "Sri Lanka"
        ],
        [
         "Baked Colombo",
         4.0,
         165,
         "37A Elibank Rd",
         "Colombo",
         "LK",
         "http://www.baked.lk/",
         "+94 77 715 4454",
         "Brunch restaurant",
         "Sri Lanka"
        ],
        [
         "Barista Staple Street",
         4.5,
         350,
         "33 Staple St",
         "Colombo",
         "LK",
         "http://www.barista.lk/",
         "+94 112 314 007",
         "Coffee shop",
         "Sri Lanka"
        ],
        [
         "Coffee Colombo",
         3.8,
         462,
         "29, Milagiriya Avenue(On, Marine Drive",
         "Colombo",
         "LK",
         null,
         "+94 76 969 6006",
         "Coffee shop",
         "Sri Lanka"
        ],
        [
         "Lauries Cafe",
         4.258885,
         0,
         "43B Lauries Rd",
         "Colombo",
         "LK",
         null,
         null,
         "Cafe",
         "Sri Lanka"
        ],
        [
         "Coco cafe",
         4.0,
         4,
         "532 Galle Rd",
         "Colombo",
         "LK",
         null,
         null,
         "Ice cream shop",
         "Sri Lanka"
        ],
        [
         "PHISHBUN",
         5.0,
         26,
         "105 Bauddhaloka Mawatha",
         "Colombo",
         "LK",
         null,
         "+94 77 776 6936",
         "Restaurant",
         "Sri Lanka"
        ],
        [
         "The Brown Bean Coffee Shop At WSO2",
         3.4,
         7,
         "105 Bauddhaloka Mawatha",
         "Colombo",
         "LK",
         null,
         null,
         "Coffee shop",
         "Sri Lanka"
        ],
        [
         "VOC Cafe",
         4.2,
         446,
         "Dutch Burgher Union, Thunmulla, 114 Reid Ave",
         "Colombo",
         "LK",
         "http://thedutchburgherunion.org/voc-cafe/",
         "+94 112 584 511",
         "Restaurant",
         "Sri Lanka"
        ],
        [
         "The Gallery Café",
         4.4,
         2258,
         "2 Alfred House Rd",
         "Colombo",
         "LK",
         null,
         "+94 112 582 162",
         "Restaurant",
         "Sri Lanka"
        ],
        [
         "Mfy Cafe",
         4.258885,
         0,
         "WVVG+FR6, Stace Rd",
         "Colombo",
         "LK",
         null,
         null,
         "Cafe",
         "Sri Lanka"
        ],
        [
         "Mohamed Zain Cafe",
         3.8,
         10,
         "WVR4+32P, Sir Ratnajothi Saravanamuttu Mawatha",
         "Colombo",
         "LK",
         null,
         "(206) 602-2593",
         "Cafe",
         "Sri Lanka"
        ],
        [
         "Chocoholics - Duplication Road",
         4.6,
         509,
         "357A R. A. De Mel Mawatha",
         "Colombo",
         "LK",
         "http://www.chocoholicscafe.com/",
         "+94 117 483 580",
         "Cafe",
         "Sri Lanka"
        ],
        [
         "Healthy Cafe",
         3.9,
         34,
         "91, AC2",
         "Colombo",
         "LK",
         null,
         null,
         "Restaurant",
         "Sri Lanka"
        ],
        [
         "Gayan's Cafe Teek",
         4.258885,
         0,
         "279, 10 Grandpass Rd",
         "Colombo",
         "LK",
         null,
         null,
         "Cafe",
         "Sri Lanka"
        ],
        [
         "DSR Cafe",
         4.258885,
         0,
         "353, AC11",
         "Colombo",
         "LK",
         null,
         "+94 77 402 8308",
         "Cafe",
         "Sri Lanka"
        ],
        [
         "Green Star",
         4.258885,
         0,
         "XV57+965",
         "Colombo",
         "LK",
         null,
         "+94 74 205 7300",
         "Coffee shop",
         "Sri Lanka"
        ],
        [
         "Divine Cafe",
         4.258885,
         0,
         "107 Dhawalasingharama Mawatha",
         "Colombo",
         "LK",
         null,
         null,
         "Cafe",
         "Sri Lanka"
        ],
        [
         "Cafe by Dora",
         3.0,
         2,
         "147, 161 A0",
         "Colombo",
         "LK",
         null,
         "+94 77 167 7994",
         "Restaurant",
         "Sri Lanka"
        ],
        [
         "Harpo's Colombo Fort Cafe",
         4.0,
         392,
         "Old Dutch Hospital Complex Echelon Square, Hospital St",
         "Colombo",
         "LK",
         "http://www.colombofortcafe.com/",
         "+94 112 434 946",
         "Restaurant",
         "Sri Lanka"
        ],
        [
         "Chocoholics One Galle Face",
         4.5,
         23,
         "WRGW+W28, Centre Road",
         "Colombo",
         "LK",
         null,
         null,
         "Cafe",
         "Sri Lanka"
        ],
        [
         "Coffee Stop",
         4.5,
         799,
         "77 Galle Rd",
         "Colombo",
         "LK",
         "http://www.cinnamonhotels.com/cinnamongrandcolombo/dining/coffee-stop.html",
         "+94 112 497 382",
         "Cafe",
         "Sri Lanka"
        ],
        [
         "NLDB MILK SHOP",
         5.0,
         1,
         "WV6M+W52",
         "Colombo",
         "LK",
         null,
         null,
         "Cafe",
         "Sri Lanka"
        ],
        [
         "Bo-sevana",
         4.258885,
         0,
         "54 Olcott Mawatha",
         "Colombo",
         "LK",
         null,
         "+94 75 452 4745",
         "Coffee shop",
         "Sri Lanka"
        ],
        [
         "Java Lounge Barnes Place",
         4.4,
         1471,
         "76 Barnes Pl",
         "Colombo",
         "LK",
         "http://www.javalounge.lk/",
         "+94 112 695 861",
         "Coffee shop",
         "Sri Lanka"
        ],
        [
         "Let's Eat",
         3.0,
         2,
         "193 Ward Pl",
         "Colombo",
         "LK",
         null,
         "+94 77 727 7984",
         "Coffee shop",
         "Sri Lanka"
        ],
        [
         "HIFI CAFE (maxza)",
         4.258885,
         0,
         "35 Stewart St",
         "Colombo",
         "LK",
         null,
         "+94 75 759 6609",
         "Restaurant",
         "Sri Lanka"
        ],
        [
         "A-One Cafe",
         3.9,
         615,
         "78 Justice Akbar Mawatha",
         "Colombo",
         "LK",
         "https://www.facebook.com/Aonecafepure",
         "+94 112 307 374",
         "Restaurant",
         "Sri Lanka"
        ],
        [
         "Chaiwala Colombo - One Galle Face Mall",
         4.8,
         47,
         "L20, 1A, One Galle Face Mall, Centre Road",
         "Colombo",
         "LK",
         "https://chaiwalacolombo.com/",
         null,
         "Cafe",
         "Sri Lanka"
        ],
        [
         "Goodies",
         4.5,
         170,
         "117 Colombo - Batticaloa Hwy",
         "Colombo",
         "LK",
         "http://www.cinnamonhotels.com/cinnamonlakesidecolombo/dining/goodies.html",
         "+94 112 491 804",
         "Coffee shop",
         "Sri Lanka"
        ],
        [
         "t-lounge & bar by Dilmah – One Galle Face",
         4.2,
         163,
         "L1-20, One Galle Face, No.1A ගාලු පාර",
         "Colombo",
         "LK",
         null,
         "+94 112 432 028",
         "Cafe",
         "Sri Lanka"
        ],
        [
         "Araliya cafe",
         4.4,
         7,
         "46/42, 02",
         "Colombo",
         "LK",
         null,
         null,
         "Restaurant",
         "Sri Lanka"
        ],
        [
         "Cafe Colombo",
         4.258885,
         0,
         "66 Galle Rd",
         "Colombo",
         "LK",
         null,
         null,
         "Bakery",
         "Sri Lanka"
        ],
        [
         "Bavan cafe",
         4.258885,
         0,
         "11 Vauxhall Ln",
         "Colombo",
         "LK",
         null,
         "+94 77 663 4443",
         "Vegetarian restaurant",
         "Sri Lanka"
        ],
        [
         "Cafe Seventy Seven",
         3.4,
         39,
         "WVC3+4HC",
         "Colombo",
         "LK",
         null,
         "+94 115 765 765",
         "Restaurant",
         "Sri Lanka"
        ],
        [
         "Sri Lanka Telecom Cafeteria",
         4.5,
         4,
         "WVC3+JCP",
         "Colombo",
         "LK",
         null,
         null,
         "Restaurant",
         "Sri Lanka"
        ],
        [
         "Cannys Bakers and Restaurant",
         4.258885,
         0,
         "185 Union Pl",
         "Colombo",
         "LK",
         null,
         "+94 112 693 722",
         "Cafe",
         "Sri Lanka"
        ],
        [
         "Green Cabin | Chatham Street",
         4.1,
         358,
         "NO 88 Chatham St",
         "Colombo",
         "LK",
         "http://www.greencabin.lk/",
         "+94 77 378 6147",
         "Cafe",
         "Sri Lanka"
        ],
        [
         "The Kafé",
         4.2,
         16,
         "123 Kumaran Ratnam Rd",
         "Colombo",
         "LK",
         "https://www.hotelnippon.lk/the-kafe/",
         "+94 112 332 603",
         "Cafe",
         "Sri Lanka"
        ],
        [
         "Upali's Canteen",
         2.0,
         1,
         "WRQW+783, Bandaranayake Quay",
         "Colombo",
         "LK",
         null,
         "+94 77 713 0019",
         "Coffee shop",
         "Sri Lanka"
        ],
        [
         "t-lounge by Dilmah – Chatham Street ️",
         4.4,
         980,
         "Chatham St",
         "Colombo",
         "LK",
         "http://dilmaht-lounge.com/",
         "+94 112 447 168",
         "Cafe",
         "Sri Lanka"
        ],
        [
         "Hotel De Excellent",
         3.6,
         14,
         "WVH7+5RG",
         "Colombo",
         "LK",
         null,
         null,
         "Cafe",
         "Sri Lanka"
        ],
        [
         "Cafe On The Range",
         5.0,
         9,
         "181/5 Hikkaduwe Sri Sumangala Himi Mawatha",
         "Colombo",
         "LK",
         "https://www.instagram.com/cafe_on_the_range",
         "+94 77 774 4877",
         "Cafe",
         "Sri Lanka"
        ],
        [
         "CAFE 142",
         4.258885,
         0,
         "142 Sri Vajiragnana Mawatha",
         "Colombo",
         "LK",
         null,
         "+94 72 817 9234",
         "Fast food restaurant",
         "Sri Lanka"
        ],
        [
         "Squeezey cafe and juice bar",
         5.0,
         3,
         "487 Dematagoda Rd",
         "Colombo",
         "LK",
         null,
         null,
         "Cafe",
         "Sri Lanka"
        ],
        [
         "Rizvi Snacks",
         3.6,
         12,
         "WVG8+V42, Ven Baddegama Wimalawansa Mawatha",
         "Colombo",
         "LK",
         null,
         "+94 77 656 4440",
         "Cafe",
         "Sri Lanka"
        ],
        [
         "Kusum Cafe",
         5.0,
         1,
         "WVGC+MW4",
         "Colombo",
         "LK",
         null,
         null,
         "Pastry shop",
         "Sri Lanka"
        ],
        [
         "City Cakes & Desserts",
         4.258885,
         0,
         "463 2nd Division Maradana",
         "Colombo",
         "LK",
         null,
         "+94 77 213 3811",
         "Cafe",
         "Sri Lanka"
        ],
        [
         "Tayo bear",
         4.8,
         107,
         "No 71, 2 R.G. Senanayake Mawatha",
         "Colombo",
         "LK",
         "http://www.tayobear.com/",
         "+94 77 199 2907",
         "Dog cafe",
         "Sri Lanka"
        ],
        [
         "The kava coffee",
         5.0,
         18,
         "Hedges Ct",
         "Colombo",
         "LK",
         null,
         "+94 76 384 6871",
         "Coffee shop",
         "Sri Lanka"
        ],
        [
         "The Coffee Manor",
         4.6,
         280,
         "83 R.G. Senanayake Mawatha",
         "Colombo",
         "LK",
         null,
         "+94 112 082 190",
         "Coffee shop",
         "Sri Lanka"
        ],
        [
         "Phoenix Hub Gaming Cafe",
         4.7,
         200,
         "44 Dr Danister De Silva Mawatha",
         "Colombo",
         "LK",
         "https://www.facebook.com/pnxhub/",
         "+94 114 244 446",
         "Video game store",
         "Sri Lanka"
        ],
        [
         "Shivan cafe",
         5.0,
         2,
         "WVPJ+678",
         "Colombo",
         "LK",
         null,
         "+94 112 686 197",
         "Cafe",
         "Sri Lanka"
        ],
        [
         "Hot Bun Cafe",
         4.1,
         13,
         "WVVC+V45",
         "Colombo",
         "LK",
         null,
         "+94 71 252 6650",
         "Cafe",
         "Sri Lanka"
        ],
        [
         "MTown Gaming & Shisha Lounge",
         4.4,
         10,
         "67 1/1 Maligawatta Pl",
         "Colombo",
         "LK",
         "https://www.facebook.com/mtownlounge",
         "+94 72 656 5777",
         "Lounge",
         "Sri Lanka"
        ],
        [
         "The Cafe Lounge",
         5.0,
         1,
         "WVPC+873",
         "Colombo",
         "LK",
         null,
         "+94 75 706 8505",
         "Game store",
         "Sri Lanka"
        ],
        [
         "Panchikawatta",
         4.258885,
         0,
         "WVM8+78M",
         "Colombo",
         "LK",
         null,
         null,
         "Coffee shop",
         "Sri Lanka"
        ],
        [
         "Cravings Café & Restaurant",
         5.0,
         4,
         "47, 12 Abdul Hameed St",
         "Colombo",
         "LK",
         null,
         "+94 75 559 4801",
         "Restaurant",
         "Sri Lanka"
        ],
        [
         "Cafe Anderson",
         5.0,
         1,
         "Anderson Flats D Block, Park Rd",
         "Colombo",
         "LK",
         null,
         "+94 76 876 1211",
         "Takeout Restaurant",
         "Sri Lanka"
        ],
        [
         "Taste Tots",
         5.0,
         7,
         "WVJC+FMG, Keera Kotuwa Road",
         "Colombo",
         "LK",
         "https://www.facebook.com/tastetot/",
         "+94 77 291 6634",
         "Cafe",
         "Sri Lanka"
        ],
        [
         "Najla Soup Cafe",
         3.7,
         7,
         "WVQ7+65P, Abdul Hameed St",
         "Colombo",
         "LK",
         null,
         "+94 71 554 4757",
         "Soup shop",
         "Sri Lanka"
        ],
        [
         "Cafe nine",
         3.5,
         2,
         "VVVM+R3H, Kirimandala Mawatha",
         "Colombo",
         "LK",
         null,
         "+94 112 449 919",
         "Bakery",
         "Sri Lanka"
        ],
        [
         "Best Lankan Food & Beverages (Pvt) Ltd",
         5.0,
         1,
         "XVFH+JF5, Mattakkuliya Farm Rd",
         "Colombo",
         "LK",
         null,
         "+94 77 772 2030",
         "Cafe",
         "Sri Lanka"
        ],
        [
         "Zion Fountain Cafe",
         4.4,
         58,
         "4 Vijaya Kumarathunga Mawatha",
         "Colombo",
         "LK",
         null,
         "+94 77 751 0850",
         "Cafe",
         "Sri Lanka"
        ],
        [
         "Nescafe Machine Rent (Mr.kordon's)",
         4.258885,
         0,
         "23, 51 Vystwyke Rd",
         "Colombo",
         "LK",
         null,
         "+94 77 798 0561",
         "Coffee shop",
         "Sri Lanka"
        ],
        [
         "Cafe Korea",
         3.7,
         15,
         "Kirimandala Mawatha",
         "Colombo",
         "LK",
         null,
         "+94 77 563 0117",
         "Korean restaurant",
         "Sri Lanka"
        ],
        [
         "Ameen’s Love",
         4.258885,
         0,
         "XVCG+XJ5",
         "Colombo",
         "LK",
         null,
         null,
         "Cafe",
         "Sri Lanka"
        ],
        [
         "Any item sale",
         2.0,
         1,
         "Randiya Uyana, Henamulla Ln",
         "Colombo",
         "LK",
         null,
         "+94 75 640 5776",
         "Cafe",
         "Sri Lanka"
        ],
        [
         "Bar wade kade",
         5.0,
         1,
         "XVCG+Q7X, St Mary's Rd",
         "Colombo",
         "LK",
         null,
         null,
         "Cafe",
         "Sri Lanka"
        ],
        [
         "Sunshine Bakary",
         4.1,
         28,
         "39 St Mary's Ln",
         "Colombo",
         "LK",
         null,
         "+94 77 600 8883",
         "Cafe",
         "Sri Lanka"
        ],
        [
         "New Indusiri Cafe",
         4.4,
         9,
         "Baseline Rd",
         "Colombo",
         "LK",
         null,
         "+94 112 667 792",
         "Vegetarian restaurant",
         "Sri Lanka"
        ],
        [
         "Caffe Vita",
         2.7,
         13,
         "VVV4+P27",
         "Colombo",
         "LK",
         null,
         "+94 77 743 3870",
         "Cafe",
         "Sri Lanka"
        ],
        [
         "The Family Cafe",
         4.258885,
         0,
         "77, 20 Gnanawimala Rd",
         "Colombo",
         "LK",
         null,
         "+94 77 551 0414",
         "Restaurant",
         "Sri Lanka"
        ],
        [
         "Refresh",
         3.0,
         2,
         "328 Jumma Masjid Rd",
         "Colombo",
         "LK",
         null,
         null,
         "Coffee shop",
         "Sri Lanka"
        ],
        [
         "The Vibe",
         3.6,
         7,
         "VVR9+7V8 Hotel Janaki, Fife Rd",
         "Colombo",
         "LK",
         "http://hoteljanakicolombo.com/the-vibe/",
         null,
         "Cafe",
         "Sri Lanka"
        ],
        [
         "Holybelly cafe",
         4.4,
         94,
         "318 Torrington Ave",
         "Colombo",
         "LK",
         "https://m.facebook.com/Holybelly-656716584719603/",
         "+94 77 712 2234",
         "Cafe",
         "Sri Lanka"
        ],
        [
         "The Blue Swan Lounge and Workspaces",
         5.0,
         3,
         "12 Greenlands Ave",
         "Colombo",
         "LK",
         null,
         "+94 77 311 6579",
         "Cafe",
         "Sri Lanka"
        ],
        [
         "Cafe Hideout",
         5.0,
         4,
         "24 Fife Rd",
         "Colombo",
         "LK",
         null,
         null,
         "Coffee store",
         "Sri Lanka"
        ],
        [
         "Blue Spoon",
         4.7,
         58,
         "90A Jawatta Rd",
         "Colombo",
         "LK",
         "http://instagram.com/bluespoonlk",
         "+94 77 316 4000",
         "Cafe",
         "Sri Lanka"
        ],
        [
         "Cafe Noir Blanc",
         4.3,
         1291,
         "No. 216, Rev, Thimbirigasyaya Rd",
         "Colombo",
         "LK",
         "http://cafenoir.lk/",
         "+94 112 555 188",
         "Restaurant",
         "Sri Lanka"
        ],
        [
         "Bars Cafe",
         4.0,
         27,
         "158 Thimbirigasyaya Rd",
         "Colombo",
         "LK",
         null,
         "+94 114 369 393",
         "Restaurant",
         "Sri Lanka"
        ],
        [
         "Tasty Caterers",
         4.2,
         1019,
         "88 Fife Rd",
         "Colombo",
         "LK",
         "http://tastycaterers.lk/",
         "+94 117 644 744",
         "Cafe",
         "Sri Lanka"
        ],
        [
         "COOL KADE",
         5.0,
         3,
         "423 Jumma Masjid Rd",
         "Colombo",
         "LK",
         null,
         "+94 72 051 5243",
         "Cafe",
         "Sri Lanka"
        ],
        [
         "Krishna Vegetarian Cafe",
         3.9,
         19,
         "5 St. Joseph's St",
         "Colombo",
         "LK",
         null,
         null,
         "Restaurant",
         "Sri Lanka"
        ],
        [
         "Cafe zone",
         5.0,
         4,
         "A3/F24, GEORGE R.D SILVA MW",
         "Colombo",
         "LK",
         null,
         null,
         "Sri Lankan restaurant",
         "Sri Lanka"
        ],
        [
         "Manra Cafe",
         5.0,
         2,
         "736 Dr Danister De Silva Mawatha",
         "Urugodawatta",
         "LK",
         "https://instagram.com/manra_cafe?igshid=OGQ5ZDc2ODk2ZA==",
         "+94 71 460 1191",
         "Restaurant",
         "Sri Lanka"
        ],
        [
         "Amabal Cafe",
         4.1,
         7,
         "WVV8+G8W, Jethawana Rd",
         "Colombo",
         "LK",
         null,
         null,
         "Restaurant",
         "Sri Lanka"
        ],
        [
         "Ape Kopi Grandpass",
         4.6,
         5,
         "70 Stace Rd",
         "Colombo",
         "LK",
         null,
         "+94 77 914 6786",
         "Coffee shop",
         "Sri Lanka"
        ],
        [
         "R.N.R. Cool Corner",
         4.258885,
         0,
         "WVR8+C27, Sri Sumanatissa Mawatha",
         "Colombo",
         "LK",
         null,
         null,
         "Cafe",
         "Sri Lanka"
        ],
        [
         "A.M.N.Rahumani",
         4.258885,
         0,
         "68 Gemunu Patu Mawatha",
         "Colombo",
         "LK",
         null,
         null,
         "Coffee shop",
         "Sri Lanka"
        ],
        [
         "Bob's Cafe",
         4.258885,
         0,
         "446 Old Moor St",
         "Colombo",
         "LK",
         null,
         null,
         "Restaurant",
         "Sri Lanka"
        ],
        [
         "Delish Cafe & Restaurant",
         3.8,
         147,
         null,
         "Colombo",
         "LK",
         null,
         "+94 112 441 334",
         "Restaurant",
         "Sri Lanka"
        ],
        [
         "Kotahena Cream House",
         4.258885,
         0,
         "71 Bonjeen Rd",
         "Colombo",
         "LK",
         null,
         "+94 112 472 907",
         "Cafe",
         "Sri Lanka"
        ],
        [
         "Black Shedow",
         4.258885,
         0,
         "15 Jampettah St",
         "Colombo",
         "LK",
         null,
         null,
         "Cafe",
         "Sri Lanka"
        ],
        [
         "Barista at Hatch Works",
         4.258885,
         0,
         "14 Sir Baron Jayathilake Mawatha",
         "Colombo",
         "LK",
         null,
         null,
         "Coffee shop",
         "Sri Lanka"
        ],
        [
         "The Street Cafe n Kitchen Pvt Ltd",
         5.0,
         1,
         "Lake House Building, regent Building 20 1/3 Sir chittampalam gardiner A Mawatha, 2 opposit to",
         "Colombo",
         "LK",
         null,
         "+94 112 300 109",
         "Restaurant",
         "Sri Lanka"
        ],
        [
         "The Barge Cafe and Restaurant",
         4.4,
         24,
         "Block D",
         "Colombo",
         "LK",
         null,
         "+94 77 003 9090",
         "Cafe",
         "Sri Lanka"
        ],
        [
         "PSD Welfare shop and House of Juice",
         4.8,
         5,
         "54 Chatham St",
         "Colombo",
         "LK",
         null,
         "+94 72 760 3377",
         "Cafe",
         "Sri Lanka"
        ],
        [
         "Brew 1867 by Dilmah – World Trade Center",
         4.6,
         39,
         "Level 03 West Block World Trade Center",
         "Colombo",
         "LK",
         "https://www.brew1867.com/",
         "+94 117 021 406",
         "Fast food restaurant",
         "Sri Lanka"
        ],
        [
         "Street cafe and kitchen",
         5.0,
         1,
         "Regent Flats",
         "Colombo",
         "LK",
         null,
         "+94 112 300 109",
         "Asian restaurant",
         "Sri Lanka"
        ],
        [
         "Cafe64 by Galadari Hotel",
         3.0,
         2,
         "64 Lotus Rd",
         "Colombo",
         "LK",
         "http://www.galadarihotel.lk/dining/cafe-64-pastry-shop?fbclid=IwAR0RE5z8t5l6R9Jg8Id-HfpV0kVqg8ANXLsIEyuG9rBLvDyvD8jkZNeLbjE",
         "+94 112 544 544",
         "Cafe",
         "Sri Lanka"
        ],
        [
         "The Nosh",
         4.2,
         23,
         "World Trade Center East Tower, WTC East Tower, 12/1 Bank of Ceylon Mawatha",
         "Colombo",
         "LK",
         null,
         "+94 76 170 0700",
         "Coffee shop",
         "Sri Lanka"
        ],
        [
         "Fort Cafe",
         4.0,
         1,
         "39 Sir Razik Fareed Mawatha",
         "Colombo",
         "LK",
         null,
         "+94 76 199 3103",
         "Restaurant",
         "Sri Lanka"
        ],
        [
         "Barista World Trade Center",
         4.3,
         397,
         "Level 3 World Trade Center, Bank of Ceylon Mawatha",
         "Colombo",
         "LK",
         "http://www.barista.lk/",
         "+94 112 332 163",
         "Cafe",
         "Sri Lanka"
        ],
        [
         "Nil's Kitchen",
         4.258885,
         0,
         "18/28 1st Lane, Evergreen Park Rd",
         "Colombo",
         "LK",
         null,
         "+94 77 771 1828",
         "Cafe",
         "Sri Lanka"
        ],
        [
         "Side Walk Cafe",
         4.4,
         8,
         "No 33 Canal Row",
         "Colombo",
         "LK",
         null,
         null,
         "Restaurant",
         "Sri Lanka"
        ],
        [
         "New Murugan Cafe",
         4.258885,
         0,
         "30 Sri Kathiresan St",
         "Colombo",
         "LK",
         null,
         "+94 77 470 0669",
         "Indian restaurant",
         "Sri Lanka"
        ],
        [
         "RASANANDA BAKERS (දර පොරනු cafe)",
         4.5,
         2,
         "130 2nd Ln",
         "Sri Jayawardenepura Kotte",
         "LK",
         null,
         "+94 77 645 4354",
         "Bakery",
         "Sri Lanka"
        ],
        [
         "Menytype",
         4.258885,
         0,
         "G-1-3-B, Mihindu Mawatha Shopping Complex",
         "Colombo",
         "LK",
         null,
         "+94 112 441 684",
         "Cafe",
         "Sri Lanka"
        ],
        [
         "S K M Cafe",
         4.5,
         4,
         "103 New Moor St",
         "Colombo",
         "LK",
         null,
         null,
         "Restaurant",
         "Sri Lanka"
        ],
        [
         "New Saraswati Cafe",
         4.1,
         840,
         "230 Sea St",
         "Colombo",
         "LK",
         null,
         "+94 112 435 789",
         "Vegetarian restaurant",
         "Sri Lanka"
        ],
        [
         "Mobitel Cafeteria",
         3.3,
         11,
         "Lesley Ranagala Mawatha",
         "Colombo",
         "LK",
         null,
         "+94 71 285 7555",
         "Cafe",
         "Sri Lanka"
        ],
        [
         "Fabela Restaurant & Cafe",
         4.258885,
         0,
         "231D Wijayakumarathunga Road",
         "Colombo",
         "LK",
         null,
         "+94 76 877 4258",
         "Restaurant",
         "Sri Lanka"
        ],
        [
         "Tens Inc",
         5.0,
         2,
         "33/5 Somadevi Pl",
         "Colombo",
         "LK",
         null,
         "+94 77 612 3247",
         "Cafe",
         "Sri Lanka"
        ],
        [
         "The Counter Cafe",
         4.3,
         24,
         "30/4 Sri Siddhartha Passage",
         "Colombo",
         "LK",
         null,
         "+94 77 790 1607",
         "Restaurant",
         "Sri Lanka"
        ],
        [
         "KAILASA The Street Food Café",
         3.8,
         962,
         "494 R. A. De Mel Mawatha",
         "Colombo",
         "LK",
         null,
         null,
         "Restaurant",
         "Sri Lanka"
        ],
        [
         "Kumbuk Cafe",
         4.258885,
         0,
         "No. 60/7 Horton Pl",
         "Colombo",
         "LK",
         null,
         null,
         "Restaurant",
         "Sri Lanka"
        ],
        [
         "Kaapi",
         4.3,
         521,
         "29, Schofield Place, Marine Drive",
         "Colombo",
         "LK",
         null,
         "+94 77 153 3443",
         "Cafe",
         "Sri Lanka"
        ],
        [
         "Saswathi Cafe | சாஸ்வதி கபே",
         4.0,
         1,
         "171 A2",
         "Colombo",
         "LK",
         null,
         "+94 76 544 9951",
         "Vegetarian restaurant",
         "Sri Lanka"
        ],
        [
         "Amos chai factory",
         4.258885,
         0,
         "VVF8+GCC, 55th Ln",
         "Colombo",
         "LK",
         null,
         null,
         "Coffee shop",
         "Sri Lanka"
        ],
        [
         "Colombo Chaiwala",
         4.3,
         336,
         "12 Lily Ave",
         "Colombo",
         "LK",
         null,
         null,
         "Tea house",
         "Sri Lanka"
        ],
        [
         "Galle Caterers",
         3.5,
         17,
         "No. 43 Marine Dr",
         "Colombo",
         "LK",
         null,
         "+94 114 367 799",
         "Cafe",
         "Sri Lanka"
        ],
        [
         "Matras Cafe",
         4.258885,
         0,
         "118 A Galle Rd",
         "Colombo",
         "LK",
         null,
         null,
         "Restaurant",
         "Sri Lanka"
        ],
        [
         "Top Collection",
         4.258885,
         0,
         "Ambanpitiya, 7851/1 ,colombo rd, Galigamuwa town",
         "Kegalle",
         "LK",
         null,
         "+94 70 313 3471",
         "Art cafe",
         "Sri Lanka"
        ],
        [
         "Everyday Bakery & Cafe",
         3.1,
         69,
         "1, 465 1/1 Galle Rd",
         "Colombo",
         "LK",
         null,
         "+94 112 363 996",
         "Bakery",
         "Sri Lanka"
        ],
        [
         "WAFL Café Wellawatte",
         4.1,
         375,
         "47 42nd Ln",
         "Colombo",
         "LK",
         null,
         "+94 117 104 104",
         "Restaurant",
         "Sri Lanka"
        ],
        [
         "The Cozy Lounge",
         4.258885,
         0,
         "16 Flower Rd",
         "Colombo",
         "LK",
         null,
         null,
         "Cafe",
         "Sri Lanka"
        ],
        [
         "Bakers Lab LK",
         4.6,
         69,
         "03 Muthuwella Mawatha",
         "Colombo",
         "LK",
         "http://www.bakerslablk.com/",
         "+94 75 757 4797",
         "Bakery",
         "Sri Lanka"
        ],
        [
         "The Coffee Craft",
         4.4,
         172,
         "55 St Anthony's Mawatha",
         "Colombo",
         "LK",
         "https://coffeecraft.tinkers.biz/",
         "+94 76 222 8888",
         "Cafe",
         "Sri Lanka"
        ],
        [
         "Lucuma Vegan Cafe",
         4.6,
         31,
         "Cambridge Terrace",
         "Colombo",
         "LK",
         "https://instagram.com/lucuma_vegan_cafe?utm_medium=copy_link",
         "+94 77 133 3668",
         "Coffee shop",
         "Sri Lanka"
        ],
        [
         "Rolling Pin",
         4.2,
         14,
         "Liberty Plaza, Basement",
         "Colpetty",
         "LK",
         "https://m.facebook.com/Rollingpinlk",
         "+94 71 720 2303",
         "Cafe",
         "Sri Lanka"
        ],
        [
         "Klassy Cafe - Havelock City Mall",
         3.4,
         13,
         "Havelock City, Havelock Rd",
         "Colombo",
         "LK",
         null,
         "+94 114 252 502",
         "Pastry shop",
         "Sri Lanka"
        ],
        [
         "Amal gram store",
         4.0,
         5,
         "VVM9+4PH, Edward Ave",
         "Colombo",
         "LK",
         null,
         null,
         "Coffee shop",
         "Sri Lanka"
        ],
        [
         "Tea Tent",
         4.258885,
         0,
         "VVJ9+X3G",
         "Colombo",
         "LK",
         null,
         null,
         "Coffee shop",
         "Sri Lanka"
        ],
        [
         "Twins Cafe",
         4.7,
         38,
         "14 Independence Ave",
         "Colombo",
         "LK",
         null,
         "+94 76 792 2030",
         "Restaurant",
         "Sri Lanka"
        ],
        [
         "Nugegoda",
         4.258885,
         0,
         "WVG6+RFQ",
         "Colombo",
         "LK",
         null,
         "+94 75 878 5854",
         "Cafe",
         "Sri Lanka"
        ],
        [
         "The cafe",
         5.0,
         3,
         "273/1 Vauxhall St",
         "Colombo",
         "LK",
         null,
         "+94 112 341 342",
         "Restaurant",
         "Sri Lanka"
        ],
        [
         "Restaurant Area",
         1.0,
         1,
         "WRGH+P32",
         "Port City Colombo",
         "LK",
         null,
         null,
         "Coffee shop",
         "Sri Lanka"
        ],
        [
         "Neleez Station",
         3.0,
         1,
         "Colombo Lotus Tower, AC6",
         "Colombo",
         "LK",
         null,
         "+94 77 728 0953",
         "Coffee shop",
         "Sri Lanka"
        ],
        [
         "Cannys Bakers",
         3.9,
         41,
         "WVFH+83P",
         "Colombo",
         "LK",
         null,
         null,
         "Cafe",
         "Sri Lanka"
        ],
        [
         "Cafe Pixel Printing Solutions (Pvt) Limited",
         4.1,
         140,
         "180/3 Arnold Ratnayake Mawatha",
         "Colombo",
         "LK",
         null,
         "+94 112 680 061",
         "Print shop",
         "Sri Lanka"
        ],
        [
         "NEDOLAKANDA grocery & cafe",
         4.258885,
         0,
         "kolonna, road",
         "nedolakanda",
         "LK",
         null,
         "+94 77 455 2083",
         "Grocery store",
         "Sri Lanka"
        ],
        [
         "Barakath Sweets and Cafe",
         5.0,
         3,
         "24 Immamul Aroos Mawatha",
         "Colombo",
         "LK",
         null,
         "+94 77 812 9250",
         "Restaurant",
         "Sri Lanka"
        ],
        [
         "King Metro Cafe (pure vegetarian)",
         4.3,
         4,
         "WVG8+22P",
         "Colombo",
         "LK",
         null,
         null,
         "Restaurant",
         "Sri Lanka"
        ],
        [
         "Nithiya",
         4.258885,
         0,
         "765 Bodhirajarama Mawatha",
         "Colombo",
         "LK",
         null,
         null,
         "Coffee shop",
         "Sri Lanka"
        ],
        [
         "Dark Roast Cafe",
         4.2,
         84,
         "20A Laurie’s Place, R. A. De Mel Mawatha",
         "Colombo",
         "LK",
         "https://www.instagram.com/darkroastcafelk/",
         "+94 77 666 7567",
         "Coffee shop",
         "Sri Lanka"
        ],
        [
         "Orion Tower Cafeteria",
         4.4,
         8,
         "WVRH+5H3",
         "Colombo",
         "LK",
         null,
         null,
         "Cafe",
         "Sri Lanka"
        ],
        [
         "NEW BON CAFE",
         5.0,
         1,
         "67c Colombo Main Rd",
         "Kaduwela",
         "LK",
         null,
         null,
         "Cafe",
         "Sri Lanka"
        ],
        [
         "Cafe Chocolattie",
         4.4,
         333,
         "38 Frankfort Pl",
         "Colombo",
         "LK",
         null,
         "+94 112 592 222",
         "Dessert shop",
         "Sri Lanka"
        ],
        [
         "The Mithai Cafe",
         4.6,
         49,
         "18 Lauries Rd",
         "Colombo",
         "LK",
         "https://the-mithai-cafe.business.site/?utm_source=gmb&utm_medium=referral",
         "+94 75 581 1191",
         "Cafe",
         "Sri Lanka"
        ],
        [
         "Cloud Cafe",
         4.1,
         122,
         "Hotel & Spa, Colombo Court, 32 Alfred House Ave",
         "Colombo",
         "LK",
         "https://www.colombocourthotel.com/cloudcafe",
         "+94 114 645 333",
         "Restaurant",
         "Sri Lanka"
        ],
        [
         "Java Lounge - Bambalapitiya",
         4.4,
         1621,
         "No.27 & 29 Lauries Rd",
         "Colombo",
         "LK",
         "http://www.javalounge.lk/",
         "+94 112 552 501",
         "Coffee shop",
         "Sri Lanka"
        ],
        [
         "Tasha Cafe",
         4.3,
         29,
         "Ground Floor, 196 Park Rd",
         "Colombo",
         "LK",
         null,
         "+94 75 363 1000",
         "Cafe",
         "Sri Lanka"
        ],
        [
         "6th Lane Cafe",
         3.6,
         28,
         "3 Alfred Pl",
         "Colombo",
         "LK",
         null,
         null,
         "Cafe",
         "Sri Lanka"
        ],
        [
         "My friend cafe",
         4.8,
         48,
         "18 Bagatalle Rd",
         "Colombo",
         "LK",
         null,
         "+94 113 818 815",
         "Coffee shop",
         "Sri Lanka"
        ],
        [
         "Barefoot Garden Cafe",
         4.6,
         714,
         "704 Galle Rd",
         "Colombo",
         "LK",
         "https://barefootceylon.com/pages/cafe",
         "+94 112 589 305",
         "Cafe",
         "Sri Lanka"
        ],
        [
         "Café on the 5th",
         4.2,
         3083,
         "108 5th Ln",
         "Colombo",
         "LK",
         null,
         "+94 114 935 684",
         "Restaurant",
         "Sri Lanka"
        ],
        [
         "Cafe Zone",
         5.0,
         1,
         "20 De Costa Garden",
         "Colombo",
         "LK",
         null,
         null,
         "Restaurant",
         "Sri Lanka"
        ],
        [
         "Al Fresco Garden Cafe",
         4.2,
         45,
         "No 208, Rev Muruttettuwe, Ananda Nahimi Mawatha",
         "Colombo",
         "LK",
         "https://instagram.com/al.fresco_sl?igshid=MzRlODBiNWFlZA==",
         "+94 71 456 5762",
         "Cafe",
         "Sri Lanka"
        ],
        [
         "E-Cafe",
         4.1,
         985,
         "120/A Sri Sambuddhathva Jayanthi Mawatha",
         "Colombo",
         "LK",
         null,
         "+94 112 507 525",
         "Coffee shop",
         "Sri Lanka"
        ],
        [
         "Myrus Cafe",
         5.0,
         3,
         "517 Cube Lane, 5",
         "Colombo",
         "LK",
         null,
         "+94 74 104 3570",
         "Cafe",
         "Sri Lanka"
        ],
        [
         "Wheelys Café 80",
         4.3,
         4,
         "25 Independence Ave",
         "Colombo",
         "LK",
         null,
         "+94 76 324 4515",
         "Takeout Restaurant",
         "Sri Lanka"
        ],
        [
         "Cafe Kumbuk",
         4.5,
         1210,
         "3/1 Thambiah Avenue, Independence Ave",
         "Colombo",
         "LK",
         "https://www.cafekumbuk.com/",
         "+94 112 685 310",
         "Cafe",
         "Sri Lanka"
        ],
        [
         "Sugarcube Cafe",
         4.5,
         92,
         "No.15 R.A., 05 R. A. De Mel Mawatha",
         "Colombo",
         "LK",
         null,
         "+94 76 432 7997",
         "Cafe",
         "Sri Lanka"
        ],
        [
         "LOLLY'S",
         4.1,
         147,
         "323 Galle Rd",
         "Colombo",
         "LK",
         null,
         "+94 77 740 3403",
         "Coffee shop",
         "Sri Lanka"
        ],
        [
         "Kaffi Colombo",
         4.4,
         117,
         "G9, Crescat Boulevard, Crescat Boulevard no.89",
         "Colombo",
         "LK",
         null,
         "+94 117 743 062",
         "Cafe",
         "Sri Lanka"
        ],
        [
         "The Brown Bean Coffee",
         4.2,
         103,
         "52 Sir Marcus Fernando Mawatha",
         "Colombo",
         "LK",
         "http://www.fb.com/thebrownbeancoffee",
         "+94 71 622 1626",
         "Coffee shop",
         "Sri Lanka"
        ],
        [
         "Internet Cafe",
         3.4,
         8,
         "70 D. S. Senanayake Mawatha",
         "Colombo",
         "LK",
         null,
         null,
         "Cafe",
         "Sri Lanka"
        ],
        [
         "K Cafe",
         4.1,
         14,
         "WV92+J39, Nawam Mawatha",
         "Colombo",
         "LK",
         null,
         "+94 114 386 438",
         "Cafe",
         "Sri Lanka"
        ],
        [
         "T.Co By Adra",
         4.6,
         14,
         "51a Srimath Anagarika Dharmapala Mawatha",
         "Colombo",
         "LK",
         "https://www.tcobyadra.lk/",
         "+94 77 999 9079",
         "Cafe",
         "Sri Lanka"
        ],
        [
         "Zoo Cafe",
         4.258885,
         0,
         "77 Galle Rd",
         "Colombo",
         "LK",
         null,
         "+94 77 992 8340",
         "Coffee shop",
         "Sri Lanka"
        ],
        [
         "Blackout Bar & Restaurant",
         3.8,
         468,
         "36 Ward Pl",
         "Colombo",
         "LK",
         "https://www.yamu.lk/place/blackout-restaurant-cafe",
         "+94 76 847 1555",
         "Bar",
         "Sri Lanka"
        ],
        [
         "Tea Breeze Cafe at Beira Lake",
         3.9,
         94,
         "B, 18 Perahera Mawatha",
         "Colombo",
         "LK",
         "http://www.teabreeze.com/Beiralake.aspx",
         "+94 112 434 074",
         "Cafe",
         "Sri Lanka"
        ],
        [
         "Café Konditorei",
         3.6,
         5,
         "647 P De S Kularatne Mawatha",
         "Colombo",
         "LK",
         null,
         "+94 77 342 7182",
         "Coffee shop",
         "Sri Lanka"
        ],
        [
         "Maheli Cafe",
         5.0,
         2,
         "112 Vauxhall St",
         "Colombo",
         "LK",
         null,
         "+94 77 721 0103",
         "Cafe",
         "Sri Lanka"
        ],
        [
         "Cafe Celo09",
         4.258885,
         0,
         "WVC6+VRM",
         "Colombo",
         "LK",
         null,
         null,
         "Coffee shop",
         "Sri Lanka"
        ],
        [
         "Hut Cafe",
         4.258885,
         0,
         "2 Frances Rd",
         "Colombo",
         "LK",
         null,
         null,
         "Cafe",
         "Sri Lanka"
        ],
        [
         "Cafe 717",
         3.7,
         3,
         "WVC3+G8F",
         "Colombo",
         "LK",
         null,
         null,
         "Coffee shop",
         "Sri Lanka"
        ],
        [
         "LA LUNA Pizzeria & Cafe",
         4.7,
         383,
         "124 Lauries Rd",
         "Colombo",
         "LK",
         "https://www.instagram.com/la_luna.pizzeria.coffee",
         "+94 77 887 4430",
         "Restaurant",
         "Sri Lanka"
        ],
        [
         "Brew Island",
         4.6,
         10,
         "377a Galle Rd",
         "Colombo",
         "LK",
         null,
         null,
         "Coffee shop",
         "Sri Lanka"
        ],
        [
         "Askar Cafe",
         5.0,
         1,
         "60 St Joseph's St",
         "Colombo",
         "LK",
         null,
         null,
         "Coffee shop",
         "Sri Lanka"
        ],
        [
         "Caroma Elite Speciality Coffee",
         4.9,
         110,
         "Floating Market, 340/88",
         "Colombo",
         "LK",
         null,
         "+94 76 886 6466",
         "Coffee shop",
         "Sri Lanka"
        ],
        [
         "Bun Break",
         4.8,
         6,
         "No.19 asian mkt, Olcott Mawatha",
         "Colombo",
         "LK",
         null,
         "+94 76 807 9242",
         "Cafe",
         "Sri Lanka"
        ],
        [
         "The Barnesbury",
         4.3,
         2550,
         "91 Barnes Pl",
         "Colombo",
         "LK",
         "https://thebarnesbury.com/",
         "+94 112 682 144",
         "Restaurant",
         "Sri Lanka"
        ],
        [
         "Urban Cafe",
         3.0,
         1,
         "75 Olcott Mawatha",
         "Colombo",
         "LK",
         null,
         null,
         "Restaurant",
         "Sri Lanka"
        ],
        [
         "Golden Cafe",
         4.2,
         340,
         "01100, 98 Bankshall St",
         "Colombo",
         "LK",
         null,
         "+94 112 324 712",
         "Vegetarian restaurant",
         "Sri Lanka"
        ],
        [
         "Torta",
         4.5,
         12,
         "59 Ward Pl",
         "Colombo",
         "LK",
         null,
         "+94 77 707 8787",
         "Cafe",
         "Sri Lanka"
        ],
        [
         "Café Japan",
         4.6,
         267,
         "25 Borella Cross Rd",
         "Colombo",
         "LK",
         "https://www.facebook.com/Cafe-Japan-in-Colombo-Sri-Lanka-2131389247108370/",
         "+94 77 726 3565",
         "Authentic Japanese restaurant",
         "Sri Lanka"
        ],
        [
         "Life’s Good Kitchen",
         4.9,
         550,
         "No 12 Sulaiman Terrace, Jawatta road Colombo 5",
         "Colombo",
         "LK",
         "https://www.instagram.com/lifesgoodkitchen/",
         "+94 77 674 1266",
         "Restaurant",
         "Sri Lanka"
        ],
        [
         "Sea Island Street Food",
         5.0,
         1,
         "WVF2+H86, Vellons Passage",
         "Colombo",
         "LK",
         null,
         null,
         "Cafe",
         "Sri Lanka"
        ],
        [
         "The Coffee Bean and Tea Leaf - Landmark",
         4.2,
         673,
         "WV32+FWP, Galle Rd",
         "Colombo",
         "LK",
         null,
         null,
         "Coffee shop",
         "Sri Lanka"
        ],
        [
         "Katee Rotee",
         5.0,
         4,
         "29 St Lucia's St",
         "Colombo",
         "LK",
         null,
         null,
         "Coffee shop",
         "Sri Lanka"
        ],
        [
         "cafe monica sri lanka",
         5.0,
         3,
         "Old Dutch Hospital Complex, 09 Hospital St",
         "Colombo",
         "LK",
         null,
         "+94 70 166 6422",
         "Pizza restaurant",
         "Sri Lanka"
        ],
        [
         "Rancrisp Cashew",
         2.9,
         15,
         "WRGV+WVV, ගාල්ල ප්‍රධාන මාර්ගය",
         "Colombo",
         "LK",
         "http://www.rancrisp.lk/",
         null,
         "Cafe",
         "Sri Lanka"
        ],
        [
         "Kaffeine by Republk",
         4.1,
         8,
         "57 Hospital St",
         "Colombo",
         "LK",
         null,
         "+94 112 444 429",
         "Cafe",
         "Sri Lanka"
        ],
        [
         "Silva Snack Bar",
         4.8,
         4,
         "WVJ8+C3P",
         "Colombo",
         "LK",
         null,
         "+94 112 451 341",
         "Cafe",
         "Sri Lanka"
        ],
        [
         "41 cafe",
         1.8,
         16,
         "Mahawela Pl",
         "Colombo",
         "LK",
         null,
         "+94 77 644 0510",
         "Restaurant",
         "Sri Lanka"
        ],
        [
         "Badam Doodh",
         4.5,
         2,
         "46 36th Ln",
         "Colombo",
         "LK",
         null,
         "+94 77 465 0420",
         "Coffee shop",
         "Sri Lanka"
        ],
        [
         "Spizzerts",
         4.6,
         22,
         "261 R. A. De Mel Mawatha",
         "Colombo",
         "LK",
         null,
         "+94 77 015 1732",
         "Cafe",
         "Sri Lanka"
        ],
        [
         "Refresh Cafe and Juice bar",
         4.0,
         1,
         "514 Havelock Rd",
         "Colombo",
         "LK",
         null,
         null,
         "Restaurant",
         "Sri Lanka"
        ],
        [
         "Malar Cafe",
         4.0,
         260,
         "No: 45, 07 Dr CWW Kannangara Mawatha",
         "Colombo",
         "LK",
         "https://malar-cafe.business.site/?utm_source=gmb&utm_medium=referral",
         "+94 115 106 703",
         "North Eastern Indian restaurant",
         "Sri Lanka"
        ],
        [
         "QuQu Cafe",
         4.4,
         50,
         "Ground floor One",
         "Mall",
         "LK",
         "https://www.ququcafe.lk/",
         null,
         "Cafe",
         "Sri Lanka"
        ],
        [
         "T.N Cafe",
         4.0,
         4,
         "WVC6+CWR",
         "Colombo",
         "LK",
         null,
         null,
         "Cafe",
         "Sri Lanka"
        ],
        [
         "E-Cafe Colombo 03",
         4.0,
         126,
         "316 Galle Rd",
         "Colombo",
         "LK",
         "https://ecafecoffee.business.site/",
         "+94 113 428 350",
         "Coffee shop",
         "Sri Lanka"
        ],
        [
         "Park Cafe",
         2.8,
         32,
         "59D Norris Canal Rd",
         "Colombo",
         "LK",
         "http://www.parkcafe.lk/",
         "+94 77 345 1885",
         "Asian restaurant",
         "Sri Lanka"
        ],
        [
         "Cafe Green",
         4.7,
         3,
         "459 T. B. Jayah Mawatha",
         "Colombo",
         "LK",
         null,
         "+94 75 822 2822",
         "Restaurant",
         "Sri Lanka"
        ],
        [
         "Cakes & Bakes Cafe",
         4.3,
         1004,
         "69 Galle Rd",
         "Colombo",
         "LK",
         null,
         "+94 76 441 2792",
         "Cake shop",
         "Sri Lanka"
        ],
        [
         "Maniumpathy Café",
         4.9,
         15,
         "129 Kynsey Rd",
         "Colombo",
         "LK",
         "https://maniumpathy.com/dining/",
         "+94 77 089 8900",
         "Fusion restaurant",
         "Sri Lanka"
        ],
        [
         "Bun Break",
         4.8,
         20,
         "174 New Moor St",
         "Colombo",
         "LK",
         null,
         "+94 76 807 9242",
         "Cafe",
         "Sri Lanka"
        ],
        [
         "ටිරොන්ගේ වඩේ තට්ටුව",
         5.0,
         1,
         "VVHF+GQ9, High Level Rd",
         "Colombo",
         "LK",
         null,
         "+94 77 055 4549",
         "Cafe",
         "Sri Lanka"
        ],
        [
         "The Barca Cafe",
         4.0,
         52,
         "318 Torrington Ave",
         "Colombo",
         "LK",
         null,
         "+94 114 157 480",
         "Cafe",
         "Sri Lanka"
        ],
        [
         "Remarko Bakery",
         3.3,
         4,
         "WVXF+H79, St. Joseph's St",
         "Colombo",
         "LK",
         null,
         "+94 112 964 247",
         "Cafe",
         "Sri Lanka"
        ],
        [
         "The Coffee Bean & Tea Leaf",
         4.3,
         699,
         "1st Floor Liberty Plaza",
         "Colombo",
         "LK",
         null,
         "+94 77 388 7666",
         "Coffee shop",
         "Sri Lanka"
        ],
        [
         "Cafe Mocha by Barista",
         4.3,
         1649,
         "28 Stratford Ave",
         "Colombo",
         "LK",
         "http://www.barista.lk/",
         "+94 112 055 491",
         "Cafe",
         "Sri Lanka"
        ],
        [
         "Playtrix Sports Bar and Cafe",
         4.3,
         1182,
         "137 Sir James Pieris Mawatha",
         "Colombo",
         "LK",
         "http://www.playtrix.lk/",
         "+94 76 547 7577",
         "Sports bar",
         "Sri Lanka"
        ],
        [
         "Caramel Pumpkin",
         4.3,
         2253,
         "WV89+FJG, 38 Ward Pl",
         "Colombo",
         "LK",
         null,
         "+94 112 677 966",
         "Cafe",
         "Sri Lanka"
        ],
        [
         "Choco Luv",
         3.8,
         419,
         "16 Flower Rd",
         "Colombo",
         "LK",
         "http://www.facebook.com/yourchocoluv/",
         "+94 112 301 140",
         "Cafe",
         "Sri Lanka"
        ],
        [
         "Pages & Coffee",
         4.5,
         233,
         "8 Stratford Ave",
         "Colombo",
         "LK",
         "https://web.facebook.com/pagesandcoffee.LK",
         "+94 77 430 8502",
         "Coffee shop",
         "Sri Lanka"
        ],
        [
         "Bibo's Cafe",
         4.2,
         14,
         "289 High Level Rd",
         "Colombo",
         "LK",
         null,
         "+94 77 941 3413",
         "Cafe",
         "Sri Lanka"
        ],
        [
         "Cafe 7 To 7",
         4.6,
         5,
         "WV27+VF7, Prof Stanley Wijesundera Mawatha",
         "Colombo",
         "LK",
         null,
         null,
         "Restaurant",
         "Sri Lanka"
        ],
        [
         "Rakna Lanka Cafe",
         3.0,
         5,
         "WV93+RCF, Nawam Mawatha",
         "Colombo",
         "LK",
         null,
         null,
         "Bakery",
         "Sri Lanka"
        ],
        [
         "The King Cafe",
         4.5,
         8,
         "XV9C+RRM",
         "Colombo",
         "LK",
         null,
         "+94 77 841 0410",
         "Restaurant",
         "Sri Lanka"
        ],
        [
         "Cafe Longdon",
         4.7,
         52,
         "6 Malalasekara Mawatha",
         "Colombo",
         "LK",
         null,
         null,
         "Cafe",
         "Sri Lanka"
        ],
        [
         "Busy Bean Cafe",
         3.9,
         55,
         "Race Course Ave",
         "Colombo",
         "LK",
         "http://thebusybean.lk/",
         "+94 76 982 9726",
         "Cafe",
         "Sri Lanka"
        ]
       ],
       "datasetInfos": [],
       "dbfsResultPath": null,
       "isJsonSchema": true,
       "metadata": {},
       "overflow": false,
       "plotOptions": {
        "customPlotOptions": {},
        "displayType": "table",
        "pivotAggregation": null,
        "pivotColumns": null,
        "xColumns": null,
        "yColumns": null
       },
       "removedWidgets": [],
       "schema": [
        {
         "metadata": "{}",
         "name": "Title",
         "type": "\"string\""
        },
        {
         "metadata": "{}",
         "name": "Total_score",
         "type": "\"float\""
        },
        {
         "metadata": "{}",
         "name": "Reviews_count",
         "type": "\"integer\""
        },
        {
         "metadata": "{}",
         "name": "Street",
         "type": "\"string\""
        },
        {
         "metadata": "{}",
         "name": "City",
         "type": "\"string\""
        },
        {
         "metadata": "{}",
         "name": "Country_code",
         "type": "\"string\""
        },
        {
         "metadata": "{}",
         "name": "Website",
         "type": "\"string\""
        },
        {
         "metadata": "{}",
         "name": "Phone",
         "type": "\"string\""
        },
        {
         "metadata": "{}",
         "name": "Category_name",
         "type": "\"string\""
        },
        {
         "metadata": "{}",
         "name": "Country",
         "type": "\"string\""
        }
       ],
       "type": "table"
      }
     },
     "output_type": "display_data"
    }
   ],
   "source": [
    "#Union das tabelas por meio do codigo do pais\n",
    "CountryCodes = CountryCodes.withColumnRenamed('Name', 'Country').withColumnRenamed('Code', 'Country_code')\n",
    "\n",
    "CoffeData = CoffeeData.join(CountryCodes, CoffeeData.Country_code == CountryCodes.Country_code, 'Inner') \\\n",
    "    .select(CoffeeData[\"*\"], CountryCodes[\"Country\"])\n",
    "\n",
    "display(CoffeData)"
   ]
  },
  {
   "cell_type": "code",
   "execution_count": 0,
   "metadata": {
    "application/vnd.databricks.v1+cell": {
     "cellMetadata": {
      "byteLimit": 2048000,
      "rowLimit": 10000
     },
     "inputWidgets": {},
     "nuid": "543505d0-ad0d-4bad-9196-38061f783314",
     "showTitle": false,
     "title": ""
    }
   },
   "outputs": [
    {
     "output_type": "stream",
     "name": "stdout",
     "output_type": "stream",
     "text": [
      "+--------------------+--------+\n|                City|count(1)|\n+--------------------+--------+\n|            Colpetty|       1|\n|             Kegalle|       1|\n|            Kaduwela|       1|\n|             Colombo|     334|\n|                Mall|       1|\n|         nedolakanda|       1|\n|Sri Jayawardenepu...|       1|\n|            Nugegoda|       1|\n|        Urugodawatta|       1|\n|   Port City Colombo|       1|\n+--------------------+--------+\n\n"
     ]
    }
   ],
   "source": [
    "from pyspark.sql.functions import count\n",
    "\n",
    "CoffeeData.groupBy('City').agg(count('*')).show()"
   ]
  },
  {
   "cell_type": "code",
   "execution_count": 0,
   "metadata": {
    "application/vnd.databricks.v1+cell": {
     "cellMetadata": {
      "byteLimit": 2048000,
      "rowLimit": 10000
     },
     "inputWidgets": {},
     "nuid": "b3084fd2-39a2-43a4-a0b0-39825ef1c186",
     "showTitle": false,
     "title": ""
    }
   },
   "outputs": [
    {
     "output_type": "stream",
     "name": "stdout",
     "output_type": "stream",
     "text": [
      "+--------------------+------------------+\n|                City|  avg(Total_score)|\n+--------------------+------------------+\n|            Colpetty| 4.199999809265137|\n|             Kegalle| 4.258884906768799|\n|            Kaduwela|               5.0|\n|             Colombo|4.2664065468097165|\n|                Mall| 4.400000095367432|\n|         nedolakanda| 4.258884906768799|\n|Sri Jayawardenepu...|               4.5|\n|            Nugegoda| 3.200000047683716|\n|        Urugodawatta|               5.0|\n|   Port City Colombo|               1.0|\n+--------------------+------------------+\n\n"
     ]
    }
   ],
   "source": [
    "from pyspark.sql.functions import mean\n",
    "CoffeeData.groupBy('City').agg(mean('Total_score')).show()"
   ]
  },
  {
   "cell_type": "code",
   "execution_count": 0,
   "metadata": {
    "application/vnd.databricks.v1+cell": {
     "cellMetadata": {
      "byteLimit": 2048000,
      "rowLimit": 10000
     },
     "inputWidgets": {},
     "nuid": "40c8c07e-ec94-4aac-8ed0-eb913076360d",
     "showTitle": false,
     "title": ""
    }
   },
   "outputs": [
    {
     "output_type": "stream",
     "name": "stdout",
     "output_type": "stream",
     "text": [
      "+--------------------+--------+\n|       Category_name|count(1)|\n+--------------------+--------+\n|                Cafe|     162|\n|         Coffee shop|      73|\n|          Restaurant|      57|\n|              Bakery|       7|\n|Vegetarian restau...|       5|\n|Fast food restaurant|       3|\n|           Tea house|       3|\n|      Ice cream shop|       2|\n|         Pastry shop|       2|\n|    Asian restaurant|       2|\n|  Takeout Restaurant|       2|\n|Sri Lankan restau...|       2|\n|North Eastern Ind...|       1|\n|            Dog cafe|       1|\n|           Cafeteria|       1|\n|   Brunch restaurant|       1|\n|   Korean restaurant|       1|\n|    Pizza restaurant|       1|\n|                 Bar|       1|\n|          Game store|       1|\n+--------------------+--------+\nonly showing top 20 rows\n\n"
     ]
    }
   ],
   "source": [
    "CoffeData.groupBy('Category_name').agg(count('*')).orderBy(desc(count('*'))).show()"
   ]
  },
  {
   "cell_type": "code",
   "execution_count": 0,
   "metadata": {
    "application/vnd.databricks.v1+cell": {
     "cellMetadata": {
      "byteLimit": 2048000,
      "rowLimit": 10000
     },
     "inputWidgets": {},
     "nuid": "4f485986-cfe1-4694-b060-9eb79a0c77dd",
     "showTitle": false,
     "title": ""
    }
   },
   "outputs": [
    {
     "output_type": "stream",
     "name": "stdout",
     "output_type": "stream",
     "text": [
      "+--------------------+-------------+-----------+\n|               Title|Reviews_count|Total_score|\n+--------------------+-------------+-----------+\n|          Tea Avenue|         3505|        4.3|\n|The Coffee Bean &...|         3387|        4.3|\n|     Café on the 5th|         3083|        4.2|\n|      The Barnesbury|         2550|        4.3|\n|    The Gallery Café|         2258|        4.4|\n|     Caramel Pumpkin|         2253|        4.3|\n|         The Embazzy|         2240|        4.3|\n|Cafe Mocha by Bar...|         1649|        4.3|\n|     Peppermint Cafe|         1641|        4.1|\n|Java Lounge - Bam...|         1621|        4.4|\n|Java Lounge Barne...|         1471|        4.4|\n|     Cafe Noir Blanc|         1291|        4.3|\n|         Cafe Kumbuk|         1210|        4.5|\n|London House Of C...|         1190|        4.4|\n|        THE CAULDRON|         1186|        4.5|\n|Playtrix Sports B...|         1182|        4.3|\n|Chocoholics - Hav...|         1163|        4.4|\n|    The Central Perk|         1075|        4.2|\n|      Tasty Caterers|         1019|        4.2|\n|        CAFE COLOMBO|         1010|        4.8|\n+--------------------+-------------+-----------+\nonly showing top 20 rows\n\n"
     ]
    }
   ],
   "source": [
    "CoffeData.select('Title','Reviews_count','Total_score').orderBy(desc('Reviews_count')).show()"
   ]
  }
 ],
 "metadata": {
  "application/vnd.databricks.v1+notebook": {
   "dashboards": [],
   "language": "python",
   "notebookMetadata": {
    "mostRecentlyExecutedCommandWithImplicitDF": {
     "commandId": 4419561711154144,
     "dataframes": [
      "_sqldf"
     ]
    },
    "pythonIndentUnit": 4
   },
   "notebookName": "Café Dados: Lojas",
   "widgets": {}
  }
 },
 "nbformat": 4,
 "nbformat_minor": 0
}

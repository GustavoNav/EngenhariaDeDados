{
 "cells": [
  {
   "cell_type": "code",
   "execution_count": 0,
   "metadata": {
    "application/vnd.databricks.v1+cell": {
     "cellMetadata": {
      "byteLimit": 2048000,
      "rowLimit": 10000
     },
     "inputWidgets": {},
     "nuid": "6482be4c-f067-47c9-b0ac-35c938b94601",
     "showTitle": true,
     "title": "Carga de Dados: Dados sobre lojas de Café"
    }
   },
   "outputs": [
    {
     "output_type": "stream",
     "name": "stdout",
     "output_type": "stream",
     "text": [
      "+--------------------+-----------+-------------+--------------------+-------+------------+--------------------+---------------+-------------+---------+\n|               Title|Total_score|Reviews_count|              Street|   City|Country_code|             Website|          Phone|Category_name|  Country|\n+--------------------+-----------+-------------+--------------------+-------+------------+--------------------+---------------+-------------+---------+\n|Coco Cafe- Street...|        4.6|           11|VVQ5+326, Elfinda...|Colombo|          LK|https://www.faceb...|+94 76 777 2225|         Cafe|Sri Lanka|\n|         Cafe Celo09|   4.258885|            0|            VVRC+8M5|Colombo|          LK|                null|           null|  Coffee shop|Sri Lanka|\n|Cafe 1959 by Raux...|        4.4|          248|        746 Galle Rd|Colombo|          LK|https://cafe-1959...|+94 112 590 520|  Coffee shop|Sri Lanka|\n|            Cafe Lab|        2.8|            8|                null|Colombo|          LK|                null|+94 78 810 0800|  Coffee shop|Sri Lanka|\n|The Nook Cakery a...|        4.9|           34|29 Visakha Privat...|Colombo|          LK|                null|           null|  Coffee shop|Sri Lanka|\n|         De Vos Cafe|        4.4|           95|       34 De Vos Ave|Colombo|          LK|                null|+94 112 550 033|         Cafe|Sri Lanka|\n|          Cafe tasty|        3.7|           30|        60 Vajira Rd|Colombo|          LK|                null|+94 117 642 752|         Cafe|Sri Lanka|\n|            BOO Cafe|        4.4|           42|    No. 237 Galle Rd|Colombo|          LK|                null|+94 76 187 2879|   Restaurant|Sri Lanka|\n|BK Cafe - Haveloc...|   4.258885|            0|Havelock City, Ha...|Colombo|          LK|                null|           null|         Cafe|Sri Lanka|\n|Cafe at Lanka Hos...|        3.5|           10|578 Elvitigala Ma...|Colombo|          LK|                null|           null|         Cafe|Sri Lanka|\n+--------------------+-----------+-------------+--------------------+-------+------------+--------------------+---------------+-------------+---------+\nonly showing top 10 rows\n\n"
     ]
    }
   ],
   "source": [
    "from pyspark.sql.types import StructType, StructField, IntegerType, StringType, FloatType\n",
    "\n",
    "# File location and type\n",
    "file_location = \"/FileStore/tables/colombo_cafes.csv\"\n",
    "file_type = \"csv\"\n",
    "\n",
    "# Schema\n",
    "schema = StructType([\n",
    "  StructField(\"Title\", StringType()),\n",
    "  StructField(\"Total_score\", FloatType()),\n",
    "  StructField(\"Reviews_count\", IntegerType()),\n",
    "  StructField(\"Street\", StringType()),\n",
    "  StructField(\"City\", StringType()),\n",
    "  StructField(\"Country_code\", StringType()),\n",
    "  StructField(\"Website\", StringType()),\n",
    "  StructField(\"Phone\", StringType()),\n",
    "  StructField(\"Category_name\", StringType())\n",
    "])\n",
    "\n",
    "# CSV options\n",
    "infer_schema = \"false\"\n",
    "first_row_is_header = \"True\"\n",
    "delimiter = \",\"\n",
    "\n",
    "# The applied options are for CSV files. For other file types, these will be ignored.\n",
    "CoffeeData = spark.read.format(file_type) \\\n",
    "  .option(\"inferSchema\", infer_schema) \\\n",
    "  .option(\"header\", first_row_is_header) \\\n",
    "  .option(\"sep\", delimiter) \\\n",
    "  .schema(schema) \\\n",
    "  .load(file_location)\n",
    "\n",
    "CoffeData.show(10)"
   ]
  },
  {
   "cell_type": "code",
   "execution_count": 0,
   "metadata": {
    "application/vnd.databricks.v1+cell": {
     "cellMetadata": {
      "byteLimit": 2048000,
      "rowLimit": 10000
     },
     "inputWidgets": {},
     "nuid": "a7650345-04fa-4402-a917-26c25e4813d1",
     "showTitle": true,
     "title": "Carga de Dados: Códigos de Países"
    }
   },
   "outputs": [
    {
     "output_type": "stream",
     "name": "stdout",
     "output_type": "stream",
     "text": [
      "+-------------------+----+\n|               Name|Code|\n+-------------------+----+\n|        Afghanistan|  AF|\n|            Albania|  AL|\n|            Algeria|  DZ|\n|     American Samoa|  AS|\n|            Andorra|  AD|\n|             Angola|  AO|\n|           Anguilla|  AI|\n|         Antarctica|  AQ|\n|Antigua and Barbuda|  AG|\n|          Argentina|  AR|\n+-------------------+----+\nonly showing top 10 rows\n\n"
     ]
    }
   ],
   "source": [
    "CountryCodes = spark.read.format('CSV') \\\n",
    "    .option('inferSchema', 'True') \\\n",
    "    .option('header', 'True') \\\n",
    "    .option('sep', ',') \\\n",
    "    .load('/FileStore/tables/countryCodes.csv')\n",
    "\n",
    "CountryCodes.show(10)"
   ]
  },
  {
   "cell_type": "markdown",
   "metadata": {
    "application/vnd.databricks.v1+cell": {
     "cellMetadata": {
      "byteLimit": 2048000,
      "rowLimit": 10000
     },
     "inputWidgets": {},
     "nuid": "57f234df-68c5-4879-8e13-cd3c4965ed74",
     "showTitle": false,
     "title": ""
    }
   },
   "source": [
    "### Análise Exploratória"
   ]
  },
  {
   "cell_type": "code",
   "execution_count": 0,
   "metadata": {
    "application/vnd.databricks.v1+cell": {
     "cellMetadata": {
      "byteLimit": 2048000,
      "rowLimit": 10000
     },
     "inputWidgets": {},
     "nuid": "83262f1d-804e-4783-a053-f3946aa586fc",
     "showTitle": false,
     "title": ""
    }
   },
   "outputs": [
    {
     "output_type": "stream",
     "name": "stdout",
     "output_type": "stream",
     "text": [
      "+-------+-------------------+\n|summary|              Title|\n+-------+-------------------+\n|  count|                343|\n|   mean|               null|\n| stddev|               null|\n|    min|            41 cafe|\n|    max|ටිරොන්ගේ වඩේ තට්ටුව|\n+-------+-------------------+\n\n+-------+------------------+\n|summary|       Total_score|\n+-------+------------------+\n|  count|               343|\n|   mean| 4.258885004082504|\n| stddev|0.6005719633166074|\n|    min|               1.0|\n|    max|               5.0|\n+-------+------------------+\n\n+-------+------------------+\n|summary|     Reviews_count|\n+-------+------------------+\n|  count|               343|\n|   mean|191.28862973760934|\n| stddev|482.36961522161863|\n|    min|                 0|\n|    max|              3505|\n+-------+------------------+\n\n+-------+--------------------+\n|summary|              Street|\n+-------+--------------------+\n|  count|                 340|\n|   mean|                null|\n| stddev|                null|\n|    min|#L1-19, The Mall ...|\n|    max|     no.49/1 Ward Pl|\n+-------+--------------------+\n\n+-------+-----------+\n|summary|       City|\n+-------+-----------+\n|  count|        343|\n|   mean|       null|\n| stddev|       null|\n|    min|    Colombo|\n|    max|nedolakanda|\n+-------+-----------+\n\n+-------+------------+\n|summary|Country_code|\n+-------+------------+\n|  count|         343|\n|   mean|        null|\n| stddev|        null|\n|    min|          LK|\n|    max|          LK|\n+-------+------------+\n\n+-------+--------------------+\n|summary|             Website|\n+-------+--------------------+\n|  count|                  97|\n|   mean|                null|\n| stddev|                null|\n|    min| http://baguette.lk/|\n|    max|https://www.yamu....|\n+-------+--------------------+\n\n+-------+---------------+\n|summary|          Phone|\n+-------+---------------+\n|  count|            242|\n|   mean|           null|\n| stddev|           null|\n|    min| (206) 602-2593|\n|    max|+94 78 959 5656|\n+-------+---------------+\n\n+-------+----------------+\n|summary|   Category_name|\n+-------+----------------+\n|  count|             343|\n|   mean|            null|\n| stddev|            null|\n|    min|        Art cafe|\n|    max|Video game store|\n+-------+----------------+\n\n"
     ]
    }
   ],
   "source": [
    "# Busca por possiveis problemas nos dados.\n",
    "for column in CoffeeData.columns:\n",
    "    CoffeeData.describe(column).show()"
   ]
  },
  {
   "cell_type": "code",
   "execution_count": 0,
   "metadata": {
    "application/vnd.databricks.v1+cell": {
     "cellMetadata": {
      "byteLimit": 2048000,
      "rowLimit": 10000
     },
     "inputWidgets": {},
     "nuid": "67049739-a02a-40f0-8fc9-249204efc511",
     "showTitle": false,
     "title": ""
    }
   },
   "outputs": [
    {
     "output_type": "stream",
     "name": "stdout",
     "output_type": "stream",
     "text": [
      "Title 0\nTotal_score 0\nReviews_count 0\nStreet 3\nCity 0\nCountry_code 0\nWebsite 246\nPhone 101\nCategory_name 0\n"
     ]
    }
   ],
   "source": [
    "# Visualização de valores nulos\n",
    "for coluna in CoffeeData.columns:\n",
    "    print(coluna, CoffeeData.filter(CoffeeData[coluna].isNull()).count())"
   ]
  },
  {
   "cell_type": "code",
   "execution_count": 0,
   "metadata": {
    "application/vnd.databricks.v1+cell": {
     "cellMetadata": {
      "byteLimit": 2048000,
      "rowLimit": 10000
     },
     "inputWidgets": {},
     "nuid": "0c968192-3db4-4ca3-89fa-756cb4bb7ec3",
     "showTitle": false,
     "title": ""
    }
   },
   "outputs": [
    {
     "output_type": "stream",
     "name": "stdout",
     "output_type": "stream",
     "text": [
      "116 281 334 340\n"
     ]
    }
   ],
   "source": [
    "from pyspark.sql.functions import col, desc\n",
    "\n",
    "totalLinhas01 = CoffeeData.filter(col('Total_score') >= 4.5 ).orderBy(desc('Total_score')).count()\n",
    "totalLinhas02 = CoffeeData.filter(col('Total_score') >= 4 ).orderBy(desc('Total_score')).count()\n",
    "totalLinhas03 = CoffeeData.filter(col('Total_score') >= 3 ).orderBy(desc('Total_score')).count()\n",
    "totalLinhas04 = CoffeeData.filter(col('Total_score') >= 2 ).orderBy(desc('Total_score')).count()\n",
    "\n",
    "print(totalLinhas01, totalLinhas02, totalLinhas03, totalLinhas04)"
   ]
  },
  {
   "cell_type": "code",
   "execution_count": 0,
   "metadata": {
    "application/vnd.databricks.v1+cell": {
     "cellMetadata": {
      "byteLimit": 2048000,
      "rowLimit": 10000
     },
     "inputWidgets": {},
     "nuid": "a81a375d-a0c3-4ced-a08b-15ed6749bcc6",
     "showTitle": false,
     "title": ""
    }
   },
   "outputs": [
    {
     "output_type": "stream",
     "name": "stdout",
     "output_type": "stream",
     "text": [
      "+--------------------+-----------+-------------+--------------------+-------+------------+--------------------+---------------+-------------+---------+\n|               Title|Total_score|Reviews_count|              Street|   City|Country_code|             Website|          Phone|Category_name|  Country|\n+--------------------+-----------+-------------+--------------------+-------+------------+--------------------+---------------+-------------+---------+\n|Coco Cafe- Street...|        4.6|           11|VVQ5+326, Elfinda...|Colombo|          LK|https://www.faceb...|+94 76 777 2225|         Cafe|Sri Lanka|\n|         Cafe Celo09|   4.258885|            0|            VVRC+8M5|Colombo|          LK|                null|           null|  Coffee shop|Sri Lanka|\n|Cafe 1959 by Raux...|        4.4|          248|        746 Galle Rd|Colombo|          LK|https://cafe-1959...|+94 112 590 520|  Coffee shop|Sri Lanka|\n|            Cafe Lab|        2.8|            8|                null|Colombo|          LK|                null|+94 78 810 0800|  Coffee shop|Sri Lanka|\n|The Nook Cakery a...|        4.9|           34|29 Visakha Privat...|Colombo|          LK|                null|           null|  Coffee shop|Sri Lanka|\n|         De Vos Cafe|        4.4|           95|       34 De Vos Ave|Colombo|          LK|                null|+94 112 550 033|         Cafe|Sri Lanka|\n|          Cafe tasty|        3.7|           30|        60 Vajira Rd|Colombo|          LK|                null|+94 117 642 752|         Cafe|Sri Lanka|\n|            BOO Cafe|        4.4|           42|    No. 237 Galle Rd|Colombo|          LK|                null|+94 76 187 2879|   Restaurant|Sri Lanka|\n|BK Cafe - Haveloc...|   4.258885|            0|Havelock City, Ha...|Colombo|          LK|                null|           null|         Cafe|Sri Lanka|\n|Cafe at Lanka Hos...|        3.5|           10|578 Elvitigala Ma...|Colombo|          LK|                null|           null|         Cafe|Sri Lanka|\n+--------------------+-----------+-------------+--------------------+-------+------------+--------------------+---------------+-------------+---------+\nonly showing top 10 rows\n\n"
     ]
    }
   ],
   "source": [
    "#Union das tabelas por meio do codigo do pais\n",
    "CountryCodes = CountryCodes.withColumnRenamed('Name', 'Country').withColumnRenamed('Code', 'Country_code')\n",
    "\n",
    "CoffeData = CoffeeData.join(CountryCodes, CoffeeData.Country_code == CountryCodes.Country_code, 'Inner') \\\n",
    "    .select(CoffeeData[\"*\"], CountryCodes[\"Country\"])\n",
    "\n",
    "CoffeData.show(10)"
   ]
  },
  {
   "cell_type": "code",
   "execution_count": 0,
   "metadata": {
    "application/vnd.databricks.v1+cell": {
     "cellMetadata": {
      "byteLimit": 2048000,
      "rowLimit": 10000
     },
     "inputWidgets": {},
     "nuid": "543505d0-ad0d-4bad-9196-38061f783314",
     "showTitle": false,
     "title": ""
    }
   },
   "outputs": [
    {
     "output_type": "stream",
     "name": "stdout",
     "output_type": "stream",
     "text": [
      "+--------------------+--------+\n|                City|count(1)|\n+--------------------+--------+\n|            Colpetty|       1|\n|             Kegalle|       1|\n|            Kaduwela|       1|\n|             Colombo|     334|\n|                Mall|       1|\n|         nedolakanda|       1|\n|Sri Jayawardenepu...|       1|\n|            Nugegoda|       1|\n|        Urugodawatta|       1|\n|   Port City Colombo|       1|\n+--------------------+--------+\n\n"
     ]
    }
   ],
   "source": [
    "from pyspark.sql.functions import count\n",
    "\n",
    "CoffeeData.groupBy('City').agg(count('*')).show()"
   ]
  },
  {
   "cell_type": "code",
   "execution_count": 0,
   "metadata": {
    "application/vnd.databricks.v1+cell": {
     "cellMetadata": {
      "byteLimit": 2048000,
      "rowLimit": 10000
     },
     "inputWidgets": {},
     "nuid": "b3084fd2-39a2-43a4-a0b0-39825ef1c186",
     "showTitle": false,
     "title": ""
    }
   },
   "outputs": [
    {
     "output_type": "stream",
     "name": "stdout",
     "output_type": "stream",
     "text": [
      "+--------------------+------------------+\n|                City|  avg(Total_score)|\n+--------------------+------------------+\n|            Colpetty| 4.199999809265137|\n|             Kegalle| 4.258884906768799|\n|            Kaduwela|               5.0|\n|             Colombo|4.2664065468097165|\n|                Mall| 4.400000095367432|\n|         nedolakanda| 4.258884906768799|\n|Sri Jayawardenepu...|               4.5|\n|            Nugegoda| 3.200000047683716|\n|        Urugodawatta|               5.0|\n|   Port City Colombo|               1.0|\n+--------------------+------------------+\n\n"
     ]
    }
   ],
   "source": [
    "from pyspark.sql.functions import mean\n",
    "CoffeeData.groupBy('City').agg(mean('Total_score')).show()"
   ]
  },
  {
   "cell_type": "code",
   "execution_count": 0,
   "metadata": {
    "application/vnd.databricks.v1+cell": {
     "cellMetadata": {
      "byteLimit": 2048000,
      "rowLimit": 10000
     },
     "inputWidgets": {},
     "nuid": "40c8c07e-ec94-4aac-8ed0-eb913076360d",
     "showTitle": false,
     "title": ""
    }
   },
   "outputs": [
    {
     "output_type": "stream",
     "name": "stdout",
     "output_type": "stream",
     "text": [
      "+--------------------+--------+\n|       Category_name|count(1)|\n+--------------------+--------+\n|                Cafe|     162|\n|         Coffee shop|      73|\n|          Restaurant|      57|\n|              Bakery|       7|\n|Vegetarian restau...|       5|\n|Fast food restaurant|       3|\n|           Tea house|       3|\n|      Ice cream shop|       2|\n|         Pastry shop|       2|\n|    Asian restaurant|       2|\n|  Takeout Restaurant|       2|\n|Sri Lankan restau...|       2|\n|North Eastern Ind...|       1|\n|            Dog cafe|       1|\n|           Cafeteria|       1|\n|   Brunch restaurant|       1|\n|   Korean restaurant|       1|\n|    Pizza restaurant|       1|\n|                 Bar|       1|\n|          Game store|       1|\n+--------------------+--------+\nonly showing top 20 rows\n\n"
     ]
    }
   ],
   "source": [
    "CoffeData.groupBy('Category_name').agg(count('*')).orderBy(desc(count('*'))).show()"
   ]
  },
  {
   "cell_type": "code",
   "execution_count": 0,
   "metadata": {
    "application/vnd.databricks.v1+cell": {
     "cellMetadata": {
      "byteLimit": 2048000,
      "rowLimit": 10000
     },
     "inputWidgets": {},
     "nuid": "4f485986-cfe1-4694-b060-9eb79a0c77dd",
     "showTitle": false,
     "title": ""
    }
   },
   "outputs": [
    {
     "output_type": "stream",
     "name": "stdout",
     "output_type": "stream",
     "text": [
      "+--------------------+-------------+-----------+\n|               Title|Reviews_count|Total_score|\n+--------------------+-------------+-----------+\n|          Tea Avenue|         3505|        4.3|\n|The Coffee Bean &...|         3387|        4.3|\n|     Café on the 5th|         3083|        4.2|\n|      The Barnesbury|         2550|        4.3|\n|    The Gallery Café|         2258|        4.4|\n|     Caramel Pumpkin|         2253|        4.3|\n|         The Embazzy|         2240|        4.3|\n|Cafe Mocha by Bar...|         1649|        4.3|\n|     Peppermint Cafe|         1641|        4.1|\n|Java Lounge - Bam...|         1621|        4.4|\n|Java Lounge Barne...|         1471|        4.4|\n|     Cafe Noir Blanc|         1291|        4.3|\n|         Cafe Kumbuk|         1210|        4.5|\n|London House Of C...|         1190|        4.4|\n|        THE CAULDRON|         1186|        4.5|\n|Playtrix Sports B...|         1182|        4.3|\n|Chocoholics - Hav...|         1163|        4.4|\n|    The Central Perk|         1075|        4.2|\n|      Tasty Caterers|         1019|        4.2|\n|        CAFE COLOMBO|         1010|        4.8|\n+--------------------+-------------+-----------+\nonly showing top 20 rows\n\n"
     ]
    }
   ],
   "source": [
    "CoffeData.select('Title','Reviews_count','Total_score').orderBy(desc('Reviews_count')).show()"
   ]
  }
 ],
 "metadata": {
  "application/vnd.databricks.v1+notebook": {
   "dashboards": [],
   "language": "python",
   "notebookMetadata": {
    "mostRecentlyExecutedCommandWithImplicitDF": {
     "commandId": 4419561711154144,
     "dataframes": [
      "_sqldf"
     ]
    },
    "pythonIndentUnit": 4
   },
   "notebookName": "Café Dados: Lojas",
   "widgets": {}
  }
 },
 "nbformat": 4,
 "nbformat_minor": 0
}
